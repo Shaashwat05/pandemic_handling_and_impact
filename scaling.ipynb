{
 "cells": [
  {
   "cell_type": "code",
   "execution_count": 1,
   "metadata": {},
   "outputs": [],
   "source": [
    "from data_cleaning import Preparation\n",
    "import pandas as pd\n",
    "from json import load\n",
    "import numpy as np\n",
    "import plotly.express as px\n",
    "from sklearn.preprocessing import OneHotEncoder, StandardScaler"
   ]
  },
  {
   "cell_type": "code",
   "execution_count": 2,
   "metadata": {},
   "outputs": [],
   "source": [
    "df = pd.read_csv(\"COVIDiSTRESS_April_27_clean.csv\", encoding= 'unicode_escape')\n",
    "prep = Preparation()\n",
    "df = prep.clean(df)\n",
    "df = prep.selection_alteration(df)\n",
    "df = df.set_index(np.arange(df.shape[0]))"
   ]
  },
  {
   "cell_type": "code",
   "execution_count": 3,
   "metadata": {},
   "outputs": [],
   "source": [
    "df[\"Dem_male\"] = (df[\"Dem_gender\"]==\"Male\").astype(\"int\")\n",
    "df[\"Dem_female\"] = (df[\"Dem_gender\"]==\"Female\").astype(\"int\")\n",
    "df.drop(\"Dem_gender\", axis=\"columns\", inplace=True)"
   ]
  },
  {
   "cell_type": "code",
   "execution_count": 4,
   "metadata": {},
   "outputs": [],
   "source": [
    "edu = {\n",
    "    \"None\": 0,\n",
    "    \"Up to 6 years of school\": 1,\n",
    "    \"Up to 9 years of school\": 2,\n",
    "    \"Up to 12 years of school\": 3,\n",
    "    \"Some College, short continuing education or equivalent\": 4,\n",
    "    \"College degree, bachelor, master\": 5,\n",
    "    \"PhD/Doctorate\": 6\n",
    "}\n",
    "df[\"Dem_edu\"] = df[\"Dem_edu\"].apply(lambda x:edu[x])"
   ]
  },
  {
   "cell_type": "code",
   "execution_count": 5,
   "metadata": {},
   "outputs": [],
   "source": [
    "ohe_empl = OneHotEncoder(sparse=False)\n",
    "empl = ohe_empl.fit_transform(df[\"Dem_employment\"].to_numpy().reshape(-1, 1))\n",
    "empl = pd.DataFrame(empl)\n",
    "empl.rename(columns=dict(enumerate(map(lambda x:x[3:], ohe_empl.get_feature_names()))), inplace = True)\n",
    "df = df.merge(empl, left_index = True, right_index=True)\n",
    "df.drop(\"Dem_employment\", axis=\"columns\", inplace=True)"
   ]
  },
  {
   "cell_type": "code",
   "execution_count": 6,
   "metadata": {},
   "outputs": [],
   "source": [
    "df[\"Dem_Expat\"] = (df[\"Dem_Expat\"]==\"yes\").astype(\"int\")"
   ]
  },
  {
   "cell_type": "code",
   "execution_count": 7,
   "metadata": {},
   "outputs": [],
   "source": [
    "ohe_marital = OneHotEncoder(sparse=False)\n",
    "marit = ohe_marital.fit_transform(df[\"Dem_maritalstatus\"].to_numpy().reshape(-1, 1))\n",
    "marit = pd.DataFrame(marit)\n",
    "marit.rename(columns=dict(enumerate(map(lambda x:x[3:], ohe_marital.get_feature_names()))), inplace = True)\n",
    "df = df.merge(marit, left_index = True, right_index=True)\n",
    "df.drop([\"Dem_maritalstatus\", \"Other or would rather not say\"], axis=\"columns\", inplace=True)"
   ]
  },
  {
   "cell_type": "code",
   "execution_count": 8,
   "metadata": {},
   "outputs": [],
   "source": [
    "risk_temp = (df[\"Dem_riskgroup\"]==\"Yes\").astype(\"float\")\n",
    "df[\"Dem_riskgroup\"] = risk_temp + (df[\"Dem_riskgroup\"]==\"Not sure\").astype(\"float\")*0.5"
   ]
  },
  {
   "cell_type": "code",
   "execution_count": 9,
   "metadata": {},
   "outputs": [],
   "source": [
    "ohe_isol = OneHotEncoder(sparse=False)\n",
    "isol = ohe_isol.fit_transform(df[\"Dem_islolation\"].to_numpy().reshape(-1, 1))\n",
    "isol = pd.DataFrame(isol)\n",
    "isol.rename(columns=dict(enumerate(map(lambda x:x[3:], ohe_isol.get_feature_names()))), inplace = True)\n",
    "df = df.merge(isol, left_index = True, right_index=True)\n",
    "df.drop(\"Dem_islolation\", axis=\"columns\", inplace=True)"
   ]
  },
  {
   "cell_type": "code",
   "execution_count": 10,
   "metadata": {},
   "outputs": [],
   "source": [
    "for col in df.columns:\n",
    "    df[col] = df[col].astype(\"float\")"
   ]
  },
  {
   "cell_type": "code",
   "execution_count": 11,
   "metadata": {},
   "outputs": [],
   "source": [
    "df[\"PSS10_avg\"] = df[\"PSS10_avg\"]/5.0\n",
    "df[\"latitude\"] = df[\"latitude\"]/90.0\n",
    "df[\"longitude\"] = df[\"longitude\"]/180.0\n",
    "df[\"Lon_avg\"] = df[\"Lon_avg\"]/5.0\n",
    "df[\"Trust_countrymeasure\"] = df[\"Trust_countrymeasure\"]/10\n",
    "df[\"Compliance\"] = df[\"Compliance\"]/6.0\n",
    "df[\"Dem_edu\"] = df[\"Dem_edu\"]/6.0\n",
    "age_scaler = StandardScaler()\n",
    "df[\"Dem_age\"] = age_scaler.fit_transform(df[\"Dem_age\"].to_numpy().reshape(-1, 1)).flatten()\n",
    "df[\"Dem_dependents\"] = np.tanh(df[\"Dem_dependents\"]/3)\n",
    "for col in df.columns:\n",
    "    if \"Corona\" in col:\n",
    "        df[col] = df[col]/6.0\n",
    "for col in df.columns:\n",
    "    if \"Expl_Distress\" in col:\n",
    "        df[col] = df[col]/6.0"
   ]
  },
  {
   "cell_type": "code",
   "execution_count": 12,
   "metadata": {},
   "outputs": [],
   "source": [
    "import pickle\n",
    "\n",
    "with open(\"var/ohe_empl.pkl\", \"wb\") as f:\n",
    "    pickle.dump(ohe_empl, f)\n",
    "\n",
    "with open(\"var/ohe_marital.pkl\", \"wb\") as f:\n",
    "    pickle.dump(ohe_marital, f)\n",
    "\n",
    "with open(\"var/ohe_isol.pkl\", \"wb\") as f:\n",
    "    pickle.dump(ohe_isol, f)\n",
    "\n",
    "with open(\"var/age_scaler.pkl\", \"wb\") as f:\n",
    "    pickle.dump(age_scaler, f)"
   ]
  }
 ],
 "metadata": {
  "kernelspec": {
   "display_name": "Python 3.8.10 64-bit",
   "language": "python",
   "name": "python3"
  },
  "language_info": {
   "codemirror_mode": {
    "name": "ipython",
    "version": 3
   },
   "file_extension": ".py",
   "mimetype": "text/x-python",
   "name": "python",
   "nbconvert_exporter": "python",
   "pygments_lexer": "ipython3",
   "version": "3.8.10"
  },
  "orig_nbformat": 4,
  "vscode": {
   "interpreter": {
    "hash": "e7370f93d1d0cde622a1f8e1c04877d8463912d04d973331ad4851f04de6915a"
   }
  }
 },
 "nbformat": 4,
 "nbformat_minor": 2
}
