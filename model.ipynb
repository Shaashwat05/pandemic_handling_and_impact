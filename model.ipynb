{
 "cells": [
  {
   "cell_type": "markdown",
   "metadata": {},
   "source": [
    "# Importing Libraries"
   ]
  },
  {
   "cell_type": "code",
   "execution_count": 1,
   "metadata": {},
   "outputs": [],
   "source": [
    "from data_preparation import Preparation\n",
    "import pandas as pd\n",
    "import numpy as np\n",
    "import torch\n",
    "import torch.nn as nn\n",
    "from torch.utils.data import DataLoader, TensorDataset\n",
    "from sklearn.model_selection import train_test_split\n",
    "from sklearn import metrics\n",
    "import plotly.express as px"
   ]
  },
  {
   "cell_type": "markdown",
   "metadata": {},
   "source": [
    "# Predefining Constants (Including Hyperparameters)"
   ]
  },
  {
   "cell_type": "code",
   "execution_count": 2,
   "metadata": {},
   "outputs": [],
   "source": [
    "DEVICE = torch.device(\"cuda\" if torch.cuda.is_available() else \"cpu\")\n",
    "BATCH_SIZE = 32\n",
    "LEARNING_RATE = 0.00001\n",
    "EPOCH = 85"
   ]
  },
  {
   "cell_type": "markdown",
   "metadata": {},
   "source": [
    "# Loading the data and performing a train-test split"
   ]
  },
  {
   "cell_type": "code",
   "execution_count": 3,
   "metadata": {},
   "outputs": [],
   "source": [
    "df = pd.read_csv(\"COVIDiSTRESS_April_May_Combined.csv\", encoding= 'unicode_escape')\n",
    "\n",
    "## Uncomment if preparation needs to be on the fly\n",
    "# prep = Preparation()\n",
    "# df = prep.clean(df)\n",
    "# df = prep.selection_alteration(df)\n",
    "# df = prep.scaling(df)\n",
    "\n",
    "df = df.drop([\"Unnamed: 0\", \"1\", \"Uninformative response\"], axis=\"columns\")\n",
    "y = df[\"PSS10_avg\"].to_numpy().reshape(-1, 1)\n",
    "x = df.drop(\"PSS10_avg\", axis=\"columns\").to_numpy()\n",
    "x, x_test, y, y_test = train_test_split(x, y, test_size=0.02)\n",
    "x_train, x_val, y_train, y_val = train_test_split(x, y, test_size=0.1)"
   ]
  },
  {
   "cell_type": "markdown",
   "metadata": {},
   "source": [
    "# Creating a datset batch generator for training and testing"
   ]
  },
  {
   "cell_type": "code",
   "execution_count": 4,
   "metadata": {},
   "outputs": [],
   "source": [
    "train_dataset = TensorDataset(torch.Tensor(x_train), torch.Tensor(y_train))\n",
    "train_dataloader = DataLoader(train_dataset, BATCH_SIZE, shuffle=True)\n",
    "test_dataset = TensorDataset(torch.Tensor(x_test), torch.Tensor(y_test))\n",
    "test_dataloader = DataLoader(test_dataset, BATCH_SIZE, shuffle=True)\n",
    "val_dataset = TensorDataset(torch.Tensor(x_val), torch.Tensor(y_val))\n",
    "val_dataloader = DataLoader(val_dataset, BATCH_SIZE, shuffle=True)"
   ]
  },
  {
   "cell_type": "markdown",
   "metadata": {},
   "source": [
    "# Model Defination"
   ]
  },
  {
   "cell_type": "code",
   "execution_count": 5,
   "metadata": {},
   "outputs": [],
   "source": [
    "class StressNN(nn.Module):\n",
    "    def __init__(self, input_size = 54):\n",
    "        super(StressNN, self).__init__()\n",
    "        self.LinBlock = nn.Sequential(\n",
    "            nn.Linear(input_size, 256),\n",
    "            nn.LeakyReLU(),\n",
    "            nn.Linear(256, 128),\n",
    "            nn.LeakyReLU(),\n",
    "            nn.Linear(128, 64),\n",
    "            nn.LeakyReLU(),\n",
    "            nn.Linear(64, 32),\n",
    "            nn.LeakyReLU(),\n",
    "            nn.Linear(32, 16),\n",
    "            nn.LeakyReLU(),\n",
    "            nn.Linear(16, 1)\n",
    "        )\n",
    "    def forward(self, x):\n",
    "        x = self.LinBlock(x)\n",
    "        #x = torch.sigmoid(x)\n",
    "        return x"
   ]
  },
  {
   "cell_type": "markdown",
   "metadata": {},
   "source": [
    "# Creating Helper functions to facilitate training and testing"
   ]
  },
  {
   "cell_type": "markdown",
   "metadata": {},
   "source": [
    "## Train function for mini-batch training"
   ]
  },
  {
   "cell_type": "code",
   "execution_count": 6,
   "metadata": {},
   "outputs": [],
   "source": [
    "def train(model, loss, maeloss, mseloss, optimizer, data):\n",
    "    nbat = len(data)\n",
    "    aloss, aacc, ar2, amloss, amsloss = 0, 0, 0, 0, 0\n",
    "    for batch, (x, y) in enumerate(data):\n",
    "        x = x.to(DEVICE)\n",
    "        y = y.to(DEVICE)\n",
    "        ypred = model(x)\n",
    "        bloss = loss(ypred ,y.float())\n",
    "        with torch.no_grad():\n",
    "            acc = ((ypred.squeeze()>=0.50).int()==y).sum().item()/BATCH_SIZE\n",
    "            r2 = metrics.r2_score(y.cpu().numpy(), ypred.cpu().numpy())\n",
    "\n",
    "            mloss = maeloss(ypred, y.float()).item()\n",
    "            msloss = mseloss(ypred, y.float()).item()\n",
    "            amloss += mloss\n",
    "            amsloss += msloss\n",
    "            aloss += bloss.item()\n",
    "            aacc += acc\n",
    "            ar2 += r2\n",
    "\n",
    "        optimizer.zero_grad()\n",
    "        bloss.backward()\n",
    "        optimizer.step()\n",
    "\n",
    "        print(\"Train - crossentropy_loss: %f  mae_loss:%f  r2: %f  mse_loss: %f  accuracy: %f  [%d/%d]\"%(bloss.item(), mloss, r2, msloss, acc, batch+1, nbat), end=\"\\r\")\n",
    "    aloss /= nbat\n",
    "    aacc /= nbat\n",
    "    ar2 /= nbat\n",
    "    amloss /= nbat\n",
    "    amsloss /= nbat\n",
    "    print(\"\\nTrain - crossentropy_loss: %f  mae_loss: %f  r2: %f  mse_loss: %f  accuracy: %f  [Average]\"%(aloss, amloss, ar2, amsloss, aacc))\n",
    "    return (aloss, amloss, ar2, amsloss, aacc)"
   ]
  },
  {
   "cell_type": "markdown",
   "metadata": {},
   "source": [
    "## Test function to evaluate the model on unseen data"
   ]
  },
  {
   "cell_type": "code",
   "execution_count": 7,
   "metadata": {},
   "outputs": [],
   "source": [
    "def test(model, loss, maeloss, mseloss, data):\n",
    "    nbat = len(data)\n",
    "    acc, bloss, r2, mloss, msloss = 0, 0, 0, 0, 0\n",
    "\n",
    "    with torch.no_grad():\n",
    "        for x, y in data:\n",
    "            x = x.to(DEVICE)\n",
    "            y = y.to(DEVICE)\n",
    "            ypred = model(x)\n",
    "            bloss += loss(ypred ,y.float())\n",
    "            mloss += maeloss(ypred ,y.float()).item()\n",
    "            msloss += mseloss(ypred, y.float()).item()\n",
    "            acc += ((ypred.squeeze()>=0.50).int()==y).sum().item()/BATCH_SIZE\n",
    "            r2 += metrics.r2_score(y.cpu().numpy(), ypred.cpu().numpy())\n",
    "    \n",
    "    acc /= nbat\n",
    "    bloss /= nbat\n",
    "    mloss /= nbat\n",
    "    msloss /= nbat\n",
    "    r2 /= nbat\n",
    "    print(\"Test - crossentropy_loss: %f  mae_loss: %f  mse_loss: %f  r2: %f  accuracy: %f\"%(bloss.item(), mloss, msloss, r2, acc))\n",
    "    return (bloss.item(), mloss, r2, msloss, acc)"
   ]
  },
  {
   "cell_type": "markdown",
   "metadata": {},
   "source": [
    "## Training and simultaneous validation loop"
   ]
  },
  {
   "cell_type": "code",
   "execution_count": 8,
   "metadata": {},
   "outputs": [],
   "source": [
    "def fit(model, loss, mloss, msloss, optimizer, train_loader, test_loader, epochs):\n",
    "    train_history = {\n",
    "        \"epochs\": list(range(1, epochs+1)),\n",
    "        \"crossentropy_loss\": list(),\n",
    "        \"r2\": list(),\n",
    "        \"mae_loss\": list(),\n",
    "        \"mse_loss\": list(),\n",
    "        \"accuracy\": list()\n",
    "    }\n",
    "    test_history = {\n",
    "        \"epochs\": list(range(1, epochs+1)),\n",
    "        \"crossentropy_loss\": list(),\n",
    "        \"r2\": list(),\n",
    "        \"mae_loss\": list(),\n",
    "        \"mse_loss\": list(),\n",
    "        \"accuracy\": list()\n",
    "    }\n",
    "    for e in range(epochs):\n",
    "        print(\"EPOCH %d/%d\"%(e+1, epochs))\n",
    "\n",
    "        l, m, r2, ms, acc = train(model, loss, mloss, msloss, optimizer, train_loader)\n",
    "        train_history[\"crossentropy_loss\"].append(l)\n",
    "        train_history[\"r2\"].append(r2)\n",
    "        train_history[\"mae_loss\"].append(m)\n",
    "        train_history[\"mse_loss\"].append(ms)\n",
    "        train_history[\"accuracy\"].append(acc)\n",
    "\n",
    "        l, m, r2, ms, acc = test(model, loss, mloss, msloss, test_loader)\n",
    "        test_history[\"crossentropy_loss\"].append(l)\n",
    "        test_history[\"r2\"].append(r2)\n",
    "        test_history[\"mae_loss\"].append(m)\n",
    "        test_history[\"mse_loss\"].append(ms)\n",
    "        test_history[\"accuracy\"].append(acc)\n",
    "\n",
    "        print(\"\\n--------------------\\n\")\n",
    "    return {\n",
    "        \"train\": train_history,\n",
    "        \"test\": test_history\n",
    "    }"
   ]
  },
  {
   "cell_type": "markdown",
   "metadata": {},
   "source": [
    "# Creating Model, loss, and optimizer objects"
   ]
  },
  {
   "cell_type": "code",
   "execution_count": 9,
   "metadata": {},
   "outputs": [
    {
     "data": {
      "text/plain": [
       "StressNN(\n",
       "  (LinBlock): Sequential(\n",
       "    (0): Linear(in_features=54, out_features=256, bias=True)\n",
       "    (1): LeakyReLU(negative_slope=0.01)\n",
       "    (2): Linear(in_features=256, out_features=128, bias=True)\n",
       "    (3): LeakyReLU(negative_slope=0.01)\n",
       "    (4): Linear(in_features=128, out_features=64, bias=True)\n",
       "    (5): LeakyReLU(negative_slope=0.01)\n",
       "    (6): Linear(in_features=64, out_features=32, bias=True)\n",
       "    (7): LeakyReLU(negative_slope=0.01)\n",
       "    (8): Linear(in_features=32, out_features=16, bias=True)\n",
       "    (9): LeakyReLU(negative_slope=0.01)\n",
       "    (10): Linear(in_features=16, out_features=1, bias=True)\n",
       "  )\n",
       ")"
      ]
     },
     "execution_count": 9,
     "metadata": {},
     "output_type": "execute_result"
    }
   ],
   "source": [
    "model = StressNN(x.shape[1]).to(DEVICE)\n",
    "model"
   ]
  },
  {
   "cell_type": "code",
   "execution_count": 10,
   "metadata": {},
   "outputs": [],
   "source": [
    "loss = nn.MSELoss()\n",
    "mloss = nn.L1Loss(reduction=\"mean\")\n",
    "msloss = nn.MSELoss()\n",
    "optimizer = torch.optim.Adam(model.parameters(), lr=LEARNING_RATE)"
   ]
  },
  {
   "cell_type": "markdown",
   "metadata": {},
   "source": [
    "# Training"
   ]
  },
  {
   "cell_type": "code",
   "execution_count": 11,
   "metadata": {},
   "outputs": [
    {
     "name": "stdout",
     "output_type": "stream",
     "text": [
      "EPOCH 1/85\n",
      "Train - crossentropy_loss: 0.011142  mae_loss:0.091064  r2: 0.544516  mse_loss: 0.011142  accuracy: 0.000000  [4769/4769]\n",
      "Train - crossentropy_loss: 0.015486  mae_loss: 0.098910  r2: 0.258861  mse_loss: 0.015486  accuracy: 0.011526  [Average]\n",
      "Test - crossentropy_loss: 0.012328  mae_loss: 0.087836  mse_loss: 0.012328  r2: 0.404226  accuracy: 0.010200\n",
      "\n",
      "--------------------\n",
      "\n",
      "EPOCH 2/85\n",
      "Train - crossentropy_loss: 0.016501  mae_loss:0.101127  r2: 0.519552  mse_loss: 0.016501  accuracy: 0.000000  [4769/4769]\n",
      "Train - crossentropy_loss: 0.011884  mae_loss: 0.086026  r2: 0.424294  mse_loss: 0.011884  accuracy: 0.009436  [Average]\n",
      "Test - crossentropy_loss: 0.011645  mae_loss: 0.085240  mse_loss: 0.011645  r2: 0.437740  accuracy: 0.009906\n",
      "\n",
      "--------------------\n",
      "\n",
      "EPOCH 3/85\n",
      "Train - crossentropy_loss: 0.023809  mae_loss:0.127767  r2: -0.237820  mse_loss: 0.023809  accuracy: 0.000000  [4769/4769]\n",
      "Train - crossentropy_loss: 0.011432  mae_loss: 0.084287  r2: 0.446701  mse_loss: 0.011432  accuracy: 0.009888  [Average]\n",
      "Test - crossentropy_loss: 0.011393  mae_loss: 0.084319  mse_loss: 0.011393  r2: 0.446284  accuracy: 0.009493\n",
      "\n",
      "--------------------\n",
      "\n",
      "EPOCH 4/85\n",
      "Train - crossentropy_loss: 0.012912  mae_loss:0.097105  r2: 0.434059  mse_loss: 0.012912  accuracy: 0.000000  [4769/4769]\n",
      "Train - crossentropy_loss: 0.011231  mae_loss: 0.083535  r2: 0.454291  mse_loss: 0.011231  accuracy: 0.009436  [Average]\n",
      "Test - crossentropy_loss: 0.011273  mae_loss: 0.083786  mse_loss: 0.011273  r2: 0.455686  accuracy: 0.008608\n",
      "\n",
      "--------------------\n",
      "\n",
      "EPOCH 5/85\n",
      "Train - crossentropy_loss: 0.011001  mae_loss:0.074949  r2: 0.204266  mse_loss: 0.011001  accuracy: 0.000000  [4769/4769]\n",
      "Train - crossentropy_loss: 0.011118  mae_loss: 0.083083  r2: 0.460983  mse_loss: 0.011118  accuracy: 0.009836  [Average]\n",
      "Test - crossentropy_loss: 0.011186  mae_loss: 0.083362  mse_loss: 0.011186  r2: 0.458960  accuracy: 0.008491\n",
      "\n",
      "--------------------\n",
      "\n",
      "EPOCH 6/85\n",
      "Train - crossentropy_loss: 0.008305  mae_loss:0.072227  r2: 0.481085  mse_loss: 0.008305  accuracy: 0.000000  [4769/4769]\n",
      "Train - crossentropy_loss: 0.011042  mae_loss: 0.082811  r2: 0.464097  mse_loss: 0.011042  accuracy: 0.009449  [Average]\n",
      "Test - crossentropy_loss: 0.011159  mae_loss: 0.083062  mse_loss: 0.011159  r2: 0.459556  accuracy: 0.009198\n",
      "\n",
      "--------------------\n",
      "\n",
      "EPOCH 7/85\n",
      "Train - crossentropy_loss: 0.008775  mae_loss:0.074023  r2: 0.487655  mse_loss: 0.008775  accuracy: 0.000000  [4769/4769]\n",
      "Train - crossentropy_loss: 0.010978  mae_loss: 0.082537  r2: 0.467592  mse_loss: 0.010978  accuracy: 0.009252  [Average]\n",
      "Test - crossentropy_loss: 0.011082  mae_loss: 0.082833  mse_loss: 0.011082  r2: 0.462982  accuracy: 0.009080\n",
      "\n",
      "--------------------\n",
      "\n",
      "EPOCH 8/85\n",
      "Train - crossentropy_loss: 0.012263  mae_loss:0.091499  r2: 0.474154  mse_loss: 0.012263  accuracy: 0.000000  [4769/4769]\n",
      "Train - crossentropy_loss: 0.010924  mae_loss: 0.082321  r2: 0.469787  mse_loss: 0.010924  accuracy: 0.009659  [Average]\n",
      "Test - crossentropy_loss: 0.011028  mae_loss: 0.082592  mse_loss: 0.011028  r2: 0.466928  accuracy: 0.009080\n",
      "\n",
      "--------------------\n",
      "\n",
      "EPOCH 9/85\n",
      "Train - crossentropy_loss: 0.010787  mae_loss:0.080727  r2: 0.482592  mse_loss: 0.010787  accuracy: 0.000000  [4769/4769]\n",
      "Train - crossentropy_loss: 0.010874  mae_loss: 0.082117  r2: 0.473468  mse_loss: 0.010874  accuracy: 0.009534  [Average]\n",
      "Test - crossentropy_loss: 0.011165  mae_loss: 0.082785  mse_loss: 0.011165  r2: 0.456262  accuracy: 0.008550\n",
      "\n",
      "--------------------\n",
      "\n",
      "EPOCH 10/85\n",
      "Train - crossentropy_loss: 0.019177  mae_loss:0.098955  r2: -0.007870  mse_loss: 0.019177  accuracy: 0.000000  [4769/4769]\n",
      "Train - crossentropy_loss: 0.010829  mae_loss: 0.081951  r2: 0.474248  mse_loss: 0.010829  accuracy: 0.009724  [Average]\n",
      "Test - crossentropy_loss: 0.010971  mae_loss: 0.082669  mse_loss: 0.010971  r2: 0.471052  accuracy: 0.008550\n",
      "\n",
      "--------------------\n",
      "\n",
      "EPOCH 11/85\n",
      "Train - crossentropy_loss: 0.004988  mae_loss:0.056146  r2: 0.651273  mse_loss: 0.004988  accuracy: 0.000000  [4769/4769]\n",
      "Train - crossentropy_loss: 0.010790  mae_loss: 0.081799  r2: 0.475087  mse_loss: 0.010790  accuracy: 0.009633  [Average]\n",
      "Test - crossentropy_loss: 0.010957  mae_loss: 0.082167  mse_loss: 0.010957  r2: 0.469666  accuracy: 0.009257\n",
      "\n",
      "--------------------\n",
      "\n",
      "EPOCH 12/85\n",
      "Train - crossentropy_loss: 0.013190  mae_loss:0.092545  r2: 0.349938  mse_loss: 0.013190  accuracy: 0.000000  [4769/4769]\n",
      "Train - crossentropy_loss: 0.010752  mae_loss: 0.081647  r2: 0.475318  mse_loss: 0.010752  accuracy: 0.009541  [Average]\n",
      "Test - crossentropy_loss: 0.010866  mae_loss: 0.082061  mse_loss: 0.010866  r2: 0.470502  accuracy: 0.009080\n",
      "\n",
      "--------------------\n",
      "\n",
      "EPOCH 13/85\n",
      "Train - crossentropy_loss: 0.011270  mae_loss:0.081455  r2: 0.356119  mse_loss: 0.011270  accuracy: 0.000000  [4769/4769]\n",
      "Train - crossentropy_loss: 0.010714  mae_loss: 0.081483  r2: 0.479196  mse_loss: 0.010714  accuracy: 0.009554  [Average]\n",
      "Test - crossentropy_loss: 0.010848  mae_loss: 0.081973  mse_loss: 0.010848  r2: 0.477463  accuracy: 0.008667\n",
      "\n",
      "--------------------\n",
      "\n",
      "EPOCH 14/85\n",
      "Train - crossentropy_loss: 0.011026  mae_loss:0.081694  r2: 0.616891  mse_loss: 0.011026  accuracy: 0.000000  [4769/4769]\n",
      "Train - crossentropy_loss: 0.010685  mae_loss: 0.081373  r2: 0.479680  mse_loss: 0.010685  accuracy: 0.009580  [Average]\n",
      "Test - crossentropy_loss: 0.010821  mae_loss: 0.081868  mse_loss: 0.010821  r2: 0.476958  accuracy: 0.008491\n",
      "\n",
      "--------------------\n",
      "\n",
      "EPOCH 15/85\n",
      "Train - crossentropy_loss: 0.008166  mae_loss:0.074909  r2: 0.602745  mse_loss: 0.008166  accuracy: 0.000000  [4769/4769]\n",
      "Train - crossentropy_loss: 0.010655  mae_loss: 0.081253  r2: 0.482561  mse_loss: 0.010655  accuracy: 0.009888  [Average]\n",
      "Test - crossentropy_loss: 0.010794  mae_loss: 0.081676  mse_loss: 0.010794  r2: 0.478761  accuracy: 0.008903\n",
      "\n",
      "--------------------\n",
      "\n",
      "EPOCH 16/85\n",
      "Train - crossentropy_loss: 0.012439  mae_loss:0.094849  r2: 0.397430  mse_loss: 0.012439  accuracy: 0.000000  [4769/4769]\n",
      "Train - crossentropy_loss: 0.010624  mae_loss: 0.081120  r2: 0.484043  mse_loss: 0.010624  accuracy: 0.009672  [Average]\n",
      "Test - crossentropy_loss: 0.010787  mae_loss: 0.081787  mse_loss: 0.010787  r2: 0.476331  accuracy: 0.008903\n",
      "\n",
      "--------------------\n",
      "\n",
      "EPOCH 17/85\n",
      "Train - crossentropy_loss: 0.004949  mae_loss:0.054459  r2: 0.695948  mse_loss: 0.004949  accuracy: 0.000000  [4769/4769]\n",
      "Train - crossentropy_loss: 0.010597  mae_loss: 0.081010  r2: 0.486162  mse_loss: 0.010597  accuracy: 0.009515  [Average]\n",
      "Test - crossentropy_loss: 0.010757  mae_loss: 0.081582  mse_loss: 0.010757  r2: 0.476373  accuracy: 0.008903\n",
      "\n",
      "--------------------\n",
      "\n",
      "EPOCH 18/85\n",
      "Train - crossentropy_loss: 0.004888  mae_loss:0.054026  r2: 0.751470  mse_loss: 0.004888  accuracy: 0.000000  [4769/4769]\n",
      "Train - crossentropy_loss: 0.010575  mae_loss: 0.080932  r2: 0.485605  mse_loss: 0.010575  accuracy: 0.009311  [Average]\n",
      "Test - crossentropy_loss: 0.010740  mae_loss: 0.081564  mse_loss: 0.010740  r2: 0.480634  accuracy: 0.009021\n",
      "\n",
      "--------------------\n",
      "\n",
      "EPOCH 19/85\n",
      "Train - crossentropy_loss: 0.006304  mae_loss:0.062146  r2: 0.462331  mse_loss: 0.006304  accuracy: 0.000000  [4769/4769]\n",
      "Train - crossentropy_loss: 0.010554  mae_loss: 0.080850  r2: 0.486441  mse_loss: 0.010554  accuracy: 0.009587  [Average]\n",
      "Test - crossentropy_loss: 0.010846  mae_loss: 0.081604  mse_loss: 0.010846  r2: 0.475086  accuracy: 0.007960\n",
      "\n",
      "--------------------\n",
      "\n",
      "EPOCH 20/85\n",
      "Train - crossentropy_loss: 0.008082  mae_loss:0.072046  r2: 0.639743  mse_loss: 0.008082  accuracy: 0.000000  [4769/4769]\n",
      "Train - crossentropy_loss: 0.010536  mae_loss: 0.080779  r2: 0.486954  mse_loss: 0.010536  accuracy: 0.009397  [Average]\n",
      "Test - crossentropy_loss: 0.010717  mae_loss: 0.081349  mse_loss: 0.010717  r2: 0.482023  accuracy: 0.008608\n",
      "\n",
      "--------------------\n",
      "\n",
      "EPOCH 21/85\n",
      "Train - crossentropy_loss: 0.011152  mae_loss:0.081134  r2: 0.430374  mse_loss: 0.011152  accuracy: 0.000000  [4769/4769]\n",
      "Train - crossentropy_loss: 0.010512  mae_loss: 0.080693  r2: 0.488970  mse_loss: 0.010512  accuracy: 0.009528  [Average]\n",
      "Test - crossentropy_loss: 0.010689  mae_loss: 0.081361  mse_loss: 0.010689  r2: 0.484374  accuracy: 0.009021\n",
      "\n",
      "--------------------\n",
      "\n",
      "EPOCH 22/85\n",
      "Train - crossentropy_loss: 0.009939  mae_loss:0.075464  r2: 0.574615  mse_loss: 0.009939  accuracy: 0.000000  [4769/4769]\n",
      "Train - crossentropy_loss: 0.010493  mae_loss: 0.080610  r2: 0.488621  mse_loss: 0.010493  accuracy: 0.009580  [Average]\n",
      "Test - crossentropy_loss: 0.010700  mae_loss: 0.081481  mse_loss: 0.010700  r2: 0.482854  accuracy: 0.010495\n",
      "\n",
      "--------------------\n",
      "\n",
      "EPOCH 23/85\n",
      "Train - crossentropy_loss: 0.011639  mae_loss:0.084767  r2: 0.631050  mse_loss: 0.011639  accuracy: 0.000000  [4769/4769]\n",
      "Train - crossentropy_loss: 0.010473  mae_loss: 0.080540  r2: 0.491021  mse_loss: 0.010473  accuracy: 0.009469  [Average]\n",
      "Test - crossentropy_loss: 0.010742  mae_loss: 0.081293  mse_loss: 0.010742  r2: 0.482983  accuracy: 0.007901\n",
      "\n",
      "--------------------\n",
      "\n",
      "EPOCH 24/85\n",
      "Train - crossentropy_loss: 0.011421  mae_loss:0.089929  r2: 0.211707  mse_loss: 0.011421  accuracy: 0.000000  [4769/4769]\n",
      "Train - crossentropy_loss: 0.010455  mae_loss: 0.080467  r2: 0.491033  mse_loss: 0.010455  accuracy: 0.009259  [Average]\n",
      "Test - crossentropy_loss: 0.010827  mae_loss: 0.081535  mse_loss: 0.010827  r2: 0.475953  accuracy: 0.008314\n",
      "\n",
      "--------------------\n",
      "\n",
      "EPOCH 25/85\n",
      "Train - crossentropy_loss: 0.008539  mae_loss:0.072202  r2: 0.423524  mse_loss: 0.008539  accuracy: 0.000000  [4769/4769]\n",
      "Train - crossentropy_loss: 0.010435  mae_loss: 0.080377  r2: 0.492760  mse_loss: 0.010435  accuracy: 0.009423  [Average]\n",
      "Test - crossentropy_loss: 0.010667  mae_loss: 0.081102  mse_loss: 0.010667  r2: 0.483408  accuracy: 0.008078\n",
      "\n",
      "--------------------\n",
      "\n",
      "EPOCH 26/85\n",
      "Train - crossentropy_loss: 0.012701  mae_loss:0.094683  r2: 0.277286  mse_loss: 0.012701  accuracy: 0.000000  [4769/4769]\n",
      "Train - crossentropy_loss: 0.010418  mae_loss: 0.080320  r2: 0.492495  mse_loss: 0.010418  accuracy: 0.009462  [Average]\n",
      "Test - crossentropy_loss: 0.010660  mae_loss: 0.081369  mse_loss: 0.010660  r2: 0.479679  accuracy: 0.009375\n",
      "\n",
      "--------------------\n",
      "\n",
      "EPOCH 27/85\n",
      "Train - crossentropy_loss: 0.013748  mae_loss:0.085256  r2: 0.346378  mse_loss: 0.013748  accuracy: 0.000000  [4769/4769]\n",
      "Train - crossentropy_loss: 0.010402  mae_loss: 0.080246  r2: 0.493280  mse_loss: 0.010402  accuracy: 0.009816  [Average]\n",
      "Test - crossentropy_loss: 0.010619  mae_loss: 0.080939  mse_loss: 0.010619  r2: 0.486907  accuracy: 0.008314\n",
      "\n",
      "--------------------\n",
      "\n",
      "EPOCH 28/85\n",
      "Train - crossentropy_loss: 0.005190  mae_loss:0.061754  r2: 0.759852  mse_loss: 0.005190  accuracy: 0.000000  [4769/4769]\n",
      "Train - crossentropy_loss: 0.010388  mae_loss: 0.080198  r2: 0.495005  mse_loss: 0.010388  accuracy: 0.009213  [Average]\n",
      "Test - crossentropy_loss: 0.010648  mae_loss: 0.081341  mse_loss: 0.010648  r2: 0.481795  accuracy: 0.008667\n",
      "\n",
      "--------------------\n",
      "\n",
      "EPOCH 29/85\n",
      "Train - crossentropy_loss: 0.006947  mae_loss:0.070901  r2: 0.411420  mse_loss: 0.006947  accuracy: 0.000000  [4769/4769]\n",
      "Train - crossentropy_loss: 0.010376  mae_loss: 0.080173  r2: 0.493508  mse_loss: 0.010376  accuracy: 0.009495  [Average]\n",
      "Test - crossentropy_loss: 0.010608  mae_loss: 0.080887  mse_loss: 0.010608  r2: 0.484259  accuracy: 0.008608\n",
      "\n",
      "--------------------\n",
      "\n",
      "EPOCH 30/85\n",
      "Train - crossentropy_loss: 0.015129  mae_loss:0.099634  r2: 0.470932  mse_loss: 0.015129  accuracy: 0.000000  [4769/4769]\n",
      "Train - crossentropy_loss: 0.010364  mae_loss: 0.080110  r2: 0.495836  mse_loss: 0.010364  accuracy: 0.009770  [Average]\n",
      "Test - crossentropy_loss: 0.010596  mae_loss: 0.081005  mse_loss: 0.010596  r2: 0.484959  accuracy: 0.008962\n",
      "\n",
      "--------------------\n",
      "\n",
      "EPOCH 31/85\n",
      "Train - crossentropy_loss: 0.008621  mae_loss:0.073105  r2: 0.424670  mse_loss: 0.008621  accuracy: 0.000000  [4769/4769]\n",
      "Train - crossentropy_loss: 0.010342  mae_loss: 0.080036  r2: 0.496700  mse_loss: 0.010342  accuracy: 0.009823  [Average]\n",
      "Test - crossentropy_loss: 0.010568  mae_loss: 0.080836  mse_loss: 0.010568  r2: 0.483360  accuracy: 0.008432\n",
      "\n",
      "--------------------\n",
      "\n",
      "EPOCH 32/85\n",
      "Train - crossentropy_loss: 0.012860  mae_loss:0.089372  r2: 0.356889  mse_loss: 0.012860  accuracy: 0.000000  [4769/4769]\n",
      "Train - crossentropy_loss: 0.010335  mae_loss: 0.079998  r2: 0.496431  mse_loss: 0.010335  accuracy: 0.009364  [Average]\n",
      "Test - crossentropy_loss: 0.010571  mae_loss: 0.080786  mse_loss: 0.010571  r2: 0.488132  accuracy: 0.008962\n",
      "\n",
      "--------------------\n",
      "\n",
      "EPOCH 33/85\n",
      "Train - crossentropy_loss: 0.011994  mae_loss:0.088707  r2: 0.267408  mse_loss: 0.011994  accuracy: 0.000000  [4769/4769]\n",
      "Train - crossentropy_loss: 0.010317  mae_loss: 0.079937  r2: 0.497320  mse_loss: 0.010317  accuracy: 0.009705  [Average]\n",
      "Test - crossentropy_loss: 0.010563  mae_loss: 0.080948  mse_loss: 0.010563  r2: 0.482121  accuracy: 0.009021\n",
      "\n",
      "--------------------\n",
      "\n",
      "EPOCH 34/85\n",
      "Train - crossentropy_loss: 0.014980  mae_loss:0.092283  r2: 0.460262  mse_loss: 0.014980  accuracy: 0.000000  [4769/4769]\n",
      "Train - crossentropy_loss: 0.010305  mae_loss: 0.079896  r2: 0.497702  mse_loss: 0.010305  accuracy: 0.009318  [Average]\n",
      "Test - crossentropy_loss: 0.010533  mae_loss: 0.080758  mse_loss: 0.010533  r2: 0.487484  accuracy: 0.009021\n",
      "\n",
      "--------------------\n",
      "\n",
      "EPOCH 35/85\n",
      "Train - crossentropy_loss: 0.013109  mae_loss:0.080441  r2: 0.381008  mse_loss: 0.013109  accuracy: 0.000000  [4769/4769]\n",
      "Train - crossentropy_loss: 0.010292  mae_loss: 0.079825  r2: 0.498794  mse_loss: 0.010292  accuracy: 0.009488  [Average]\n",
      "Test - crossentropy_loss: 0.010611  mae_loss: 0.080815  mse_loss: 0.010611  r2: 0.482005  accuracy: 0.009434\n",
      "\n",
      "--------------------\n",
      "\n",
      "EPOCH 36/85\n",
      "Train - crossentropy_loss: 0.012988  mae_loss:0.091554  r2: 0.659258  mse_loss: 0.012988  accuracy: 0.000000  [4769/4769]\n",
      "Train - crossentropy_loss: 0.010279  mae_loss: 0.079786  r2: 0.499351  mse_loss: 0.010279  accuracy: 0.009672  [Average]\n",
      "Test - crossentropy_loss: 0.010547  mae_loss: 0.080656  mse_loss: 0.010547  r2: 0.488388  accuracy: 0.008608\n",
      "\n",
      "--------------------\n",
      "\n",
      "EPOCH 37/85\n",
      "Train - crossentropy_loss: 0.006169  mae_loss:0.062472  r2: 0.704954  mse_loss: 0.006169  accuracy: 0.000000  [4769/4769]\n",
      "Train - crossentropy_loss: 0.010261  mae_loss: 0.079698  r2: 0.500612  mse_loss: 0.010261  accuracy: 0.009364  [Average]\n",
      "Test - crossentropy_loss: 0.010565  mae_loss: 0.080664  mse_loss: 0.010565  r2: 0.490012  accuracy: 0.009670\n",
      "\n",
      "--------------------\n",
      "\n",
      "EPOCH 38/85\n",
      "Train - crossentropy_loss: 0.013778  mae_loss:0.095851  r2: 0.253698  mse_loss: 0.013778  accuracy: 0.000000  [4769/4769]\n",
      "Train - crossentropy_loss: 0.010252  mae_loss: 0.079680  r2: 0.499962  mse_loss: 0.010252  accuracy: 0.009600  [Average]\n",
      "Test - crossentropy_loss: 0.010539  mae_loss: 0.080876  mse_loss: 0.010539  r2: 0.483638  accuracy: 0.008550\n",
      "\n",
      "--------------------\n",
      "\n",
      "EPOCH 39/85\n",
      "Train - crossentropy_loss: 0.010119  mae_loss:0.081626  r2: 0.519035  mse_loss: 0.010119  accuracy: 0.000000  [4769/4769]\n",
      "Train - crossentropy_loss: 0.010240  mae_loss: 0.079647  r2: 0.501031  mse_loss: 0.010240  accuracy: 0.009731  [Average]\n",
      "Test - crossentropy_loss: 0.010555  mae_loss: 0.080640  mse_loss: 0.010555  r2: 0.488814  accuracy: 0.007665\n",
      "\n",
      "--------------------\n",
      "\n",
      "EPOCH 40/85\n",
      "Train - crossentropy_loss: 0.013371  mae_loss:0.092516  r2: 0.046506  mse_loss: 0.013371  accuracy: 0.000000  [4769/4769]\n",
      "Train - crossentropy_loss: 0.010232  mae_loss: 0.079611  r2: 0.501103  mse_loss: 0.010232  accuracy: 0.009377  [Average]\n",
      "Test - crossentropy_loss: 0.010486  mae_loss: 0.080560  mse_loss: 0.010486  r2: 0.492899  accuracy: 0.008667\n",
      "\n",
      "--------------------\n",
      "\n",
      "EPOCH 41/85\n",
      "Train - crossentropy_loss: 0.011977  mae_loss:0.082065  r2: 0.561174  mse_loss: 0.011977  accuracy: 0.000000  [4769/4769]\n",
      "Train - crossentropy_loss: 0.010220  mae_loss: 0.079553  r2: 0.502072  mse_loss: 0.010220  accuracy: 0.009521  [Average]\n",
      "Test - crossentropy_loss: 0.010571  mae_loss: 0.080631  mse_loss: 0.010571  r2: 0.488781  accuracy: 0.008608\n",
      "\n",
      "--------------------\n",
      "\n",
      "EPOCH 42/85\n",
      "Train - crossentropy_loss: 0.016647  mae_loss:0.106811  r2: 0.209268  mse_loss: 0.016647  accuracy: 0.000000  [4769/4769]\n",
      "Train - crossentropy_loss: 0.010208  mae_loss: 0.079534  r2: 0.502002  mse_loss: 0.010208  accuracy: 0.009331  [Average]\n",
      "Test - crossentropy_loss: 0.010520  mae_loss: 0.080497  mse_loss: 0.010520  r2: 0.488945  accuracy: 0.008432\n",
      "\n",
      "--------------------\n",
      "\n",
      "EPOCH 43/85\n",
      "Train - crossentropy_loss: 0.011630  mae_loss:0.098011  r2: 0.520032  mse_loss: 0.011630  accuracy: 0.000000  [4769/4769]\n",
      "Train - crossentropy_loss: 0.010190  mae_loss: 0.079450  r2: 0.503698  mse_loss: 0.010190  accuracy: 0.009593  [Average]\n",
      "Test - crossentropy_loss: 0.010490  mae_loss: 0.080711  mse_loss: 0.010490  r2: 0.494620  accuracy: 0.009198\n",
      "\n",
      "--------------------\n",
      "\n",
      "EPOCH 44/85\n",
      "Train - crossentropy_loss: 0.014939  mae_loss:0.092085  r2: 0.152074  mse_loss: 0.014939  accuracy: 0.000000  [4769/4769]\n",
      "Train - crossentropy_loss: 0.010186  mae_loss: 0.079426  r2: 0.503709  mse_loss: 0.010186  accuracy: 0.009888  [Average]\n",
      "Test - crossentropy_loss: 0.010479  mae_loss: 0.080410  mse_loss: 0.010479  r2: 0.488395  accuracy: 0.008608\n",
      "\n",
      "--------------------\n",
      "\n",
      "EPOCH 45/85\n",
      "Train - crossentropy_loss: 0.005389  mae_loss:0.058569  r2: 0.714753  mse_loss: 0.005389  accuracy: 0.000000  [4769/4769]\n",
      "Train - crossentropy_loss: 0.010172  mae_loss: 0.079372  r2: 0.505324  mse_loss: 0.010172  accuracy: 0.009528  [Average]\n",
      "Test - crossentropy_loss: 0.010476  mae_loss: 0.080579  mse_loss: 0.010476  r2: 0.489685  accuracy: 0.009552\n",
      "\n",
      "--------------------\n",
      "\n",
      "EPOCH 46/85\n",
      "Train - crossentropy_loss: 0.007509  mae_loss:0.071157  r2: 0.494027  mse_loss: 0.007509  accuracy: 0.000000  [4769/4769]\n",
      "Train - crossentropy_loss: 0.010162  mae_loss: 0.079327  r2: 0.505590  mse_loss: 0.010162  accuracy: 0.009823  [Average]\n",
      "Test - crossentropy_loss: 0.010481  mae_loss: 0.080409  mse_loss: 0.010481  r2: 0.492719  accuracy: 0.008550\n",
      "\n",
      "--------------------\n",
      "\n",
      "EPOCH 47/85\n",
      "Train - crossentropy_loss: 0.013440  mae_loss:0.088057  r2: 0.599040  mse_loss: 0.013440  accuracy: 0.000000  [4769/4769]\n",
      "Train - crossentropy_loss: 0.010151  mae_loss: 0.079311  r2: 0.505623  mse_loss: 0.010151  accuracy: 0.009515  [Average]\n",
      "Test - crossentropy_loss: 0.010459  mae_loss: 0.080374  mse_loss: 0.010459  r2: 0.496808  accuracy: 0.009021\n",
      "\n",
      "--------------------\n",
      "\n",
      "EPOCH 48/85\n",
      "Train - crossentropy_loss: 0.012237  mae_loss:0.095233  r2: 0.395761  mse_loss: 0.012237  accuracy: 0.000000  [4769/4769]\n",
      "Train - crossentropy_loss: 0.010142  mae_loss: 0.079272  r2: 0.505305  mse_loss: 0.010142  accuracy: 0.009187  [Average]\n",
      "Test - crossentropy_loss: 0.010457  mae_loss: 0.080473  mse_loss: 0.010457  r2: 0.493619  accuracy: 0.008314\n",
      "\n",
      "--------------------\n",
      "\n",
      "EPOCH 49/85\n",
      "Train - crossentropy_loss: 0.010590  mae_loss:0.081573  r2: 0.517852  mse_loss: 0.010590  accuracy: 0.000000  [4769/4769]\n",
      "Train - crossentropy_loss: 0.010130  mae_loss: 0.079221  r2: 0.505564  mse_loss: 0.010130  accuracy: 0.009462  [Average]\n",
      "Test - crossentropy_loss: 0.010438  mae_loss: 0.080459  mse_loss: 0.010438  r2: 0.492190  accuracy: 0.009139\n",
      "\n",
      "--------------------\n",
      "\n",
      "EPOCH 50/85\n",
      "Train - crossentropy_loss: 0.011531  mae_loss:0.089843  r2: 0.540203  mse_loss: 0.011531  accuracy: 0.000000  [4769/4769]\n",
      "Train - crossentropy_loss: 0.010114  mae_loss: 0.079153  r2: 0.507598  mse_loss: 0.010114  accuracy: 0.009344  [Average]\n",
      "Test - crossentropy_loss: 0.010414  mae_loss: 0.080325  mse_loss: 0.010414  r2: 0.495953  accuracy: 0.009316\n",
      "\n",
      "--------------------\n",
      "\n",
      "EPOCH 51/85\n",
      "Train - crossentropy_loss: 0.012818  mae_loss:0.091805  r2: 0.671058  mse_loss: 0.012818  accuracy: 0.000000  [4769/4769]\n",
      "Train - crossentropy_loss: 0.010102  mae_loss: 0.079114  r2: 0.508131  mse_loss: 0.010102  accuracy: 0.009331  [Average]\n",
      "Test - crossentropy_loss: 0.010434  mae_loss: 0.080468  mse_loss: 0.010434  r2: 0.496600  accuracy: 0.008314\n",
      "\n",
      "--------------------\n",
      "\n",
      "EPOCH 52/85\n",
      "Train - crossentropy_loss: 0.008897  mae_loss:0.077563  r2: 0.320876  mse_loss: 0.008897  accuracy: 0.000000  [4769/4769]\n",
      "Train - crossentropy_loss: 0.010095  mae_loss: 0.079084  r2: 0.507323  mse_loss: 0.010095  accuracy: 0.009672  [Average]\n",
      "Test - crossentropy_loss: 0.010470  mae_loss: 0.080385  mse_loss: 0.010470  r2: 0.493374  accuracy: 0.008432\n",
      "\n",
      "--------------------\n",
      "\n",
      "EPOCH 53/85\n",
      "Train - crossentropy_loss: 0.007097  mae_loss:0.064630  r2: 0.659206  mse_loss: 0.007097  accuracy: 0.000000  [4769/4769]\n",
      "Train - crossentropy_loss: 0.010086  mae_loss: 0.079059  r2: 0.507041  mse_loss: 0.010086  accuracy: 0.009456  [Average]\n",
      "Test - crossentropy_loss: 0.010396  mae_loss: 0.080144  mse_loss: 0.010396  r2: 0.491731  accuracy: 0.009552\n",
      "\n",
      "--------------------\n",
      "\n",
      "EPOCH 54/85\n",
      "Train - crossentropy_loss: 0.007252  mae_loss:0.064607  r2: 0.535253  mse_loss: 0.007252  accuracy: 0.000000  [4769/4769]\n",
      "Train - crossentropy_loss: 0.010078  mae_loss: 0.079017  r2: 0.509172  mse_loss: 0.010078  accuracy: 0.009351  [Average]\n",
      "Test - crossentropy_loss: 0.010401  mae_loss: 0.080283  mse_loss: 0.010401  r2: 0.497448  accuracy: 0.008667\n",
      "\n",
      "--------------------\n",
      "\n",
      "EPOCH 55/85\n",
      "Train - crossentropy_loss: 0.005438  mae_loss:0.053066  r2: 0.623233  mse_loss: 0.005438  accuracy: 0.000000  [4769/4769]\n",
      "Train - crossentropy_loss: 0.010065  mae_loss: 0.078955  r2: 0.508162  mse_loss: 0.010065  accuracy: 0.009547  [Average]\n",
      "Test - crossentropy_loss: 0.010508  mae_loss: 0.080399  mse_loss: 0.010508  r2: 0.489618  accuracy: 0.008373\n",
      "\n",
      "--------------------\n",
      "\n",
      "EPOCH 56/85\n",
      "Train - crossentropy_loss: 0.007324  mae_loss:0.070844  r2: 0.701309  mse_loss: 0.007324  accuracy: 0.000000  [4769/4769]\n",
      "Train - crossentropy_loss: 0.010053  mae_loss: 0.078925  r2: 0.509824  mse_loss: 0.010053  accuracy: 0.009639  [Average]\n",
      "Test - crossentropy_loss: 0.010401  mae_loss: 0.080094  mse_loss: 0.010401  r2: 0.495351  accuracy: 0.008491\n",
      "\n",
      "--------------------\n",
      "\n",
      "EPOCH 57/85\n",
      "Train - crossentropy_loss: 0.014710  mae_loss:0.100745  r2: 0.303342  mse_loss: 0.014710  accuracy: 0.000000  [4769/4769]\n",
      "Train - crossentropy_loss: 0.010047  mae_loss: 0.078900  r2: 0.511103  mse_loss: 0.010047  accuracy: 0.009285  [Average]\n",
      "Test - crossentropy_loss: 0.010431  mae_loss: 0.080536  mse_loss: 0.010431  r2: 0.492363  accuracy: 0.009552\n",
      "\n",
      "--------------------\n",
      "\n",
      "EPOCH 58/85\n",
      "Train - crossentropy_loss: 0.005473  mae_loss:0.065503  r2: 0.830703  mse_loss: 0.005473  accuracy: 0.000000  [4769/4769]\n",
      "Train - crossentropy_loss: 0.010032  mae_loss: 0.078849  r2: 0.511026  mse_loss: 0.010032  accuracy: 0.009790  [Average]\n",
      "Test - crossentropy_loss: 0.010402  mae_loss: 0.080141  mse_loss: 0.010402  r2: 0.491359  accuracy: 0.008432\n",
      "\n",
      "--------------------\n",
      "\n",
      "EPOCH 59/85\n",
      "Train - crossentropy_loss: 0.011408  mae_loss:0.086700  r2: 0.541135  mse_loss: 0.011408  accuracy: 0.000000  [4769/4769]\n",
      "Train - crossentropy_loss: 0.010025  mae_loss: 0.078812  r2: 0.511136  mse_loss: 0.010025  accuracy: 0.009193  [Average]\n",
      "Test - crossentropy_loss: 0.010394  mae_loss: 0.080327  mse_loss: 0.010394  r2: 0.492765  accuracy: 0.008608\n",
      "\n",
      "--------------------\n",
      "\n",
      "EPOCH 60/85\n",
      "Train - crossentropy_loss: 0.008884  mae_loss:0.069305  r2: 0.465833  mse_loss: 0.008884  accuracy: 0.000000  [4769/4769]\n",
      "Train - crossentropy_loss: 0.010014  mae_loss: 0.078774  r2: 0.512397  mse_loss: 0.010014  accuracy: 0.009646  [Average]\n",
      "Test - crossentropy_loss: 0.010364  mae_loss: 0.080047  mse_loss: 0.010364  r2: 0.494706  accuracy: 0.009198\n",
      "\n",
      "--------------------\n",
      "\n",
      "EPOCH 61/85\n",
      "Train - crossentropy_loss: 0.014729  mae_loss:0.093149  r2: 0.128442  mse_loss: 0.014729  accuracy: 0.000000  [4769/4769]\n",
      "Train - crossentropy_loss: 0.010005  mae_loss: 0.078728  r2: 0.511829  mse_loss: 0.010005  accuracy: 0.009482  [Average]\n",
      "Test - crossentropy_loss: 0.010393  mae_loss: 0.080116  mse_loss: 0.010393  r2: 0.491924  accuracy: 0.008491\n",
      "\n",
      "--------------------\n",
      "\n",
      "EPOCH 62/85\n",
      "Train - crossentropy_loss: 0.008641  mae_loss:0.077921  r2: 0.574100  mse_loss: 0.008641  accuracy: 0.000000  [4769/4769]\n",
      "Train - crossentropy_loss: 0.009995  mae_loss: 0.078681  r2: 0.512288  mse_loss: 0.009995  accuracy: 0.009554  [Average]\n",
      "Test - crossentropy_loss: 0.010342  mae_loss: 0.080033  mse_loss: 0.010342  r2: 0.501409  accuracy: 0.008608\n",
      "\n",
      "--------------------\n",
      "\n",
      "EPOCH 63/85\n",
      "Train - crossentropy_loss: 0.011937  mae_loss:0.090662  r2: 0.326624  mse_loss: 0.011937  accuracy: 0.000000  [4769/4769]\n",
      "Train - crossentropy_loss: 0.009986  mae_loss: 0.078666  r2: 0.513654  mse_loss: 0.009986  accuracy: 0.009652  [Average]\n",
      "Test - crossentropy_loss: 0.010524  mae_loss: 0.080491  mse_loss: 0.010524  r2: 0.492462  accuracy: 0.008550\n",
      "\n",
      "--------------------\n",
      "\n",
      "EPOCH 64/85\n",
      "Train - crossentropy_loss: 0.011267  mae_loss:0.077201  r2: 0.278327  mse_loss: 0.011267  accuracy: 0.000000  [4769/4769]\n",
      "Train - crossentropy_loss: 0.009979  mae_loss: 0.078647  r2: 0.513198  mse_loss: 0.009979  accuracy: 0.009482  [Average]\n",
      "Test - crossentropy_loss: 0.010341  mae_loss: 0.080022  mse_loss: 0.010341  r2: 0.499902  accuracy: 0.009552\n",
      "\n",
      "--------------------\n",
      "\n",
      "EPOCH 65/85\n",
      "Train - crossentropy_loss: 0.004822  mae_loss:0.059648  r2: 0.619286  mse_loss: 0.004822  accuracy: 0.000000  [4769/4769]\n",
      "Train - crossentropy_loss: 0.009969  mae_loss: 0.078602  r2: 0.515294  mse_loss: 0.009969  accuracy: 0.009305  [Average]\n",
      "Test - crossentropy_loss: 0.010450  mae_loss: 0.080703  mse_loss: 0.010450  r2: 0.487977  accuracy: 0.008373\n",
      "\n",
      "--------------------\n",
      "\n",
      "EPOCH 66/85\n",
      "Train - crossentropy_loss: 0.007905  mae_loss:0.072889  r2: 0.704384  mse_loss: 0.007905  accuracy: 0.000000  [4769/4769]\n",
      "Train - crossentropy_loss: 0.009957  mae_loss: 0.078545  r2: 0.513720  mse_loss: 0.009957  accuracy: 0.009633  [Average]\n",
      "Test - crossentropy_loss: 0.010346  mae_loss: 0.080018  mse_loss: 0.010346  r2: 0.496046  accuracy: 0.009788\n",
      "\n",
      "--------------------\n",
      "\n",
      "EPOCH 67/85\n",
      "Train - crossentropy_loss: 0.014238  mae_loss:0.091206  r2: 0.071726  mse_loss: 0.014238  accuracy: 0.000000  [4769/4769]\n",
      "Train - crossentropy_loss: 0.009947  mae_loss: 0.078528  r2: 0.514267  mse_loss: 0.009947  accuracy: 0.009574  [Average]\n",
      "Test - crossentropy_loss: 0.010353  mae_loss: 0.079936  mse_loss: 0.010353  r2: 0.499441  accuracy: 0.008608\n",
      "\n",
      "--------------------\n",
      "\n",
      "EPOCH 68/85\n",
      "Train - crossentropy_loss: 0.016951  mae_loss:0.104342  r2: 0.306148  mse_loss: 0.016951  accuracy: 0.000000  [4769/4769]\n",
      "Train - crossentropy_loss: 0.009939  mae_loss: 0.078460  r2: 0.515584  mse_loss: 0.009939  accuracy: 0.009587  [Average]\n",
      "Test - crossentropy_loss: 0.010337  mae_loss: 0.080100  mse_loss: 0.010337  r2: 0.498512  accuracy: 0.009080\n",
      "\n",
      "--------------------\n",
      "\n",
      "EPOCH 69/85\n",
      "Train - crossentropy_loss: 0.015139  mae_loss:0.101725  r2: 0.521791  mse_loss: 0.015139  accuracy: 0.000000  [4769/4769]\n",
      "Train - crossentropy_loss: 0.009926  mae_loss: 0.078428  r2: 0.516129  mse_loss: 0.009926  accuracy: 0.009495  [Average]\n",
      "Test - crossentropy_loss: 0.010308  mae_loss: 0.079894  mse_loss: 0.010308  r2: 0.501247  accuracy: 0.008432\n",
      "\n",
      "--------------------\n",
      "\n",
      "EPOCH 70/85\n",
      "Train - crossentropy_loss: 0.010353  mae_loss:0.076443  r2: 0.582623  mse_loss: 0.010353  accuracy: 0.000000  [4769/4769]\n",
      "Train - crossentropy_loss: 0.009918  mae_loss: 0.078402  r2: 0.516551  mse_loss: 0.009918  accuracy: 0.009449  [Average]\n",
      "Test - crossentropy_loss: 0.010301  mae_loss: 0.079856  mse_loss: 0.010301  r2: 0.502372  accuracy: 0.008903\n",
      "\n",
      "--------------------\n",
      "\n",
      "EPOCH 71/85\n",
      "Train - crossentropy_loss: 0.013023  mae_loss:0.083153  r2: 0.439221  mse_loss: 0.013023  accuracy: 0.000000  [4769/4769]\n",
      "Train - crossentropy_loss: 0.009909  mae_loss: 0.078371  r2: 0.516421  mse_loss: 0.009909  accuracy: 0.009705  [Average]\n",
      "Test - crossentropy_loss: 0.010305  mae_loss: 0.079955  mse_loss: 0.010305  r2: 0.501453  accuracy: 0.009316\n",
      "\n",
      "--------------------\n",
      "\n",
      "EPOCH 72/85\n",
      "Train - crossentropy_loss: 0.012541  mae_loss:0.087691  r2: 0.457065  mse_loss: 0.012541  accuracy: 0.000000  [4769/4769]\n",
      "Train - crossentropy_loss: 0.009902  mae_loss: 0.078341  r2: 0.516479  mse_loss: 0.009902  accuracy: 0.009698  [Average]\n",
      "Test - crossentropy_loss: 0.010297  mae_loss: 0.079880  mse_loss: 0.010297  r2: 0.501747  accuracy: 0.009611\n",
      "\n",
      "--------------------\n",
      "\n",
      "EPOCH 73/85\n",
      "Train - crossentropy_loss: 0.011402  mae_loss:0.091607  r2: 0.256354  mse_loss: 0.011402  accuracy: 0.000000  [4769/4769]\n",
      "Train - crossentropy_loss: 0.009894  mae_loss: 0.078331  r2: 0.517000  mse_loss: 0.009894  accuracy: 0.009266  [Average]\n",
      "Test - crossentropy_loss: 0.010316  mae_loss: 0.079959  mse_loss: 0.010316  r2: 0.498368  accuracy: 0.008019\n",
      "\n",
      "--------------------\n",
      "\n",
      "EPOCH 74/85\n",
      "Train - crossentropy_loss: 0.015816  mae_loss:0.104000  r2: 0.506115  mse_loss: 0.015816  accuracy: 0.000000  [4769/4769]\n",
      "Train - crossentropy_loss: 0.009880  mae_loss: 0.078250  r2: 0.518322  mse_loss: 0.009880  accuracy: 0.009560  [Average]\n",
      "Test - crossentropy_loss: 0.010371  mae_loss: 0.080031  mse_loss: 0.010371  r2: 0.494505  accuracy: 0.008550\n",
      "\n",
      "--------------------\n",
      "\n",
      "EPOCH 75/85\n",
      "Train - crossentropy_loss: 0.014792  mae_loss:0.091777  r2: 0.439263  mse_loss: 0.014792  accuracy: 0.000000  [4769/4769]\n",
      "Train - crossentropy_loss: 0.009873  mae_loss: 0.078203  r2: 0.518263  mse_loss: 0.009873  accuracy: 0.009187  [Average]\n",
      "Test - crossentropy_loss: 0.010288  mae_loss: 0.079901  mse_loss: 0.010288  r2: 0.503172  accuracy: 0.009257\n",
      "\n",
      "--------------------\n",
      "\n",
      "EPOCH 76/85\n",
      "Train - crossentropy_loss: 0.010139  mae_loss:0.080478  r2: 0.599303  mse_loss: 0.010139  accuracy: 0.000000  [4769/4769]\n",
      "Train - crossentropy_loss: 0.009866  mae_loss: 0.078201  r2: 0.518636  mse_loss: 0.009866  accuracy: 0.009744  [Average]\n",
      "Test - crossentropy_loss: 0.010335  mae_loss: 0.080160  mse_loss: 0.010335  r2: 0.498244  accuracy: 0.009139\n",
      "\n",
      "--------------------\n",
      "\n",
      "EPOCH 77/85\n",
      "Train - crossentropy_loss: 0.005755  mae_loss:0.057594  r2: 0.453638  mse_loss: 0.005755  accuracy: 0.000000  [4769/4769]\n",
      "Train - crossentropy_loss: 0.009857  mae_loss: 0.078172  r2: 0.519381  mse_loss: 0.009857  accuracy: 0.009325  [Average]\n",
      "Test - crossentropy_loss: 0.010314  mae_loss: 0.080028  mse_loss: 0.010314  r2: 0.498128  accuracy: 0.009434\n",
      "\n",
      "--------------------\n",
      "\n",
      "EPOCH 78/85\n",
      "Train - crossentropy_loss: 0.006277  mae_loss:0.066745  r2: 0.653383  mse_loss: 0.006277  accuracy: 0.000000  [4769/4769]\n",
      "Train - crossentropy_loss: 0.009847  mae_loss: 0.078143  r2: 0.520707  mse_loss: 0.009847  accuracy: 0.009397  [Average]\n",
      "Test - crossentropy_loss: 0.010313  mae_loss: 0.079856  mse_loss: 0.010313  r2: 0.499894  accuracy: 0.008785\n",
      "\n",
      "--------------------\n",
      "\n",
      "EPOCH 79/85\n",
      "Train - crossentropy_loss: 0.015184  mae_loss:0.098535  r2: 0.378338  mse_loss: 0.015184  accuracy: 0.000000  [4769/4769]\n",
      "Train - crossentropy_loss: 0.009838  mae_loss: 0.078082  r2: 0.520339  mse_loss: 0.009838  accuracy: 0.009115  [Average]\n",
      "Test - crossentropy_loss: 0.010308  mae_loss: 0.080063  mse_loss: 0.010308  r2: 0.494598  accuracy: 0.008785\n",
      "\n",
      "--------------------\n",
      "\n",
      "EPOCH 80/85\n",
      "Train - crossentropy_loss: 0.008451  mae_loss:0.077248  r2: 0.621797  mse_loss: 0.008451  accuracy: 0.000000  [4769/4769]\n",
      "Train - crossentropy_loss: 0.009827  mae_loss: 0.078056  r2: 0.521003  mse_loss: 0.009827  accuracy: 0.009207  [Average]\n",
      "Test - crossentropy_loss: 0.010282  mae_loss: 0.079781  mse_loss: 0.010282  r2: 0.499305  accuracy: 0.008903\n",
      "\n",
      "--------------------\n",
      "\n",
      "EPOCH 81/85\n",
      "Train - crossentropy_loss: 0.005896  mae_loss:0.065957  r2: 0.744848  mse_loss: 0.005896  accuracy: 0.000000  [4769/4769]\n",
      "Train - crossentropy_loss: 0.009823  mae_loss: 0.078027  r2: 0.521651  mse_loss: 0.009823  accuracy: 0.009580  [Average]\n",
      "Test - crossentropy_loss: 0.010290  mae_loss: 0.079873  mse_loss: 0.010290  r2: 0.497035  accuracy: 0.009729\n",
      "\n",
      "--------------------\n",
      "\n",
      "EPOCH 82/85\n",
      "Train - crossentropy_loss: 0.009694  mae_loss:0.074954  r2: 0.469401  mse_loss: 0.009694  accuracy: 0.000000  [4769/4769]\n",
      "Train - crossentropy_loss: 0.009810  mae_loss: 0.077983  r2: 0.521715  mse_loss: 0.009810  accuracy: 0.009351  [Average]\n",
      "Test - crossentropy_loss: 0.010291  mae_loss: 0.079766  mse_loss: 0.010291  r2: 0.499235  accuracy: 0.009080\n",
      "\n",
      "--------------------\n",
      "\n",
      "EPOCH 83/85\n",
      "Train - crossentropy_loss: 0.010218  mae_loss:0.083674  r2: 0.421822  mse_loss: 0.010218  accuracy: 0.000000  [4769/4769]\n",
      "Train - crossentropy_loss: 0.009802  mae_loss: 0.077934  r2: 0.520696  mse_loss: 0.009802  accuracy: 0.009495  [Average]\n",
      "Test - crossentropy_loss: 0.010265  mae_loss: 0.079740  mse_loss: 0.010265  r2: 0.505223  accuracy: 0.009316\n",
      "\n",
      "--------------------\n",
      "\n",
      "EPOCH 84/85\n",
      "Train - crossentropy_loss: 0.019611  mae_loss:0.115027  r2: -0.220298  mse_loss: 0.019611  accuracy: 0.000000  [4769/4769]\n",
      "Train - crossentropy_loss: 0.009796  mae_loss: 0.077931  r2: 0.521054  mse_loss: 0.009796  accuracy: 0.009613  [Average]\n",
      "Test - crossentropy_loss: 0.010253  mae_loss: 0.079729  mse_loss: 0.010253  r2: 0.504431  accuracy: 0.009375\n",
      "\n",
      "--------------------\n",
      "\n",
      "EPOCH 85/85\n",
      "Train - crossentropy_loss: 0.010132  mae_loss:0.080645  r2: 0.267093  mse_loss: 0.010132  accuracy: 0.000000  [4769/4769]\n",
      "Train - crossentropy_loss: 0.009791  mae_loss: 0.077907  r2: 0.522826  mse_loss: 0.009791  accuracy: 0.009678  [Average]\n",
      "Test - crossentropy_loss: 0.010261  mae_loss: 0.079682  mse_loss: 0.010261  r2: 0.500472  accuracy: 0.009080\n",
      "\n",
      "--------------------\n",
      "\n"
     ]
    }
   ],
   "source": [
    "history = fit(model, loss, mloss, msloss, optimizer, train_dataloader, val_dataloader, EPOCH)"
   ]
  },
  {
   "cell_type": "markdown",
   "metadata": {},
   "source": [
    "## Training Performance"
   ]
  },
  {
   "cell_type": "code",
   "execution_count": 12,
   "metadata": {},
   "outputs": [
    {
     "data": {
      "application/vnd.plotly.v1+json": {
       "config": {
        "plotlyServerURL": "https://plot.ly"
       },
       "data": [
        {
         "hovertemplate": "variable=epochs<br>index=%{x}<br>value=%{y}<extra></extra>",
         "legendgroup": "epochs",
         "line": {
          "color": "#636efa",
          "dash": "solid"
         },
         "marker": {
          "symbol": "circle"
         },
         "mode": "lines",
         "name": "epochs",
         "orientation": "v",
         "showlegend": true,
         "type": "scatter",
         "x": [
          0,
          1,
          2,
          3,
          4,
          5,
          6,
          7,
          8,
          9,
          10,
          11,
          12,
          13,
          14,
          15,
          16,
          17,
          18,
          19,
          20,
          21,
          22,
          23,
          24,
          25,
          26,
          27,
          28,
          29,
          30,
          31,
          32,
          33,
          34,
          35,
          36,
          37,
          38,
          39,
          40,
          41,
          42,
          43,
          44,
          45,
          46,
          47,
          48,
          49,
          50,
          51,
          52,
          53,
          54,
          55,
          56,
          57,
          58,
          59,
          60,
          61,
          62,
          63,
          64,
          65,
          66,
          67,
          68,
          69,
          70,
          71,
          72,
          73,
          74,
          75,
          76,
          77,
          78,
          79,
          80,
          81,
          82,
          83,
          84
         ],
         "xaxis": "x",
         "y": [
          1,
          2,
          3,
          4,
          5,
          6,
          7,
          8,
          9,
          10,
          11,
          12,
          13,
          14,
          15,
          16,
          17,
          18,
          19,
          20,
          21,
          22,
          23,
          24,
          25,
          26,
          27,
          28,
          29,
          30,
          31,
          32,
          33,
          34,
          35,
          36,
          37,
          38,
          39,
          40,
          41,
          42,
          43,
          44,
          45,
          46,
          47,
          48,
          49,
          50,
          51,
          52,
          53,
          54,
          55,
          56,
          57,
          58,
          59,
          60,
          61,
          62,
          63,
          64,
          65,
          66,
          67,
          68,
          69,
          70,
          71,
          72,
          73,
          74,
          75,
          76,
          77,
          78,
          79,
          80,
          81,
          82,
          83,
          84,
          85
         ],
         "yaxis": "y"
        },
        {
         "hovertemplate": "variable=crossentropy_loss<br>index=%{x}<br>value=%{y}<extra></extra>",
         "legendgroup": "crossentropy_loss",
         "line": {
          "color": "#EF553B",
          "dash": "solid"
         },
         "marker": {
          "symbol": "circle"
         },
         "mode": "lines",
         "name": "crossentropy_loss",
         "orientation": "v",
         "showlegend": true,
         "type": "scatter",
         "x": [
          0,
          1,
          2,
          3,
          4,
          5,
          6,
          7,
          8,
          9,
          10,
          11,
          12,
          13,
          14,
          15,
          16,
          17,
          18,
          19,
          20,
          21,
          22,
          23,
          24,
          25,
          26,
          27,
          28,
          29,
          30,
          31,
          32,
          33,
          34,
          35,
          36,
          37,
          38,
          39,
          40,
          41,
          42,
          43,
          44,
          45,
          46,
          47,
          48,
          49,
          50,
          51,
          52,
          53,
          54,
          55,
          56,
          57,
          58,
          59,
          60,
          61,
          62,
          63,
          64,
          65,
          66,
          67,
          68,
          69,
          70,
          71,
          72,
          73,
          74,
          75,
          76,
          77,
          78,
          79,
          80,
          81,
          82,
          83,
          84
         ],
         "xaxis": "x",
         "y": [
          0.015486198682791065,
          0.011884061927313692,
          0.011431709179400064,
          0.01123120412247091,
          0.011117770807111812,
          0.011042096775707071,
          0.01097793629891744,
          0.010923532700538323,
          0.01087394289710065,
          0.010829351943952528,
          0.010790487074451965,
          0.010752486301473546,
          0.010714228904258688,
          0.010685292953239825,
          0.010654732211857946,
          0.010624385627213547,
          0.010597288953915667,
          0.010575327720230614,
          0.010553962181672425,
          0.01053594023962387,
          0.010512154077449811,
          0.010492767662293841,
          0.010472959077872709,
          0.010454731060589983,
          0.010434820347587238,
          0.010417791864699783,
          0.010401895438479313,
          0.010388175676521918,
          0.0103764570607968,
          0.01036357366259064,
          0.010342036201719184,
          0.010335030654756968,
          0.010317187610323117,
          0.010304684090812965,
          0.010292237445301597,
          0.010278886063262651,
          0.010260651998827653,
          0.010251913892306758,
          0.010239676368307783,
          0.010231756473438176,
          0.010219621039354034,
          0.010208046110014926,
          0.010190420631976619,
          0.010186187193753785,
          0.010171590999107043,
          0.010162338017813922,
          0.010151197959288712,
          0.01014163788472681,
          0.010130200140335605,
          0.010114375574273677,
          0.01010159636575445,
          0.010095205313345844,
          0.010085798064444013,
          0.010078179017377209,
          0.010064982120740536,
          0.010052785436818281,
          0.01004706770519502,
          0.010032120309664652,
          0.010025417811435882,
          0.010014311546992146,
          0.010004508547755543,
          0.009994657367661605,
          0.009985615142431086,
          0.009979442798357373,
          0.009969370770171475,
          0.009956603755797152,
          0.009946664696659687,
          0.009938793936379146,
          0.009926202125623932,
          0.009917536297614646,
          0.009909142443479048,
          0.009901958010179937,
          0.009894349298176869,
          0.0098798181109785,
          0.009873286737902429,
          0.009865723681552377,
          0.009856690700220803,
          0.009847293114400954,
          0.009837786980972403,
          0.009826711450857133,
          0.009822933616213897,
          0.009810230333479518,
          0.00980180391805896,
          0.00979632322741315,
          0.00979088915889455
         ],
         "yaxis": "y"
        },
        {
         "hovertemplate": "variable=r2<br>index=%{x}<br>value=%{y}<extra></extra>",
         "legendgroup": "r2",
         "line": {
          "color": "#00cc96",
          "dash": "solid"
         },
         "marker": {
          "symbol": "circle"
         },
         "mode": "lines",
         "name": "r2",
         "orientation": "v",
         "showlegend": true,
         "type": "scatter",
         "x": [
          0,
          1,
          2,
          3,
          4,
          5,
          6,
          7,
          8,
          9,
          10,
          11,
          12,
          13,
          14,
          15,
          16,
          17,
          18,
          19,
          20,
          21,
          22,
          23,
          24,
          25,
          26,
          27,
          28,
          29,
          30,
          31,
          32,
          33,
          34,
          35,
          36,
          37,
          38,
          39,
          40,
          41,
          42,
          43,
          44,
          45,
          46,
          47,
          48,
          49,
          50,
          51,
          52,
          53,
          54,
          55,
          56,
          57,
          58,
          59,
          60,
          61,
          62,
          63,
          64,
          65,
          66,
          67,
          68,
          69,
          70,
          71,
          72,
          73,
          74,
          75,
          76,
          77,
          78,
          79,
          80,
          81,
          82,
          83,
          84
         ],
         "xaxis": "x",
         "y": [
          0.25886092750209144,
          0.4242944095658938,
          0.4467005055190848,
          0.45429146701222073,
          0.46098288352857264,
          0.46409683165654436,
          0.46759159964845837,
          0.469787239486295,
          0.47346831323631483,
          0.47424832937220296,
          0.4750866920662734,
          0.4753182006400456,
          0.479195750850162,
          0.47968048971581473,
          0.4825605222855466,
          0.4840429433113096,
          0.4861622653996004,
          0.4856049216967656,
          0.4864412894943446,
          0.48695408156392356,
          0.48897046325976923,
          0.488620767260947,
          0.4910212129137817,
          0.49103257035924436,
          0.4927601170372913,
          0.4924945883863198,
          0.4932803922164962,
          0.4950046584573324,
          0.49350796760381255,
          0.495835801475776,
          0.496699653436989,
          0.49643051959345996,
          0.4973198164085927,
          0.4977024164019804,
          0.49879445624619007,
          0.4993507982317206,
          0.5006120490840464,
          0.49996211986229994,
          0.5010314099161794,
          0.5011032964948634,
          0.5020720161236611,
          0.5020021404748133,
          0.5036976413789809,
          0.503708928606091,
          0.5053237094243382,
          0.5055895111006494,
          0.5056234483379622,
          0.5053046623528158,
          0.5055643119325637,
          0.507598342936046,
          0.5081305366048556,
          0.5073230191893718,
          0.5070413424922724,
          0.5091716919811605,
          0.5081616940422619,
          0.5098237054939517,
          0.5111029883334814,
          0.5110256253295091,
          0.5111363141578166,
          0.5123971390591581,
          0.5118292815114425,
          0.5122882018305778,
          0.5136539843324129,
          0.5131980996672735,
          0.5152943740861184,
          0.5137198763318253,
          0.5142668350568496,
          0.5155835746621004,
          0.516129302012138,
          0.5165507717091621,
          0.5164207135605227,
          0.5164788453961819,
          0.5169999883720224,
          0.5183220679745603,
          0.5182629385470168,
          0.5186359455348284,
          0.5193813761078423,
          0.5207067084362892,
          0.5203393096321989,
          0.5210025523885845,
          0.5216508937095115,
          0.5217146354630654,
          0.520696049803763,
          0.5210542038807721,
          0.5228257350782682
         ],
         "yaxis": "y"
        },
        {
         "hovertemplate": "variable=mae_loss<br>index=%{x}<br>value=%{y}<extra></extra>",
         "legendgroup": "mae_loss",
         "line": {
          "color": "#ab63fa",
          "dash": "solid"
         },
         "marker": {
          "symbol": "circle"
         },
         "mode": "lines",
         "name": "mae_loss",
         "orientation": "v",
         "showlegend": true,
         "type": "scatter",
         "x": [
          0,
          1,
          2,
          3,
          4,
          5,
          6,
          7,
          8,
          9,
          10,
          11,
          12,
          13,
          14,
          15,
          16,
          17,
          18,
          19,
          20,
          21,
          22,
          23,
          24,
          25,
          26,
          27,
          28,
          29,
          30,
          31,
          32,
          33,
          34,
          35,
          36,
          37,
          38,
          39,
          40,
          41,
          42,
          43,
          44,
          45,
          46,
          47,
          48,
          49,
          50,
          51,
          52,
          53,
          54,
          55,
          56,
          57,
          58,
          59,
          60,
          61,
          62,
          63,
          64,
          65,
          66,
          67,
          68,
          69,
          70,
          71,
          72,
          73,
          74,
          75,
          76,
          77,
          78,
          79,
          80,
          81,
          82,
          83,
          84
         ],
         "xaxis": "x",
         "y": [
          0.09891022624544414,
          0.08602625356577408,
          0.08428696643511913,
          0.08353454074796003,
          0.08308281222525121,
          0.08281122312234067,
          0.08253690658746887,
          0.0823209480601028,
          0.08211735286979362,
          0.08195065152744473,
          0.08179942163753795,
          0.08164666326937997,
          0.08148287827003349,
          0.0813732605164257,
          0.08125264262579401,
          0.08112001184645153,
          0.0810102970400092,
          0.08093207586430909,
          0.08085022162053164,
          0.08077936599522823,
          0.08069318426004694,
          0.08060992868376193,
          0.08054001356341674,
          0.08046717289971915,
          0.08037663577056126,
          0.08031955069998421,
          0.08024623018936881,
          0.0801980688161859,
          0.08017256454923763,
          0.08011008961320323,
          0.08003612394073795,
          0.07999839166655409,
          0.07993656678781816,
          0.07989646028981166,
          0.07982525271089179,
          0.07978597592072657,
          0.07969794181482326,
          0.07968013095584499,
          0.07964683657726494,
          0.07961125975807874,
          0.0795533513397597,
          0.07953423135955895,
          0.07944984094455172,
          0.0794258086211178,
          0.0793718032157691,
          0.07932684688191664,
          0.07931078699608599,
          0.07927205277738468,
          0.07922103203259741,
          0.07915254522479788,
          0.07911395175004811,
          0.07908355051440297,
          0.07905937165403096,
          0.07901726920110021,
          0.07895503465057319,
          0.07892528248016978,
          0.07890010660744283,
          0.07884947541053626,
          0.07881245630252134,
          0.07877384219064755,
          0.07872752374021305,
          0.0786808769299277,
          0.07866557838672936,
          0.0786471114938965,
          0.07860248253486846,
          0.07854520024184562,
          0.07852800319650484,
          0.078459901575442,
          0.07842804568853486,
          0.07840161243073594,
          0.07837105820197234,
          0.07834073553878472,
          0.07833061271504702,
          0.07825019502726009,
          0.07820301693152347,
          0.07820098208016284,
          0.07817177033463123,
          0.07814295076007212,
          0.07808245029663685,
          0.07805644895691596,
          0.07802679657492405,
          0.07798336950437557,
          0.07793430976443107,
          0.07793108283892246,
          0.07790718638820703
         ],
         "yaxis": "y"
        },
        {
         "hovertemplate": "variable=mse_loss<br>index=%{x}<br>value=%{y}<extra></extra>",
         "legendgroup": "mse_loss",
         "line": {
          "color": "#FFA15A",
          "dash": "solid"
         },
         "marker": {
          "symbol": "circle"
         },
         "mode": "lines",
         "name": "mse_loss",
         "orientation": "v",
         "showlegend": true,
         "type": "scatter",
         "x": [
          0,
          1,
          2,
          3,
          4,
          5,
          6,
          7,
          8,
          9,
          10,
          11,
          12,
          13,
          14,
          15,
          16,
          17,
          18,
          19,
          20,
          21,
          22,
          23,
          24,
          25,
          26,
          27,
          28,
          29,
          30,
          31,
          32,
          33,
          34,
          35,
          36,
          37,
          38,
          39,
          40,
          41,
          42,
          43,
          44,
          45,
          46,
          47,
          48,
          49,
          50,
          51,
          52,
          53,
          54,
          55,
          56,
          57,
          58,
          59,
          60,
          61,
          62,
          63,
          64,
          65,
          66,
          67,
          68,
          69,
          70,
          71,
          72,
          73,
          74,
          75,
          76,
          77,
          78,
          79,
          80,
          81,
          82,
          83,
          84
         ],
         "xaxis": "x",
         "y": [
          0.015486198682791065,
          0.011884061927313692,
          0.011431709179400064,
          0.01123120412247091,
          0.011117770807111812,
          0.011042096775707071,
          0.01097793629891744,
          0.010923532700538323,
          0.01087394289710065,
          0.010829351943952528,
          0.010790487074451965,
          0.010752486301473546,
          0.010714228904258688,
          0.010685292953239825,
          0.010654732211857946,
          0.010624385627213547,
          0.010597288953915667,
          0.010575327720230614,
          0.010553962181672425,
          0.01053594023962387,
          0.010512154077449811,
          0.010492767662293841,
          0.010472959077872709,
          0.010454731060589983,
          0.010434820347587238,
          0.010417791864699783,
          0.010401895438479313,
          0.010388175676521918,
          0.0103764570607968,
          0.01036357366259064,
          0.010342036201719184,
          0.010335030654756968,
          0.010317187610323117,
          0.010304684090812965,
          0.010292237445301597,
          0.010278886063262651,
          0.010260651998827653,
          0.010251913892306758,
          0.010239676368307783,
          0.010231756473438176,
          0.010219621039354034,
          0.010208046110014926,
          0.010190420631976619,
          0.010186187193753785,
          0.010171590999107043,
          0.010162338017813922,
          0.010151197959288712,
          0.01014163788472681,
          0.010130200140335605,
          0.010114375574273677,
          0.01010159636575445,
          0.010095205313345844,
          0.010085798064444013,
          0.010078179017377209,
          0.010064982120740536,
          0.010052785436818281,
          0.01004706770519502,
          0.010032120309664652,
          0.010025417811435882,
          0.010014311546992146,
          0.010004508547755543,
          0.009994657367661605,
          0.009985615142431086,
          0.009979442798357373,
          0.009969370770171475,
          0.009956603755797152,
          0.009946664696659687,
          0.009938793936379146,
          0.009926202125623932,
          0.009917536297614646,
          0.009909142443479048,
          0.009901958010179937,
          0.009894349298176869,
          0.0098798181109785,
          0.009873286737902429,
          0.009865723681552377,
          0.009856690700220803,
          0.009847293114400954,
          0.009837786980972403,
          0.009826711450857133,
          0.009822933616213897,
          0.009810230333479518,
          0.00980180391805896,
          0.00979632322741315,
          0.00979088915889455
         ],
         "yaxis": "y"
        },
        {
         "hovertemplate": "variable=accuracy<br>index=%{x}<br>value=%{y}<extra></extra>",
         "legendgroup": "accuracy",
         "line": {
          "color": "#19d3f3",
          "dash": "solid"
         },
         "marker": {
          "symbol": "circle"
         },
         "mode": "lines",
         "name": "accuracy",
         "orientation": "v",
         "showlegend": true,
         "type": "scatter",
         "x": [
          0,
          1,
          2,
          3,
          4,
          5,
          6,
          7,
          8,
          9,
          10,
          11,
          12,
          13,
          14,
          15,
          16,
          17,
          18,
          19,
          20,
          21,
          22,
          23,
          24,
          25,
          26,
          27,
          28,
          29,
          30,
          31,
          32,
          33,
          34,
          35,
          36,
          37,
          38,
          39,
          40,
          41,
          42,
          43,
          44,
          45,
          46,
          47,
          48,
          49,
          50,
          51,
          52,
          53,
          54,
          55,
          56,
          57,
          58,
          59,
          60,
          61,
          62,
          63,
          64,
          65,
          66,
          67,
          68,
          69,
          70,
          71,
          72,
          73,
          74,
          75,
          76,
          77,
          78,
          79,
          80,
          81,
          82,
          83,
          84
         ],
         "xaxis": "x",
         "y": [
          0.011526263367582302,
          0.009435940448731391,
          0.009888079261899769,
          0.009435940448731391,
          0.009835657370517928,
          0.009449045921576851,
          0.009252463828894946,
          0.009658733487104216,
          0.009534231495072341,
          0.009724260851331516,
          0.009632522541413294,
          0.009540784231495073,
          0.009553889704340533,
          0.009580100650031453,
          0.009888079261899769,
          0.009671838959949676,
          0.009514573285804151,
          0.009311438456699518,
          0.009586653386454183,
          0.009396624030195009,
          0.009527678758649611,
          0.009580100650031453,
          0.009468704130845041,
          0.009259016565317676,
          0.00942283497588593,
          0.009462151394422311,
          0.009815999161249738,
          0.009213147410358566,
          0.009494915076535961,
          0.009770130006290626,
          0.009822551897672468,
          0.009363860348081359,
          0.009704602642063326,
          0.009317991193122249,
          0.009488362340113231,
          0.009671838959949676,
          0.009363860348081359,
          0.009599758859299643,
          0.009730813587754246,
          0.009376965820926819,
          0.009521126022226881,
          0.009331096665967709,
          0.009593206122876913,
          0.009888079261899769,
          0.009527678758649611,
          0.009822551897672468,
          0.009514573285804151,
          0.009186936464667644,
          0.009462151394422311,
          0.009344202138813169,
          0.009331096665967709,
          0.009671838959949676,
          0.009455598657999581,
          0.009350754875235899,
          0.009547336967917803,
          0.009639075277836024,
          0.009285227511008597,
          0.009789788215558818,
          0.009193489201090376,
          0.009645628014258754,
          0.009481809603690501,
          0.009553889704340533,
          0.009652180750681484,
          0.009481809603690501,
          0.009304885720276788,
          0.009632522541413294,
          0.009573547913608723,
          0.009586653386454183,
          0.009494915076535961,
          0.009449045921576851,
          0.009704602642063326,
          0.009698049905640596,
          0.009265569301740407,
          0.009560442440763263,
          0.009186936464667644,
          0.009743919060599706,
          0.009324543929544979,
          0.009396624030195009,
          0.009114856364017614,
          0.009206594673935836,
          0.009580100650031453,
          0.009350754875235899,
          0.009494915076535961,
          0.009612864332145104,
          0.009678391696372406
         ],
         "yaxis": "y"
        }
       ],
       "layout": {
        "legend": {
         "title": {
          "text": "variable"
         },
         "tracegroupgap": 0
        },
        "margin": {
         "t": 60
        },
        "template": {
         "data": {
          "bar": [
           {
            "error_x": {
             "color": "#2a3f5f"
            },
            "error_y": {
             "color": "#2a3f5f"
            },
            "marker": {
             "line": {
              "color": "#E5ECF6",
              "width": 0.5
             },
             "pattern": {
              "fillmode": "overlay",
              "size": 10,
              "solidity": 0.2
             }
            },
            "type": "bar"
           }
          ],
          "barpolar": [
           {
            "marker": {
             "line": {
              "color": "#E5ECF6",
              "width": 0.5
             },
             "pattern": {
              "fillmode": "overlay",
              "size": 10,
              "solidity": 0.2
             }
            },
            "type": "barpolar"
           }
          ],
          "carpet": [
           {
            "aaxis": {
             "endlinecolor": "#2a3f5f",
             "gridcolor": "white",
             "linecolor": "white",
             "minorgridcolor": "white",
             "startlinecolor": "#2a3f5f"
            },
            "baxis": {
             "endlinecolor": "#2a3f5f",
             "gridcolor": "white",
             "linecolor": "white",
             "minorgridcolor": "white",
             "startlinecolor": "#2a3f5f"
            },
            "type": "carpet"
           }
          ],
          "choropleth": [
           {
            "colorbar": {
             "outlinewidth": 0,
             "ticks": ""
            },
            "type": "choropleth"
           }
          ],
          "contour": [
           {
            "colorbar": {
             "outlinewidth": 0,
             "ticks": ""
            },
            "colorscale": [
             [
              0,
              "#0d0887"
             ],
             [
              0.1111111111111111,
              "#46039f"
             ],
             [
              0.2222222222222222,
              "#7201a8"
             ],
             [
              0.3333333333333333,
              "#9c179e"
             ],
             [
              0.4444444444444444,
              "#bd3786"
             ],
             [
              0.5555555555555556,
              "#d8576b"
             ],
             [
              0.6666666666666666,
              "#ed7953"
             ],
             [
              0.7777777777777778,
              "#fb9f3a"
             ],
             [
              0.8888888888888888,
              "#fdca26"
             ],
             [
              1,
              "#f0f921"
             ]
            ],
            "type": "contour"
           }
          ],
          "contourcarpet": [
           {
            "colorbar": {
             "outlinewidth": 0,
             "ticks": ""
            },
            "type": "contourcarpet"
           }
          ],
          "heatmap": [
           {
            "colorbar": {
             "outlinewidth": 0,
             "ticks": ""
            },
            "colorscale": [
             [
              0,
              "#0d0887"
             ],
             [
              0.1111111111111111,
              "#46039f"
             ],
             [
              0.2222222222222222,
              "#7201a8"
             ],
             [
              0.3333333333333333,
              "#9c179e"
             ],
             [
              0.4444444444444444,
              "#bd3786"
             ],
             [
              0.5555555555555556,
              "#d8576b"
             ],
             [
              0.6666666666666666,
              "#ed7953"
             ],
             [
              0.7777777777777778,
              "#fb9f3a"
             ],
             [
              0.8888888888888888,
              "#fdca26"
             ],
             [
              1,
              "#f0f921"
             ]
            ],
            "type": "heatmap"
           }
          ],
          "heatmapgl": [
           {
            "colorbar": {
             "outlinewidth": 0,
             "ticks": ""
            },
            "colorscale": [
             [
              0,
              "#0d0887"
             ],
             [
              0.1111111111111111,
              "#46039f"
             ],
             [
              0.2222222222222222,
              "#7201a8"
             ],
             [
              0.3333333333333333,
              "#9c179e"
             ],
             [
              0.4444444444444444,
              "#bd3786"
             ],
             [
              0.5555555555555556,
              "#d8576b"
             ],
             [
              0.6666666666666666,
              "#ed7953"
             ],
             [
              0.7777777777777778,
              "#fb9f3a"
             ],
             [
              0.8888888888888888,
              "#fdca26"
             ],
             [
              1,
              "#f0f921"
             ]
            ],
            "type": "heatmapgl"
           }
          ],
          "histogram": [
           {
            "marker": {
             "pattern": {
              "fillmode": "overlay",
              "size": 10,
              "solidity": 0.2
             }
            },
            "type": "histogram"
           }
          ],
          "histogram2d": [
           {
            "colorbar": {
             "outlinewidth": 0,
             "ticks": ""
            },
            "colorscale": [
             [
              0,
              "#0d0887"
             ],
             [
              0.1111111111111111,
              "#46039f"
             ],
             [
              0.2222222222222222,
              "#7201a8"
             ],
             [
              0.3333333333333333,
              "#9c179e"
             ],
             [
              0.4444444444444444,
              "#bd3786"
             ],
             [
              0.5555555555555556,
              "#d8576b"
             ],
             [
              0.6666666666666666,
              "#ed7953"
             ],
             [
              0.7777777777777778,
              "#fb9f3a"
             ],
             [
              0.8888888888888888,
              "#fdca26"
             ],
             [
              1,
              "#f0f921"
             ]
            ],
            "type": "histogram2d"
           }
          ],
          "histogram2dcontour": [
           {
            "colorbar": {
             "outlinewidth": 0,
             "ticks": ""
            },
            "colorscale": [
             [
              0,
              "#0d0887"
             ],
             [
              0.1111111111111111,
              "#46039f"
             ],
             [
              0.2222222222222222,
              "#7201a8"
             ],
             [
              0.3333333333333333,
              "#9c179e"
             ],
             [
              0.4444444444444444,
              "#bd3786"
             ],
             [
              0.5555555555555556,
              "#d8576b"
             ],
             [
              0.6666666666666666,
              "#ed7953"
             ],
             [
              0.7777777777777778,
              "#fb9f3a"
             ],
             [
              0.8888888888888888,
              "#fdca26"
             ],
             [
              1,
              "#f0f921"
             ]
            ],
            "type": "histogram2dcontour"
           }
          ],
          "mesh3d": [
           {
            "colorbar": {
             "outlinewidth": 0,
             "ticks": ""
            },
            "type": "mesh3d"
           }
          ],
          "parcoords": [
           {
            "line": {
             "colorbar": {
              "outlinewidth": 0,
              "ticks": ""
             }
            },
            "type": "parcoords"
           }
          ],
          "pie": [
           {
            "automargin": true,
            "type": "pie"
           }
          ],
          "scatter": [
           {
            "fillpattern": {
             "fillmode": "overlay",
             "size": 10,
             "solidity": 0.2
            },
            "type": "scatter"
           }
          ],
          "scatter3d": [
           {
            "line": {
             "colorbar": {
              "outlinewidth": 0,
              "ticks": ""
             }
            },
            "marker": {
             "colorbar": {
              "outlinewidth": 0,
              "ticks": ""
             }
            },
            "type": "scatter3d"
           }
          ],
          "scattercarpet": [
           {
            "marker": {
             "colorbar": {
              "outlinewidth": 0,
              "ticks": ""
             }
            },
            "type": "scattercarpet"
           }
          ],
          "scattergeo": [
           {
            "marker": {
             "colorbar": {
              "outlinewidth": 0,
              "ticks": ""
             }
            },
            "type": "scattergeo"
           }
          ],
          "scattergl": [
           {
            "marker": {
             "colorbar": {
              "outlinewidth": 0,
              "ticks": ""
             }
            },
            "type": "scattergl"
           }
          ],
          "scattermapbox": [
           {
            "marker": {
             "colorbar": {
              "outlinewidth": 0,
              "ticks": ""
             }
            },
            "type": "scattermapbox"
           }
          ],
          "scatterpolar": [
           {
            "marker": {
             "colorbar": {
              "outlinewidth": 0,
              "ticks": ""
             }
            },
            "type": "scatterpolar"
           }
          ],
          "scatterpolargl": [
           {
            "marker": {
             "colorbar": {
              "outlinewidth": 0,
              "ticks": ""
             }
            },
            "type": "scatterpolargl"
           }
          ],
          "scatterternary": [
           {
            "marker": {
             "colorbar": {
              "outlinewidth": 0,
              "ticks": ""
             }
            },
            "type": "scatterternary"
           }
          ],
          "surface": [
           {
            "colorbar": {
             "outlinewidth": 0,
             "ticks": ""
            },
            "colorscale": [
             [
              0,
              "#0d0887"
             ],
             [
              0.1111111111111111,
              "#46039f"
             ],
             [
              0.2222222222222222,
              "#7201a8"
             ],
             [
              0.3333333333333333,
              "#9c179e"
             ],
             [
              0.4444444444444444,
              "#bd3786"
             ],
             [
              0.5555555555555556,
              "#d8576b"
             ],
             [
              0.6666666666666666,
              "#ed7953"
             ],
             [
              0.7777777777777778,
              "#fb9f3a"
             ],
             [
              0.8888888888888888,
              "#fdca26"
             ],
             [
              1,
              "#f0f921"
             ]
            ],
            "type": "surface"
           }
          ],
          "table": [
           {
            "cells": {
             "fill": {
              "color": "#EBF0F8"
             },
             "line": {
              "color": "white"
             }
            },
            "header": {
             "fill": {
              "color": "#C8D4E3"
             },
             "line": {
              "color": "white"
             }
            },
            "type": "table"
           }
          ]
         },
         "layout": {
          "annotationdefaults": {
           "arrowcolor": "#2a3f5f",
           "arrowhead": 0,
           "arrowwidth": 1
          },
          "autotypenumbers": "strict",
          "coloraxis": {
           "colorbar": {
            "outlinewidth": 0,
            "ticks": ""
           }
          },
          "colorscale": {
           "diverging": [
            [
             0,
             "#8e0152"
            ],
            [
             0.1,
             "#c51b7d"
            ],
            [
             0.2,
             "#de77ae"
            ],
            [
             0.3,
             "#f1b6da"
            ],
            [
             0.4,
             "#fde0ef"
            ],
            [
             0.5,
             "#f7f7f7"
            ],
            [
             0.6,
             "#e6f5d0"
            ],
            [
             0.7,
             "#b8e186"
            ],
            [
             0.8,
             "#7fbc41"
            ],
            [
             0.9,
             "#4d9221"
            ],
            [
             1,
             "#276419"
            ]
           ],
           "sequential": [
            [
             0,
             "#0d0887"
            ],
            [
             0.1111111111111111,
             "#46039f"
            ],
            [
             0.2222222222222222,
             "#7201a8"
            ],
            [
             0.3333333333333333,
             "#9c179e"
            ],
            [
             0.4444444444444444,
             "#bd3786"
            ],
            [
             0.5555555555555556,
             "#d8576b"
            ],
            [
             0.6666666666666666,
             "#ed7953"
            ],
            [
             0.7777777777777778,
             "#fb9f3a"
            ],
            [
             0.8888888888888888,
             "#fdca26"
            ],
            [
             1,
             "#f0f921"
            ]
           ],
           "sequentialminus": [
            [
             0,
             "#0d0887"
            ],
            [
             0.1111111111111111,
             "#46039f"
            ],
            [
             0.2222222222222222,
             "#7201a8"
            ],
            [
             0.3333333333333333,
             "#9c179e"
            ],
            [
             0.4444444444444444,
             "#bd3786"
            ],
            [
             0.5555555555555556,
             "#d8576b"
            ],
            [
             0.6666666666666666,
             "#ed7953"
            ],
            [
             0.7777777777777778,
             "#fb9f3a"
            ],
            [
             0.8888888888888888,
             "#fdca26"
            ],
            [
             1,
             "#f0f921"
            ]
           ]
          },
          "colorway": [
           "#636efa",
           "#EF553B",
           "#00cc96",
           "#ab63fa",
           "#FFA15A",
           "#19d3f3",
           "#FF6692",
           "#B6E880",
           "#FF97FF",
           "#FECB52"
          ],
          "font": {
           "color": "#2a3f5f"
          },
          "geo": {
           "bgcolor": "white",
           "lakecolor": "white",
           "landcolor": "#E5ECF6",
           "showlakes": true,
           "showland": true,
           "subunitcolor": "white"
          },
          "hoverlabel": {
           "align": "left"
          },
          "hovermode": "closest",
          "mapbox": {
           "style": "light"
          },
          "paper_bgcolor": "white",
          "plot_bgcolor": "#E5ECF6",
          "polar": {
           "angularaxis": {
            "gridcolor": "white",
            "linecolor": "white",
            "ticks": ""
           },
           "bgcolor": "#E5ECF6",
           "radialaxis": {
            "gridcolor": "white",
            "linecolor": "white",
            "ticks": ""
           }
          },
          "scene": {
           "xaxis": {
            "backgroundcolor": "#E5ECF6",
            "gridcolor": "white",
            "gridwidth": 2,
            "linecolor": "white",
            "showbackground": true,
            "ticks": "",
            "zerolinecolor": "white"
           },
           "yaxis": {
            "backgroundcolor": "#E5ECF6",
            "gridcolor": "white",
            "gridwidth": 2,
            "linecolor": "white",
            "showbackground": true,
            "ticks": "",
            "zerolinecolor": "white"
           },
           "zaxis": {
            "backgroundcolor": "#E5ECF6",
            "gridcolor": "white",
            "gridwidth": 2,
            "linecolor": "white",
            "showbackground": true,
            "ticks": "",
            "zerolinecolor": "white"
           }
          },
          "shapedefaults": {
           "line": {
            "color": "#2a3f5f"
           }
          },
          "ternary": {
           "aaxis": {
            "gridcolor": "white",
            "linecolor": "white",
            "ticks": ""
           },
           "baxis": {
            "gridcolor": "white",
            "linecolor": "white",
            "ticks": ""
           },
           "bgcolor": "#E5ECF6",
           "caxis": {
            "gridcolor": "white",
            "linecolor": "white",
            "ticks": ""
           }
          },
          "title": {
           "x": 0.05
          },
          "xaxis": {
           "automargin": true,
           "gridcolor": "white",
           "linecolor": "white",
           "ticks": "",
           "title": {
            "standoff": 15
           },
           "zerolinecolor": "white",
           "zerolinewidth": 2
          },
          "yaxis": {
           "automargin": true,
           "gridcolor": "white",
           "linecolor": "white",
           "ticks": "",
           "title": {
            "standoff": 15
           },
           "zerolinecolor": "white",
           "zerolinewidth": 2
          }
         }
        },
        "xaxis": {
         "anchor": "y",
         "domain": [
          0,
          1
         ],
         "title": {
          "text": "index"
         }
        },
        "yaxis": {
         "anchor": "x",
         "domain": [
          0,
          1
         ],
         "title": {
          "text": "value"
         }
        }
       }
      }
     },
     "metadata": {},
     "output_type": "display_data"
    }
   ],
   "source": [
    "px.line(pd.DataFrame(history[\"train\"]))"
   ]
  },
  {
   "cell_type": "markdown",
   "metadata": {},
   "source": [
    "## Testing Performance"
   ]
  },
  {
   "cell_type": "code",
   "execution_count": 13,
   "metadata": {},
   "outputs": [
    {
     "data": {
      "application/vnd.plotly.v1+json": {
       "config": {
        "plotlyServerURL": "https://plot.ly"
       },
       "data": [
        {
         "hovertemplate": "variable=epochs<br>index=%{x}<br>value=%{y}<extra></extra>",
         "legendgroup": "epochs",
         "line": {
          "color": "#636efa",
          "dash": "solid"
         },
         "marker": {
          "symbol": "circle"
         },
         "mode": "lines",
         "name": "epochs",
         "orientation": "v",
         "showlegend": true,
         "type": "scatter",
         "x": [
          0,
          1,
          2,
          3,
          4,
          5,
          6,
          7,
          8,
          9,
          10,
          11,
          12,
          13,
          14,
          15,
          16,
          17,
          18,
          19,
          20,
          21,
          22,
          23,
          24,
          25,
          26,
          27,
          28,
          29,
          30,
          31,
          32,
          33,
          34,
          35,
          36,
          37,
          38,
          39,
          40,
          41,
          42,
          43,
          44,
          45,
          46,
          47,
          48,
          49,
          50,
          51,
          52,
          53,
          54,
          55,
          56,
          57,
          58,
          59,
          60,
          61,
          62,
          63,
          64,
          65,
          66,
          67,
          68,
          69,
          70,
          71,
          72,
          73,
          74,
          75,
          76,
          77,
          78,
          79,
          80,
          81,
          82,
          83,
          84
         ],
         "xaxis": "x",
         "y": [
          1,
          2,
          3,
          4,
          5,
          6,
          7,
          8,
          9,
          10,
          11,
          12,
          13,
          14,
          15,
          16,
          17,
          18,
          19,
          20,
          21,
          22,
          23,
          24,
          25,
          26,
          27,
          28,
          29,
          30,
          31,
          32,
          33,
          34,
          35,
          36,
          37,
          38,
          39,
          40,
          41,
          42,
          43,
          44,
          45,
          46,
          47,
          48,
          49,
          50,
          51,
          52,
          53,
          54,
          55,
          56,
          57,
          58,
          59,
          60,
          61,
          62,
          63,
          64,
          65,
          66,
          67,
          68,
          69,
          70,
          71,
          72,
          73,
          74,
          75,
          76,
          77,
          78,
          79,
          80,
          81,
          82,
          83,
          84,
          85
         ],
         "yaxis": "y"
        },
        {
         "hovertemplate": "variable=crossentropy_loss<br>index=%{x}<br>value=%{y}<extra></extra>",
         "legendgroup": "crossentropy_loss",
         "line": {
          "color": "#EF553B",
          "dash": "solid"
         },
         "marker": {
          "symbol": "circle"
         },
         "mode": "lines",
         "name": "crossentropy_loss",
         "orientation": "v",
         "showlegend": true,
         "type": "scatter",
         "x": [
          0,
          1,
          2,
          3,
          4,
          5,
          6,
          7,
          8,
          9,
          10,
          11,
          12,
          13,
          14,
          15,
          16,
          17,
          18,
          19,
          20,
          21,
          22,
          23,
          24,
          25,
          26,
          27,
          28,
          29,
          30,
          31,
          32,
          33,
          34,
          35,
          36,
          37,
          38,
          39,
          40,
          41,
          42,
          43,
          44,
          45,
          46,
          47,
          48,
          49,
          50,
          51,
          52,
          53,
          54,
          55,
          56,
          57,
          58,
          59,
          60,
          61,
          62,
          63,
          64,
          65,
          66,
          67,
          68,
          69,
          70,
          71,
          72,
          73,
          74,
          75,
          76,
          77,
          78,
          79,
          80,
          81,
          82,
          83,
          84
         ],
         "xaxis": "x",
         "y": [
          0.012327885255217552,
          0.011644653975963593,
          0.011392897926270962,
          0.011273237876594067,
          0.011186456307768822,
          0.011159371584653854,
          0.01108155120164156,
          0.011028360575437546,
          0.011164662428200245,
          0.010971130803227425,
          0.010956785641610622,
          0.010866250842809677,
          0.0108479093760252,
          0.010820615105330944,
          0.010794474743306637,
          0.010786673985421658,
          0.010757372714579105,
          0.010740271769464016,
          0.01084626093506813,
          0.010717110708355904,
          0.010688542388379574,
          0.010700390674173832,
          0.010741828940808773,
          0.01082743238657713,
          0.010667111724615097,
          0.010660353116691113,
          0.010619241744279861,
          0.010647527873516083,
          0.01060830894857645,
          0.010595683939754963,
          0.010567509569227695,
          0.010570719838142395,
          0.010563073679804802,
          0.010532883927226067,
          0.010611113160848618,
          0.01054681558161974,
          0.010564630851149559,
          0.010538537055253983,
          0.01055523194372654,
          0.010486085899174213,
          0.010571027174592018,
          0.01052023284137249,
          0.01049036718904972,
          0.010479354299604893,
          0.010475621558725834,
          0.010480755008757114,
          0.010459451004862785,
          0.010457458905875683,
          0.0104376170784235,
          0.010413775220513344,
          0.010434272699058056,
          0.010469992645084858,
          0.010395846329629421,
          0.010401210747659206,
          0.010507826693356037,
          0.010400630533695221,
          0.010431153699755669,
          0.01040168572217226,
          0.010394232347607613,
          0.010363556444644928,
          0.010392631404101849,
          0.010342107154428959,
          0.010523846372961998,
          0.010340937413275242,
          0.010449917055666447,
          0.010345918126404285,
          0.01035254169255495,
          0.010336652398109436,
          0.010308130644261837,
          0.010301097296178341,
          0.010305213741958141,
          0.010297044180333614,
          0.010315666906535625,
          0.01037090178579092,
          0.010288355872035027,
          0.010335358791053295,
          0.010313701815903187,
          0.010312648490071297,
          0.010307763703167439,
          0.010282184928655624,
          0.010290341451764107,
          0.010291325859725475,
          0.010265019722282887,
          0.010253338143229485,
          0.010260539129376411
         ],
         "yaxis": "y"
        },
        {
         "hovertemplate": "variable=r2<br>index=%{x}<br>value=%{y}<extra></extra>",
         "legendgroup": "r2",
         "line": {
          "color": "#00cc96",
          "dash": "solid"
         },
         "marker": {
          "symbol": "circle"
         },
         "mode": "lines",
         "name": "r2",
         "orientation": "v",
         "showlegend": true,
         "type": "scatter",
         "x": [
          0,
          1,
          2,
          3,
          4,
          5,
          6,
          7,
          8,
          9,
          10,
          11,
          12,
          13,
          14,
          15,
          16,
          17,
          18,
          19,
          20,
          21,
          22,
          23,
          24,
          25,
          26,
          27,
          28,
          29,
          30,
          31,
          32,
          33,
          34,
          35,
          36,
          37,
          38,
          39,
          40,
          41,
          42,
          43,
          44,
          45,
          46,
          47,
          48,
          49,
          50,
          51,
          52,
          53,
          54,
          55,
          56,
          57,
          58,
          59,
          60,
          61,
          62,
          63,
          64,
          65,
          66,
          67,
          68,
          69,
          70,
          71,
          72,
          73,
          74,
          75,
          76,
          77,
          78,
          79,
          80,
          81,
          82,
          83,
          84
         ],
         "xaxis": "x",
         "y": [
          0.40422552762834185,
          0.4377400250437833,
          0.4462838541820061,
          0.4556861911693576,
          0.45895986908221537,
          0.45955593603622996,
          0.46298248660090824,
          0.46692753764688966,
          0.45626234008184274,
          0.47105186337059424,
          0.4696661316961979,
          0.47050206962772523,
          0.47746288917643,
          0.47695752044576156,
          0.47876051742290593,
          0.47633075995420565,
          0.4763729638308039,
          0.4806339109280033,
          0.4750859899946886,
          0.48202301785026175,
          0.48437394200626493,
          0.4828539785135983,
          0.48298336610495435,
          0.47595316554196315,
          0.48340845057134385,
          0.47967933875544877,
          0.48690658574358836,
          0.4817948118472658,
          0.484259044775104,
          0.48495911223210836,
          0.4833595497453342,
          0.4881318373726575,
          0.4821205535345703,
          0.48748368090128724,
          0.48200521049954953,
          0.48838794474943104,
          0.49001208848707745,
          0.48363821092126297,
          0.48881438481757716,
          0.49289919267193166,
          0.48878106166212093,
          0.48894481759304015,
          0.4946203431117095,
          0.48839474677643024,
          0.4896852125403199,
          0.4927188770654325,
          0.49680791762417476,
          0.4936188394172386,
          0.492190487531287,
          0.49595309665422277,
          0.49660018347936896,
          0.4933738681153341,
          0.49173077786742403,
          0.49744799143843543,
          0.4896179274390852,
          0.4953511292278724,
          0.49236291486379397,
          0.49135901507200785,
          0.49276509307535327,
          0.49470565672902145,
          0.49192373502072606,
          0.501408632249293,
          0.4924619229683308,
          0.4999015611216225,
          0.4879769158972745,
          0.4960457367022814,
          0.49944077004839854,
          0.4985124704534624,
          0.5012471204330755,
          0.5023722209008474,
          0.501452732075401,
          0.5017465362726155,
          0.4983684001692966,
          0.4945045105153975,
          0.5031722674205504,
          0.4982440301114261,
          0.49812838322322955,
          0.49989374858759195,
          0.49459840052440307,
          0.4993053898549478,
          0.4970348079725066,
          0.499235188518296,
          0.50522253971651,
          0.5044307994663135,
          0.5004716199070924
         ],
         "yaxis": "y"
        },
        {
         "hovertemplate": "variable=mae_loss<br>index=%{x}<br>value=%{y}<extra></extra>",
         "legendgroup": "mae_loss",
         "line": {
          "color": "#ab63fa",
          "dash": "solid"
         },
         "marker": {
          "symbol": "circle"
         },
         "mode": "lines",
         "name": "mae_loss",
         "orientation": "v",
         "showlegend": true,
         "type": "scatter",
         "x": [
          0,
          1,
          2,
          3,
          4,
          5,
          6,
          7,
          8,
          9,
          10,
          11,
          12,
          13,
          14,
          15,
          16,
          17,
          18,
          19,
          20,
          21,
          22,
          23,
          24,
          25,
          26,
          27,
          28,
          29,
          30,
          31,
          32,
          33,
          34,
          35,
          36,
          37,
          38,
          39,
          40,
          41,
          42,
          43,
          44,
          45,
          46,
          47,
          48,
          49,
          50,
          51,
          52,
          53,
          54,
          55,
          56,
          57,
          58,
          59,
          60,
          61,
          62,
          63,
          64,
          65,
          66,
          67,
          68,
          69,
          70,
          71,
          72,
          73,
          74,
          75,
          76,
          77,
          78,
          79,
          80,
          81,
          82,
          83,
          84
         ],
         "xaxis": "x",
         "y": [
          0.08783578778494079,
          0.08524010419705004,
          0.08431852719272083,
          0.0837862463281402,
          0.0833624707359188,
          0.08306153829929963,
          0.08283333500741788,
          0.082592381565076,
          0.08278454627209114,
          0.08266933279217414,
          0.08216703431505078,
          0.0820605725963723,
          0.08197255522575018,
          0.08186835918645814,
          0.0816757488363194,
          0.08178660887170512,
          0.0815819751471281,
          0.08156418999973333,
          0.08160418461797372,
          0.08134934266783156,
          0.08136138369874009,
          0.0814812792781389,
          0.08129257697541759,
          0.08153513293221312,
          0.08110162707853992,
          0.08136936150631814,
          0.08093880263139616,
          0.08134103827178478,
          0.08088749933214683,
          0.08100469735152317,
          0.0808362650491719,
          0.08078595285286319,
          0.08094784481064328,
          0.08075797056673832,
          0.08081504060131199,
          0.08065640022451023,
          0.08066364027700335,
          0.08087635076833222,
          0.08064020813073752,
          0.08056001635795494,
          0.08063148987602513,
          0.08049729024323653,
          0.08071079444632215,
          0.08041027089194307,
          0.08057864508679453,
          0.08040886638721205,
          0.08037410062860768,
          0.08047279773174591,
          0.08045876179382486,
          0.08032504290623485,
          0.08046785321016357,
          0.08038545110315647,
          0.08014443037363718,
          0.08028277795550959,
          0.08039925287495245,
          0.08009387665902669,
          0.08053610097124891,
          0.080140508619963,
          0.08032670903880641,
          0.08004669473278073,
          0.08011566714717532,
          0.0800333023633597,
          0.08049079886866066,
          0.08002229364553712,
          0.08070340681610243,
          0.08001786326321791,
          0.0799357025479933,
          0.08009951755685626,
          0.07989420505627147,
          0.07985557182779852,
          0.07995539824917632,
          0.07988014083425954,
          0.07995850079745617,
          0.08003056620089513,
          0.07990083457585775,
          0.0801604440681777,
          0.08002780382082147,
          0.07985629509642439,
          0.08006288213831074,
          0.07978133324463413,
          0.0798733483507948,
          0.0797662505001392,
          0.07973972675654123,
          0.07972867350392747,
          0.07968212234664639
         ],
         "yaxis": "y"
        },
        {
         "hovertemplate": "variable=mse_loss<br>index=%{x}<br>value=%{y}<extra></extra>",
         "legendgroup": "mse_loss",
         "line": {
          "color": "#FFA15A",
          "dash": "solid"
         },
         "marker": {
          "symbol": "circle"
         },
         "mode": "lines",
         "name": "mse_loss",
         "orientation": "v",
         "showlegend": true,
         "type": "scatter",
         "x": [
          0,
          1,
          2,
          3,
          4,
          5,
          6,
          7,
          8,
          9,
          10,
          11,
          12,
          13,
          14,
          15,
          16,
          17,
          18,
          19,
          20,
          21,
          22,
          23,
          24,
          25,
          26,
          27,
          28,
          29,
          30,
          31,
          32,
          33,
          34,
          35,
          36,
          37,
          38,
          39,
          40,
          41,
          42,
          43,
          44,
          45,
          46,
          47,
          48,
          49,
          50,
          51,
          52,
          53,
          54,
          55,
          56,
          57,
          58,
          59,
          60,
          61,
          62,
          63,
          64,
          65,
          66,
          67,
          68,
          69,
          70,
          71,
          72,
          73,
          74,
          75,
          76,
          77,
          78,
          79,
          80,
          81,
          82,
          83,
          84
         ],
         "xaxis": "x",
         "y": [
          0.012327879416879337,
          0.011644654040101845,
          0.011392891688166925,
          0.011273235398924575,
          0.011186454727156264,
          0.011159377508216871,
          0.011081552939524628,
          0.011028362766681414,
          0.01116466564038452,
          0.010971135532764612,
          0.010956792681003517,
          0.010866247014722453,
          0.010847908956051436,
          0.010820610523399598,
          0.010794474713434025,
          0.010786675093344078,
          0.01075736703614722,
          0.01074026695382342,
          0.010846256398824307,
          0.010717113111343867,
          0.010688542251317006,
          0.010700397710930908,
          0.010741822873154339,
          0.010827435384381492,
          0.010667106933575475,
          0.010660353775645764,
          0.010619237817788743,
          0.010647528432309627,
          0.010608311392858906,
          0.010595680321654621,
          0.010567514124361552,
          0.010570721185924309,
          0.01056307096842606,
          0.010532886232688742,
          0.010611118122337842,
          0.010546813419369876,
          0.010564633340240931,
          0.01053853563279054,
          0.01055523164763625,
          0.010486086425459328,
          0.010571027536577774,
          0.010520236061464221,
          0.010490374233714251,
          0.010479351008346058,
          0.01047562050000536,
          0.010480745988107233,
          0.010459456400383475,
          0.010457457135484184,
          0.010437614859064233,
          0.010413778535494547,
          0.010434272163108273,
          0.010469988706293253,
          0.010395840975403223,
          0.010401213032913938,
          0.010507823927503712,
          0.01040062658699616,
          0.01043115226499174,
          0.010401679871533558,
          0.010394239658489823,
          0.01036355912790827,
          0.010392631824075613,
          0.010342110073598067,
          0.010523844662315722,
          0.010340935407417281,
          0.010449919542561303,
          0.010345915044253726,
          0.010352538813362426,
          0.010336661340124061,
          0.01030813617333067,
          0.01030109158875245,
          0.01030520806704068,
          0.010297047274784659,
          0.010315670096754747,
          0.010370904950530462,
          0.010288354094614678,
          0.010335358707585706,
          0.010313702515273724,
          0.01031264715195405,
          0.010307762028983319,
          0.010282180740339857,
          0.010290343192282994,
          0.010291329851672757,
          0.010265021106966261,
          0.010253339045997357,
          0.010260536411847427
         ],
         "yaxis": "y"
        },
        {
         "hovertemplate": "variable=accuracy<br>index=%{x}<br>value=%{y}<extra></extra>",
         "legendgroup": "accuracy",
         "line": {
          "color": "#19d3f3",
          "dash": "solid"
         },
         "marker": {
          "symbol": "circle"
         },
         "mode": "lines",
         "name": "accuracy",
         "orientation": "v",
         "showlegend": true,
         "type": "scatter",
         "x": [
          0,
          1,
          2,
          3,
          4,
          5,
          6,
          7,
          8,
          9,
          10,
          11,
          12,
          13,
          14,
          15,
          16,
          17,
          18,
          19,
          20,
          21,
          22,
          23,
          24,
          25,
          26,
          27,
          28,
          29,
          30,
          31,
          32,
          33,
          34,
          35,
          36,
          37,
          38,
          39,
          40,
          41,
          42,
          43,
          44,
          45,
          46,
          47,
          48,
          49,
          50,
          51,
          52,
          53,
          54,
          55,
          56,
          57,
          58,
          59,
          60,
          61,
          62,
          63,
          64,
          65,
          66,
          67,
          68,
          69,
          70,
          71,
          72,
          73,
          74,
          75,
          76,
          77,
          78,
          79,
          80,
          81,
          82,
          83,
          84
         ],
         "xaxis": "x",
         "y": [
          0.010200471698113207,
          0.00990566037735849,
          0.009492924528301886,
          0.008608490566037736,
          0.008490566037735849,
          0.00919811320754717,
          0.009080188679245283,
          0.009080188679245283,
          0.008549528301886792,
          0.008549528301886792,
          0.009257075471698113,
          0.009080188679245283,
          0.008667452830188679,
          0.008490566037735849,
          0.008903301886792453,
          0.008903301886792453,
          0.008903301886792453,
          0.00902122641509434,
          0.007959905660377358,
          0.008608490566037736,
          0.00902122641509434,
          0.010495283018867924,
          0.007900943396226415,
          0.008313679245283019,
          0.008077830188679245,
          0.009375,
          0.008313679245283019,
          0.008667452830188679,
          0.008608490566037736,
          0.008962264150943396,
          0.008431603773584906,
          0.008962264150943396,
          0.00902122641509434,
          0.00902122641509434,
          0.009433962264150943,
          0.008608490566037736,
          0.009669811320754717,
          0.008549528301886792,
          0.0076650943396226415,
          0.008667452830188679,
          0.008608490566037736,
          0.008431603773584906,
          0.00919811320754717,
          0.008608490566037736,
          0.00955188679245283,
          0.008549528301886792,
          0.00902122641509434,
          0.008313679245283019,
          0.009139150943396226,
          0.009316037735849056,
          0.008313679245283019,
          0.008431603773584906,
          0.00955188679245283,
          0.008667452830188679,
          0.008372641509433962,
          0.008490566037735849,
          0.00955188679245283,
          0.008431603773584906,
          0.008608490566037736,
          0.00919811320754717,
          0.008490566037735849,
          0.008608490566037736,
          0.008549528301886792,
          0.00955188679245283,
          0.008372641509433962,
          0.009787735849056603,
          0.008608490566037736,
          0.009080188679245283,
          0.008431603773584906,
          0.008903301886792453,
          0.009316037735849056,
          0.009610849056603773,
          0.008018867924528302,
          0.008549528301886792,
          0.009257075471698113,
          0.009139150943396226,
          0.009433962264150943,
          0.008785377358490566,
          0.008785377358490566,
          0.008903301886792453,
          0.00972877358490566,
          0.009080188679245283,
          0.009316037735849056,
          0.009375,
          0.009080188679245283
         ],
         "yaxis": "y"
        }
       ],
       "layout": {
        "legend": {
         "title": {
          "text": "variable"
         },
         "tracegroupgap": 0
        },
        "margin": {
         "t": 60
        },
        "template": {
         "data": {
          "bar": [
           {
            "error_x": {
             "color": "#2a3f5f"
            },
            "error_y": {
             "color": "#2a3f5f"
            },
            "marker": {
             "line": {
              "color": "#E5ECF6",
              "width": 0.5
             },
             "pattern": {
              "fillmode": "overlay",
              "size": 10,
              "solidity": 0.2
             }
            },
            "type": "bar"
           }
          ],
          "barpolar": [
           {
            "marker": {
             "line": {
              "color": "#E5ECF6",
              "width": 0.5
             },
             "pattern": {
              "fillmode": "overlay",
              "size": 10,
              "solidity": 0.2
             }
            },
            "type": "barpolar"
           }
          ],
          "carpet": [
           {
            "aaxis": {
             "endlinecolor": "#2a3f5f",
             "gridcolor": "white",
             "linecolor": "white",
             "minorgridcolor": "white",
             "startlinecolor": "#2a3f5f"
            },
            "baxis": {
             "endlinecolor": "#2a3f5f",
             "gridcolor": "white",
             "linecolor": "white",
             "minorgridcolor": "white",
             "startlinecolor": "#2a3f5f"
            },
            "type": "carpet"
           }
          ],
          "choropleth": [
           {
            "colorbar": {
             "outlinewidth": 0,
             "ticks": ""
            },
            "type": "choropleth"
           }
          ],
          "contour": [
           {
            "colorbar": {
             "outlinewidth": 0,
             "ticks": ""
            },
            "colorscale": [
             [
              0,
              "#0d0887"
             ],
             [
              0.1111111111111111,
              "#46039f"
             ],
             [
              0.2222222222222222,
              "#7201a8"
             ],
             [
              0.3333333333333333,
              "#9c179e"
             ],
             [
              0.4444444444444444,
              "#bd3786"
             ],
             [
              0.5555555555555556,
              "#d8576b"
             ],
             [
              0.6666666666666666,
              "#ed7953"
             ],
             [
              0.7777777777777778,
              "#fb9f3a"
             ],
             [
              0.8888888888888888,
              "#fdca26"
             ],
             [
              1,
              "#f0f921"
             ]
            ],
            "type": "contour"
           }
          ],
          "contourcarpet": [
           {
            "colorbar": {
             "outlinewidth": 0,
             "ticks": ""
            },
            "type": "contourcarpet"
           }
          ],
          "heatmap": [
           {
            "colorbar": {
             "outlinewidth": 0,
             "ticks": ""
            },
            "colorscale": [
             [
              0,
              "#0d0887"
             ],
             [
              0.1111111111111111,
              "#46039f"
             ],
             [
              0.2222222222222222,
              "#7201a8"
             ],
             [
              0.3333333333333333,
              "#9c179e"
             ],
             [
              0.4444444444444444,
              "#bd3786"
             ],
             [
              0.5555555555555556,
              "#d8576b"
             ],
             [
              0.6666666666666666,
              "#ed7953"
             ],
             [
              0.7777777777777778,
              "#fb9f3a"
             ],
             [
              0.8888888888888888,
              "#fdca26"
             ],
             [
              1,
              "#f0f921"
             ]
            ],
            "type": "heatmap"
           }
          ],
          "heatmapgl": [
           {
            "colorbar": {
             "outlinewidth": 0,
             "ticks": ""
            },
            "colorscale": [
             [
              0,
              "#0d0887"
             ],
             [
              0.1111111111111111,
              "#46039f"
             ],
             [
              0.2222222222222222,
              "#7201a8"
             ],
             [
              0.3333333333333333,
              "#9c179e"
             ],
             [
              0.4444444444444444,
              "#bd3786"
             ],
             [
              0.5555555555555556,
              "#d8576b"
             ],
             [
              0.6666666666666666,
              "#ed7953"
             ],
             [
              0.7777777777777778,
              "#fb9f3a"
             ],
             [
              0.8888888888888888,
              "#fdca26"
             ],
             [
              1,
              "#f0f921"
             ]
            ],
            "type": "heatmapgl"
           }
          ],
          "histogram": [
           {
            "marker": {
             "pattern": {
              "fillmode": "overlay",
              "size": 10,
              "solidity": 0.2
             }
            },
            "type": "histogram"
           }
          ],
          "histogram2d": [
           {
            "colorbar": {
             "outlinewidth": 0,
             "ticks": ""
            },
            "colorscale": [
             [
              0,
              "#0d0887"
             ],
             [
              0.1111111111111111,
              "#46039f"
             ],
             [
              0.2222222222222222,
              "#7201a8"
             ],
             [
              0.3333333333333333,
              "#9c179e"
             ],
             [
              0.4444444444444444,
              "#bd3786"
             ],
             [
              0.5555555555555556,
              "#d8576b"
             ],
             [
              0.6666666666666666,
              "#ed7953"
             ],
             [
              0.7777777777777778,
              "#fb9f3a"
             ],
             [
              0.8888888888888888,
              "#fdca26"
             ],
             [
              1,
              "#f0f921"
             ]
            ],
            "type": "histogram2d"
           }
          ],
          "histogram2dcontour": [
           {
            "colorbar": {
             "outlinewidth": 0,
             "ticks": ""
            },
            "colorscale": [
             [
              0,
              "#0d0887"
             ],
             [
              0.1111111111111111,
              "#46039f"
             ],
             [
              0.2222222222222222,
              "#7201a8"
             ],
             [
              0.3333333333333333,
              "#9c179e"
             ],
             [
              0.4444444444444444,
              "#bd3786"
             ],
             [
              0.5555555555555556,
              "#d8576b"
             ],
             [
              0.6666666666666666,
              "#ed7953"
             ],
             [
              0.7777777777777778,
              "#fb9f3a"
             ],
             [
              0.8888888888888888,
              "#fdca26"
             ],
             [
              1,
              "#f0f921"
             ]
            ],
            "type": "histogram2dcontour"
           }
          ],
          "mesh3d": [
           {
            "colorbar": {
             "outlinewidth": 0,
             "ticks": ""
            },
            "type": "mesh3d"
           }
          ],
          "parcoords": [
           {
            "line": {
             "colorbar": {
              "outlinewidth": 0,
              "ticks": ""
             }
            },
            "type": "parcoords"
           }
          ],
          "pie": [
           {
            "automargin": true,
            "type": "pie"
           }
          ],
          "scatter": [
           {
            "fillpattern": {
             "fillmode": "overlay",
             "size": 10,
             "solidity": 0.2
            },
            "type": "scatter"
           }
          ],
          "scatter3d": [
           {
            "line": {
             "colorbar": {
              "outlinewidth": 0,
              "ticks": ""
             }
            },
            "marker": {
             "colorbar": {
              "outlinewidth": 0,
              "ticks": ""
             }
            },
            "type": "scatter3d"
           }
          ],
          "scattercarpet": [
           {
            "marker": {
             "colorbar": {
              "outlinewidth": 0,
              "ticks": ""
             }
            },
            "type": "scattercarpet"
           }
          ],
          "scattergeo": [
           {
            "marker": {
             "colorbar": {
              "outlinewidth": 0,
              "ticks": ""
             }
            },
            "type": "scattergeo"
           }
          ],
          "scattergl": [
           {
            "marker": {
             "colorbar": {
              "outlinewidth": 0,
              "ticks": ""
             }
            },
            "type": "scattergl"
           }
          ],
          "scattermapbox": [
           {
            "marker": {
             "colorbar": {
              "outlinewidth": 0,
              "ticks": ""
             }
            },
            "type": "scattermapbox"
           }
          ],
          "scatterpolar": [
           {
            "marker": {
             "colorbar": {
              "outlinewidth": 0,
              "ticks": ""
             }
            },
            "type": "scatterpolar"
           }
          ],
          "scatterpolargl": [
           {
            "marker": {
             "colorbar": {
              "outlinewidth": 0,
              "ticks": ""
             }
            },
            "type": "scatterpolargl"
           }
          ],
          "scatterternary": [
           {
            "marker": {
             "colorbar": {
              "outlinewidth": 0,
              "ticks": ""
             }
            },
            "type": "scatterternary"
           }
          ],
          "surface": [
           {
            "colorbar": {
             "outlinewidth": 0,
             "ticks": ""
            },
            "colorscale": [
             [
              0,
              "#0d0887"
             ],
             [
              0.1111111111111111,
              "#46039f"
             ],
             [
              0.2222222222222222,
              "#7201a8"
             ],
             [
              0.3333333333333333,
              "#9c179e"
             ],
             [
              0.4444444444444444,
              "#bd3786"
             ],
             [
              0.5555555555555556,
              "#d8576b"
             ],
             [
              0.6666666666666666,
              "#ed7953"
             ],
             [
              0.7777777777777778,
              "#fb9f3a"
             ],
             [
              0.8888888888888888,
              "#fdca26"
             ],
             [
              1,
              "#f0f921"
             ]
            ],
            "type": "surface"
           }
          ],
          "table": [
           {
            "cells": {
             "fill": {
              "color": "#EBF0F8"
             },
             "line": {
              "color": "white"
             }
            },
            "header": {
             "fill": {
              "color": "#C8D4E3"
             },
             "line": {
              "color": "white"
             }
            },
            "type": "table"
           }
          ]
         },
         "layout": {
          "annotationdefaults": {
           "arrowcolor": "#2a3f5f",
           "arrowhead": 0,
           "arrowwidth": 1
          },
          "autotypenumbers": "strict",
          "coloraxis": {
           "colorbar": {
            "outlinewidth": 0,
            "ticks": ""
           }
          },
          "colorscale": {
           "diverging": [
            [
             0,
             "#8e0152"
            ],
            [
             0.1,
             "#c51b7d"
            ],
            [
             0.2,
             "#de77ae"
            ],
            [
             0.3,
             "#f1b6da"
            ],
            [
             0.4,
             "#fde0ef"
            ],
            [
             0.5,
             "#f7f7f7"
            ],
            [
             0.6,
             "#e6f5d0"
            ],
            [
             0.7,
             "#b8e186"
            ],
            [
             0.8,
             "#7fbc41"
            ],
            [
             0.9,
             "#4d9221"
            ],
            [
             1,
             "#276419"
            ]
           ],
           "sequential": [
            [
             0,
             "#0d0887"
            ],
            [
             0.1111111111111111,
             "#46039f"
            ],
            [
             0.2222222222222222,
             "#7201a8"
            ],
            [
             0.3333333333333333,
             "#9c179e"
            ],
            [
             0.4444444444444444,
             "#bd3786"
            ],
            [
             0.5555555555555556,
             "#d8576b"
            ],
            [
             0.6666666666666666,
             "#ed7953"
            ],
            [
             0.7777777777777778,
             "#fb9f3a"
            ],
            [
             0.8888888888888888,
             "#fdca26"
            ],
            [
             1,
             "#f0f921"
            ]
           ],
           "sequentialminus": [
            [
             0,
             "#0d0887"
            ],
            [
             0.1111111111111111,
             "#46039f"
            ],
            [
             0.2222222222222222,
             "#7201a8"
            ],
            [
             0.3333333333333333,
             "#9c179e"
            ],
            [
             0.4444444444444444,
             "#bd3786"
            ],
            [
             0.5555555555555556,
             "#d8576b"
            ],
            [
             0.6666666666666666,
             "#ed7953"
            ],
            [
             0.7777777777777778,
             "#fb9f3a"
            ],
            [
             0.8888888888888888,
             "#fdca26"
            ],
            [
             1,
             "#f0f921"
            ]
           ]
          },
          "colorway": [
           "#636efa",
           "#EF553B",
           "#00cc96",
           "#ab63fa",
           "#FFA15A",
           "#19d3f3",
           "#FF6692",
           "#B6E880",
           "#FF97FF",
           "#FECB52"
          ],
          "font": {
           "color": "#2a3f5f"
          },
          "geo": {
           "bgcolor": "white",
           "lakecolor": "white",
           "landcolor": "#E5ECF6",
           "showlakes": true,
           "showland": true,
           "subunitcolor": "white"
          },
          "hoverlabel": {
           "align": "left"
          },
          "hovermode": "closest",
          "mapbox": {
           "style": "light"
          },
          "paper_bgcolor": "white",
          "plot_bgcolor": "#E5ECF6",
          "polar": {
           "angularaxis": {
            "gridcolor": "white",
            "linecolor": "white",
            "ticks": ""
           },
           "bgcolor": "#E5ECF6",
           "radialaxis": {
            "gridcolor": "white",
            "linecolor": "white",
            "ticks": ""
           }
          },
          "scene": {
           "xaxis": {
            "backgroundcolor": "#E5ECF6",
            "gridcolor": "white",
            "gridwidth": 2,
            "linecolor": "white",
            "showbackground": true,
            "ticks": "",
            "zerolinecolor": "white"
           },
           "yaxis": {
            "backgroundcolor": "#E5ECF6",
            "gridcolor": "white",
            "gridwidth": 2,
            "linecolor": "white",
            "showbackground": true,
            "ticks": "",
            "zerolinecolor": "white"
           },
           "zaxis": {
            "backgroundcolor": "#E5ECF6",
            "gridcolor": "white",
            "gridwidth": 2,
            "linecolor": "white",
            "showbackground": true,
            "ticks": "",
            "zerolinecolor": "white"
           }
          },
          "shapedefaults": {
           "line": {
            "color": "#2a3f5f"
           }
          },
          "ternary": {
           "aaxis": {
            "gridcolor": "white",
            "linecolor": "white",
            "ticks": ""
           },
           "baxis": {
            "gridcolor": "white",
            "linecolor": "white",
            "ticks": ""
           },
           "bgcolor": "#E5ECF6",
           "caxis": {
            "gridcolor": "white",
            "linecolor": "white",
            "ticks": ""
           }
          },
          "title": {
           "x": 0.05
          },
          "xaxis": {
           "automargin": true,
           "gridcolor": "white",
           "linecolor": "white",
           "ticks": "",
           "title": {
            "standoff": 15
           },
           "zerolinecolor": "white",
           "zerolinewidth": 2
          },
          "yaxis": {
           "automargin": true,
           "gridcolor": "white",
           "linecolor": "white",
           "ticks": "",
           "title": {
            "standoff": 15
           },
           "zerolinecolor": "white",
           "zerolinewidth": 2
          }
         }
        },
        "xaxis": {
         "anchor": "y",
         "domain": [
          0,
          1
         ],
         "title": {
          "text": "index"
         }
        },
        "yaxis": {
         "anchor": "x",
         "domain": [
          0,
          1
         ],
         "title": {
          "text": "value"
         }
        }
       }
      }
     },
     "metadata": {},
     "output_type": "display_data"
    }
   ],
   "source": [
    "px.line(pd.DataFrame(history[\"test\"]))"
   ]
  },
  {
   "cell_type": "markdown",
   "metadata": {},
   "source": [
    "# Saving the model for future predictions and feature importance generation"
   ]
  },
  {
   "cell_type": "code",
   "execution_count": 14,
   "metadata": {},
   "outputs": [],
   "source": [
    "torch.save(model.state_dict(), \"var/model_april_may_mse.pt\")"
   ]
  }
 ],
 "metadata": {
  "kernelspec": {
   "display_name": "Python 3.10.6 64-bit",
   "language": "python",
   "name": "python3"
  },
  "language_info": {
   "codemirror_mode": {
    "name": "ipython",
    "version": 3
   },
   "file_extension": ".py",
   "mimetype": "text/x-python",
   "name": "python",
   "nbconvert_exporter": "python",
   "pygments_lexer": "ipython3",
   "version": "3.6.8"
  },
  "orig_nbformat": 4,
  "vscode": {
   "interpreter": {
    "hash": "916dbcbb3f70747c44a77c7bcd40155683ae19c65e1c03b4aa3499c5328201f1"
   }
  }
 },
 "nbformat": 4,
 "nbformat_minor": 2
}
