{
 "cells": [
  {
   "cell_type": "code",
   "execution_count": 1,
   "source": [
    "from data_preparation import Preparation\n",
    "import pandas as pd\n",
    "import numpy as np\n",
    "import torch\n",
    "import torch.nn as nn\n",
    "from torch.utils.data import DataLoader, TensorDataset\n",
    "from sklearn.model_selection import train_test_split\n",
    "from sklearn import metrics\n",
    "import plotly.express as px"
   ],
   "outputs": [],
   "metadata": {}
  },
  {
   "cell_type": "code",
   "execution_count": 2,
   "source": [
    "DEVICE = torch.device(\"cuda\" if torch.cuda.is_available() else \"cpu\")\n",
    "BATCH_SIZE = 32\n",
    "LEARNING_RATE = 0.00001\n",
    "EPOCH = 85"
   ],
   "outputs": [],
   "metadata": {}
  },
  {
   "cell_type": "code",
   "execution_count": 3,
   "source": [
    "df = pd.read_csv(\"COVIDiSTRESS_April_27_clean.csv\", encoding= 'unicode_escape')\n",
    "prep = Preparation()\n",
    "df = prep.clean(df)\n",
    "df = prep.selection_alteration(df)\n",
    "df = prep.scaling(df)\n",
    "y = df[\"PSS10_avg\"].to_numpy().reshape(-1, 1)\n",
    "x = df.drop(\"PSS10_avg\", axis=\"columns\").to_numpy()\n",
    "x, x_test, y, y_test = train_test_split(x, y, test_size=0.02)\n",
    "x_train, x_val, y_train, y_val = train_test_split(x, y, test_size=0.1)"
   ],
   "outputs": [
    {
     "output_type": "stream",
     "name": "stderr",
     "text": [
      "/home/shaashwatlobnikki/.local/lib/python3.8/site-packages/sklearn/base.py:329: UserWarning: Trying to unpickle estimator OneHotEncoder from version 0.24.2 when using version 0.23.1. This might lead to breaking code or invalid results. Use at your own risk.\n",
      "  warnings.warn(\n",
      "/home/shaashwatlobnikki/.local/lib/python3.8/site-packages/sklearn/base.py:329: UserWarning: Trying to unpickle estimator StandardScaler from version 0.24.2 when using version 0.23.1. This might lead to breaking code or invalid results. Use at your own risk.\n",
      "  warnings.warn(\n"
     ]
    }
   ],
   "metadata": {}
  },
  {
   "cell_type": "code",
   "execution_count": 4,
   "source": [
    "train_dataset = TensorDataset(torch.Tensor(x_train), torch.Tensor(y_train))\n",
    "train_dataloader = DataLoader(train_dataset, BATCH_SIZE, shuffle=True)\n",
    "test_dataset = TensorDataset(torch.Tensor(x_test), torch.Tensor(y_test))\n",
    "test_dataloader = DataLoader(test_dataset, BATCH_SIZE, shuffle=True)\n",
    "val_dataset = TensorDataset(torch.Tensor(x_val), torch.Tensor(y_val))\n",
    "val_dataloader = DataLoader(val_dataset, BATCH_SIZE, shuffle=True)"
   ],
   "outputs": [],
   "metadata": {}
  },
  {
   "cell_type": "code",
   "execution_count": 5,
   "source": [
    "class StressNN(nn.Module):\n",
    "    def __init__(self, input_size = 56):\n",
    "        super(StressNN, self).__init__()\n",
    "        self.LinBlock = nn.Sequential(\n",
    "            nn.Linear(input_size, 256),\n",
    "            nn.LeakyReLU(),\n",
    "            nn.Linear(256, 128),\n",
    "            nn.LeakyReLU(),\n",
    "            nn.Linear(128, 64),\n",
    "            nn.LeakyReLU(),\n",
    "            nn.Linear(64, 32),\n",
    "            nn.LeakyReLU(),\n",
    "            nn.Linear(32, 16),\n",
    "            nn.LeakyReLU(),\n",
    "            nn.Linear(16, 1)\n",
    "        )\n",
    "    def forward(self, x):\n",
    "        x = self.LinBlock(x)\n",
    "        x = torch.sigmoid(x)\n",
    "        return x"
   ],
   "outputs": [],
   "metadata": {}
  },
  {
   "cell_type": "code",
   "execution_count": 6,
   "source": [
    "def train(model, loss, maeloss, optimizer, data):\n",
    "    nbat = len(data)\n",
    "    aloss, aacc, ar2, amloss = 0, 0, 0, 0\n",
    "    for batch, (x, y) in enumerate(data):\n",
    "        x = x.to(DEVICE)\n",
    "        y = y.to(DEVICE)\n",
    "        ypred = model(x)\n",
    "        bloss = loss(ypred ,y.float())\n",
    "        with torch.no_grad():\n",
    "            acc = ((ypred.squeeze()>=0.50).int()==y).sum().item()/BATCH_SIZE\n",
    "            r2 = metrics.r2_score(y.cpu().numpy(), ypred.cpu().numpy())\n",
    "\n",
    "            mloss = maeloss(ypred, y.float()).item()\n",
    "            amloss += mloss\n",
    "            aloss += bloss.item()\n",
    "            aacc += acc\n",
    "            ar2 += r2\n",
    "\n",
    "        optimizer.zero_grad()\n",
    "        bloss.backward()\n",
    "        optimizer.step()\n",
    "\n",
    "        print(\"Train - crossentropy_loss: %f  mae_loss:%f  r2: %f  accuracy: %f  [%d/%d]\"%(bloss.item(), mloss, r2, acc, batch+1, nbat), end=\"\\r\")\n",
    "    aloss /= nbat\n",
    "    aacc /= nbat\n",
    "    ar2 /= nbat\n",
    "    amloss /= nbat\n",
    "    print(\"\\nTrain - crossentropy_loss: %f  mae_loss: %f  r2: %f  accuracy: %f  [Average]\"%(aloss, amloss, ar2, aacc))\n",
    "    return (aloss, amloss, ar2, aacc)"
   ],
   "outputs": [],
   "metadata": {}
  },
  {
   "cell_type": "code",
   "execution_count": 7,
   "source": [
    "def test(model, loss, maeloss, data):\n",
    "    nbat = len(data)\n",
    "    acc, bloss, r2, mloss = 0, 0, 0, 0\n",
    "\n",
    "    with torch.no_grad():\n",
    "        for x, y in data:\n",
    "            x = x.to(DEVICE)\n",
    "            y = y.to(DEVICE)\n",
    "            ypred = model(x)\n",
    "            bloss += loss(ypred ,y.float())\n",
    "            mloss += maeloss(ypred ,y.float()).item()\n",
    "            acc += ((ypred.squeeze()>=0.50).int()==y).sum().item()/BATCH_SIZE\n",
    "            r2 += metrics.r2_score(y.cpu().numpy(), ypred.cpu().numpy())\n",
    "    \n",
    "    acc /= nbat\n",
    "    bloss /= nbat\n",
    "    mloss /= nbat\n",
    "    r2 /= nbat\n",
    "    print(\"Test - crossentropy_loss: %f  mae_loss: %f  r2: %f  accuracy: %f\"%(bloss.item(), mloss, r2, acc))\n",
    "    return (bloss.item(), mloss, r2, acc)"
   ],
   "outputs": [],
   "metadata": {}
  },
  {
   "cell_type": "code",
   "execution_count": 8,
   "source": [
    "def fit(model, loss, mloss, optimizer, train_loader, test_loader, epochs):\n",
    "    train_history = {\n",
    "        \"epochs\": list(range(1, epochs+1)),\n",
    "        \"crossentropy_loss\": list(),\n",
    "        \"r2\": list(),\n",
    "        \"mae_loss\": list(),\n",
    "        \"accuracy\": list()\n",
    "    }\n",
    "    test_history = {\n",
    "        \"epochs\": list(range(1, epochs+1)),\n",
    "        \"crossentropy_loss\": list(),\n",
    "        \"r2\": list(),\n",
    "        \"mae_loss\": list(),\n",
    "        \"accuracy\": list()\n",
    "    }\n",
    "    for e in range(epochs):\n",
    "        print(\"EPOCH %d/%d\"%(e+1, epochs))\n",
    "\n",
    "        l, m, r2, acc = train(model, loss, mloss, optimizer, train_loader)\n",
    "        train_history[\"crossentropy_loss\"].append(l)\n",
    "        train_history[\"r2\"].append(r2)\n",
    "        train_history[\"mae_loss\"].append(m)\n",
    "        train_history[\"accuracy\"].append(acc)\n",
    "\n",
    "        l, m, r2, acc = test(model, loss, mloss, test_loader)\n",
    "        test_history[\"crossentropy_loss\"].append(l)\n",
    "        test_history[\"r2\"].append(r2)\n",
    "        test_history[\"mae_loss\"].append(m)\n",
    "        test_history[\"accuracy\"].append(acc)\n",
    "\n",
    "        print(\"\\n--------------------\\n\")\n",
    "    return {\n",
    "        \"train\": train_history,\n",
    "        \"test\": test_history\n",
    "    }"
   ],
   "outputs": [],
   "metadata": {}
  },
  {
   "cell_type": "code",
   "execution_count": 9,
   "source": [
    "model = StressNN(x.shape[1]).to(DEVICE)\n",
    "model"
   ],
   "outputs": [
    {
     "output_type": "execute_result",
     "data": {
      "text/plain": [
       "StressNN(\n",
       "  (LinBlock): Sequential(\n",
       "    (0): Linear(in_features=56, out_features=256, bias=True)\n",
       "    (1): LeakyReLU(negative_slope=0.01)\n",
       "    (2): Linear(in_features=256, out_features=128, bias=True)\n",
       "    (3): LeakyReLU(negative_slope=0.01)\n",
       "    (4): Linear(in_features=128, out_features=64, bias=True)\n",
       "    (5): LeakyReLU(negative_slope=0.01)\n",
       "    (6): Linear(in_features=64, out_features=32, bias=True)\n",
       "    (7): LeakyReLU(negative_slope=0.01)\n",
       "    (8): Linear(in_features=32, out_features=16, bias=True)\n",
       "    (9): LeakyReLU(negative_slope=0.01)\n",
       "    (10): Linear(in_features=16, out_features=1, bias=True)\n",
       "  )\n",
       ")"
      ]
     },
     "metadata": {},
     "execution_count": 9
    }
   ],
   "metadata": {}
  },
  {
   "cell_type": "code",
   "execution_count": 10,
   "source": [
    "loss = nn.BCELoss()\n",
    "mloss = nn.L1Loss(reduction=\"mean\")\n",
    "optimizer = torch.optim.Adam(model.parameters(), lr=LEARNING_RATE)"
   ],
   "outputs": [],
   "metadata": {}
  },
  {
   "cell_type": "code",
   "execution_count": 11,
   "source": [
    "history = fit(model, loss, mloss, optimizer, train_dataloader, val_dataloader, EPOCH)"
   ],
   "outputs": [
    {
     "output_type": "stream",
     "name": "stdout",
     "text": [
      "EPOCH 1/70\n",
      "Train - crossentropy_loss: 0.680880  mae_loss:0.082848  r2: 0.264658  accuracy: 0.000000  [2293/2293]\n",
      "Train - crossentropy_loss: 0.680413  mae_loss: 0.101107  r2: 0.227419  accuracy: 0.010330  [Average]\n",
      "Test - crossentropy_loss: 0.673565  mae_loss: 0.087962  r2: 0.396084  accuracy: 0.009436\n",
      "\n",
      "--------------------\n",
      "\n",
      "EPOCH 2/70\n",
      "Train - crossentropy_loss: 0.654360  mae_loss:0.112350  r2: 0.496765  accuracy: 0.000000  [2293/2293]\n",
      "Train - crossentropy_loss: 0.671784  mae_loss: 0.086101  r2: 0.423242  accuracy: 0.009404  [Average]\n",
      "Test - crossentropy_loss: 0.671899  mae_loss: 0.085265  r2: 0.430694  accuracy: 0.009559\n",
      "\n",
      "--------------------\n",
      "\n",
      "EPOCH 3/70\n",
      "Train - crossentropy_loss: 0.679410  mae_loss:0.076879  r2: 0.430783  accuracy: 0.000000  [2293/2293]\n",
      "Train - crossentropy_loss: 0.670659  mae_loss: 0.084062  r2: 0.447130  accuracy: 0.009390  [Average]\n",
      "Test - crossentropy_loss: 0.671195  mae_loss: 0.083660  r2: 0.447409  accuracy: 0.008456\n",
      "\n",
      "--------------------\n",
      "\n",
      "EPOCH 4/70\n",
      "Train - crossentropy_loss: 0.670905  mae_loss:0.094795  r2: 0.365468  accuracy: 0.000000  [2293/2293]\n",
      "Train - crossentropy_loss: 0.670250  mae_loss: 0.083254  r2: 0.455641  accuracy: 0.009335  [Average]\n",
      "Test - crossentropy_loss: 0.671007  mae_loss: 0.083188  r2: 0.452165  accuracy: 0.009069\n",
      "\n",
      "--------------------\n",
      "\n",
      "EPOCH 5/70\n",
      "Train - crossentropy_loss: 0.680461  mae_loss:0.081022  r2: 0.427363  accuracy: 0.000000  [2293/2293]\n",
      "Train - crossentropy_loss: 0.670046  mae_loss: 0.082908  r2: 0.459783  accuracy: 0.008913  [Average]\n",
      "Test - crossentropy_loss: 0.670945  mae_loss: 0.083334  r2: 0.448120  accuracy: 0.010049\n",
      "\n",
      "--------------------\n",
      "\n",
      "EPOCH 6/70\n",
      "Train - crossentropy_loss: 0.663128  mae_loss:0.104603  r2: 0.438786  accuracy: 0.000000  [2293/2293]\n",
      "Train - crossentropy_loss: 0.669892  mae_loss: 0.082618  r2: 0.462860  accuracy: 0.009240  [Average]\n",
      "Test - crossentropy_loss: 0.670707  mae_loss: 0.082701  r2: 0.450594  accuracy: 0.010662\n",
      "\n",
      "--------------------\n",
      "\n",
      "EPOCH 7/70\n",
      "Train - crossentropy_loss: 0.661859  mae_loss:0.063932  r2: 0.705494  accuracy: 0.000000  [2293/2293]\n",
      "Train - crossentropy_loss: 0.669763  mae_loss: 0.082382  r2: 0.467617  accuracy: 0.009335  [Average]\n",
      "Test - crossentropy_loss: 0.670710  mae_loss: 0.082877  r2: 0.458602  accuracy: 0.010294\n",
      "\n",
      "--------------------\n",
      "\n",
      "EPOCH 8/70\n",
      "Train - crossentropy_loss: 0.668411  mae_loss:0.103159  r2: 0.423642  accuracy: 0.000000  [2293/2293]\n",
      "Train - crossentropy_loss: 0.669655  mae_loss: 0.082189  r2: 0.469259  accuracy: 0.008899  [Average]\n",
      "Test - crossentropy_loss: 0.670693  mae_loss: 0.082753  r2: 0.456144  accuracy: 0.010049\n",
      "\n",
      "--------------------\n",
      "\n",
      "EPOCH 9/70\n",
      "Train - crossentropy_loss: 0.678858  mae_loss:0.087810  r2: 0.374223  accuracy: 0.000000  [2293/2293]\n",
      "Train - crossentropy_loss: 0.669556  mae_loss: 0.081985  r2: 0.471110  accuracy: 0.009090  [Average]\n",
      "Test - crossentropy_loss: 0.670649  mae_loss: 0.082784  r2: 0.454541  accuracy: 0.007475\n",
      "\n",
      "--------------------\n",
      "\n",
      "EPOCH 10/70\n",
      "Train - crossentropy_loss: 0.679324  mae_loss:0.101440  r2: 0.277947  accuracy: 0.000000  [2293/2293]\n",
      "Train - crossentropy_loss: 0.669476  mae_loss: 0.081852  r2: 0.473021  accuracy: 0.009022  [Average]\n",
      "Test - crossentropy_loss: 0.671021  mae_loss: 0.083695  r2: 0.448824  accuracy: 0.009681\n",
      "\n",
      "--------------------\n",
      "\n",
      "EPOCH 11/70\n",
      "Train - crossentropy_loss: 0.658362  mae_loss:0.087550  r2: 0.549660  accuracy: 0.000000  [2293/2293]\n",
      "Train - crossentropy_loss: 0.669383  mae_loss: 0.081684  r2: 0.476820  accuracy: 0.009172  [Average]\n",
      "Test - crossentropy_loss: 0.670624  mae_loss: 0.082807  r2: 0.458224  accuracy: 0.009314\n",
      "\n",
      "--------------------\n",
      "\n",
      "EPOCH 12/70\n",
      "Train - crossentropy_loss: 0.675245  mae_loss:0.101300  r2: 0.364779  accuracy: 0.000000  [2293/2293]\n",
      "Train - crossentropy_loss: 0.669310  mae_loss: 0.081538  r2: 0.476144  accuracy: 0.008981  [Average]\n",
      "Test - crossentropy_loss: 0.670415  mae_loss: 0.082241  r2: 0.466953  accuracy: 0.010417\n",
      "\n",
      "--------------------\n",
      "\n",
      "EPOCH 13/70\n",
      "Train - crossentropy_loss: 0.659813  mae_loss:0.090444  r2: 0.402698  accuracy: 0.000000  [2293/2293]\n",
      "Train - crossentropy_loss: 0.669238  mae_loss: 0.081416  r2: 0.476729  accuracy: 0.008381  [Average]\n",
      "Test - crossentropy_loss: 0.670720  mae_loss: 0.083109  r2: 0.456944  accuracy: 0.010417\n",
      "\n",
      "--------------------\n",
      "\n",
      "EPOCH 14/70\n",
      "Train - crossentropy_loss: 0.680255  mae_loss:0.060549  r2: 0.407414  accuracy: 0.000000  [2293/2293]\n",
      "Train - crossentropy_loss: 0.669175  mae_loss: 0.081297  r2: 0.480530  accuracy: 0.009335  [Average]\n",
      "Test - crossentropy_loss: 0.670313  mae_loss: 0.081774  r2: 0.464860  accuracy: 0.008824\n",
      "\n",
      "--------------------\n",
      "\n",
      "EPOCH 15/70\n",
      "Train - crossentropy_loss: 0.671506  mae_loss:0.071970  r2: 0.536950  accuracy: 0.000000  [2293/2293]\n",
      "Train - crossentropy_loss: 0.669107  mae_loss: 0.081176  r2: 0.480853  accuracy: 0.009063  [Average]\n",
      "Test - crossentropy_loss: 0.670349  mae_loss: 0.081827  r2: 0.468321  accuracy: 0.008701\n",
      "\n",
      "--------------------\n",
      "\n",
      "EPOCH 16/70\n",
      "Train - crossentropy_loss: 0.681918  mae_loss:0.119940  r2: 0.147666  accuracy: 0.000000  [2293/2293]\n",
      "Train - crossentropy_loss: 0.669058  mae_loss: 0.081097  r2: 0.481613  accuracy: 0.009063  [Average]\n",
      "Test - crossentropy_loss: 0.670253  mae_loss: 0.081707  r2: 0.470676  accuracy: 0.009314\n",
      "\n",
      "--------------------\n",
      "\n",
      "EPOCH 17/70\n",
      "Train - crossentropy_loss: 0.681711  mae_loss:0.078161  r2: 0.334959  accuracy: 0.000000  [2293/2293]\n",
      "Train - crossentropy_loss: 0.669023  mae_loss: 0.080975  r2: 0.483546  accuracy: 0.008927  [Average]\n",
      "Test - crossentropy_loss: 0.670217  mae_loss: 0.081687  r2: 0.465819  accuracy: 0.010662\n",
      "\n",
      "--------------------\n",
      "\n",
      "EPOCH 18/70\n",
      "Train - crossentropy_loss: 0.687405  mae_loss:0.052849  r2: 0.280190  accuracy: 0.000000  [2293/2293]\n",
      "Train - crossentropy_loss: 0.668969  mae_loss: 0.080862  r2: 0.485125  accuracy: 0.009172  [Average]\n",
      "Test - crossentropy_loss: 0.670296  mae_loss: 0.082070  r2: 0.467164  accuracy: 0.009926\n",
      "\n",
      "--------------------\n",
      "\n",
      "EPOCH 19/70\n",
      "Train - crossentropy_loss: 0.659631  mae_loss:0.104509  r2: 0.299663  accuracy: 0.000000  [2293/2293]\n",
      "Train - crossentropy_loss: 0.668920  mae_loss: 0.080818  r2: 0.485111  accuracy: 0.009199  [Average]\n",
      "Test - crossentropy_loss: 0.670214  mae_loss: 0.081849  r2: 0.470923  accuracy: 0.010907\n",
      "\n",
      "--------------------\n",
      "\n",
      "EPOCH 20/70\n",
      "Train - crossentropy_loss: 0.674409  mae_loss:0.075212  r2: 0.528961  accuracy: 0.000000  [2293/2293]\n",
      "Train - crossentropy_loss: 0.668864  mae_loss: 0.080728  r2: 0.487718  accuracy: 0.009226  [Average]\n",
      "Test - crossentropy_loss: 0.670153  mae_loss: 0.081603  r2: 0.469122  accuracy: 0.008946\n",
      "\n",
      "--------------------\n",
      "\n",
      "EPOCH 21/70\n",
      "Train - crossentropy_loss: 0.675549  mae_loss:0.067354  r2: 0.549220  accuracy: 0.000000  [2293/2293]\n",
      "Train - crossentropy_loss: 0.668828  mae_loss: 0.080656  r2: 0.488905  accuracy: 0.008790  [Average]\n",
      "Test - crossentropy_loss: 0.670220  mae_loss: 0.081535  r2: 0.469598  accuracy: 0.008333\n",
      "\n",
      "--------------------\n",
      "\n",
      "EPOCH 22/70\n",
      "Train - crossentropy_loss: 0.688829  mae_loss:0.099125  r2: 0.077996  accuracy: 0.000000  [2293/2293]\n",
      "Train - crossentropy_loss: 0.668788  mae_loss: 0.080572  r2: 0.488546  accuracy: 0.008899  [Average]\n",
      "Test - crossentropy_loss: 0.670411  mae_loss: 0.081740  r2: 0.464041  accuracy: 0.007230\n",
      "\n",
      "--------------------\n",
      "\n",
      "EPOCH 23/70\n",
      "Train - crossentropy_loss: 0.679795  mae_loss:0.071758  r2: 0.470138  accuracy: 0.000000  [2293/2293]\n",
      "Train - crossentropy_loss: 0.668759  mae_loss: 0.080532  r2: 0.487851  accuracy: 0.008940  [Average]\n",
      "Test - crossentropy_loss: 0.670048  mae_loss: 0.081483  r2: 0.476307  accuracy: 0.008701\n",
      "\n",
      "--------------------\n",
      "\n",
      "EPOCH 24/70\n",
      "Train - crossentropy_loss: 0.676994  mae_loss:0.066683  r2: 0.504747  accuracy: 0.000000  [2293/2293]\n",
      "Train - crossentropy_loss: 0.668708  mae_loss: 0.080437  r2: 0.489365  accuracy: 0.009036  [Average]\n",
      "Test - crossentropy_loss: 0.670110  mae_loss: 0.081542  r2: 0.470543  accuracy: 0.008824\n",
      "\n",
      "--------------------\n",
      "\n",
      "EPOCH 25/70\n",
      "Train - crossentropy_loss: 0.675543  mae_loss:0.086471  r2: 0.451753  accuracy: 0.000000  [2293/2293]\n",
      "Train - crossentropy_loss: 0.668678  mae_loss: 0.080361  r2: 0.491104  accuracy: 0.009036  [Average]\n",
      "Test - crossentropy_loss: 0.670592  mae_loss: 0.082742  r2: 0.458468  accuracy: 0.009804\n",
      "\n",
      "--------------------\n",
      "\n",
      "EPOCH 26/70\n",
      "Train - crossentropy_loss: 0.668795  mae_loss:0.109865  r2: 0.323393  accuracy: 0.000000  [2293/2293]\n",
      "Train - crossentropy_loss: 0.668646  mae_loss: 0.080316  r2: 0.492150  accuracy: 0.009090  [Average]\n",
      "Test - crossentropy_loss: 0.670148  mae_loss: 0.081807  r2: 0.467001  accuracy: 0.009191\n",
      "\n",
      "--------------------\n",
      "\n",
      "EPOCH 27/70\n",
      "Train - crossentropy_loss: 0.676535  mae_loss:0.076139  r2: 0.446037  accuracy: 0.000000  [2293/2293]\n",
      "Train - crossentropy_loss: 0.668607  mae_loss: 0.080241  r2: 0.493416  accuracy: 0.008777  [Average]\n",
      "Test - crossentropy_loss: 0.670013  mae_loss: 0.081311  r2: 0.469387  accuracy: 0.009926\n",
      "\n",
      "--------------------\n",
      "\n",
      "EPOCH 28/70\n",
      "Train - crossentropy_loss: 0.672645  mae_loss:0.062709  r2: 0.613008  accuracy: 0.000000  [2293/2293]\n",
      "Train - crossentropy_loss: 0.668575  mae_loss: 0.080157  r2: 0.493651  accuracy: 0.008858  [Average]\n",
      "Test - crossentropy_loss: 0.670034  mae_loss: 0.081176  r2: 0.469330  accuracy: 0.008824\n",
      "\n",
      "--------------------\n",
      "\n",
      "EPOCH 29/70\n",
      "Train - crossentropy_loss: 0.667052  mae_loss:0.104665  r2: 0.349475  accuracy: 0.000000  [2293/2293]\n",
      "Train - crossentropy_loss: 0.668541  mae_loss: 0.080112  r2: 0.492974  accuracy: 0.009758  [Average]\n",
      "Test - crossentropy_loss: 0.670029  mae_loss: 0.081451  r2: 0.471389  accuracy: 0.010049\n",
      "\n",
      "--------------------\n",
      "\n",
      "EPOCH 30/70\n",
      "Train - crossentropy_loss: 0.664594  mae_loss:0.099120  r2: 0.448065  accuracy: 0.000000  [2293/2293]\n",
      "Train - crossentropy_loss: 0.668504  mae_loss: 0.080046  r2: 0.497143  accuracy: 0.009213  [Average]\n",
      "Test - crossentropy_loss: 0.670304  mae_loss: 0.082041  r2: 0.466198  accuracy: 0.009559\n",
      "\n",
      "--------------------\n",
      "\n",
      "EPOCH 31/70\n",
      "Train - crossentropy_loss: 0.679199  mae_loss:0.047250  r2: 0.643490  accuracy: 0.000000  [2293/2293]\n",
      "Train - crossentropy_loss: 0.668486  mae_loss: 0.080026  r2: 0.495007  accuracy: 0.009117  [Average]\n",
      "Test - crossentropy_loss: 0.670273  mae_loss: 0.081470  r2: 0.469920  accuracy: 0.009191\n",
      "\n",
      "--------------------\n",
      "\n",
      "EPOCH 32/70\n",
      "Train - crossentropy_loss: 0.640271  mae_loss:0.103551  r2: 0.565306  accuracy: 0.000000  [2293/2293]\n",
      "Train - crossentropy_loss: 0.668439  mae_loss: 0.079943  r2: 0.496712  accuracy: 0.009213  [Average]\n",
      "Test - crossentropy_loss: 0.670098  mae_loss: 0.081647  r2: 0.474306  accuracy: 0.010049\n",
      "\n",
      "--------------------\n",
      "\n",
      "EPOCH 33/70\n",
      "Train - crossentropy_loss: 0.677871  mae_loss:0.089565  r2: 0.387937  accuracy: 0.000000  [2293/2293]\n",
      "Train - crossentropy_loss: 0.668427  mae_loss: 0.079924  r2: 0.496519  accuracy: 0.008981  [Average]\n",
      "Test - crossentropy_loss: 0.669954  mae_loss: 0.081105  r2: 0.477080  accuracy: 0.009191\n",
      "\n",
      "--------------------\n",
      "\n",
      "EPOCH 34/70\n",
      "Train - crossentropy_loss: 0.685813  mae_loss:0.087017  r2: 0.225213  accuracy: 0.000000  [2293/2293]\n",
      "Train - crossentropy_loss: 0.668392  mae_loss: 0.079854  r2: 0.495875  accuracy: 0.009008  [Average]\n",
      "Test - crossentropy_loss: 0.669946  mae_loss: 0.081171  r2: 0.475024  accuracy: 0.009926\n",
      "\n",
      "--------------------\n",
      "\n",
      "EPOCH 35/70\n",
      "Train - crossentropy_loss: 0.666360  mae_loss:0.079018  r2: 0.556375  accuracy: 0.000000  [2293/2293]\n",
      "Train - crossentropy_loss: 0.668361  mae_loss: 0.079810  r2: 0.497743  accuracy: 0.008899  [Average]\n",
      "Test - crossentropy_loss: 0.669929  mae_loss: 0.081170  r2: 0.473768  accuracy: 0.008946\n",
      "\n",
      "--------------------\n",
      "\n",
      "EPOCH 36/70\n",
      "Train - crossentropy_loss: 0.681419  mae_loss:0.115873  r2: 0.219130  accuracy: 0.000000  [2293/2293]\n",
      "Train - crossentropy_loss: 0.668323  mae_loss: 0.079712  r2: 0.498898  accuracy: 0.009186  [Average]\n",
      "Test - crossentropy_loss: 0.670763  mae_loss: 0.083033  r2: 0.454814  accuracy: 0.010049\n",
      "\n",
      "--------------------\n",
      "\n",
      "EPOCH 37/70\n",
      "Train - crossentropy_loss: 0.669959  mae_loss:0.087545  r2: 0.414478  accuracy: 0.000000  [2293/2293]\n",
      "Train - crossentropy_loss: 0.668284  mae_loss: 0.079669  r2: 0.499794  accuracy: 0.009376  [Average]\n",
      "Test - crossentropy_loss: 0.669924  mae_loss: 0.081110  r2: 0.473681  accuracy: 0.009436\n",
      "\n",
      "--------------------\n",
      "\n",
      "EPOCH 38/70\n",
      "Train - crossentropy_loss: 0.671484  mae_loss:0.114344  r2: 0.354352  accuracy: 0.000000  [2293/2293]\n",
      "Train - crossentropy_loss: 0.668285  mae_loss: 0.079672  r2: 0.501457  accuracy: 0.009281  [Average]\n",
      "Test - crossentropy_loss: 0.669943  mae_loss: 0.081240  r2: 0.471564  accuracy: 0.008946\n",
      "\n",
      "--------------------\n",
      "\n",
      "EPOCH 39/70\n",
      "Train - crossentropy_loss: 0.657745  mae_loss:0.106233  r2: 0.478334  accuracy: 0.000000  [2293/2293]\n",
      "Train - crossentropy_loss: 0.668248  mae_loss: 0.079567  r2: 0.500345  accuracy: 0.009213  [Average]\n",
      "Test - crossentropy_loss: 0.670196  mae_loss: 0.081797  r2: 0.466231  accuracy: 0.008946\n",
      "\n",
      "--------------------\n",
      "\n",
      "EPOCH 40/70\n",
      "Train - crossentropy_loss: 0.676558  mae_loss:0.101863  r2: 0.254323  accuracy: 0.000000  [2293/2293]\n",
      "Train - crossentropy_loss: 0.668226  mae_loss: 0.079534  r2: 0.500416  accuracy: 0.009240  [Average]\n",
      "Test - crossentropy_loss: 0.670140  mae_loss: 0.081287  r2: 0.464219  accuracy: 0.008578\n",
      "\n",
      "--------------------\n",
      "\n",
      "EPOCH 41/70\n",
      "Train - crossentropy_loss: 0.668312  mae_loss:0.078568  r2: 0.507020  accuracy: 0.000000  [2293/2293]\n",
      "Train - crossentropy_loss: 0.668206  mae_loss: 0.079517  r2: 0.500998  accuracy: 0.009322  [Average]\n",
      "Test - crossentropy_loss: 0.669923  mae_loss: 0.081115  r2: 0.469693  accuracy: 0.009191\n",
      "\n",
      "--------------------\n",
      "\n",
      "EPOCH 42/70\n",
      "Train - crossentropy_loss: 0.673662  mae_loss:0.081439  r2: 0.492568  accuracy: 0.000000  [2293/2293]\n",
      "Train - crossentropy_loss: 0.668157  mae_loss: 0.079406  r2: 0.502676  accuracy: 0.009417  [Average]\n",
      "Test - crossentropy_loss: 0.669974  mae_loss: 0.081423  r2: 0.475880  accuracy: 0.009559\n",
      "\n",
      "--------------------\n",
      "\n",
      "EPOCH 43/70\n",
      "Train - crossentropy_loss: 0.653836  mae_loss:0.079087  r2: 0.601797  accuracy: 0.000000  [2293/2293]\n",
      "Train - crossentropy_loss: 0.668133  mae_loss: 0.079391  r2: 0.502241  accuracy: 0.009090  [Average]\n",
      "Test - crossentropy_loss: 0.669899  mae_loss: 0.080979  r2: 0.474257  accuracy: 0.008456\n",
      "\n",
      "--------------------\n",
      "\n",
      "EPOCH 44/70\n",
      "Train - crossentropy_loss: 0.685795  mae_loss:0.062120  r2: 0.344966  accuracy: 0.000000  [2293/2293]\n",
      "Train - crossentropy_loss: 0.668121  mae_loss: 0.079325  r2: 0.504260  accuracy: 0.009131  [Average]\n",
      "Test - crossentropy_loss: 0.669891  mae_loss: 0.081264  r2: 0.479614  accuracy: 0.009681\n",
      "\n",
      "--------------------\n",
      "\n",
      "EPOCH 45/70\n",
      "Train - crossentropy_loss: 0.673366  mae_loss:0.068666  r2: 0.442558  accuracy: 0.000000  [2293/2293]\n",
      "Train - crossentropy_loss: 0.668093  mae_loss: 0.079300  r2: 0.503403  accuracy: 0.009077  [Average]\n",
      "Test - crossentropy_loss: 0.669879  mae_loss: 0.081059  r2: 0.472187  accuracy: 0.009559\n",
      "\n",
      "--------------------\n",
      "\n",
      "EPOCH 46/70\n",
      "Train - crossentropy_loss: 0.674420  mae_loss:0.097363  r2: 0.400096  accuracy: 0.000000  [2293/2293]\n",
      "Train - crossentropy_loss: 0.668072  mae_loss: 0.079248  r2: 0.504666  accuracy: 0.008913  [Average]\n",
      "Test - crossentropy_loss: 0.669888  mae_loss: 0.081117  r2: 0.472573  accuracy: 0.009681\n",
      "\n",
      "--------------------\n",
      "\n",
      "EPOCH 47/70\n",
      "Train - crossentropy_loss: 0.676498  mae_loss:0.095743  r2: 0.122488  accuracy: 0.000000  [2293/2293]\n",
      "Train - crossentropy_loss: 0.668031  mae_loss: 0.079168  r2: 0.506009  accuracy: 0.009131  [Average]\n",
      "Test - crossentropy_loss: 0.669875  mae_loss: 0.081010  r2: 0.482151  accuracy: 0.009804\n",
      "\n",
      "--------------------\n",
      "\n",
      "EPOCH 48/70\n",
      "Train - crossentropy_loss: 0.662528  mae_loss:0.081108  r2: -0.023493  accuracy: 0.000000  [2293/2293]\n",
      "Train - crossentropy_loss: 0.668019  mae_loss: 0.079161  r2: 0.505574  accuracy: 0.008818  [Average]\n",
      "Test - crossentropy_loss: 0.669921  mae_loss: 0.081170  r2: 0.473990  accuracy: 0.008824\n",
      "\n",
      "--------------------\n",
      "\n",
      "EPOCH 49/70\n",
      "Train - crossentropy_loss: 0.667675  mae_loss:0.106759  r2: 0.416185  accuracy: 0.000000  [2293/2293]\n",
      "Train - crossentropy_loss: 0.667990  mae_loss: 0.079116  r2: 0.505743  accuracy: 0.008858  [Average]\n",
      "Test - crossentropy_loss: 0.669969  mae_loss: 0.081332  r2: 0.470797  accuracy: 0.010907\n",
      "\n",
      "--------------------\n",
      "\n",
      "EPOCH 50/70\n",
      "Train - crossentropy_loss: 0.669333  mae_loss:0.068318  r2: 0.571557  accuracy: 0.000000  [2293/2293]\n",
      "Train - crossentropy_loss: 0.667983  mae_loss: 0.079095  r2: 0.506005  accuracy: 0.008995  [Average]\n",
      "Test - crossentropy_loss: 0.669827  mae_loss: 0.081006  r2: 0.476811  accuracy: 0.009436\n",
      "\n",
      "--------------------\n",
      "\n",
      "EPOCH 51/70\n",
      "Train - crossentropy_loss: 0.653030  mae_loss:0.077971  r2: 0.671117  accuracy: 0.000000  [2293/2293]\n",
      "Train - crossentropy_loss: 0.667939  mae_loss: 0.079031  r2: 0.507880  accuracy: 0.008858  [Average]\n",
      "Test - crossentropy_loss: 0.669784  mae_loss: 0.081013  r2: 0.473209  accuracy: 0.009804\n",
      "\n",
      "--------------------\n",
      "\n",
      "EPOCH 52/70\n",
      "Train - crossentropy_loss: 0.670350  mae_loss:0.063409  r2: 0.655787  accuracy: 0.000000  [2293/2293]\n",
      "Train - crossentropy_loss: 0.667923  mae_loss: 0.079004  r2: 0.507737  accuracy: 0.009349  [Average]\n",
      "Test - crossentropy_loss: 0.669899  mae_loss: 0.080949  r2: 0.471797  accuracy: 0.008946\n",
      "\n",
      "--------------------\n",
      "\n",
      "EPOCH 53/70\n",
      "Train - crossentropy_loss: 0.664206  mae_loss:0.050259  r2: 0.772024  accuracy: 0.000000  [2293/2293]\n",
      "Train - crossentropy_loss: 0.667918  mae_loss: 0.078998  r2: 0.505859  accuracy: 0.008804  [Average]\n",
      "Test - crossentropy_loss: 0.670040  mae_loss: 0.081516  r2: 0.472928  accuracy: 0.009436\n",
      "\n",
      "--------------------\n",
      "\n",
      "EPOCH 54/70\n",
      "Train - crossentropy_loss: 0.663836  mae_loss:0.075757  r2: 0.625611  accuracy: 0.000000  [2293/2293]\n",
      "Train - crossentropy_loss: 0.667887  mae_loss: 0.078923  r2: 0.509517  accuracy: 0.008804  [Average]\n",
      "Test - crossentropy_loss: 0.670226  mae_loss: 0.081398  r2: 0.466857  accuracy: 0.008211\n",
      "\n",
      "--------------------\n",
      "\n",
      "EPOCH 55/70\n",
      "Train - crossentropy_loss: 0.668605  mae_loss:0.091959  r2: 0.466544  accuracy: 0.000000  [2293/2293]\n",
      "Train - crossentropy_loss: 0.667878  mae_loss: 0.078914  r2: 0.509374  accuracy: 0.008872  [Average]\n",
      "Test - crossentropy_loss: 0.669839  mae_loss: 0.080941  r2: 0.476127  accuracy: 0.009191\n",
      "\n",
      "--------------------\n",
      "\n",
      "EPOCH 56/70\n",
      "Train - crossentropy_loss: 0.669510  mae_loss:0.099105  r2: 0.436136  accuracy: 0.000000  [2293/2293]\n",
      "Train - crossentropy_loss: 0.667854  mae_loss: 0.078884  r2: 0.508558  accuracy: 0.008913  [Average]\n",
      "Test - crossentropy_loss: 0.669848  mae_loss: 0.081080  r2: 0.476221  accuracy: 0.010294\n",
      "\n",
      "--------------------\n",
      "\n",
      "EPOCH 57/70\n",
      "Train - crossentropy_loss: 0.668275  mae_loss:0.078018  r2: 0.517899  accuracy: 0.000000  [2293/2293]\n",
      "Train - crossentropy_loss: 0.667820  mae_loss: 0.078795  r2: 0.510753  accuracy: 0.009022  [Average]\n",
      "Test - crossentropy_loss: 0.669769  mae_loss: 0.080987  r2: 0.474200  accuracy: 0.009804\n",
      "\n",
      "--------------------\n",
      "\n",
      "EPOCH 58/70\n",
      "Train - crossentropy_loss: 0.667818  mae_loss:0.119226  r2: 0.202297  accuracy: 0.000000  [2293/2293]\n",
      "Train - crossentropy_loss: 0.667814  mae_loss: 0.078802  r2: 0.511824  accuracy: 0.009213  [Average]\n",
      "Test - crossentropy_loss: 0.669845  mae_loss: 0.081057  r2: 0.473951  accuracy: 0.009191\n",
      "\n",
      "--------------------\n",
      "\n",
      "EPOCH 59/70\n",
      "Train - crossentropy_loss: 0.668490  mae_loss:0.070300  r2: 0.618847  accuracy: 0.000000  [2293/2293]\n",
      "Train - crossentropy_loss: 0.667790  mae_loss: 0.078741  r2: 0.511321  accuracy: 0.009485  [Average]\n",
      "Test - crossentropy_loss: 0.670066  mae_loss: 0.081494  r2: 0.464926  accuracy: 0.009681\n",
      "\n",
      "--------------------\n",
      "\n",
      "EPOCH 60/70\n",
      "Train - crossentropy_loss: 0.678341  mae_loss:0.093110  r2: 0.328721  accuracy: 0.000000  [2293/2293]\n",
      "Train - crossentropy_loss: 0.667761  mae_loss: 0.078704  r2: 0.509657  accuracy: 0.008818  [Average]\n",
      "Test - crossentropy_loss: 0.669910  mae_loss: 0.081013  r2: 0.478990  accuracy: 0.008211\n",
      "\n",
      "--------------------\n",
      "\n",
      "EPOCH 61/70\n",
      "Train - crossentropy_loss: 0.686482  mae_loss:0.094652  r2: 0.202178  accuracy: 0.000000  [2293/2293]\n",
      "Train - crossentropy_loss: 0.667749  mae_loss: 0.078709  r2: 0.512034  accuracy: 0.008790  [Average]\n",
      "Test - crossentropy_loss: 0.669838  mae_loss: 0.081003  r2: 0.481147  accuracy: 0.009191\n",
      "\n",
      "--------------------\n",
      "\n",
      "EPOCH 62/70\n",
      "Train - crossentropy_loss: 0.671528  mae_loss:0.093032  r2: 0.434491  accuracy: 0.000000  [2293/2293]\n",
      "Train - crossentropy_loss: 0.667724  mae_loss: 0.078613  r2: 0.512659  accuracy: 0.008995  [Average]\n",
      "Test - crossentropy_loss: 0.669819  mae_loss: 0.080876  r2: 0.480176  accuracy: 0.007966\n",
      "\n",
      "--------------------\n",
      "\n",
      "EPOCH 63/70\n",
      "Train - crossentropy_loss: 0.673452  mae_loss:0.071705  r2: 0.587400  accuracy: 0.000000  [2293/2293]\n",
      "Train - crossentropy_loss: 0.667703  mae_loss: 0.078589  r2: 0.512960  accuracy: 0.009063  [Average]\n",
      "Test - crossentropy_loss: 0.669795  mae_loss: 0.080860  r2: 0.476144  accuracy: 0.008456\n",
      "\n",
      "--------------------\n",
      "\n",
      "EPOCH 64/70\n",
      "Train - crossentropy_loss: 0.667782  mae_loss:0.096984  r2: 0.476201  accuracy: 0.000000  [2293/2293]\n",
      "Train - crossentropy_loss: 0.667678  mae_loss: 0.078568  r2: 0.513497  accuracy: 0.009063  [Average]\n",
      "Test - crossentropy_loss: 0.669861  mae_loss: 0.081202  r2: 0.475934  accuracy: 0.009804\n",
      "\n",
      "--------------------\n",
      "\n",
      "EPOCH 65/70\n",
      "Train - crossentropy_loss: 0.655452  mae_loss:0.079142  r2: 0.212748  accuracy: 0.000000  [2293/2293]\n",
      "Train - crossentropy_loss: 0.667670  mae_loss: 0.078545  r2: 0.512505  accuracy: 0.009240  [Average]\n",
      "Test - crossentropy_loss: 0.670095  mae_loss: 0.081689  r2: 0.472793  accuracy: 0.010417\n",
      "\n",
      "--------------------\n",
      "\n",
      "EPOCH 66/70\n",
      "Train - crossentropy_loss: 0.668679  mae_loss:0.084752  r2: 0.496336  accuracy: 0.000000  [2293/2293]\n",
      "Train - crossentropy_loss: 0.667651  mae_loss: 0.078500  r2: 0.513617  accuracy: 0.008790  [Average]\n",
      "Test - crossentropy_loss: 0.669894  mae_loss: 0.081263  r2: 0.478973  accuracy: 0.010049\n",
      "\n",
      "--------------------\n",
      "\n",
      "EPOCH 67/70\n",
      "Train - crossentropy_loss: 0.671054  mae_loss:0.064698  r2: 0.535941  accuracy: 0.000000  [2293/2293]\n",
      "Train - crossentropy_loss: 0.667621  mae_loss: 0.078445  r2: 0.514744  accuracy: 0.009226  [Average]\n",
      "Test - crossentropy_loss: 0.669964  mae_loss: 0.081120  r2: 0.474285  accuracy: 0.009191\n",
      "\n",
      "--------------------\n",
      "\n",
      "EPOCH 68/70\n",
      "Train - crossentropy_loss: 0.672233  mae_loss:0.082367  r2: 0.482458  accuracy: 0.000000  [2293/2293]\n",
      "Train - crossentropy_loss: 0.667633  mae_loss: 0.078471  r2: 0.512447  accuracy: 0.009417  [Average]\n",
      "Test - crossentropy_loss: 0.669819  mae_loss: 0.081039  r2: 0.475574  accuracy: 0.008578\n",
      "\n",
      "--------------------\n",
      "\n",
      "EPOCH 69/70\n",
      "Train - crossentropy_loss: 0.628105  mae_loss:0.066964  r2: 0.798888  accuracy: 0.000000  [2293/2293]\n",
      "Train - crossentropy_loss: 0.667564  mae_loss: 0.078366  r2: 0.517170  accuracy: 0.009172  [Average]\n",
      "Test - crossentropy_loss: 0.669804  mae_loss: 0.081125  r2: 0.479214  accuracy: 0.009559\n",
      "\n",
      "--------------------\n",
      "\n",
      "EPOCH 70/70\n",
      "Train - crossentropy_loss: 0.695980  mae_loss:0.069903  r2: -0.177678  accuracy: 0.000000  [2293/2293]\n",
      "Train - crossentropy_loss: 0.667569  mae_loss: 0.078364  r2: 0.515868  accuracy: 0.009063  [Average]\n",
      "Test - crossentropy_loss: 0.670042  mae_loss: 0.081375  r2: 0.469750  accuracy: 0.010662\n",
      "\n",
      "--------------------\n",
      "\n"
     ]
    }
   ],
   "metadata": {}
  },
  {
   "cell_type": "code",
   "execution_count": 12,
   "source": [
    "px.line(pd.DataFrame(history[\"train\"]))"
   ],
   "outputs": [
    {
     "output_type": "display_data",
     "data": {
      "application/vnd.plotly.v1+json": {
       "data": [
        {
         "hovertemplate": "variable=epochs<br>index=%{x}<br>value=%{y}<extra></extra>",
         "legendgroup": "epochs",
         "line": {
          "color": "#636efa",
          "dash": "solid"
         },
         "marker": {
          "symbol": "circle"
         },
         "mode": "lines",
         "name": "epochs",
         "orientation": "v",
         "showlegend": true,
         "x": [
          0,
          1,
          2,
          3,
          4,
          5,
          6,
          7,
          8,
          9,
          10,
          11,
          12,
          13,
          14,
          15,
          16,
          17,
          18,
          19,
          20,
          21,
          22,
          23,
          24,
          25,
          26,
          27,
          28,
          29,
          30,
          31,
          32,
          33,
          34,
          35,
          36,
          37,
          38,
          39,
          40,
          41,
          42,
          43,
          44,
          45,
          46,
          47,
          48,
          49,
          50,
          51,
          52,
          53,
          54,
          55,
          56,
          57,
          58,
          59,
          60,
          61,
          62,
          63,
          64,
          65,
          66,
          67,
          68,
          69
         ],
         "xaxis": "x",
         "y": [
          1,
          2,
          3,
          4,
          5,
          6,
          7,
          8,
          9,
          10,
          11,
          12,
          13,
          14,
          15,
          16,
          17,
          18,
          19,
          20,
          21,
          22,
          23,
          24,
          25,
          26,
          27,
          28,
          29,
          30,
          31,
          32,
          33,
          34,
          35,
          36,
          37,
          38,
          39,
          40,
          41,
          42,
          43,
          44,
          45,
          46,
          47,
          48,
          49,
          50,
          51,
          52,
          53,
          54,
          55,
          56,
          57,
          58,
          59,
          60,
          61,
          62,
          63,
          64,
          65,
          66,
          67,
          68,
          69,
          70
         ],
         "yaxis": "y",
         "type": "scatter"
        },
        {
         "hovertemplate": "variable=crossentropy_loss<br>index=%{x}<br>value=%{y}<extra></extra>",
         "legendgroup": "crossentropy_loss",
         "line": {
          "color": "#EF553B",
          "dash": "solid"
         },
         "marker": {
          "symbol": "circle"
         },
         "mode": "lines",
         "name": "crossentropy_loss",
         "orientation": "v",
         "showlegend": true,
         "x": [
          0,
          1,
          2,
          3,
          4,
          5,
          6,
          7,
          8,
          9,
          10,
          11,
          12,
          13,
          14,
          15,
          16,
          17,
          18,
          19,
          20,
          21,
          22,
          23,
          24,
          25,
          26,
          27,
          28,
          29,
          30,
          31,
          32,
          33,
          34,
          35,
          36,
          37,
          38,
          39,
          40,
          41,
          42,
          43,
          44,
          45,
          46,
          47,
          48,
          49,
          50,
          51,
          52,
          53,
          54,
          55,
          56,
          57,
          58,
          59,
          60,
          61,
          62,
          63,
          64,
          65,
          66,
          67,
          68,
          69
         ],
         "xaxis": "x",
         "y": [
          0.6804131808834101,
          0.6717842522532567,
          0.6706593890040398,
          0.6702499993493138,
          0.6700460072225013,
          0.6698918413034548,
          0.669763425864666,
          0.6696547677929725,
          0.6695564903653557,
          0.6694764218057965,
          0.6693825057329593,
          0.6693104809410854,
          0.6692375530335667,
          0.6691748501949835,
          0.6691072745922086,
          0.6690580414675543,
          0.6690225071175048,
          0.6689687484588573,
          0.6689198049093198,
          0.6688639421261298,
          0.6688275171116456,
          0.6687879359103476,
          0.6687586043164868,
          0.6687077981282986,
          0.6686775293924171,
          0.6686458799758958,
          0.6686071898029509,
          0.6685751110926186,
          0.6685409763989572,
          0.6685038119801464,
          0.668486350600604,
          0.6684388231097794,
          0.6684269453051618,
          0.6683919855823591,
          0.668360999615183,
          0.6683226831864957,
          0.6682836898434802,
          0.6682849257365616,
          0.6682476197274761,
          0.6682263199179858,
          0.668205855275365,
          0.6681568572680294,
          0.6681332157472311,
          0.6681205785487658,
          0.668092809516792,
          0.668071844226348,
          0.668030816475169,
          0.6680191443624633,
          0.6679902174459292,
          0.6679834290149687,
          0.6679390563592608,
          0.6679232031093951,
          0.6679178269939864,
          0.6678870391804113,
          0.6678784954407514,
          0.6678535107489085,
          0.6678195174635626,
          0.6678137686436633,
          0.6677896821285718,
          0.6677612115917796,
          0.6677487274210265,
          0.6677242911283074,
          0.6677030308299641,
          0.6676782129947348,
          0.6676698731793829,
          0.6676514222275676,
          0.6676213414555702,
          0.6676334427061218,
          0.6675637477722118,
          0.6675686775936188
         ],
         "yaxis": "y",
         "type": "scatter"
        },
        {
         "hovertemplate": "variable=r2<br>index=%{x}<br>value=%{y}<extra></extra>",
         "legendgroup": "r2",
         "line": {
          "color": "#00cc96",
          "dash": "solid"
         },
         "marker": {
          "symbol": "circle"
         },
         "mode": "lines",
         "name": "r2",
         "orientation": "v",
         "showlegend": true,
         "x": [
          0,
          1,
          2,
          3,
          4,
          5,
          6,
          7,
          8,
          9,
          10,
          11,
          12,
          13,
          14,
          15,
          16,
          17,
          18,
          19,
          20,
          21,
          22,
          23,
          24,
          25,
          26,
          27,
          28,
          29,
          30,
          31,
          32,
          33,
          34,
          35,
          36,
          37,
          38,
          39,
          40,
          41,
          42,
          43,
          44,
          45,
          46,
          47,
          48,
          49,
          50,
          51,
          52,
          53,
          54,
          55,
          56,
          57,
          58,
          59,
          60,
          61,
          62,
          63,
          64,
          65,
          66,
          67,
          68,
          69
         ],
         "xaxis": "x",
         "y": [
          0.22741932544939691,
          0.42324189848087385,
          0.44713021068518094,
          0.4556405277924923,
          0.45978315960324506,
          0.4628595026260554,
          0.46761662735828635,
          0.4692585131305259,
          0.4711101227140967,
          0.473020516228448,
          0.4768198406606971,
          0.47614435068763655,
          0.47672923199754597,
          0.4805302537469677,
          0.48085349322736076,
          0.4816126047217934,
          0.48354552775923465,
          0.48512454191195925,
          0.48511136729004023,
          0.48771806274390234,
          0.48890519166283614,
          0.4885462293634941,
          0.4878513897782483,
          0.48936543595852694,
          0.49110404970449817,
          0.49215023234836897,
          0.49341586473386184,
          0.4936508147332019,
          0.4929737867225104,
          0.49714287918562394,
          0.49500736530817335,
          0.49671206352991804,
          0.4965187328003602,
          0.49587462327236226,
          0.4977432506343133,
          0.49889817193245206,
          0.49979417546496185,
          0.5014574923823547,
          0.5003451167146422,
          0.5004157807853664,
          0.5009981566528718,
          0.5026761328629621,
          0.5022410579401563,
          0.5042595336244434,
          0.5034028550836861,
          0.504665705630423,
          0.5060089146101535,
          0.5055735993982675,
          0.5057432616738564,
          0.5060047178522069,
          0.5078800362433177,
          0.5077374959362511,
          0.5058590309950518,
          0.5095171079973454,
          0.5093744185241759,
          0.5085575544453143,
          0.5107529631611033,
          0.511823579826323,
          0.5113214650934412,
          0.5096565459624022,
          0.5120338656926143,
          0.5126594694483029,
          0.5129600916246161,
          0.5134967675990404,
          0.5125050105449177,
          0.5136172196923587,
          0.5147440918502708,
          0.5124474432765719,
          0.5171698997870134,
          0.5158681938472397
         ],
         "yaxis": "y",
         "type": "scatter"
        },
        {
         "hovertemplate": "variable=mae_loss<br>index=%{x}<br>value=%{y}<extra></extra>",
         "legendgroup": "mae_loss",
         "line": {
          "color": "#ab63fa",
          "dash": "solid"
         },
         "marker": {
          "symbol": "circle"
         },
         "mode": "lines",
         "name": "mae_loss",
         "orientation": "v",
         "showlegend": true,
         "x": [
          0,
          1,
          2,
          3,
          4,
          5,
          6,
          7,
          8,
          9,
          10,
          11,
          12,
          13,
          14,
          15,
          16,
          17,
          18,
          19,
          20,
          21,
          22,
          23,
          24,
          25,
          26,
          27,
          28,
          29,
          30,
          31,
          32,
          33,
          34,
          35,
          36,
          37,
          38,
          39,
          40,
          41,
          42,
          43,
          44,
          45,
          46,
          47,
          48,
          49,
          50,
          51,
          52,
          53,
          54,
          55,
          56,
          57,
          58,
          59,
          60,
          61,
          62,
          63,
          64,
          65,
          66,
          67,
          68,
          69
         ],
         "xaxis": "x",
         "y": [
          0.10110682881702464,
          0.086100721006382,
          0.08406165046913885,
          0.08325355644412973,
          0.08290754187798531,
          0.08261821228918216,
          0.08238245535282863,
          0.08218855097097078,
          0.08198485812322573,
          0.08185184117596689,
          0.08168356098003955,
          0.08153822649769059,
          0.0814159517556208,
          0.08129741556737759,
          0.0811757890924298,
          0.08109671549893496,
          0.0809750335784105,
          0.08086245792775346,
          0.08081770924842363,
          0.08072752904064054,
          0.08065579907633152,
          0.08057210909270117,
          0.08053201778332479,
          0.08043702486926844,
          0.08036143714021866,
          0.08031631763610214,
          0.0802408135644328,
          0.08015653590285461,
          0.08011213767212705,
          0.08004589215882782,
          0.08002589079902726,
          0.07994304774300635,
          0.0799243474371871,
          0.07985447914324574,
          0.07980979964578978,
          0.07971154173817428,
          0.07966938763012077,
          0.07967173772942432,
          0.07956652136944393,
          0.07953388070889919,
          0.07951688475832115,
          0.07940555409708243,
          0.0793912781916666,
          0.07932535349036011,
          0.07929996507322741,
          0.07924791617173584,
          0.0791680656984364,
          0.07916108713632736,
          0.07911551706866567,
          0.0790947027848867,
          0.07903081436819819,
          0.07900383159992636,
          0.07899801979289012,
          0.07892296983134627,
          0.0789141233229008,
          0.07888365224348215,
          0.07879537083549734,
          0.07880180303252685,
          0.07874063762271191,
          0.07870407255485855,
          0.07870897785563476,
          0.07861284387687435,
          0.07858871555177603,
          0.07856773744295427,
          0.07854452113325659,
          0.07850001028763691,
          0.0784451798371389,
          0.07847121831011783,
          0.07836591416293234,
          0.07836400516366938
         ],
         "yaxis": "y",
         "type": "scatter"
        },
        {
         "hovertemplate": "variable=accuracy<br>index=%{x}<br>value=%{y}<extra></extra>",
         "legendgroup": "accuracy",
         "line": {
          "color": "#FFA15A",
          "dash": "solid"
         },
         "marker": {
          "symbol": "circle"
         },
         "mode": "lines",
         "name": "accuracy",
         "orientation": "v",
         "showlegend": true,
         "x": [
          0,
          1,
          2,
          3,
          4,
          5,
          6,
          7,
          8,
          9,
          10,
          11,
          12,
          13,
          14,
          15,
          16,
          17,
          18,
          19,
          20,
          21,
          22,
          23,
          24,
          25,
          26,
          27,
          28,
          29,
          30,
          31,
          32,
          33,
          34,
          35,
          36,
          37,
          38,
          39,
          40,
          41,
          42,
          43,
          44,
          45,
          46,
          47,
          48,
          49,
          50,
          51,
          52,
          53,
          54,
          55,
          56,
          57,
          58,
          59,
          60,
          61,
          62,
          63,
          64,
          65,
          66,
          67,
          68,
          69
         ],
         "xaxis": "x",
         "y": [
          0.010330353249018752,
          0.009403619712167466,
          0.009389991277802006,
          0.009335477540340165,
          0.008912996075010903,
          0.009240078499781946,
          0.009335477540340165,
          0.008899367640645443,
          0.009090165721761884,
          0.009022023549934583,
          0.009171936327954645,
          0.008981138246838204,
          0.008381487134757958,
          0.009335477540340165,
          0.009062908853030963,
          0.009062908853030963,
          0.008926624509376363,
          0.009171936327954645,
          0.009199193196685565,
          0.009226450065416485,
          0.008790340165721762,
          0.008899367640645443,
          0.008940252943741823,
          0.009035651984300043,
          0.009035651984300043,
          0.009090165721761884,
          0.008776711731356301,
          0.008858482337549062,
          0.009757959005669429,
          0.009212821631051025,
          0.009117422590492804,
          0.009212821631051025,
          0.008981138246838204,
          0.009008395115569123,
          0.008899367640645443,
          0.009185564762320105,
          0.009376362843436545,
          0.009280963802878326,
          0.009212821631051025,
          0.009240078499781946,
          0.009321849105974705,
          0.009417248146532926,
          0.009090165721761884,
          0.009131051024858264,
          0.009076537287396423,
          0.008912996075010903,
          0.009131051024858264,
          0.008817597034452682,
          0.008858482337549062,
          0.008994766681203664,
          0.008858482337549062,
          0.009349105974705625,
          0.008803968600087222,
          0.008803968600087222,
          0.008872110771914523,
          0.008912996075010903,
          0.009022023549934583,
          0.009212821631051025,
          0.009485390318360227,
          0.008817597034452682,
          0.008790340165721762,
          0.008994766681203664,
          0.009062908853030963,
          0.009062908853030963,
          0.009240078499781946,
          0.008790340165721762,
          0.009226450065416485,
          0.009417248146532926,
          0.009171936327954645,
          0.009062908853030963
         ],
         "yaxis": "y",
         "type": "scatter"
        }
       ],
       "layout": {
        "template": {
         "data": {
          "histogram2dcontour": [
           {
            "type": "histogram2dcontour",
            "colorbar": {
             "outlinewidth": 0,
             "ticks": ""
            },
            "colorscale": [
             [
              0,
              "#0d0887"
             ],
             [
              0.1111111111111111,
              "#46039f"
             ],
             [
              0.2222222222222222,
              "#7201a8"
             ],
             [
              0.3333333333333333,
              "#9c179e"
             ],
             [
              0.4444444444444444,
              "#bd3786"
             ],
             [
              0.5555555555555556,
              "#d8576b"
             ],
             [
              0.6666666666666666,
              "#ed7953"
             ],
             [
              0.7777777777777778,
              "#fb9f3a"
             ],
             [
              0.8888888888888888,
              "#fdca26"
             ],
             [
              1,
              "#f0f921"
             ]
            ]
           }
          ],
          "choropleth": [
           {
            "type": "choropleth",
            "colorbar": {
             "outlinewidth": 0,
             "ticks": ""
            }
           }
          ],
          "histogram2d": [
           {
            "type": "histogram2d",
            "colorbar": {
             "outlinewidth": 0,
             "ticks": ""
            },
            "colorscale": [
             [
              0,
              "#0d0887"
             ],
             [
              0.1111111111111111,
              "#46039f"
             ],
             [
              0.2222222222222222,
              "#7201a8"
             ],
             [
              0.3333333333333333,
              "#9c179e"
             ],
             [
              0.4444444444444444,
              "#bd3786"
             ],
             [
              0.5555555555555556,
              "#d8576b"
             ],
             [
              0.6666666666666666,
              "#ed7953"
             ],
             [
              0.7777777777777778,
              "#fb9f3a"
             ],
             [
              0.8888888888888888,
              "#fdca26"
             ],
             [
              1,
              "#f0f921"
             ]
            ]
           }
          ],
          "heatmap": [
           {
            "type": "heatmap",
            "colorbar": {
             "outlinewidth": 0,
             "ticks": ""
            },
            "colorscale": [
             [
              0,
              "#0d0887"
             ],
             [
              0.1111111111111111,
              "#46039f"
             ],
             [
              0.2222222222222222,
              "#7201a8"
             ],
             [
              0.3333333333333333,
              "#9c179e"
             ],
             [
              0.4444444444444444,
              "#bd3786"
             ],
             [
              0.5555555555555556,
              "#d8576b"
             ],
             [
              0.6666666666666666,
              "#ed7953"
             ],
             [
              0.7777777777777778,
              "#fb9f3a"
             ],
             [
              0.8888888888888888,
              "#fdca26"
             ],
             [
              1,
              "#f0f921"
             ]
            ]
           }
          ],
          "heatmapgl": [
           {
            "type": "heatmapgl",
            "colorbar": {
             "outlinewidth": 0,
             "ticks": ""
            },
            "colorscale": [
             [
              0,
              "#0d0887"
             ],
             [
              0.1111111111111111,
              "#46039f"
             ],
             [
              0.2222222222222222,
              "#7201a8"
             ],
             [
              0.3333333333333333,
              "#9c179e"
             ],
             [
              0.4444444444444444,
              "#bd3786"
             ],
             [
              0.5555555555555556,
              "#d8576b"
             ],
             [
              0.6666666666666666,
              "#ed7953"
             ],
             [
              0.7777777777777778,
              "#fb9f3a"
             ],
             [
              0.8888888888888888,
              "#fdca26"
             ],
             [
              1,
              "#f0f921"
             ]
            ]
           }
          ],
          "contourcarpet": [
           {
            "type": "contourcarpet",
            "colorbar": {
             "outlinewidth": 0,
             "ticks": ""
            }
           }
          ],
          "contour": [
           {
            "type": "contour",
            "colorbar": {
             "outlinewidth": 0,
             "ticks": ""
            },
            "colorscale": [
             [
              0,
              "#0d0887"
             ],
             [
              0.1111111111111111,
              "#46039f"
             ],
             [
              0.2222222222222222,
              "#7201a8"
             ],
             [
              0.3333333333333333,
              "#9c179e"
             ],
             [
              0.4444444444444444,
              "#bd3786"
             ],
             [
              0.5555555555555556,
              "#d8576b"
             ],
             [
              0.6666666666666666,
              "#ed7953"
             ],
             [
              0.7777777777777778,
              "#fb9f3a"
             ],
             [
              0.8888888888888888,
              "#fdca26"
             ],
             [
              1,
              "#f0f921"
             ]
            ]
           }
          ],
          "surface": [
           {
            "type": "surface",
            "colorbar": {
             "outlinewidth": 0,
             "ticks": ""
            },
            "colorscale": [
             [
              0,
              "#0d0887"
             ],
             [
              0.1111111111111111,
              "#46039f"
             ],
             [
              0.2222222222222222,
              "#7201a8"
             ],
             [
              0.3333333333333333,
              "#9c179e"
             ],
             [
              0.4444444444444444,
              "#bd3786"
             ],
             [
              0.5555555555555556,
              "#d8576b"
             ],
             [
              0.6666666666666666,
              "#ed7953"
             ],
             [
              0.7777777777777778,
              "#fb9f3a"
             ],
             [
              0.8888888888888888,
              "#fdca26"
             ],
             [
              1,
              "#f0f921"
             ]
            ]
           }
          ],
          "mesh3d": [
           {
            "type": "mesh3d",
            "colorbar": {
             "outlinewidth": 0,
             "ticks": ""
            }
           }
          ],
          "scatter": [
           {
            "fillpattern": {
             "fillmode": "overlay",
             "size": 10,
             "solidity": 0.2
            },
            "type": "scatter"
           }
          ],
          "parcoords": [
           {
            "type": "parcoords",
            "line": {
             "colorbar": {
              "outlinewidth": 0,
              "ticks": ""
             }
            }
           }
          ],
          "scatterpolargl": [
           {
            "type": "scatterpolargl",
            "marker": {
             "colorbar": {
              "outlinewidth": 0,
              "ticks": ""
             }
            }
           }
          ],
          "bar": [
           {
            "error_x": {
             "color": "#2a3f5f"
            },
            "error_y": {
             "color": "#2a3f5f"
            },
            "marker": {
             "line": {
              "color": "#E5ECF6",
              "width": 0.5
             },
             "pattern": {
              "fillmode": "overlay",
              "size": 10,
              "solidity": 0.2
             }
            },
            "type": "bar"
           }
          ],
          "scattergeo": [
           {
            "type": "scattergeo",
            "marker": {
             "colorbar": {
              "outlinewidth": 0,
              "ticks": ""
             }
            }
           }
          ],
          "scatterpolar": [
           {
            "type": "scatterpolar",
            "marker": {
             "colorbar": {
              "outlinewidth": 0,
              "ticks": ""
             }
            }
           }
          ],
          "histogram": [
           {
            "marker": {
             "pattern": {
              "fillmode": "overlay",
              "size": 10,
              "solidity": 0.2
             }
            },
            "type": "histogram"
           }
          ],
          "scattergl": [
           {
            "type": "scattergl",
            "marker": {
             "colorbar": {
              "outlinewidth": 0,
              "ticks": ""
             }
            }
           }
          ],
          "scatter3d": [
           {
            "type": "scatter3d",
            "line": {
             "colorbar": {
              "outlinewidth": 0,
              "ticks": ""
             }
            },
            "marker": {
             "colorbar": {
              "outlinewidth": 0,
              "ticks": ""
             }
            }
           }
          ],
          "scattermapbox": [
           {
            "type": "scattermapbox",
            "marker": {
             "colorbar": {
              "outlinewidth": 0,
              "ticks": ""
             }
            }
           }
          ],
          "scatterternary": [
           {
            "type": "scatterternary",
            "marker": {
             "colorbar": {
              "outlinewidth": 0,
              "ticks": ""
             }
            }
           }
          ],
          "scattercarpet": [
           {
            "type": "scattercarpet",
            "marker": {
             "colorbar": {
              "outlinewidth": 0,
              "ticks": ""
             }
            }
           }
          ],
          "carpet": [
           {
            "aaxis": {
             "endlinecolor": "#2a3f5f",
             "gridcolor": "white",
             "linecolor": "white",
             "minorgridcolor": "white",
             "startlinecolor": "#2a3f5f"
            },
            "baxis": {
             "endlinecolor": "#2a3f5f",
             "gridcolor": "white",
             "linecolor": "white",
             "minorgridcolor": "white",
             "startlinecolor": "#2a3f5f"
            },
            "type": "carpet"
           }
          ],
          "table": [
           {
            "cells": {
             "fill": {
              "color": "#EBF0F8"
             },
             "line": {
              "color": "white"
             }
            },
            "header": {
             "fill": {
              "color": "#C8D4E3"
             },
             "line": {
              "color": "white"
             }
            },
            "type": "table"
           }
          ],
          "barpolar": [
           {
            "marker": {
             "line": {
              "color": "#E5ECF6",
              "width": 0.5
             },
             "pattern": {
              "fillmode": "overlay",
              "size": 10,
              "solidity": 0.2
             }
            },
            "type": "barpolar"
           }
          ],
          "pie": [
           {
            "automargin": true,
            "type": "pie"
           }
          ]
         },
         "layout": {
          "autotypenumbers": "strict",
          "colorway": [
           "#636efa",
           "#EF553B",
           "#00cc96",
           "#ab63fa",
           "#FFA15A",
           "#19d3f3",
           "#FF6692",
           "#B6E880",
           "#FF97FF",
           "#FECB52"
          ],
          "font": {
           "color": "#2a3f5f"
          },
          "hovermode": "closest",
          "hoverlabel": {
           "align": "left"
          },
          "paper_bgcolor": "white",
          "plot_bgcolor": "#E5ECF6",
          "polar": {
           "bgcolor": "#E5ECF6",
           "angularaxis": {
            "gridcolor": "white",
            "linecolor": "white",
            "ticks": ""
           },
           "radialaxis": {
            "gridcolor": "white",
            "linecolor": "white",
            "ticks": ""
           }
          },
          "ternary": {
           "bgcolor": "#E5ECF6",
           "aaxis": {
            "gridcolor": "white",
            "linecolor": "white",
            "ticks": ""
           },
           "baxis": {
            "gridcolor": "white",
            "linecolor": "white",
            "ticks": ""
           },
           "caxis": {
            "gridcolor": "white",
            "linecolor": "white",
            "ticks": ""
           }
          },
          "coloraxis": {
           "colorbar": {
            "outlinewidth": 0,
            "ticks": ""
           }
          },
          "colorscale": {
           "sequential": [
            [
             0,
             "#0d0887"
            ],
            [
             0.1111111111111111,
             "#46039f"
            ],
            [
             0.2222222222222222,
             "#7201a8"
            ],
            [
             0.3333333333333333,
             "#9c179e"
            ],
            [
             0.4444444444444444,
             "#bd3786"
            ],
            [
             0.5555555555555556,
             "#d8576b"
            ],
            [
             0.6666666666666666,
             "#ed7953"
            ],
            [
             0.7777777777777778,
             "#fb9f3a"
            ],
            [
             0.8888888888888888,
             "#fdca26"
            ],
            [
             1,
             "#f0f921"
            ]
           ],
           "sequentialminus": [
            [
             0,
             "#0d0887"
            ],
            [
             0.1111111111111111,
             "#46039f"
            ],
            [
             0.2222222222222222,
             "#7201a8"
            ],
            [
             0.3333333333333333,
             "#9c179e"
            ],
            [
             0.4444444444444444,
             "#bd3786"
            ],
            [
             0.5555555555555556,
             "#d8576b"
            ],
            [
             0.6666666666666666,
             "#ed7953"
            ],
            [
             0.7777777777777778,
             "#fb9f3a"
            ],
            [
             0.8888888888888888,
             "#fdca26"
            ],
            [
             1,
             "#f0f921"
            ]
           ],
           "diverging": [
            [
             0,
             "#8e0152"
            ],
            [
             0.1,
             "#c51b7d"
            ],
            [
             0.2,
             "#de77ae"
            ],
            [
             0.3,
             "#f1b6da"
            ],
            [
             0.4,
             "#fde0ef"
            ],
            [
             0.5,
             "#f7f7f7"
            ],
            [
             0.6,
             "#e6f5d0"
            ],
            [
             0.7,
             "#b8e186"
            ],
            [
             0.8,
             "#7fbc41"
            ],
            [
             0.9,
             "#4d9221"
            ],
            [
             1,
             "#276419"
            ]
           ]
          },
          "xaxis": {
           "gridcolor": "white",
           "linecolor": "white",
           "ticks": "",
           "title": {
            "standoff": 15
           },
           "zerolinecolor": "white",
           "automargin": true,
           "zerolinewidth": 2
          },
          "yaxis": {
           "gridcolor": "white",
           "linecolor": "white",
           "ticks": "",
           "title": {
            "standoff": 15
           },
           "zerolinecolor": "white",
           "automargin": true,
           "zerolinewidth": 2
          },
          "scene": {
           "xaxis": {
            "backgroundcolor": "#E5ECF6",
            "gridcolor": "white",
            "linecolor": "white",
            "showbackground": true,
            "ticks": "",
            "zerolinecolor": "white",
            "gridwidth": 2
           },
           "yaxis": {
            "backgroundcolor": "#E5ECF6",
            "gridcolor": "white",
            "linecolor": "white",
            "showbackground": true,
            "ticks": "",
            "zerolinecolor": "white",
            "gridwidth": 2
           },
           "zaxis": {
            "backgroundcolor": "#E5ECF6",
            "gridcolor": "white",
            "linecolor": "white",
            "showbackground": true,
            "ticks": "",
            "zerolinecolor": "white",
            "gridwidth": 2
           }
          },
          "shapedefaults": {
           "line": {
            "color": "#2a3f5f"
           }
          },
          "annotationdefaults": {
           "arrowcolor": "#2a3f5f",
           "arrowhead": 0,
           "arrowwidth": 1
          },
          "geo": {
           "bgcolor": "white",
           "landcolor": "#E5ECF6",
           "subunitcolor": "white",
           "showland": true,
           "showlakes": true,
           "lakecolor": "white"
          },
          "title": {
           "x": 0.05
          },
          "mapbox": {
           "style": "light"
          }
         }
        },
        "xaxis": {
         "anchor": "y",
         "domain": [
          0,
          1
         ],
         "title": {
          "text": "index"
         }
        },
        "yaxis": {
         "anchor": "x",
         "domain": [
          0,
          1
         ],
         "title": {
          "text": "value"
         }
        },
        "legend": {
         "title": {
          "text": "variable"
         },
         "tracegroupgap": 0
        },
        "margin": {
         "t": 60
        }
       },
       "config": {
        "plotlyServerURL": "https://plot.ly"
       }
      }
     },
     "metadata": {}
    }
   ],
   "metadata": {}
  },
  {
   "cell_type": "code",
   "execution_count": 13,
   "source": [
    "px.line(pd.DataFrame(history[\"test\"]))"
   ],
   "outputs": [
    {
     "output_type": "display_data",
     "data": {
      "application/vnd.plotly.v1+json": {
       "data": [
        {
         "hovertemplate": "variable=epochs<br>index=%{x}<br>value=%{y}<extra></extra>",
         "legendgroup": "epochs",
         "line": {
          "color": "#636efa",
          "dash": "solid"
         },
         "marker": {
          "symbol": "circle"
         },
         "mode": "lines",
         "name": "epochs",
         "orientation": "v",
         "showlegend": true,
         "x": [
          0,
          1,
          2,
          3,
          4,
          5,
          6,
          7,
          8,
          9,
          10,
          11,
          12,
          13,
          14,
          15,
          16,
          17,
          18,
          19,
          20,
          21,
          22,
          23,
          24,
          25,
          26,
          27,
          28,
          29,
          30,
          31,
          32,
          33,
          34,
          35,
          36,
          37,
          38,
          39,
          40,
          41,
          42,
          43,
          44,
          45,
          46,
          47,
          48,
          49,
          50,
          51,
          52,
          53,
          54,
          55,
          56,
          57,
          58,
          59,
          60,
          61,
          62,
          63,
          64,
          65,
          66,
          67,
          68,
          69
         ],
         "xaxis": "x",
         "y": [
          1,
          2,
          3,
          4,
          5,
          6,
          7,
          8,
          9,
          10,
          11,
          12,
          13,
          14,
          15,
          16,
          17,
          18,
          19,
          20,
          21,
          22,
          23,
          24,
          25,
          26,
          27,
          28,
          29,
          30,
          31,
          32,
          33,
          34,
          35,
          36,
          37,
          38,
          39,
          40,
          41,
          42,
          43,
          44,
          45,
          46,
          47,
          48,
          49,
          50,
          51,
          52,
          53,
          54,
          55,
          56,
          57,
          58,
          59,
          60,
          61,
          62,
          63,
          64,
          65,
          66,
          67,
          68,
          69,
          70
         ],
         "yaxis": "y",
         "type": "scatter"
        },
        {
         "hovertemplate": "variable=crossentropy_loss<br>index=%{x}<br>value=%{y}<extra></extra>",
         "legendgroup": "crossentropy_loss",
         "line": {
          "color": "#EF553B",
          "dash": "solid"
         },
         "marker": {
          "symbol": "circle"
         },
         "mode": "lines",
         "name": "crossentropy_loss",
         "orientation": "v",
         "showlegend": true,
         "x": [
          0,
          1,
          2,
          3,
          4,
          5,
          6,
          7,
          8,
          9,
          10,
          11,
          12,
          13,
          14,
          15,
          16,
          17,
          18,
          19,
          20,
          21,
          22,
          23,
          24,
          25,
          26,
          27,
          28,
          29,
          30,
          31,
          32,
          33,
          34,
          35,
          36,
          37,
          38,
          39,
          40,
          41,
          42,
          43,
          44,
          45,
          46,
          47,
          48,
          49,
          50,
          51,
          52,
          53,
          54,
          55,
          56,
          57,
          58,
          59,
          60,
          61,
          62,
          63,
          64,
          65,
          66,
          67,
          68,
          69
         ],
         "xaxis": "x",
         "y": [
          0.6735647320747375,
          0.6718986630439758,
          0.6711947917938232,
          0.6710072755813599,
          0.6709454655647278,
          0.6707072854042053,
          0.6707098484039307,
          0.670692503452301,
          0.6706491112709045,
          0.6710211038589478,
          0.6706241965293884,
          0.6704147458076477,
          0.6707201600074768,
          0.6703127026557922,
          0.6703494191169739,
          0.6702526211738586,
          0.6702167391777039,
          0.6702956557273865,
          0.6702144145965576,
          0.6701533794403076,
          0.6702199578285217,
          0.670411229133606,
          0.6700482368469238,
          0.6701102256774902,
          0.6705918908119202,
          0.6701475381851196,
          0.6700133681297302,
          0.6700343489646912,
          0.670028805732727,
          0.6703038215637207,
          0.6702727675437927,
          0.670097827911377,
          0.6699537634849548,
          0.6699456572532654,
          0.6699292659759521,
          0.6707626581192017,
          0.6699239611625671,
          0.66994309425354,
          0.6701961159706116,
          0.670139729976654,
          0.6699234843254089,
          0.6699737906455994,
          0.6698988676071167,
          0.6698909401893616,
          0.669879138469696,
          0.6698877811431885,
          0.6698749661445618,
          0.6699211001396179,
          0.6699693202972412,
          0.6698271036148071,
          0.6697844862937927,
          0.6698993444442749,
          0.6700403690338135,
          0.6702260375022888,
          0.6698393225669861,
          0.6698476076126099,
          0.6697690486907959,
          0.6698451042175293,
          0.6700655221939087,
          0.6699100136756897,
          0.6698380708694458,
          0.6698191165924072,
          0.6697951555252075,
          0.6698614358901978,
          0.6700946092605591,
          0.6698942184448242,
          0.6699638366699219,
          0.6698189973831177,
          0.6698041558265686,
          0.6700417995452881
         ],
         "yaxis": "y",
         "type": "scatter"
        },
        {
         "hovertemplate": "variable=r2<br>index=%{x}<br>value=%{y}<extra></extra>",
         "legendgroup": "r2",
         "line": {
          "color": "#00cc96",
          "dash": "solid"
         },
         "marker": {
          "symbol": "circle"
         },
         "mode": "lines",
         "name": "r2",
         "orientation": "v",
         "showlegend": true,
         "x": [
          0,
          1,
          2,
          3,
          4,
          5,
          6,
          7,
          8,
          9,
          10,
          11,
          12,
          13,
          14,
          15,
          16,
          17,
          18,
          19,
          20,
          21,
          22,
          23,
          24,
          25,
          26,
          27,
          28,
          29,
          30,
          31,
          32,
          33,
          34,
          35,
          36,
          37,
          38,
          39,
          40,
          41,
          42,
          43,
          44,
          45,
          46,
          47,
          48,
          49,
          50,
          51,
          52,
          53,
          54,
          55,
          56,
          57,
          58,
          59,
          60,
          61,
          62,
          63,
          64,
          65,
          66,
          67,
          68,
          69
         ],
         "xaxis": "x",
         "y": [
          0.39608445791250757,
          0.43069389578250916,
          0.44740943193538435,
          0.45216514064116686,
          0.4481204159912474,
          0.45059420903888653,
          0.4586022379173727,
          0.4561441010183396,
          0.4545408680290533,
          0.44882434760223083,
          0.4582238766414045,
          0.46695269304233084,
          0.45694402042349797,
          0.46485986809474816,
          0.46832086964666664,
          0.47067628617565,
          0.46581945013359344,
          0.46716350399892936,
          0.4709228379807035,
          0.46912187089236457,
          0.46959819619423676,
          0.46404099874240684,
          0.476307104125132,
          0.4705426174460145,
          0.45846848359865183,
          0.4670014060566842,
          0.46938700139089023,
          0.4693303452495199,
          0.47138900893077845,
          0.4661979398134225,
          0.4699197575835758,
          0.4743056178372797,
          0.4770796953471158,
          0.4750240499895234,
          0.4737683577943531,
          0.4548137815771999,
          0.47368052974766534,
          0.4715644430856169,
          0.46623135011104777,
          0.46421916716811845,
          0.4696928005281373,
          0.4758804606042846,
          0.4742569923634098,
          0.47961368669267246,
          0.47218655120332736,
          0.47257287200948894,
          0.48215117246510575,
          0.473990325102994,
          0.4707967601717291,
          0.4768105848006785,
          0.47320913091316585,
          0.47179660606305096,
          0.472927970863271,
          0.46685698606437365,
          0.4761269776938785,
          0.47622115298943646,
          0.47419974611561566,
          0.4739506818137609,
          0.46492581188260895,
          0.4789900653918738,
          0.48114734542967413,
          0.48017564317717326,
          0.47614381933758515,
          0.47593431519554635,
          0.47279326844768443,
          0.4789728572640158,
          0.47428504403385396,
          0.4755739924099231,
          0.47921442819787113,
          0.46974996062856245
         ],
         "yaxis": "y",
         "type": "scatter"
        },
        {
         "hovertemplate": "variable=mae_loss<br>index=%{x}<br>value=%{y}<extra></extra>",
         "legendgroup": "mae_loss",
         "line": {
          "color": "#ab63fa",
          "dash": "solid"
         },
         "marker": {
          "symbol": "circle"
         },
         "mode": "lines",
         "name": "mae_loss",
         "orientation": "v",
         "showlegend": true,
         "x": [
          0,
          1,
          2,
          3,
          4,
          5,
          6,
          7,
          8,
          9,
          10,
          11,
          12,
          13,
          14,
          15,
          16,
          17,
          18,
          19,
          20,
          21,
          22,
          23,
          24,
          25,
          26,
          27,
          28,
          29,
          30,
          31,
          32,
          33,
          34,
          35,
          36,
          37,
          38,
          39,
          40,
          41,
          42,
          43,
          44,
          45,
          46,
          47,
          48,
          49,
          50,
          51,
          52,
          53,
          54,
          55,
          56,
          57,
          58,
          59,
          60,
          61,
          62,
          63,
          64,
          65,
          66,
          67,
          68,
          69
         ],
         "xaxis": "x",
         "y": [
          0.08796246132137729,
          0.0852653630808288,
          0.08366024707462273,
          0.08318757068584948,
          0.08333401545590045,
          0.08270068754460297,
          0.0828766413471278,
          0.08275262545429024,
          0.08278376425013823,
          0.08369455971554214,
          0.08280684388443535,
          0.08224080212268176,
          0.08310925441921926,
          0.08177378253609527,
          0.08182727707659497,
          0.08170675702539144,
          0.08168705072180897,
          0.08206994520390735,
          0.08184860716847812,
          0.08160252246786566,
          0.08153538747745402,
          0.0817401212658368,
          0.08148290731158911,
          0.08154162148050234,
          0.08274156461451568,
          0.08180692658997049,
          0.08131051161417774,
          0.08117612921724132,
          0.08145073392227584,
          0.08204072160171527,
          0.08147047877896066,
          0.08164696445067723,
          0.08110476961615039,
          0.08117116334683755,
          0.08116954740355997,
          0.08303258402966986,
          0.08110993130534302,
          0.08123976741643513,
          0.08179654436660748,
          0.08128746252726106,
          0.08111535649673611,
          0.08142313926535494,
          0.08097870176037153,
          0.0812643440915089,
          0.08105878283580144,
          0.08111660804818659,
          0.0810095846360805,
          0.08116967352289779,
          0.08133194845388918,
          0.08100638141234716,
          0.08101339240868886,
          0.08094927041846163,
          0.08151609098502234,
          0.08139768498493176,
          0.0809405538965674,
          0.0810804259835505,
          0.08098702664468803,
          0.08105722237743583,
          0.08149371383821263,
          0.08101319717425925,
          0.08100332623603297,
          0.08087634815304887,
          0.080859995414229,
          0.08120220908347298,
          0.08168888562450222,
          0.08126301788816265,
          0.08111993182523577,
          0.08103912070977921,
          0.08112512683751537,
          0.08137477111874843
         ],
         "yaxis": "y",
         "type": "scatter"
        },
        {
         "hovertemplate": "variable=accuracy<br>index=%{x}<br>value=%{y}<extra></extra>",
         "legendgroup": "accuracy",
         "line": {
          "color": "#FFA15A",
          "dash": "solid"
         },
         "marker": {
          "symbol": "circle"
         },
         "mode": "lines",
         "name": "accuracy",
         "orientation": "v",
         "showlegend": true,
         "x": [
          0,
          1,
          2,
          3,
          4,
          5,
          6,
          7,
          8,
          9,
          10,
          11,
          12,
          13,
          14,
          15,
          16,
          17,
          18,
          19,
          20,
          21,
          22,
          23,
          24,
          25,
          26,
          27,
          28,
          29,
          30,
          31,
          32,
          33,
          34,
          35,
          36,
          37,
          38,
          39,
          40,
          41,
          42,
          43,
          44,
          45,
          46,
          47,
          48,
          49,
          50,
          51,
          52,
          53,
          54,
          55,
          56,
          57,
          58,
          59,
          60,
          61,
          62,
          63,
          64,
          65,
          66,
          67,
          68,
          69
         ],
         "xaxis": "x",
         "y": [
          0.009436274509803921,
          0.009558823529411765,
          0.008455882352941176,
          0.009068627450980393,
          0.010049019607843138,
          0.010661764705882353,
          0.010294117647058823,
          0.010049019607843138,
          0.007475490196078432,
          0.009681372549019608,
          0.009313725490196078,
          0.010416666666666666,
          0.010416666666666666,
          0.008823529411764706,
          0.008700980392156863,
          0.009313725490196078,
          0.010661764705882353,
          0.009926470588235294,
          0.010906862745098039,
          0.008946078431372548,
          0.008333333333333333,
          0.007230392156862745,
          0.008700980392156863,
          0.008823529411764706,
          0.00980392156862745,
          0.009191176470588236,
          0.009926470588235294,
          0.008823529411764706,
          0.010049019607843138,
          0.009558823529411765,
          0.009191176470588236,
          0.010049019607843138,
          0.009191176470588236,
          0.009926470588235294,
          0.008946078431372548,
          0.010049019607843138,
          0.009436274509803921,
          0.008946078431372548,
          0.008946078431372548,
          0.00857843137254902,
          0.009191176470588236,
          0.009558823529411765,
          0.008455882352941176,
          0.009681372549019608,
          0.009558823529411765,
          0.009681372549019608,
          0.00980392156862745,
          0.008823529411764706,
          0.010906862745098039,
          0.009436274509803921,
          0.00980392156862745,
          0.008946078431372548,
          0.009436274509803921,
          0.00821078431372549,
          0.009191176470588236,
          0.010294117647058823,
          0.00980392156862745,
          0.009191176470588236,
          0.009681372549019608,
          0.00821078431372549,
          0.009191176470588236,
          0.007965686274509803,
          0.008455882352941176,
          0.00980392156862745,
          0.010416666666666666,
          0.010049019607843138,
          0.009191176470588236,
          0.00857843137254902,
          0.009558823529411765,
          0.010661764705882353
         ],
         "yaxis": "y",
         "type": "scatter"
        }
       ],
       "layout": {
        "template": {
         "data": {
          "histogram2dcontour": [
           {
            "type": "histogram2dcontour",
            "colorbar": {
             "outlinewidth": 0,
             "ticks": ""
            },
            "colorscale": [
             [
              0,
              "#0d0887"
             ],
             [
              0.1111111111111111,
              "#46039f"
             ],
             [
              0.2222222222222222,
              "#7201a8"
             ],
             [
              0.3333333333333333,
              "#9c179e"
             ],
             [
              0.4444444444444444,
              "#bd3786"
             ],
             [
              0.5555555555555556,
              "#d8576b"
             ],
             [
              0.6666666666666666,
              "#ed7953"
             ],
             [
              0.7777777777777778,
              "#fb9f3a"
             ],
             [
              0.8888888888888888,
              "#fdca26"
             ],
             [
              1,
              "#f0f921"
             ]
            ]
           }
          ],
          "choropleth": [
           {
            "type": "choropleth",
            "colorbar": {
             "outlinewidth": 0,
             "ticks": ""
            }
           }
          ],
          "histogram2d": [
           {
            "type": "histogram2d",
            "colorbar": {
             "outlinewidth": 0,
             "ticks": ""
            },
            "colorscale": [
             [
              0,
              "#0d0887"
             ],
             [
              0.1111111111111111,
              "#46039f"
             ],
             [
              0.2222222222222222,
              "#7201a8"
             ],
             [
              0.3333333333333333,
              "#9c179e"
             ],
             [
              0.4444444444444444,
              "#bd3786"
             ],
             [
              0.5555555555555556,
              "#d8576b"
             ],
             [
              0.6666666666666666,
              "#ed7953"
             ],
             [
              0.7777777777777778,
              "#fb9f3a"
             ],
             [
              0.8888888888888888,
              "#fdca26"
             ],
             [
              1,
              "#f0f921"
             ]
            ]
           }
          ],
          "heatmap": [
           {
            "type": "heatmap",
            "colorbar": {
             "outlinewidth": 0,
             "ticks": ""
            },
            "colorscale": [
             [
              0,
              "#0d0887"
             ],
             [
              0.1111111111111111,
              "#46039f"
             ],
             [
              0.2222222222222222,
              "#7201a8"
             ],
             [
              0.3333333333333333,
              "#9c179e"
             ],
             [
              0.4444444444444444,
              "#bd3786"
             ],
             [
              0.5555555555555556,
              "#d8576b"
             ],
             [
              0.6666666666666666,
              "#ed7953"
             ],
             [
              0.7777777777777778,
              "#fb9f3a"
             ],
             [
              0.8888888888888888,
              "#fdca26"
             ],
             [
              1,
              "#f0f921"
             ]
            ]
           }
          ],
          "heatmapgl": [
           {
            "type": "heatmapgl",
            "colorbar": {
             "outlinewidth": 0,
             "ticks": ""
            },
            "colorscale": [
             [
              0,
              "#0d0887"
             ],
             [
              0.1111111111111111,
              "#46039f"
             ],
             [
              0.2222222222222222,
              "#7201a8"
             ],
             [
              0.3333333333333333,
              "#9c179e"
             ],
             [
              0.4444444444444444,
              "#bd3786"
             ],
             [
              0.5555555555555556,
              "#d8576b"
             ],
             [
              0.6666666666666666,
              "#ed7953"
             ],
             [
              0.7777777777777778,
              "#fb9f3a"
             ],
             [
              0.8888888888888888,
              "#fdca26"
             ],
             [
              1,
              "#f0f921"
             ]
            ]
           }
          ],
          "contourcarpet": [
           {
            "type": "contourcarpet",
            "colorbar": {
             "outlinewidth": 0,
             "ticks": ""
            }
           }
          ],
          "contour": [
           {
            "type": "contour",
            "colorbar": {
             "outlinewidth": 0,
             "ticks": ""
            },
            "colorscale": [
             [
              0,
              "#0d0887"
             ],
             [
              0.1111111111111111,
              "#46039f"
             ],
             [
              0.2222222222222222,
              "#7201a8"
             ],
             [
              0.3333333333333333,
              "#9c179e"
             ],
             [
              0.4444444444444444,
              "#bd3786"
             ],
             [
              0.5555555555555556,
              "#d8576b"
             ],
             [
              0.6666666666666666,
              "#ed7953"
             ],
             [
              0.7777777777777778,
              "#fb9f3a"
             ],
             [
              0.8888888888888888,
              "#fdca26"
             ],
             [
              1,
              "#f0f921"
             ]
            ]
           }
          ],
          "surface": [
           {
            "type": "surface",
            "colorbar": {
             "outlinewidth": 0,
             "ticks": ""
            },
            "colorscale": [
             [
              0,
              "#0d0887"
             ],
             [
              0.1111111111111111,
              "#46039f"
             ],
             [
              0.2222222222222222,
              "#7201a8"
             ],
             [
              0.3333333333333333,
              "#9c179e"
             ],
             [
              0.4444444444444444,
              "#bd3786"
             ],
             [
              0.5555555555555556,
              "#d8576b"
             ],
             [
              0.6666666666666666,
              "#ed7953"
             ],
             [
              0.7777777777777778,
              "#fb9f3a"
             ],
             [
              0.8888888888888888,
              "#fdca26"
             ],
             [
              1,
              "#f0f921"
             ]
            ]
           }
          ],
          "mesh3d": [
           {
            "type": "mesh3d",
            "colorbar": {
             "outlinewidth": 0,
             "ticks": ""
            }
           }
          ],
          "scatter": [
           {
            "fillpattern": {
             "fillmode": "overlay",
             "size": 10,
             "solidity": 0.2
            },
            "type": "scatter"
           }
          ],
          "parcoords": [
           {
            "type": "parcoords",
            "line": {
             "colorbar": {
              "outlinewidth": 0,
              "ticks": ""
             }
            }
           }
          ],
          "scatterpolargl": [
           {
            "type": "scatterpolargl",
            "marker": {
             "colorbar": {
              "outlinewidth": 0,
              "ticks": ""
             }
            }
           }
          ],
          "bar": [
           {
            "error_x": {
             "color": "#2a3f5f"
            },
            "error_y": {
             "color": "#2a3f5f"
            },
            "marker": {
             "line": {
              "color": "#E5ECF6",
              "width": 0.5
             },
             "pattern": {
              "fillmode": "overlay",
              "size": 10,
              "solidity": 0.2
             }
            },
            "type": "bar"
           }
          ],
          "scattergeo": [
           {
            "type": "scattergeo",
            "marker": {
             "colorbar": {
              "outlinewidth": 0,
              "ticks": ""
             }
            }
           }
          ],
          "scatterpolar": [
           {
            "type": "scatterpolar",
            "marker": {
             "colorbar": {
              "outlinewidth": 0,
              "ticks": ""
             }
            }
           }
          ],
          "histogram": [
           {
            "marker": {
             "pattern": {
              "fillmode": "overlay",
              "size": 10,
              "solidity": 0.2
             }
            },
            "type": "histogram"
           }
          ],
          "scattergl": [
           {
            "type": "scattergl",
            "marker": {
             "colorbar": {
              "outlinewidth": 0,
              "ticks": ""
             }
            }
           }
          ],
          "scatter3d": [
           {
            "type": "scatter3d",
            "line": {
             "colorbar": {
              "outlinewidth": 0,
              "ticks": ""
             }
            },
            "marker": {
             "colorbar": {
              "outlinewidth": 0,
              "ticks": ""
             }
            }
           }
          ],
          "scattermapbox": [
           {
            "type": "scattermapbox",
            "marker": {
             "colorbar": {
              "outlinewidth": 0,
              "ticks": ""
             }
            }
           }
          ],
          "scatterternary": [
           {
            "type": "scatterternary",
            "marker": {
             "colorbar": {
              "outlinewidth": 0,
              "ticks": ""
             }
            }
           }
          ],
          "scattercarpet": [
           {
            "type": "scattercarpet",
            "marker": {
             "colorbar": {
              "outlinewidth": 0,
              "ticks": ""
             }
            }
           }
          ],
          "carpet": [
           {
            "aaxis": {
             "endlinecolor": "#2a3f5f",
             "gridcolor": "white",
             "linecolor": "white",
             "minorgridcolor": "white",
             "startlinecolor": "#2a3f5f"
            },
            "baxis": {
             "endlinecolor": "#2a3f5f",
             "gridcolor": "white",
             "linecolor": "white",
             "minorgridcolor": "white",
             "startlinecolor": "#2a3f5f"
            },
            "type": "carpet"
           }
          ],
          "table": [
           {
            "cells": {
             "fill": {
              "color": "#EBF0F8"
             },
             "line": {
              "color": "white"
             }
            },
            "header": {
             "fill": {
              "color": "#C8D4E3"
             },
             "line": {
              "color": "white"
             }
            },
            "type": "table"
           }
          ],
          "barpolar": [
           {
            "marker": {
             "line": {
              "color": "#E5ECF6",
              "width": 0.5
             },
             "pattern": {
              "fillmode": "overlay",
              "size": 10,
              "solidity": 0.2
             }
            },
            "type": "barpolar"
           }
          ],
          "pie": [
           {
            "automargin": true,
            "type": "pie"
           }
          ]
         },
         "layout": {
          "autotypenumbers": "strict",
          "colorway": [
           "#636efa",
           "#EF553B",
           "#00cc96",
           "#ab63fa",
           "#FFA15A",
           "#19d3f3",
           "#FF6692",
           "#B6E880",
           "#FF97FF",
           "#FECB52"
          ],
          "font": {
           "color": "#2a3f5f"
          },
          "hovermode": "closest",
          "hoverlabel": {
           "align": "left"
          },
          "paper_bgcolor": "white",
          "plot_bgcolor": "#E5ECF6",
          "polar": {
           "bgcolor": "#E5ECF6",
           "angularaxis": {
            "gridcolor": "white",
            "linecolor": "white",
            "ticks": ""
           },
           "radialaxis": {
            "gridcolor": "white",
            "linecolor": "white",
            "ticks": ""
           }
          },
          "ternary": {
           "bgcolor": "#E5ECF6",
           "aaxis": {
            "gridcolor": "white",
            "linecolor": "white",
            "ticks": ""
           },
           "baxis": {
            "gridcolor": "white",
            "linecolor": "white",
            "ticks": ""
           },
           "caxis": {
            "gridcolor": "white",
            "linecolor": "white",
            "ticks": ""
           }
          },
          "coloraxis": {
           "colorbar": {
            "outlinewidth": 0,
            "ticks": ""
           }
          },
          "colorscale": {
           "sequential": [
            [
             0,
             "#0d0887"
            ],
            [
             0.1111111111111111,
             "#46039f"
            ],
            [
             0.2222222222222222,
             "#7201a8"
            ],
            [
             0.3333333333333333,
             "#9c179e"
            ],
            [
             0.4444444444444444,
             "#bd3786"
            ],
            [
             0.5555555555555556,
             "#d8576b"
            ],
            [
             0.6666666666666666,
             "#ed7953"
            ],
            [
             0.7777777777777778,
             "#fb9f3a"
            ],
            [
             0.8888888888888888,
             "#fdca26"
            ],
            [
             1,
             "#f0f921"
            ]
           ],
           "sequentialminus": [
            [
             0,
             "#0d0887"
            ],
            [
             0.1111111111111111,
             "#46039f"
            ],
            [
             0.2222222222222222,
             "#7201a8"
            ],
            [
             0.3333333333333333,
             "#9c179e"
            ],
            [
             0.4444444444444444,
             "#bd3786"
            ],
            [
             0.5555555555555556,
             "#d8576b"
            ],
            [
             0.6666666666666666,
             "#ed7953"
            ],
            [
             0.7777777777777778,
             "#fb9f3a"
            ],
            [
             0.8888888888888888,
             "#fdca26"
            ],
            [
             1,
             "#f0f921"
            ]
           ],
           "diverging": [
            [
             0,
             "#8e0152"
            ],
            [
             0.1,
             "#c51b7d"
            ],
            [
             0.2,
             "#de77ae"
            ],
            [
             0.3,
             "#f1b6da"
            ],
            [
             0.4,
             "#fde0ef"
            ],
            [
             0.5,
             "#f7f7f7"
            ],
            [
             0.6,
             "#e6f5d0"
            ],
            [
             0.7,
             "#b8e186"
            ],
            [
             0.8,
             "#7fbc41"
            ],
            [
             0.9,
             "#4d9221"
            ],
            [
             1,
             "#276419"
            ]
           ]
          },
          "xaxis": {
           "gridcolor": "white",
           "linecolor": "white",
           "ticks": "",
           "title": {
            "standoff": 15
           },
           "zerolinecolor": "white",
           "automargin": true,
           "zerolinewidth": 2
          },
          "yaxis": {
           "gridcolor": "white",
           "linecolor": "white",
           "ticks": "",
           "title": {
            "standoff": 15
           },
           "zerolinecolor": "white",
           "automargin": true,
           "zerolinewidth": 2
          },
          "scene": {
           "xaxis": {
            "backgroundcolor": "#E5ECF6",
            "gridcolor": "white",
            "linecolor": "white",
            "showbackground": true,
            "ticks": "",
            "zerolinecolor": "white",
            "gridwidth": 2
           },
           "yaxis": {
            "backgroundcolor": "#E5ECF6",
            "gridcolor": "white",
            "linecolor": "white",
            "showbackground": true,
            "ticks": "",
            "zerolinecolor": "white",
            "gridwidth": 2
           },
           "zaxis": {
            "backgroundcolor": "#E5ECF6",
            "gridcolor": "white",
            "linecolor": "white",
            "showbackground": true,
            "ticks": "",
            "zerolinecolor": "white",
            "gridwidth": 2
           }
          },
          "shapedefaults": {
           "line": {
            "color": "#2a3f5f"
           }
          },
          "annotationdefaults": {
           "arrowcolor": "#2a3f5f",
           "arrowhead": 0,
           "arrowwidth": 1
          },
          "geo": {
           "bgcolor": "white",
           "landcolor": "#E5ECF6",
           "subunitcolor": "white",
           "showland": true,
           "showlakes": true,
           "lakecolor": "white"
          },
          "title": {
           "x": 0.05
          },
          "mapbox": {
           "style": "light"
          }
         }
        },
        "xaxis": {
         "anchor": "y",
         "domain": [
          0,
          1
         ],
         "title": {
          "text": "index"
         }
        },
        "yaxis": {
         "anchor": "x",
         "domain": [
          0,
          1
         ],
         "title": {
          "text": "value"
         }
        },
        "legend": {
         "title": {
          "text": "variable"
         },
         "tracegroupgap": 0
        },
        "margin": {
         "t": 60
        }
       },
       "config": {
        "plotlyServerURL": "https://plot.ly"
       }
      }
     },
     "metadata": {}
    }
   ],
   "metadata": {}
  },
  {
   "cell_type": "code",
   "execution_count": null,
   "source": [],
   "outputs": [],
   "metadata": {}
  }
 ],
 "metadata": {
  "kernelspec": {
   "name": "python3",
   "display_name": "Python 3.8.10 64-bit"
  },
  "language_info": {
   "codemirror_mode": {
    "name": "ipython",
    "version": 3
   },
   "file_extension": ".py",
   "mimetype": "text/x-python",
   "name": "python",
   "nbconvert_exporter": "python",
   "pygments_lexer": "ipython3",
   "version": "3.8.10"
  },
  "orig_nbformat": 4,
  "vscode": {
   "interpreter": {
    "hash": "e7370f93d1d0cde622a1f8e1c04877d8463912d04d973331ad4851f04de6915a"
   }
  },
  "interpreter": {
   "hash": "31f2aee4e71d21fbe5cf8b01ff0e069b9275f58929596ceb00d14d90e3e16cd6"
  }
 },
 "nbformat": 4,
 "nbformat_minor": 2
}