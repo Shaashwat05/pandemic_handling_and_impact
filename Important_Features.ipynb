{
 "cells": [
  {
   "cell_type": "code",
   "execution_count": 1,
   "id": "43f9168d",
   "metadata": {},
   "outputs": [],
   "source": [
    "%%capture Installation\n",
    "!pip install country_converter"
   ]
  },
  {
   "cell_type": "code",
   "execution_count": 2,
   "id": "1c13cf06",
   "metadata": {},
   "outputs": [],
   "source": [
    "%%capture Installations\n",
    "!pip install distinctipy"
   ]
  },
  {
   "cell_type": "code",
   "execution_count": 3,
   "id": "31f6531e",
   "metadata": {},
   "outputs": [],
   "source": [
    "from data_preparation import Preparation\n",
    "import pandas as pd\n",
    "import numpy as np\n",
    "import matplotlib.pyplot as plt\n",
    "import plotly.express as px\n",
    "from json import load\n",
    "import country_converter as coco\n",
    "import plotly.graph_objects as go\n",
    "from distinctipy import distinctipy\n",
    "import matplotlib"
   ]
  },
  {
   "cell_type": "code",
   "execution_count": 4,
   "id": "7cd4d724",
   "metadata": {},
   "outputs": [],
   "source": [
    "df = pd.read_csv(\"COVIDiSTRESS_April_May_Combined.csv\", encoding= 'unicode_escape')"
   ]
  },
  {
   "cell_type": "code",
   "execution_count": 5,
   "id": "28299263",
   "metadata": {},
   "outputs": [],
   "source": [
    "lst_imp_features = ['Lon_avg', 'Compliance', 'Corona_concerns_2', 'Dem_edu', 'Life carries on with minor changes', 'Corona_concerns_1', 'Expl_Distress_1', 'Isolated', 'Corona_concerns_5', 'Expl_Distress_21', 'Expl_Distress_19', 'Full time employed', 'Expl_Distress_14', 'Expl_Distress_23', 'Expl_Distress_2', 'Expl_Distress_17', 'Expl_Distress_8', 'Dem_male', 'Expl_Distress_5', 'Dem_female']"
   ]
  },
  {
   "cell_type": "code",
   "execution_count": 6,
   "id": "59298cbd",
   "metadata": {},
   "outputs": [
    {
     "data": {
      "text/plain": [
       "Lon_avg                               0.512948\n",
       "Compliance                            0.683593\n",
       "Corona_concerns_2                     0.804928\n",
       "Dem_edu                               0.751998\n",
       "Life carries on with minor changes    0.568740\n",
       "Corona_concerns_1                     0.677255\n",
       "Expl_Distress_1                       0.539725\n",
       "Isolated                              0.376478\n",
       "Corona_concerns_5                     0.809610\n",
       "Expl_Distress_21                      0.572979\n",
       "Expl_Distress_19                      0.579969\n",
       "Full time employed                    0.480320\n",
       "Expl_Distress_14                      0.710988\n",
       "Expl_Distress_23                      0.723599\n",
       "Expl_Distress_2                       0.535339\n",
       "Expl_Distress_17                      0.399703\n",
       "Expl_Distress_8                       0.431060\n",
       "Dem_male                              0.266117\n",
       "Expl_Distress_5                       0.511753\n",
       "Dem_female                            0.721242\n",
       "dtype: float64"
      ]
     },
     "execution_count": 6,
     "metadata": {},
     "output_type": "execute_result"
    }
   ],
   "source": [
    "avg = df[lst_imp_features].mean()\n",
    "avg"
   ]
  },
  {
   "cell_type": "code",
   "execution_count": 7,
   "id": "18bd26e0",
   "metadata": {},
   "outputs": [],
   "source": [
    "df_avg = pd.DataFrame(avg, avg.index)"
   ]
  },
  {
   "cell_type": "code",
   "execution_count": 8,
   "id": "06365da9",
   "metadata": {},
   "outputs": [],
   "source": [
    "df[\"latitude\"] = df[\"latitude\"]*1000\n",
    "df[\"longitude\"] = df[\"longitude\"]*1000\n",
    "df[\"latitude\"] = df[\"latitude\"].apply(int)\n",
    "df[\"longitude\"] = df[\"longitude\"].apply(int)"
   ]
  },
  {
   "cell_type": "code",
   "execution_count": 9,
   "id": "9a1a1f0f",
   "metadata": {},
   "outputs": [
    {
     "data": {
      "text/html": [
       "<div>\n",
       "<style scoped>\n",
       "    .dataframe tbody tr th:only-of-type {\n",
       "        vertical-align: middle;\n",
       "    }\n",
       "\n",
       "    .dataframe tbody tr th {\n",
       "        vertical-align: top;\n",
       "    }\n",
       "\n",
       "    .dataframe thead th {\n",
       "        text-align: right;\n",
       "    }\n",
       "</style>\n",
       "<table border=\"1\" class=\"dataframe\">\n",
       "  <thead>\n",
       "    <tr style=\"text-align: right;\">\n",
       "      <th></th>\n",
       "      <th>alpha3</th>\n",
       "      <th>latitude</th>\n",
       "      <th>longitude</th>\n",
       "      <th>country</th>\n",
       "    </tr>\n",
       "  </thead>\n",
       "  <tbody>\n",
       "    <tr>\n",
       "      <th>0</th>\n",
       "      <td>ALB</td>\n",
       "      <td>455</td>\n",
       "      <td>111</td>\n",
       "      <td>Albania</td>\n",
       "    </tr>\n",
       "    <tr>\n",
       "      <th>1</th>\n",
       "      <td>DZA</td>\n",
       "      <td>311</td>\n",
       "      <td>16</td>\n",
       "      <td>Algeria</td>\n",
       "    </tr>\n",
       "    <tr>\n",
       "      <th>2</th>\n",
       "      <td>ASM</td>\n",
       "      <td>-159</td>\n",
       "      <td>-944</td>\n",
       "      <td>American Samoa</td>\n",
       "    </tr>\n",
       "    <tr>\n",
       "      <th>3</th>\n",
       "      <td>AND</td>\n",
       "      <td>472</td>\n",
       "      <td>8</td>\n",
       "      <td>Andorra</td>\n",
       "    </tr>\n",
       "    <tr>\n",
       "      <th>4</th>\n",
       "      <td>AGO</td>\n",
       "      <td>-138</td>\n",
       "      <td>102</td>\n",
       "      <td>Angola</td>\n",
       "    </tr>\n",
       "    <tr>\n",
       "      <th>...</th>\n",
       "      <td>...</td>\n",
       "      <td>...</td>\n",
       "      <td>...</td>\n",
       "      <td>...</td>\n",
       "    </tr>\n",
       "    <tr>\n",
       "      <th>242</th>\n",
       "      <td>AFG</td>\n",
       "      <td>366</td>\n",
       "      <td>361</td>\n",
       "      <td>Afghanistan</td>\n",
       "    </tr>\n",
       "    <tr>\n",
       "      <th>243</th>\n",
       "      <td></td>\n",
       "      <td>473</td>\n",
       "      <td>116</td>\n",
       "      <td>Kosovo</td>\n",
       "    </tr>\n",
       "    <tr>\n",
       "      <th>244</th>\n",
       "      <td></td>\n",
       "      <td>221</td>\n",
       "      <td>569</td>\n",
       "      <td>Laos</td>\n",
       "    </tr>\n",
       "    <tr>\n",
       "      <th>245</th>\n",
       "      <td></td>\n",
       "      <td>76</td>\n",
       "      <td>173</td>\n",
       "      <td>Sudan, South</td>\n",
       "    </tr>\n",
       "    <tr>\n",
       "      <th>246</th>\n",
       "      <td></td>\n",
       "      <td>0</td>\n",
       "      <td>0</td>\n",
       "      <td>other</td>\n",
       "    </tr>\n",
       "  </tbody>\n",
       "</table>\n",
       "<p>247 rows × 4 columns</p>\n",
       "</div>"
      ],
      "text/plain": [
       "    alpha3  latitude  longitude         country\n",
       "0      ALB       455        111         Albania\n",
       "1      DZA       311         16         Algeria\n",
       "2      ASM      -159       -944  American Samoa\n",
       "3      AND       472          8         Andorra\n",
       "4      AGO      -138        102          Angola\n",
       "..     ...       ...        ...             ...\n",
       "242    AFG       366        361     Afghanistan\n",
       "243              473        116          Kosovo\n",
       "244              221        569            Laos\n",
       "245               76        173    Sudan, South\n",
       "246                0          0           other\n",
       "\n",
       "[247 rows x 4 columns]"
      ]
     },
     "execution_count": 9,
     "metadata": {},
     "output_type": "execute_result"
    }
   ],
   "source": [
    "with open(\"country-codes-lat-long-alpha3.json\", \"r\") as f:\n",
    "    c_j = load(f)\n",
    "country_df = pd.DataFrame().from_dict(c_j[\"ref_country_codes\"]).loc[:, [\"alpha3\", \"latitude\", \"longitude\", \"country\"]]\n",
    "country_df[\"latitude\"] = country_df[\"latitude\"]/90.0*1000\n",
    "country_df[\"longitude\"] = country_df[\"longitude\"]/180.0*1000\n",
    "country_df[\"latitude\"] = country_df[\"latitude\"].apply(int)\n",
    "country_df[\"longitude\"] = country_df[\"longitude\"].apply(int)\n",
    "country_df"
   ]
  },
  {
   "cell_type": "code",
   "execution_count": 10,
   "id": "210b2bbe",
   "metadata": {},
   "outputs": [
    {
     "data": {
      "text/html": [
       "<div>\n",
       "<style scoped>\n",
       "    .dataframe tbody tr th:only-of-type {\n",
       "        vertical-align: middle;\n",
       "    }\n",
       "\n",
       "    .dataframe tbody tr th {\n",
       "        vertical-align: top;\n",
       "    }\n",
       "\n",
       "    .dataframe thead th {\n",
       "        text-align: right;\n",
       "    }\n",
       "</style>\n",
       "<table border=\"1\" class=\"dataframe\">\n",
       "  <thead>\n",
       "    <tr style=\"text-align: right;\">\n",
       "      <th></th>\n",
       "      <th>Unnamed: 0</th>\n",
       "      <th>PSS10_avg</th>\n",
       "      <th>latitude</th>\n",
       "      <th>longitude</th>\n",
       "      <th>Trust_countrymeasure</th>\n",
       "      <th>Lon_avg</th>\n",
       "      <th>Dem_age</th>\n",
       "      <th>Dem_edu</th>\n",
       "      <th>Dem_Expat</th>\n",
       "      <th>Dem_dependents</th>\n",
       "      <th>...</th>\n",
       "      <th>Married/cohabiting</th>\n",
       "      <th>Single</th>\n",
       "      <th>Uninformative response</th>\n",
       "      <th>1</th>\n",
       "      <th>Isolated</th>\n",
       "      <th>Isolated in medical facility of similar location</th>\n",
       "      <th>Life carries on as usual</th>\n",
       "      <th>Life carries on with minor changes</th>\n",
       "      <th>alpha3</th>\n",
       "      <th>country</th>\n",
       "    </tr>\n",
       "  </thead>\n",
       "  <tbody>\n",
       "    <tr>\n",
       "      <th>0</th>\n",
       "      <td>0</td>\n",
       "      <td>0.32</td>\n",
       "      <td>622</td>\n",
       "      <td>55</td>\n",
       "      <td>0.5</td>\n",
       "      <td>0.466667</td>\n",
       "      <td>-0.416931</td>\n",
       "      <td>0.833333</td>\n",
       "      <td>1.0</td>\n",
       "      <td>0.000000</td>\n",
       "      <td>...</td>\n",
       "      <td>1.0</td>\n",
       "      <td>0.0</td>\n",
       "      <td>0.0</td>\n",
       "      <td>0.0</td>\n",
       "      <td>0.0</td>\n",
       "      <td>0.0</td>\n",
       "      <td>0.0</td>\n",
       "      <td>1.0</td>\n",
       "      <td>DNK</td>\n",
       "      <td>Denmark</td>\n",
       "    </tr>\n",
       "    <tr>\n",
       "      <th>1</th>\n",
       "      <td>1</td>\n",
       "      <td>0.48</td>\n",
       "      <td>540</td>\n",
       "      <td>108</td>\n",
       "      <td>0.5</td>\n",
       "      <td>0.733333</td>\n",
       "      <td>0.989318</td>\n",
       "      <td>0.833333</td>\n",
       "      <td>0.0</td>\n",
       "      <td>0.000000</td>\n",
       "      <td>...</td>\n",
       "      <td>0.0</td>\n",
       "      <td>0.0</td>\n",
       "      <td>0.0</td>\n",
       "      <td>0.0</td>\n",
       "      <td>0.0</td>\n",
       "      <td>0.0</td>\n",
       "      <td>0.0</td>\n",
       "      <td>1.0</td>\n",
       "      <td>SVK</td>\n",
       "      <td>Slovakia</td>\n",
       "    </tr>\n",
       "    <tr>\n",
       "      <th>2</th>\n",
       "      <td>2</td>\n",
       "      <td>0.62</td>\n",
       "      <td>540</td>\n",
       "      <td>108</td>\n",
       "      <td>0.5</td>\n",
       "      <td>0.533333</td>\n",
       "      <td>0.619253</td>\n",
       "      <td>0.666667</td>\n",
       "      <td>0.0</td>\n",
       "      <td>0.582783</td>\n",
       "      <td>...</td>\n",
       "      <td>0.0</td>\n",
       "      <td>0.0</td>\n",
       "      <td>0.0</td>\n",
       "      <td>0.0</td>\n",
       "      <td>0.0</td>\n",
       "      <td>0.0</td>\n",
       "      <td>0.0</td>\n",
       "      <td>1.0</td>\n",
       "      <td>SVK</td>\n",
       "      <td>Slovakia</td>\n",
       "    </tr>\n",
       "    <tr>\n",
       "      <th>3</th>\n",
       "      <td>3</td>\n",
       "      <td>0.38</td>\n",
       "      <td>511</td>\n",
       "      <td>11</td>\n",
       "      <td>0.2</td>\n",
       "      <td>0.266667</td>\n",
       "      <td>0.545240</td>\n",
       "      <td>0.833333</td>\n",
       "      <td>0.0</td>\n",
       "      <td>0.321513</td>\n",
       "      <td>...</td>\n",
       "      <td>0.0</td>\n",
       "      <td>1.0</td>\n",
       "      <td>0.0</td>\n",
       "      <td>0.0</td>\n",
       "      <td>0.0</td>\n",
       "      <td>0.0</td>\n",
       "      <td>0.0</td>\n",
       "      <td>1.0</td>\n",
       "      <td>FRA</td>\n",
       "      <td>France</td>\n",
       "    </tr>\n",
       "    <tr>\n",
       "      <th>4</th>\n",
       "      <td>4</td>\n",
       "      <td>0.54</td>\n",
       "      <td>540</td>\n",
       "      <td>108</td>\n",
       "      <td>0.8</td>\n",
       "      <td>0.466667</td>\n",
       "      <td>1.581423</td>\n",
       "      <td>1.000000</td>\n",
       "      <td>0.0</td>\n",
       "      <td>0.000000</td>\n",
       "      <td>...</td>\n",
       "      <td>0.0</td>\n",
       "      <td>0.0</td>\n",
       "      <td>0.0</td>\n",
       "      <td>0.0</td>\n",
       "      <td>0.0</td>\n",
       "      <td>0.0</td>\n",
       "      <td>0.0</td>\n",
       "      <td>1.0</td>\n",
       "      <td>SVK</td>\n",
       "      <td>Slovakia</td>\n",
       "    </tr>\n",
       "    <tr>\n",
       "      <th>...</th>\n",
       "      <td>...</td>\n",
       "      <td>...</td>\n",
       "      <td>...</td>\n",
       "      <td>...</td>\n",
       "      <td>...</td>\n",
       "      <td>...</td>\n",
       "      <td>...</td>\n",
       "      <td>...</td>\n",
       "      <td>...</td>\n",
       "      <td>...</td>\n",
       "      <td>...</td>\n",
       "      <td>...</td>\n",
       "      <td>...</td>\n",
       "      <td>...</td>\n",
       "      <td>...</td>\n",
       "      <td>...</td>\n",
       "      <td>...</td>\n",
       "      <td>...</td>\n",
       "      <td>...</td>\n",
       "      <td>...</td>\n",
       "      <td>...</td>\n",
       "    </tr>\n",
       "    <tr>\n",
       "      <th>173009</th>\n",
       "      <td>89830</td>\n",
       "      <td>0.34</td>\n",
       "      <td>622</td>\n",
       "      <td>55</td>\n",
       "      <td>0.6</td>\n",
       "      <td>0.466667</td>\n",
       "      <td>-0.786996</td>\n",
       "      <td>0.833333</td>\n",
       "      <td>1.0</td>\n",
       "      <td>0.000000</td>\n",
       "      <td>...</td>\n",
       "      <td>0.0</td>\n",
       "      <td>1.0</td>\n",
       "      <td>0.0</td>\n",
       "      <td>0.0</td>\n",
       "      <td>1.0</td>\n",
       "      <td>0.0</td>\n",
       "      <td>0.0</td>\n",
       "      <td>0.0</td>\n",
       "      <td>DNK</td>\n",
       "      <td>Denmark</td>\n",
       "    </tr>\n",
       "    <tr>\n",
       "      <th>173010</th>\n",
       "      <td>89831</td>\n",
       "      <td>0.60</td>\n",
       "      <td>622</td>\n",
       "      <td>55</td>\n",
       "      <td>0.4</td>\n",
       "      <td>0.466667</td>\n",
       "      <td>-0.416931</td>\n",
       "      <td>0.666667</td>\n",
       "      <td>1.0</td>\n",
       "      <td>0.000000</td>\n",
       "      <td>...</td>\n",
       "      <td>0.0</td>\n",
       "      <td>1.0</td>\n",
       "      <td>0.0</td>\n",
       "      <td>0.0</td>\n",
       "      <td>0.0</td>\n",
       "      <td>0.0</td>\n",
       "      <td>0.0</td>\n",
       "      <td>1.0</td>\n",
       "      <td>DNK</td>\n",
       "      <td>Denmark</td>\n",
       "    </tr>\n",
       "    <tr>\n",
       "      <th>173011</th>\n",
       "      <td>89832</td>\n",
       "      <td>0.28</td>\n",
       "      <td>622</td>\n",
       "      <td>55</td>\n",
       "      <td>0.4</td>\n",
       "      <td>0.266667</td>\n",
       "      <td>1.359384</td>\n",
       "      <td>0.500000</td>\n",
       "      <td>1.0</td>\n",
       "      <td>0.321513</td>\n",
       "      <td>...</td>\n",
       "      <td>0.0</td>\n",
       "      <td>1.0</td>\n",
       "      <td>0.0</td>\n",
       "      <td>0.0</td>\n",
       "      <td>0.0</td>\n",
       "      <td>0.0</td>\n",
       "      <td>0.0</td>\n",
       "      <td>1.0</td>\n",
       "      <td>DNK</td>\n",
       "      <td>Denmark</td>\n",
       "    </tr>\n",
       "    <tr>\n",
       "      <th>173012</th>\n",
       "      <td>89833</td>\n",
       "      <td>0.38</td>\n",
       "      <td>622</td>\n",
       "      <td>55</td>\n",
       "      <td>0.8</td>\n",
       "      <td>0.333333</td>\n",
       "      <td>1.137345</td>\n",
       "      <td>0.666667</td>\n",
       "      <td>1.0</td>\n",
       "      <td>0.000000</td>\n",
       "      <td>...</td>\n",
       "      <td>1.0</td>\n",
       "      <td>0.0</td>\n",
       "      <td>0.0</td>\n",
       "      <td>0.0</td>\n",
       "      <td>0.0</td>\n",
       "      <td>0.0</td>\n",
       "      <td>0.0</td>\n",
       "      <td>1.0</td>\n",
       "      <td>DNK</td>\n",
       "      <td>Denmark</td>\n",
       "    </tr>\n",
       "    <tr>\n",
       "      <th>173013</th>\n",
       "      <td>89834</td>\n",
       "      <td>0.72</td>\n",
       "      <td>622</td>\n",
       "      <td>55</td>\n",
       "      <td>1.0</td>\n",
       "      <td>0.866667</td>\n",
       "      <td>1.359384</td>\n",
       "      <td>0.500000</td>\n",
       "      <td>1.0</td>\n",
       "      <td>0.000000</td>\n",
       "      <td>...</td>\n",
       "      <td>0.0</td>\n",
       "      <td>1.0</td>\n",
       "      <td>0.0</td>\n",
       "      <td>0.0</td>\n",
       "      <td>0.0</td>\n",
       "      <td>0.0</td>\n",
       "      <td>0.0</td>\n",
       "      <td>1.0</td>\n",
       "      <td>DNK</td>\n",
       "      <td>Denmark</td>\n",
       "    </tr>\n",
       "  </tbody>\n",
       "</table>\n",
       "<p>173014 rows × 60 columns</p>\n",
       "</div>"
      ],
      "text/plain": [
       "        Unnamed: 0  PSS10_avg  latitude  longitude  Trust_countrymeasure  \\\n",
       "0                0       0.32       622         55                   0.5   \n",
       "1                1       0.48       540        108                   0.5   \n",
       "2                2       0.62       540        108                   0.5   \n",
       "3                3       0.38       511         11                   0.2   \n",
       "4                4       0.54       540        108                   0.8   \n",
       "...            ...        ...       ...        ...                   ...   \n",
       "173009       89830       0.34       622         55                   0.6   \n",
       "173010       89831       0.60       622         55                   0.4   \n",
       "173011       89832       0.28       622         55                   0.4   \n",
       "173012       89833       0.38       622         55                   0.8   \n",
       "173013       89834       0.72       622         55                   1.0   \n",
       "\n",
       "         Lon_avg   Dem_age   Dem_edu  Dem_Expat  Dem_dependents  ...  \\\n",
       "0       0.466667 -0.416931  0.833333        1.0        0.000000  ...   \n",
       "1       0.733333  0.989318  0.833333        0.0        0.000000  ...   \n",
       "2       0.533333  0.619253  0.666667        0.0        0.582783  ...   \n",
       "3       0.266667  0.545240  0.833333        0.0        0.321513  ...   \n",
       "4       0.466667  1.581423  1.000000        0.0        0.000000  ...   \n",
       "...          ...       ...       ...        ...             ...  ...   \n",
       "173009  0.466667 -0.786996  0.833333        1.0        0.000000  ...   \n",
       "173010  0.466667 -0.416931  0.666667        1.0        0.000000  ...   \n",
       "173011  0.266667  1.359384  0.500000        1.0        0.321513  ...   \n",
       "173012  0.333333  1.137345  0.666667        1.0        0.000000  ...   \n",
       "173013  0.866667  1.359384  0.500000        1.0        0.000000  ...   \n",
       "\n",
       "        Married/cohabiting  Single  Uninformative response    1  Isolated  \\\n",
       "0                      1.0     0.0                     0.0  0.0       0.0   \n",
       "1                      0.0     0.0                     0.0  0.0       0.0   \n",
       "2                      0.0     0.0                     0.0  0.0       0.0   \n",
       "3                      0.0     1.0                     0.0  0.0       0.0   \n",
       "4                      0.0     0.0                     0.0  0.0       0.0   \n",
       "...                    ...     ...                     ...  ...       ...   \n",
       "173009                 0.0     1.0                     0.0  0.0       1.0   \n",
       "173010                 0.0     1.0                     0.0  0.0       0.0   \n",
       "173011                 0.0     1.0                     0.0  0.0       0.0   \n",
       "173012                 1.0     0.0                     0.0  0.0       0.0   \n",
       "173013                 0.0     1.0                     0.0  0.0       0.0   \n",
       "\n",
       "        Isolated in medical facility of similar location  \\\n",
       "0                                                    0.0   \n",
       "1                                                    0.0   \n",
       "2                                                    0.0   \n",
       "3                                                    0.0   \n",
       "4                                                    0.0   \n",
       "...                                                  ...   \n",
       "173009                                               0.0   \n",
       "173010                                               0.0   \n",
       "173011                                               0.0   \n",
       "173012                                               0.0   \n",
       "173013                                               0.0   \n",
       "\n",
       "        Life carries on as usual  Life carries on with minor changes  alpha3  \\\n",
       "0                            0.0                                 1.0     DNK   \n",
       "1                            0.0                                 1.0     SVK   \n",
       "2                            0.0                                 1.0     SVK   \n",
       "3                            0.0                                 1.0     FRA   \n",
       "4                            0.0                                 1.0     SVK   \n",
       "...                          ...                                 ...     ...   \n",
       "173009                       0.0                                 0.0     DNK   \n",
       "173010                       0.0                                 1.0     DNK   \n",
       "173011                       0.0                                 1.0     DNK   \n",
       "173012                       0.0                                 1.0     DNK   \n",
       "173013                       0.0                                 1.0     DNK   \n",
       "\n",
       "         country  \n",
       "0        Denmark  \n",
       "1       Slovakia  \n",
       "2       Slovakia  \n",
       "3         France  \n",
       "4       Slovakia  \n",
       "...          ...  \n",
       "173009   Denmark  \n",
       "173010   Denmark  \n",
       "173011   Denmark  \n",
       "173012   Denmark  \n",
       "173013   Denmark  \n",
       "\n",
       "[173014 rows x 60 columns]"
      ]
     },
     "execution_count": 10,
     "metadata": {},
     "output_type": "execute_result"
    }
   ],
   "source": [
    "df=df.merge(country_df, how=\"left\", on=[\"latitude\", \"longitude\"])\n",
    "df"
   ]
  },
  {
   "cell_type": "code",
   "execution_count": 11,
   "id": "d961dbb7",
   "metadata": {},
   "outputs": [
    {
     "data": {
      "text/html": [
       "<div>\n",
       "<style scoped>\n",
       "    .dataframe tbody tr th:only-of-type {\n",
       "        vertical-align: middle;\n",
       "    }\n",
       "\n",
       "    .dataframe tbody tr th {\n",
       "        vertical-align: top;\n",
       "    }\n",
       "\n",
       "    .dataframe thead th {\n",
       "        text-align: right;\n",
       "    }\n",
       "</style>\n",
       "<table border=\"1\" class=\"dataframe\">\n",
       "  <thead>\n",
       "    <tr style=\"text-align: right;\">\n",
       "      <th></th>\n",
       "      <th>alpha3</th>\n",
       "      <th>Lon_avg</th>\n",
       "      <th>Compliance</th>\n",
       "      <th>Corona_concerns_2</th>\n",
       "      <th>Dem_edu</th>\n",
       "      <th>Life carries on with minor changes</th>\n",
       "      <th>Corona_concerns_1</th>\n",
       "      <th>Expl_Distress_1</th>\n",
       "      <th>Isolated</th>\n",
       "      <th>Corona_concerns_5</th>\n",
       "      <th>...</th>\n",
       "      <th>Expl_Distress_19</th>\n",
       "      <th>Full time employed</th>\n",
       "      <th>Expl_Distress_14</th>\n",
       "      <th>Expl_Distress_23</th>\n",
       "      <th>Expl_Distress_2</th>\n",
       "      <th>Expl_Distress_17</th>\n",
       "      <th>Expl_Distress_8</th>\n",
       "      <th>Dem_male</th>\n",
       "      <th>Expl_Distress_5</th>\n",
       "      <th>Dem_female</th>\n",
       "    </tr>\n",
       "  </thead>\n",
       "  <tbody>\n",
       "    <tr>\n",
       "      <th>1</th>\n",
       "      <td>AFG</td>\n",
       "      <td>0.466667</td>\n",
       "      <td>0.660218</td>\n",
       "      <td>0.776786</td>\n",
       "      <td>0.720238</td>\n",
       "      <td>0.571429</td>\n",
       "      <td>0.687500</td>\n",
       "      <td>0.619048</td>\n",
       "      <td>0.214286</td>\n",
       "      <td>0.776786</td>\n",
       "      <td>...</td>\n",
       "      <td>0.693452</td>\n",
       "      <td>0.446429</td>\n",
       "      <td>0.726190</td>\n",
       "      <td>0.675595</td>\n",
       "      <td>0.654762</td>\n",
       "      <td>0.449405</td>\n",
       "      <td>0.625000</td>\n",
       "      <td>0.464286</td>\n",
       "      <td>0.696429</td>\n",
       "      <td>0.500000</td>\n",
       "    </tr>\n",
       "    <tr>\n",
       "      <th>2</th>\n",
       "      <td>AGO</td>\n",
       "      <td>0.633333</td>\n",
       "      <td>0.833333</td>\n",
       "      <td>1.000000</td>\n",
       "      <td>0.916667</td>\n",
       "      <td>1.000000</td>\n",
       "      <td>1.000000</td>\n",
       "      <td>0.500000</td>\n",
       "      <td>0.000000</td>\n",
       "      <td>0.750000</td>\n",
       "      <td>...</td>\n",
       "      <td>1.000000</td>\n",
       "      <td>0.000000</td>\n",
       "      <td>0.833333</td>\n",
       "      <td>0.583333</td>\n",
       "      <td>0.500000</td>\n",
       "      <td>1.000000</td>\n",
       "      <td>0.916667</td>\n",
       "      <td>1.000000</td>\n",
       "      <td>0.583333</td>\n",
       "      <td>0.000000</td>\n",
       "    </tr>\n",
       "    <tr>\n",
       "      <th>3</th>\n",
       "      <td>ALB</td>\n",
       "      <td>0.510099</td>\n",
       "      <td>0.756614</td>\n",
       "      <td>0.769841</td>\n",
       "      <td>0.730159</td>\n",
       "      <td>0.285714</td>\n",
       "      <td>0.674603</td>\n",
       "      <td>0.698413</td>\n",
       "      <td>0.714286</td>\n",
       "      <td>0.738095</td>\n",
       "      <td>...</td>\n",
       "      <td>0.666667</td>\n",
       "      <td>0.571429</td>\n",
       "      <td>0.825397</td>\n",
       "      <td>0.714286</td>\n",
       "      <td>0.642857</td>\n",
       "      <td>0.507937</td>\n",
       "      <td>0.642857</td>\n",
       "      <td>0.285714</td>\n",
       "      <td>0.674603</td>\n",
       "      <td>0.714286</td>\n",
       "    </tr>\n",
       "    <tr>\n",
       "      <th>4</th>\n",
       "      <td>AND</td>\n",
       "      <td>0.466667</td>\n",
       "      <td>0.608497</td>\n",
       "      <td>0.735294</td>\n",
       "      <td>0.568627</td>\n",
       "      <td>0.352941</td>\n",
       "      <td>0.598039</td>\n",
       "      <td>0.519608</td>\n",
       "      <td>0.294118</td>\n",
       "      <td>0.725490</td>\n",
       "      <td>...</td>\n",
       "      <td>0.539216</td>\n",
       "      <td>0.470588</td>\n",
       "      <td>0.607843</td>\n",
       "      <td>0.529412</td>\n",
       "      <td>0.607843</td>\n",
       "      <td>0.450980</td>\n",
       "      <td>0.450980</td>\n",
       "      <td>0.647059</td>\n",
       "      <td>0.372549</td>\n",
       "      <td>0.352941</td>\n",
       "    </tr>\n",
       "    <tr>\n",
       "      <th>5</th>\n",
       "      <td>ARE</td>\n",
       "      <td>0.533333</td>\n",
       "      <td>0.731355</td>\n",
       "      <td>0.803653</td>\n",
       "      <td>0.803653</td>\n",
       "      <td>0.356164</td>\n",
       "      <td>0.689498</td>\n",
       "      <td>0.509132</td>\n",
       "      <td>0.589041</td>\n",
       "      <td>0.828767</td>\n",
       "      <td>...</td>\n",
       "      <td>0.714612</td>\n",
       "      <td>0.602740</td>\n",
       "      <td>0.840183</td>\n",
       "      <td>0.799087</td>\n",
       "      <td>0.525114</td>\n",
       "      <td>0.367580</td>\n",
       "      <td>0.383562</td>\n",
       "      <td>0.246575</td>\n",
       "      <td>0.577626</td>\n",
       "      <td>0.726027</td>\n",
       "    </tr>\n",
       "    <tr>\n",
       "      <th>...</th>\n",
       "      <td>...</td>\n",
       "      <td>...</td>\n",
       "      <td>...</td>\n",
       "      <td>...</td>\n",
       "      <td>...</td>\n",
       "      <td>...</td>\n",
       "      <td>...</td>\n",
       "      <td>...</td>\n",
       "      <td>...</td>\n",
       "      <td>...</td>\n",
       "      <td>...</td>\n",
       "      <td>...</td>\n",
       "      <td>...</td>\n",
       "      <td>...</td>\n",
       "      <td>...</td>\n",
       "      <td>...</td>\n",
       "      <td>...</td>\n",
       "      <td>...</td>\n",
       "      <td>...</td>\n",
       "      <td>...</td>\n",
       "      <td>...</td>\n",
       "    </tr>\n",
       "    <tr>\n",
       "      <th>151</th>\n",
       "      <td>VEN</td>\n",
       "      <td>0.533333</td>\n",
       "      <td>0.739583</td>\n",
       "      <td>0.895833</td>\n",
       "      <td>0.760417</td>\n",
       "      <td>0.187500</td>\n",
       "      <td>0.802083</td>\n",
       "      <td>0.562500</td>\n",
       "      <td>0.812500</td>\n",
       "      <td>0.916667</td>\n",
       "      <td>...</td>\n",
       "      <td>0.645833</td>\n",
       "      <td>0.812500</td>\n",
       "      <td>0.875000</td>\n",
       "      <td>0.770833</td>\n",
       "      <td>0.812500</td>\n",
       "      <td>0.333333</td>\n",
       "      <td>0.479167</td>\n",
       "      <td>0.250000</td>\n",
       "      <td>0.916667</td>\n",
       "      <td>0.750000</td>\n",
       "    </tr>\n",
       "    <tr>\n",
       "      <th>152</th>\n",
       "      <td>VNM</td>\n",
       "      <td>0.457436</td>\n",
       "      <td>0.673718</td>\n",
       "      <td>0.811538</td>\n",
       "      <td>0.746154</td>\n",
       "      <td>0.684615</td>\n",
       "      <td>0.698718</td>\n",
       "      <td>0.583333</td>\n",
       "      <td>0.200000</td>\n",
       "      <td>0.861538</td>\n",
       "      <td>...</td>\n",
       "      <td>0.633333</td>\n",
       "      <td>0.453846</td>\n",
       "      <td>0.728205</td>\n",
       "      <td>0.750000</td>\n",
       "      <td>0.623077</td>\n",
       "      <td>0.369231</td>\n",
       "      <td>0.453846</td>\n",
       "      <td>0.315385</td>\n",
       "      <td>0.515385</td>\n",
       "      <td>0.684615</td>\n",
       "    </tr>\n",
       "    <tr>\n",
       "      <th>153</th>\n",
       "      <td>ZAF</td>\n",
       "      <td>0.502674</td>\n",
       "      <td>0.717558</td>\n",
       "      <td>0.844920</td>\n",
       "      <td>0.806595</td>\n",
       "      <td>0.352941</td>\n",
       "      <td>0.798574</td>\n",
       "      <td>0.671123</td>\n",
       "      <td>0.625668</td>\n",
       "      <td>0.875223</td>\n",
       "      <td>...</td>\n",
       "      <td>0.615865</td>\n",
       "      <td>0.508021</td>\n",
       "      <td>0.799465</td>\n",
       "      <td>0.777184</td>\n",
       "      <td>0.630125</td>\n",
       "      <td>0.466132</td>\n",
       "      <td>0.470588</td>\n",
       "      <td>0.251337</td>\n",
       "      <td>0.581105</td>\n",
       "      <td>0.737968</td>\n",
       "    </tr>\n",
       "    <tr>\n",
       "      <th>154</th>\n",
       "      <td>ZMB</td>\n",
       "      <td>0.466667</td>\n",
       "      <td>0.722222</td>\n",
       "      <td>0.666667</td>\n",
       "      <td>0.833333</td>\n",
       "      <td>0.500000</td>\n",
       "      <td>0.583333</td>\n",
       "      <td>0.250000</td>\n",
       "      <td>0.500000</td>\n",
       "      <td>0.666667</td>\n",
       "      <td>...</td>\n",
       "      <td>0.250000</td>\n",
       "      <td>0.000000</td>\n",
       "      <td>0.750000</td>\n",
       "      <td>0.416667</td>\n",
       "      <td>0.583333</td>\n",
       "      <td>0.250000</td>\n",
       "      <td>0.416667</td>\n",
       "      <td>0.500000</td>\n",
       "      <td>0.666667</td>\n",
       "      <td>0.500000</td>\n",
       "    </tr>\n",
       "    <tr>\n",
       "      <th>155</th>\n",
       "      <td>ZWE</td>\n",
       "      <td>0.266667</td>\n",
       "      <td>0.805556</td>\n",
       "      <td>1.000000</td>\n",
       "      <td>0.833333</td>\n",
       "      <td>1.000000</td>\n",
       "      <td>1.000000</td>\n",
       "      <td>0.833333</td>\n",
       "      <td>0.000000</td>\n",
       "      <td>0.833333</td>\n",
       "      <td>...</td>\n",
       "      <td>0.833333</td>\n",
       "      <td>0.000000</td>\n",
       "      <td>0.833333</td>\n",
       "      <td>1.000000</td>\n",
       "      <td>0.000000</td>\n",
       "      <td>0.666667</td>\n",
       "      <td>0.000000</td>\n",
       "      <td>0.000000</td>\n",
       "      <td>0.500000</td>\n",
       "      <td>1.000000</td>\n",
       "    </tr>\n",
       "  </tbody>\n",
       "</table>\n",
       "<p>155 rows × 21 columns</p>\n",
       "</div>"
      ],
      "text/plain": [
       "    alpha3   Lon_avg  Compliance  Corona_concerns_2   Dem_edu  \\\n",
       "1      AFG  0.466667    0.660218           0.776786  0.720238   \n",
       "2      AGO  0.633333    0.833333           1.000000  0.916667   \n",
       "3      ALB  0.510099    0.756614           0.769841  0.730159   \n",
       "4      AND  0.466667    0.608497           0.735294  0.568627   \n",
       "5      ARE  0.533333    0.731355           0.803653  0.803653   \n",
       "..     ...       ...         ...                ...       ...   \n",
       "151    VEN  0.533333    0.739583           0.895833  0.760417   \n",
       "152    VNM  0.457436    0.673718           0.811538  0.746154   \n",
       "153    ZAF  0.502674    0.717558           0.844920  0.806595   \n",
       "154    ZMB  0.466667    0.722222           0.666667  0.833333   \n",
       "155    ZWE  0.266667    0.805556           1.000000  0.833333   \n",
       "\n",
       "     Life carries on with minor changes  Corona_concerns_1  Expl_Distress_1  \\\n",
       "1                              0.571429           0.687500         0.619048   \n",
       "2                              1.000000           1.000000         0.500000   \n",
       "3                              0.285714           0.674603         0.698413   \n",
       "4                              0.352941           0.598039         0.519608   \n",
       "5                              0.356164           0.689498         0.509132   \n",
       "..                                  ...                ...              ...   \n",
       "151                            0.187500           0.802083         0.562500   \n",
       "152                            0.684615           0.698718         0.583333   \n",
       "153                            0.352941           0.798574         0.671123   \n",
       "154                            0.500000           0.583333         0.250000   \n",
       "155                            1.000000           1.000000         0.833333   \n",
       "\n",
       "     Isolated  Corona_concerns_5  ...  Expl_Distress_19  Full time employed  \\\n",
       "1    0.214286           0.776786  ...          0.693452            0.446429   \n",
       "2    0.000000           0.750000  ...          1.000000            0.000000   \n",
       "3    0.714286           0.738095  ...          0.666667            0.571429   \n",
       "4    0.294118           0.725490  ...          0.539216            0.470588   \n",
       "5    0.589041           0.828767  ...          0.714612            0.602740   \n",
       "..        ...                ...  ...               ...                 ...   \n",
       "151  0.812500           0.916667  ...          0.645833            0.812500   \n",
       "152  0.200000           0.861538  ...          0.633333            0.453846   \n",
       "153  0.625668           0.875223  ...          0.615865            0.508021   \n",
       "154  0.500000           0.666667  ...          0.250000            0.000000   \n",
       "155  0.000000           0.833333  ...          0.833333            0.000000   \n",
       "\n",
       "     Expl_Distress_14  Expl_Distress_23  Expl_Distress_2  Expl_Distress_17  \\\n",
       "1            0.726190          0.675595         0.654762          0.449405   \n",
       "2            0.833333          0.583333         0.500000          1.000000   \n",
       "3            0.825397          0.714286         0.642857          0.507937   \n",
       "4            0.607843          0.529412         0.607843          0.450980   \n",
       "5            0.840183          0.799087         0.525114          0.367580   \n",
       "..                ...               ...              ...               ...   \n",
       "151          0.875000          0.770833         0.812500          0.333333   \n",
       "152          0.728205          0.750000         0.623077          0.369231   \n",
       "153          0.799465          0.777184         0.630125          0.466132   \n",
       "154          0.750000          0.416667         0.583333          0.250000   \n",
       "155          0.833333          1.000000         0.000000          0.666667   \n",
       "\n",
       "     Expl_Distress_8  Dem_male  Expl_Distress_5  Dem_female  \n",
       "1           0.625000  0.464286         0.696429    0.500000  \n",
       "2           0.916667  1.000000         0.583333    0.000000  \n",
       "3           0.642857  0.285714         0.674603    0.714286  \n",
       "4           0.450980  0.647059         0.372549    0.352941  \n",
       "5           0.383562  0.246575         0.577626    0.726027  \n",
       "..               ...       ...              ...         ...  \n",
       "151         0.479167  0.250000         0.916667    0.750000  \n",
       "152         0.453846  0.315385         0.515385    0.684615  \n",
       "153         0.470588  0.251337         0.581105    0.737968  \n",
       "154         0.416667  0.500000         0.666667    0.500000  \n",
       "155         0.000000  0.000000         0.500000    1.000000  \n",
       "\n",
       "[155 rows x 21 columns]"
      ]
     },
     "execution_count": 11,
     "metadata": {},
     "output_type": "execute_result"
    }
   ],
   "source": [
    "df_mean = df.groupby(\"alpha3\")[lst_imp_features].mean().reset_index().iloc[1:, :]\n",
    "df_mean"
   ]
  },
  {
   "cell_type": "code",
   "execution_count": 12,
   "id": "56fc53cf",
   "metadata": {},
   "outputs": [
    {
     "data": {
      "text/html": [
       "<div>\n",
       "<style scoped>\n",
       "    .dataframe tbody tr th:only-of-type {\n",
       "        vertical-align: middle;\n",
       "    }\n",
       "\n",
       "    .dataframe tbody tr th {\n",
       "        vertical-align: top;\n",
       "    }\n",
       "\n",
       "    .dataframe thead th {\n",
       "        text-align: right;\n",
       "    }\n",
       "</style>\n",
       "<table border=\"1\" class=\"dataframe\">\n",
       "  <thead>\n",
       "    <tr style=\"text-align: right;\">\n",
       "      <th></th>\n",
       "      <th>Lon_avg</th>\n",
       "      <th>Compliance</th>\n",
       "      <th>Corona_concerns_2</th>\n",
       "      <th>Dem_edu</th>\n",
       "      <th>Life carries on with minor changes</th>\n",
       "      <th>Corona_concerns_1</th>\n",
       "      <th>Expl_Distress_1</th>\n",
       "      <th>Isolated</th>\n",
       "      <th>Corona_concerns_5</th>\n",
       "      <th>Expl_Distress_21</th>\n",
       "      <th>Expl_Distress_19</th>\n",
       "      <th>Full time employed</th>\n",
       "      <th>Expl_Distress_14</th>\n",
       "      <th>Expl_Distress_23</th>\n",
       "      <th>Expl_Distress_2</th>\n",
       "      <th>Expl_Distress_17</th>\n",
       "      <th>Expl_Distress_8</th>\n",
       "      <th>Dem_male</th>\n",
       "      <th>Expl_Distress_5</th>\n",
       "      <th>Dem_female</th>\n",
       "    </tr>\n",
       "  </thead>\n",
       "  <tbody>\n",
       "    <tr>\n",
       "      <th>0</th>\n",
       "      <td>0.512948</td>\n",
       "      <td>0.683593</td>\n",
       "      <td>0.804928</td>\n",
       "      <td>0.751998</td>\n",
       "      <td>0.56874</td>\n",
       "      <td>0.677255</td>\n",
       "      <td>0.539725</td>\n",
       "      <td>0.376478</td>\n",
       "      <td>0.80961</td>\n",
       "      <td>0.572979</td>\n",
       "      <td>0.579969</td>\n",
       "      <td>0.48032</td>\n",
       "      <td>0.710988</td>\n",
       "      <td>0.723599</td>\n",
       "      <td>0.535339</td>\n",
       "      <td>0.399703</td>\n",
       "      <td>0.43106</td>\n",
       "      <td>0.266117</td>\n",
       "      <td>0.511753</td>\n",
       "      <td>0.721242</td>\n",
       "    </tr>\n",
       "  </tbody>\n",
       "</table>\n",
       "</div>"
      ],
      "text/plain": [
       "    Lon_avg  Compliance  Corona_concerns_2   Dem_edu  \\\n",
       "0  0.512948    0.683593           0.804928  0.751998   \n",
       "\n",
       "   Life carries on with minor changes  Corona_concerns_1  Expl_Distress_1  \\\n",
       "0                             0.56874           0.677255         0.539725   \n",
       "\n",
       "   Isolated  Corona_concerns_5  Expl_Distress_21  Expl_Distress_19  \\\n",
       "0  0.376478            0.80961          0.572979          0.579969   \n",
       "\n",
       "   Full time employed  Expl_Distress_14  Expl_Distress_23  Expl_Distress_2  \\\n",
       "0             0.48032          0.710988          0.723599         0.535339   \n",
       "\n",
       "   Expl_Distress_17  Expl_Distress_8  Dem_male  Expl_Distress_5  Dem_female  \n",
       "0          0.399703          0.43106  0.266117         0.511753    0.721242  "
      ]
     },
     "execution_count": 12,
     "metadata": {},
     "output_type": "execute_result"
    }
   ],
   "source": [
    "df_avg.T"
   ]
  },
  {
   "cell_type": "code",
   "execution_count": 13,
   "id": "714c281f",
   "metadata": {},
   "outputs": [
    {
     "data": {
      "text/plain": [
       "array(['AFG', 'AGO', 'ALB', 'AND', 'ARE', 'ARG', 'ARM', 'ATG', 'AUS',\n",
       "       'AUT', 'AZE', 'BEL', 'BEN', 'BFA', 'BGD', 'BGR', 'BHR', 'BIH',\n",
       "       'BLR', 'BLZ', 'BOL', 'BRA', 'BRN', 'CAN', 'CHE', 'CHL', 'CHN',\n",
       "       'CMR', 'COD', 'COL', 'COM', 'CRI', 'CYP', 'CZE', 'DEU', 'DJI',\n",
       "       'DNK', 'DOM', 'DZA', 'ECU', 'EGY', 'ERI', 'ESP', 'EST', 'ETH',\n",
       "       'FIN', 'FJI', 'FRA', 'FSM', 'GAB', 'GBR', 'GEO', 'GHA', 'GMB',\n",
       "       'GNB', 'GRC', 'GRD', 'GTM', 'GUY', 'HND', 'HRV', 'HTI', 'HUN',\n",
       "       'IDN', 'IND', 'IRL', 'IRN', 'ISL', 'ISR', 'ITA', 'JAM', 'JOR',\n",
       "       'JPN', 'KAZ', 'KEN', 'KGZ', 'KHM', 'KIR', 'KOR', 'KWT', 'LBN',\n",
       "       'LBY', 'LIE', 'LKA', 'LSO', 'LTU', 'LUX', 'LVA', 'MAR', 'MCO',\n",
       "       'MDA', 'MDG', 'MDV', 'MEX', 'MKD', 'MLI', 'MLT', 'MMR', 'MNE',\n",
       "       'MOZ', 'MUS', 'MYS', 'NAM', 'NER', 'NGA', 'NIC', 'NLD', 'NOR',\n",
       "       'NPL', 'NRU', 'NZL', 'OMN', 'PAK', 'PAN', 'PER', 'PHL', 'POL',\n",
       "       'PRK', 'PRT', 'PRY', 'QAT', 'ROU', 'RUS', 'RWA', 'SAU', 'SDN',\n",
       "       'SEN', 'SGP', 'SLB', 'SLV', 'SMR', 'SOM', 'SRB', 'SUR', 'SVK',\n",
       "       'SVN', 'SWE', 'SYC', 'THA', 'TKM', 'TTO', 'TUN', 'TUR', 'TWN',\n",
       "       'TZA', 'UGA', 'UKR', 'URY', 'USA', 'UZB', 'VEN', 'VNM', 'ZAF',\n",
       "       'ZMB', 'ZWE'], dtype=object)"
      ]
     },
     "execution_count": 13,
     "metadata": {},
     "output_type": "execute_result"
    }
   ],
   "source": [
    "arr_alpha3 = df_mean['alpha3'].values\n",
    "arr_alpha3"
   ]
  },
  {
   "cell_type": "code",
   "execution_count": 14,
   "id": "714191d1",
   "metadata": {},
   "outputs": [
    {
     "data": {
      "text/html": [
       "<div>\n",
       "<style scoped>\n",
       "    .dataframe tbody tr th:only-of-type {\n",
       "        vertical-align: middle;\n",
       "    }\n",
       "\n",
       "    .dataframe tbody tr th {\n",
       "        vertical-align: top;\n",
       "    }\n",
       "\n",
       "    .dataframe thead th {\n",
       "        text-align: right;\n",
       "    }\n",
       "</style>\n",
       "<table border=\"1\" class=\"dataframe\">\n",
       "  <thead>\n",
       "    <tr style=\"text-align: right;\">\n",
       "      <th></th>\n",
       "      <th>Lon_avg</th>\n",
       "      <th>Compliance</th>\n",
       "      <th>Corona_concerns_2</th>\n",
       "      <th>Dem_edu</th>\n",
       "      <th>Life carries on with minor changes</th>\n",
       "      <th>Corona_concerns_1</th>\n",
       "      <th>Expl_Distress_1</th>\n",
       "      <th>Isolated</th>\n",
       "      <th>Corona_concerns_5</th>\n",
       "      <th>Expl_Distress_21</th>\n",
       "      <th>Expl_Distress_19</th>\n",
       "      <th>Full time employed</th>\n",
       "      <th>Expl_Distress_14</th>\n",
       "      <th>Expl_Distress_23</th>\n",
       "      <th>Expl_Distress_2</th>\n",
       "      <th>Expl_Distress_17</th>\n",
       "      <th>Expl_Distress_8</th>\n",
       "      <th>Dem_male</th>\n",
       "      <th>Expl_Distress_5</th>\n",
       "      <th>Dem_female</th>\n",
       "    </tr>\n",
       "  </thead>\n",
       "  <tbody>\n",
       "    <tr>\n",
       "      <th>0</th>\n",
       "      <td>0.046282</td>\n",
       "      <td>0.023374</td>\n",
       "      <td>0.028142</td>\n",
       "      <td>0.031760</td>\n",
       "      <td>-0.002688</td>\n",
       "      <td>-0.010245</td>\n",
       "      <td>-0.079323</td>\n",
       "      <td>0.162192</td>\n",
       "      <td>0.032824</td>\n",
       "      <td>0.043217</td>\n",
       "      <td>-0.113483</td>\n",
       "      <td>0.033891</td>\n",
       "      <td>-0.015203</td>\n",
       "      <td>0.048004</td>\n",
       "      <td>-0.119423</td>\n",
       "      <td>-0.049702</td>\n",
       "      <td>-0.193940</td>\n",
       "      <td>-0.198169</td>\n",
       "      <td>-0.184675</td>\n",
       "      <td>0.221242</td>\n",
       "    </tr>\n",
       "    <tr>\n",
       "      <th>1</th>\n",
       "      <td>-0.120385</td>\n",
       "      <td>-0.149741</td>\n",
       "      <td>-0.195072</td>\n",
       "      <td>-0.164669</td>\n",
       "      <td>-0.431260</td>\n",
       "      <td>-0.322745</td>\n",
       "      <td>0.039725</td>\n",
       "      <td>0.376478</td>\n",
       "      <td>0.059610</td>\n",
       "      <td>-0.343688</td>\n",
       "      <td>-0.420031</td>\n",
       "      <td>0.480320</td>\n",
       "      <td>-0.122346</td>\n",
       "      <td>0.140266</td>\n",
       "      <td>0.035339</td>\n",
       "      <td>-0.600297</td>\n",
       "      <td>-0.485606</td>\n",
       "      <td>-0.733883</td>\n",
       "      <td>-0.071580</td>\n",
       "      <td>0.721242</td>\n",
       "    </tr>\n",
       "    <tr>\n",
       "      <th>2</th>\n",
       "      <td>0.002849</td>\n",
       "      <td>-0.073021</td>\n",
       "      <td>0.035087</td>\n",
       "      <td>0.021839</td>\n",
       "      <td>0.283026</td>\n",
       "      <td>0.002652</td>\n",
       "      <td>-0.158688</td>\n",
       "      <td>-0.337808</td>\n",
       "      <td>0.071515</td>\n",
       "      <td>0.017423</td>\n",
       "      <td>-0.086697</td>\n",
       "      <td>-0.091109</td>\n",
       "      <td>-0.114409</td>\n",
       "      <td>0.009314</td>\n",
       "      <td>-0.107518</td>\n",
       "      <td>-0.108234</td>\n",
       "      <td>-0.211797</td>\n",
       "      <td>-0.019597</td>\n",
       "      <td>-0.162850</td>\n",
       "      <td>0.006956</td>\n",
       "    </tr>\n",
       "    <tr>\n",
       "      <th>3</th>\n",
       "      <td>0.046282</td>\n",
       "      <td>0.075096</td>\n",
       "      <td>0.069634</td>\n",
       "      <td>0.183370</td>\n",
       "      <td>0.215799</td>\n",
       "      <td>0.079216</td>\n",
       "      <td>0.020117</td>\n",
       "      <td>0.082361</td>\n",
       "      <td>0.084120</td>\n",
       "      <td>0.004351</td>\n",
       "      <td>0.040754</td>\n",
       "      <td>0.009731</td>\n",
       "      <td>0.103145</td>\n",
       "      <td>0.194188</td>\n",
       "      <td>-0.072504</td>\n",
       "      <td>-0.051278</td>\n",
       "      <td>-0.019920</td>\n",
       "      <td>-0.380942</td>\n",
       "      <td>0.139204</td>\n",
       "      <td>0.368301</td>\n",
       "    </tr>\n",
       "    <tr>\n",
       "      <th>4</th>\n",
       "      <td>-0.020385</td>\n",
       "      <td>-0.047762</td>\n",
       "      <td>0.001275</td>\n",
       "      <td>-0.051655</td>\n",
       "      <td>0.212576</td>\n",
       "      <td>-0.012242</td>\n",
       "      <td>0.030593</td>\n",
       "      <td>-0.212563</td>\n",
       "      <td>-0.019157</td>\n",
       "      <td>0.013618</td>\n",
       "      <td>-0.134642</td>\n",
       "      <td>-0.122420</td>\n",
       "      <td>-0.129195</td>\n",
       "      <td>-0.075487</td>\n",
       "      <td>0.010225</td>\n",
       "      <td>0.032123</td>\n",
       "      <td>0.047499</td>\n",
       "      <td>0.019542</td>\n",
       "      <td>-0.065872</td>\n",
       "      <td>-0.004785</td>\n",
       "    </tr>\n",
       "    <tr>\n",
       "      <th>...</th>\n",
       "      <td>...</td>\n",
       "      <td>...</td>\n",
       "      <td>...</td>\n",
       "      <td>...</td>\n",
       "      <td>...</td>\n",
       "      <td>...</td>\n",
       "      <td>...</td>\n",
       "      <td>...</td>\n",
       "      <td>...</td>\n",
       "      <td>...</td>\n",
       "      <td>...</td>\n",
       "      <td>...</td>\n",
       "      <td>...</td>\n",
       "      <td>...</td>\n",
       "      <td>...</td>\n",
       "      <td>...</td>\n",
       "      <td>...</td>\n",
       "      <td>...</td>\n",
       "      <td>...</td>\n",
       "      <td>...</td>\n",
       "    </tr>\n",
       "    <tr>\n",
       "      <th>150</th>\n",
       "      <td>-0.020385</td>\n",
       "      <td>-0.055991</td>\n",
       "      <td>-0.090905</td>\n",
       "      <td>-0.008419</td>\n",
       "      <td>0.381240</td>\n",
       "      <td>-0.124828</td>\n",
       "      <td>-0.022775</td>\n",
       "      <td>-0.436022</td>\n",
       "      <td>-0.107057</td>\n",
       "      <td>-0.114521</td>\n",
       "      <td>-0.065864</td>\n",
       "      <td>-0.332180</td>\n",
       "      <td>-0.164012</td>\n",
       "      <td>-0.047234</td>\n",
       "      <td>-0.277161</td>\n",
       "      <td>0.066369</td>\n",
       "      <td>-0.048106</td>\n",
       "      <td>0.016117</td>\n",
       "      <td>-0.404913</td>\n",
       "      <td>-0.028758</td>\n",
       "    </tr>\n",
       "    <tr>\n",
       "      <th>151</th>\n",
       "      <td>0.055512</td>\n",
       "      <td>0.009875</td>\n",
       "      <td>-0.006610</td>\n",
       "      <td>0.005844</td>\n",
       "      <td>-0.115875</td>\n",
       "      <td>-0.021463</td>\n",
       "      <td>-0.043608</td>\n",
       "      <td>0.176478</td>\n",
       "      <td>-0.051929</td>\n",
       "      <td>0.074261</td>\n",
       "      <td>-0.053364</td>\n",
       "      <td>0.026473</td>\n",
       "      <td>-0.017217</td>\n",
       "      <td>-0.026401</td>\n",
       "      <td>-0.087738</td>\n",
       "      <td>0.030472</td>\n",
       "      <td>-0.022786</td>\n",
       "      <td>-0.049267</td>\n",
       "      <td>-0.003631</td>\n",
       "      <td>0.036627</td>\n",
       "    </tr>\n",
       "    <tr>\n",
       "      <th>152</th>\n",
       "      <td>0.010274</td>\n",
       "      <td>-0.033965</td>\n",
       "      <td>-0.039992</td>\n",
       "      <td>-0.054597</td>\n",
       "      <td>0.215799</td>\n",
       "      <td>-0.121319</td>\n",
       "      <td>-0.131398</td>\n",
       "      <td>-0.249190</td>\n",
       "      <td>-0.065613</td>\n",
       "      <td>0.016829</td>\n",
       "      <td>-0.035895</td>\n",
       "      <td>-0.027702</td>\n",
       "      <td>-0.088477</td>\n",
       "      <td>-0.053584</td>\n",
       "      <td>-0.094786</td>\n",
       "      <td>-0.066429</td>\n",
       "      <td>-0.039528</td>\n",
       "      <td>0.014780</td>\n",
       "      <td>-0.069352</td>\n",
       "      <td>-0.016726</td>\n",
       "    </tr>\n",
       "    <tr>\n",
       "      <th>153</th>\n",
       "      <td>0.046282</td>\n",
       "      <td>-0.038629</td>\n",
       "      <td>0.138261</td>\n",
       "      <td>-0.081335</td>\n",
       "      <td>0.068740</td>\n",
       "      <td>0.093922</td>\n",
       "      <td>0.289725</td>\n",
       "      <td>-0.123522</td>\n",
       "      <td>0.142943</td>\n",
       "      <td>-0.010355</td>\n",
       "      <td>0.329969</td>\n",
       "      <td>0.480320</td>\n",
       "      <td>-0.039012</td>\n",
       "      <td>0.306933</td>\n",
       "      <td>-0.047994</td>\n",
       "      <td>0.149703</td>\n",
       "      <td>0.014394</td>\n",
       "      <td>-0.233883</td>\n",
       "      <td>-0.154913</td>\n",
       "      <td>0.221242</td>\n",
       "    </tr>\n",
       "    <tr>\n",
       "      <th>154</th>\n",
       "      <td>0.246282</td>\n",
       "      <td>-0.121963</td>\n",
       "      <td>-0.195072</td>\n",
       "      <td>-0.081335</td>\n",
       "      <td>-0.431260</td>\n",
       "      <td>-0.322745</td>\n",
       "      <td>-0.293608</td>\n",
       "      <td>0.376478</td>\n",
       "      <td>-0.023724</td>\n",
       "      <td>-0.260355</td>\n",
       "      <td>-0.253364</td>\n",
       "      <td>0.480320</td>\n",
       "      <td>-0.122346</td>\n",
       "      <td>-0.276401</td>\n",
       "      <td>0.535339</td>\n",
       "      <td>-0.266964</td>\n",
       "      <td>0.431060</td>\n",
       "      <td>0.266117</td>\n",
       "      <td>0.011753</td>\n",
       "      <td>-0.278758</td>\n",
       "    </tr>\n",
       "  </tbody>\n",
       "</table>\n",
       "<p>155 rows × 20 columns</p>\n",
       "</div>"
      ],
      "text/plain": [
       "      Lon_avg  Compliance  Corona_concerns_2   Dem_edu  \\\n",
       "0    0.046282    0.023374           0.028142  0.031760   \n",
       "1   -0.120385   -0.149741          -0.195072 -0.164669   \n",
       "2    0.002849   -0.073021           0.035087  0.021839   \n",
       "3    0.046282    0.075096           0.069634  0.183370   \n",
       "4   -0.020385   -0.047762           0.001275 -0.051655   \n",
       "..        ...         ...                ...       ...   \n",
       "150 -0.020385   -0.055991          -0.090905 -0.008419   \n",
       "151  0.055512    0.009875          -0.006610  0.005844   \n",
       "152  0.010274   -0.033965          -0.039992 -0.054597   \n",
       "153  0.046282   -0.038629           0.138261 -0.081335   \n",
       "154  0.246282   -0.121963          -0.195072 -0.081335   \n",
       "\n",
       "     Life carries on with minor changes  Corona_concerns_1  Expl_Distress_1  \\\n",
       "0                             -0.002688          -0.010245        -0.079323   \n",
       "1                             -0.431260          -0.322745         0.039725   \n",
       "2                              0.283026           0.002652        -0.158688   \n",
       "3                              0.215799           0.079216         0.020117   \n",
       "4                              0.212576          -0.012242         0.030593   \n",
       "..                                  ...                ...              ...   \n",
       "150                            0.381240          -0.124828        -0.022775   \n",
       "151                           -0.115875          -0.021463        -0.043608   \n",
       "152                            0.215799          -0.121319        -0.131398   \n",
       "153                            0.068740           0.093922         0.289725   \n",
       "154                           -0.431260          -0.322745        -0.293608   \n",
       "\n",
       "     Isolated  Corona_concerns_5  Expl_Distress_21  Expl_Distress_19  \\\n",
       "0    0.162192           0.032824          0.043217         -0.113483   \n",
       "1    0.376478           0.059610         -0.343688         -0.420031   \n",
       "2   -0.337808           0.071515          0.017423         -0.086697   \n",
       "3    0.082361           0.084120          0.004351          0.040754   \n",
       "4   -0.212563          -0.019157          0.013618         -0.134642   \n",
       "..        ...                ...               ...               ...   \n",
       "150 -0.436022          -0.107057         -0.114521         -0.065864   \n",
       "151  0.176478          -0.051929          0.074261         -0.053364   \n",
       "152 -0.249190          -0.065613          0.016829         -0.035895   \n",
       "153 -0.123522           0.142943         -0.010355          0.329969   \n",
       "154  0.376478          -0.023724         -0.260355         -0.253364   \n",
       "\n",
       "     Full time employed  Expl_Distress_14  Expl_Distress_23  Expl_Distress_2  \\\n",
       "0              0.033891         -0.015203          0.048004        -0.119423   \n",
       "1              0.480320         -0.122346          0.140266         0.035339   \n",
       "2             -0.091109         -0.114409          0.009314        -0.107518   \n",
       "3              0.009731          0.103145          0.194188        -0.072504   \n",
       "4             -0.122420         -0.129195         -0.075487         0.010225   \n",
       "..                  ...               ...               ...              ...   \n",
       "150           -0.332180         -0.164012         -0.047234        -0.277161   \n",
       "151            0.026473         -0.017217         -0.026401        -0.087738   \n",
       "152           -0.027702         -0.088477         -0.053584        -0.094786   \n",
       "153            0.480320         -0.039012          0.306933        -0.047994   \n",
       "154            0.480320         -0.122346         -0.276401         0.535339   \n",
       "\n",
       "     Expl_Distress_17  Expl_Distress_8  Dem_male  Expl_Distress_5  Dem_female  \n",
       "0           -0.049702        -0.193940 -0.198169        -0.184675    0.221242  \n",
       "1           -0.600297        -0.485606 -0.733883        -0.071580    0.721242  \n",
       "2           -0.108234        -0.211797 -0.019597        -0.162850    0.006956  \n",
       "3           -0.051278        -0.019920 -0.380942         0.139204    0.368301  \n",
       "4            0.032123         0.047499  0.019542        -0.065872   -0.004785  \n",
       "..                ...              ...       ...              ...         ...  \n",
       "150          0.066369        -0.048106  0.016117        -0.404913   -0.028758  \n",
       "151          0.030472        -0.022786 -0.049267        -0.003631    0.036627  \n",
       "152         -0.066429        -0.039528  0.014780        -0.069352   -0.016726  \n",
       "153          0.149703         0.014394 -0.233883        -0.154913    0.221242  \n",
       "154         -0.266964         0.431060  0.266117         0.011753   -0.278758  \n",
       "\n",
       "[155 rows x 20 columns]"
      ]
     },
     "execution_count": 14,
     "metadata": {},
     "output_type": "execute_result"
    }
   ],
   "source": [
    "df_sub = pd.DataFrame(df_avg.T.values-df_mean[lst_imp_features].values, columns=df_mean[lst_imp_features].columns)\n",
    "df_sub"
   ]
  },
  {
   "cell_type": "code",
   "execution_count": 15,
   "id": "830baf3b",
   "metadata": {},
   "outputs": [],
   "source": [
    "df_sub = df_sub.abs()"
   ]
  },
  {
   "cell_type": "code",
   "execution_count": 16,
   "id": "f552d388",
   "metadata": {},
   "outputs": [],
   "source": [
    "df_sub['imp_feature'] = df_sub.idxmax(axis=1)"
   ]
  },
  {
   "cell_type": "code",
   "execution_count": 17,
   "id": "dc3981b2",
   "metadata": {},
   "outputs": [
    {
     "data": {
      "text/html": [
       "<div>\n",
       "<style scoped>\n",
       "    .dataframe tbody tr th:only-of-type {\n",
       "        vertical-align: middle;\n",
       "    }\n",
       "\n",
       "    .dataframe tbody tr th {\n",
       "        vertical-align: top;\n",
       "    }\n",
       "\n",
       "    .dataframe thead th {\n",
       "        text-align: right;\n",
       "    }\n",
       "</style>\n",
       "<table border=\"1\" class=\"dataframe\">\n",
       "  <thead>\n",
       "    <tr style=\"text-align: right;\">\n",
       "      <th></th>\n",
       "      <th>Lon_avg</th>\n",
       "      <th>Compliance</th>\n",
       "      <th>Corona_concerns_2</th>\n",
       "      <th>Dem_edu</th>\n",
       "      <th>Life carries on with minor changes</th>\n",
       "      <th>Corona_concerns_1</th>\n",
       "      <th>Expl_Distress_1</th>\n",
       "      <th>Isolated</th>\n",
       "      <th>Corona_concerns_5</th>\n",
       "      <th>Expl_Distress_21</th>\n",
       "      <th>...</th>\n",
       "      <th>Expl_Distress_14</th>\n",
       "      <th>Expl_Distress_23</th>\n",
       "      <th>Expl_Distress_2</th>\n",
       "      <th>Expl_Distress_17</th>\n",
       "      <th>Expl_Distress_8</th>\n",
       "      <th>Dem_male</th>\n",
       "      <th>Expl_Distress_5</th>\n",
       "      <th>Dem_female</th>\n",
       "      <th>imp_feature</th>\n",
       "      <th>alpha3</th>\n",
       "    </tr>\n",
       "  </thead>\n",
       "  <tbody>\n",
       "    <tr>\n",
       "      <th>0</th>\n",
       "      <td>0.046282</td>\n",
       "      <td>0.023374</td>\n",
       "      <td>0.028142</td>\n",
       "      <td>0.031760</td>\n",
       "      <td>0.002688</td>\n",
       "      <td>0.010245</td>\n",
       "      <td>0.079323</td>\n",
       "      <td>0.162192</td>\n",
       "      <td>0.032824</td>\n",
       "      <td>0.043217</td>\n",
       "      <td>...</td>\n",
       "      <td>0.015203</td>\n",
       "      <td>0.048004</td>\n",
       "      <td>0.119423</td>\n",
       "      <td>0.049702</td>\n",
       "      <td>0.193940</td>\n",
       "      <td>0.198169</td>\n",
       "      <td>0.184675</td>\n",
       "      <td>0.221242</td>\n",
       "      <td>Dem_female</td>\n",
       "      <td>AFG</td>\n",
       "    </tr>\n",
       "    <tr>\n",
       "      <th>1</th>\n",
       "      <td>0.120385</td>\n",
       "      <td>0.149741</td>\n",
       "      <td>0.195072</td>\n",
       "      <td>0.164669</td>\n",
       "      <td>0.431260</td>\n",
       "      <td>0.322745</td>\n",
       "      <td>0.039725</td>\n",
       "      <td>0.376478</td>\n",
       "      <td>0.059610</td>\n",
       "      <td>0.343688</td>\n",
       "      <td>...</td>\n",
       "      <td>0.122346</td>\n",
       "      <td>0.140266</td>\n",
       "      <td>0.035339</td>\n",
       "      <td>0.600297</td>\n",
       "      <td>0.485606</td>\n",
       "      <td>0.733883</td>\n",
       "      <td>0.071580</td>\n",
       "      <td>0.721242</td>\n",
       "      <td>Dem_male</td>\n",
       "      <td>AGO</td>\n",
       "    </tr>\n",
       "    <tr>\n",
       "      <th>2</th>\n",
       "      <td>0.002849</td>\n",
       "      <td>0.073021</td>\n",
       "      <td>0.035087</td>\n",
       "      <td>0.021839</td>\n",
       "      <td>0.283026</td>\n",
       "      <td>0.002652</td>\n",
       "      <td>0.158688</td>\n",
       "      <td>0.337808</td>\n",
       "      <td>0.071515</td>\n",
       "      <td>0.017423</td>\n",
       "      <td>...</td>\n",
       "      <td>0.114409</td>\n",
       "      <td>0.009314</td>\n",
       "      <td>0.107518</td>\n",
       "      <td>0.108234</td>\n",
       "      <td>0.211797</td>\n",
       "      <td>0.019597</td>\n",
       "      <td>0.162850</td>\n",
       "      <td>0.006956</td>\n",
       "      <td>Isolated</td>\n",
       "      <td>ALB</td>\n",
       "    </tr>\n",
       "    <tr>\n",
       "      <th>3</th>\n",
       "      <td>0.046282</td>\n",
       "      <td>0.075096</td>\n",
       "      <td>0.069634</td>\n",
       "      <td>0.183370</td>\n",
       "      <td>0.215799</td>\n",
       "      <td>0.079216</td>\n",
       "      <td>0.020117</td>\n",
       "      <td>0.082361</td>\n",
       "      <td>0.084120</td>\n",
       "      <td>0.004351</td>\n",
       "      <td>...</td>\n",
       "      <td>0.103145</td>\n",
       "      <td>0.194188</td>\n",
       "      <td>0.072504</td>\n",
       "      <td>0.051278</td>\n",
       "      <td>0.019920</td>\n",
       "      <td>0.380942</td>\n",
       "      <td>0.139204</td>\n",
       "      <td>0.368301</td>\n",
       "      <td>Dem_male</td>\n",
       "      <td>AND</td>\n",
       "    </tr>\n",
       "    <tr>\n",
       "      <th>4</th>\n",
       "      <td>0.020385</td>\n",
       "      <td>0.047762</td>\n",
       "      <td>0.001275</td>\n",
       "      <td>0.051655</td>\n",
       "      <td>0.212576</td>\n",
       "      <td>0.012242</td>\n",
       "      <td>0.030593</td>\n",
       "      <td>0.212563</td>\n",
       "      <td>0.019157</td>\n",
       "      <td>0.013618</td>\n",
       "      <td>...</td>\n",
       "      <td>0.129195</td>\n",
       "      <td>0.075487</td>\n",
       "      <td>0.010225</td>\n",
       "      <td>0.032123</td>\n",
       "      <td>0.047499</td>\n",
       "      <td>0.019542</td>\n",
       "      <td>0.065872</td>\n",
       "      <td>0.004785</td>\n",
       "      <td>Life carries on with minor changes</td>\n",
       "      <td>ARE</td>\n",
       "    </tr>\n",
       "    <tr>\n",
       "      <th>...</th>\n",
       "      <td>...</td>\n",
       "      <td>...</td>\n",
       "      <td>...</td>\n",
       "      <td>...</td>\n",
       "      <td>...</td>\n",
       "      <td>...</td>\n",
       "      <td>...</td>\n",
       "      <td>...</td>\n",
       "      <td>...</td>\n",
       "      <td>...</td>\n",
       "      <td>...</td>\n",
       "      <td>...</td>\n",
       "      <td>...</td>\n",
       "      <td>...</td>\n",
       "      <td>...</td>\n",
       "      <td>...</td>\n",
       "      <td>...</td>\n",
       "      <td>...</td>\n",
       "      <td>...</td>\n",
       "      <td>...</td>\n",
       "      <td>...</td>\n",
       "    </tr>\n",
       "    <tr>\n",
       "      <th>150</th>\n",
       "      <td>0.020385</td>\n",
       "      <td>0.055991</td>\n",
       "      <td>0.090905</td>\n",
       "      <td>0.008419</td>\n",
       "      <td>0.381240</td>\n",
       "      <td>0.124828</td>\n",
       "      <td>0.022775</td>\n",
       "      <td>0.436022</td>\n",
       "      <td>0.107057</td>\n",
       "      <td>0.114521</td>\n",
       "      <td>...</td>\n",
       "      <td>0.164012</td>\n",
       "      <td>0.047234</td>\n",
       "      <td>0.277161</td>\n",
       "      <td>0.066369</td>\n",
       "      <td>0.048106</td>\n",
       "      <td>0.016117</td>\n",
       "      <td>0.404913</td>\n",
       "      <td>0.028758</td>\n",
       "      <td>Isolated</td>\n",
       "      <td>VEN</td>\n",
       "    </tr>\n",
       "    <tr>\n",
       "      <th>151</th>\n",
       "      <td>0.055512</td>\n",
       "      <td>0.009875</td>\n",
       "      <td>0.006610</td>\n",
       "      <td>0.005844</td>\n",
       "      <td>0.115875</td>\n",
       "      <td>0.021463</td>\n",
       "      <td>0.043608</td>\n",
       "      <td>0.176478</td>\n",
       "      <td>0.051929</td>\n",
       "      <td>0.074261</td>\n",
       "      <td>...</td>\n",
       "      <td>0.017217</td>\n",
       "      <td>0.026401</td>\n",
       "      <td>0.087738</td>\n",
       "      <td>0.030472</td>\n",
       "      <td>0.022786</td>\n",
       "      <td>0.049267</td>\n",
       "      <td>0.003631</td>\n",
       "      <td>0.036627</td>\n",
       "      <td>Isolated</td>\n",
       "      <td>VNM</td>\n",
       "    </tr>\n",
       "    <tr>\n",
       "      <th>152</th>\n",
       "      <td>0.010274</td>\n",
       "      <td>0.033965</td>\n",
       "      <td>0.039992</td>\n",
       "      <td>0.054597</td>\n",
       "      <td>0.215799</td>\n",
       "      <td>0.121319</td>\n",
       "      <td>0.131398</td>\n",
       "      <td>0.249190</td>\n",
       "      <td>0.065613</td>\n",
       "      <td>0.016829</td>\n",
       "      <td>...</td>\n",
       "      <td>0.088477</td>\n",
       "      <td>0.053584</td>\n",
       "      <td>0.094786</td>\n",
       "      <td>0.066429</td>\n",
       "      <td>0.039528</td>\n",
       "      <td>0.014780</td>\n",
       "      <td>0.069352</td>\n",
       "      <td>0.016726</td>\n",
       "      <td>Isolated</td>\n",
       "      <td>ZAF</td>\n",
       "    </tr>\n",
       "    <tr>\n",
       "      <th>153</th>\n",
       "      <td>0.046282</td>\n",
       "      <td>0.038629</td>\n",
       "      <td>0.138261</td>\n",
       "      <td>0.081335</td>\n",
       "      <td>0.068740</td>\n",
       "      <td>0.093922</td>\n",
       "      <td>0.289725</td>\n",
       "      <td>0.123522</td>\n",
       "      <td>0.142943</td>\n",
       "      <td>0.010355</td>\n",
       "      <td>...</td>\n",
       "      <td>0.039012</td>\n",
       "      <td>0.306933</td>\n",
       "      <td>0.047994</td>\n",
       "      <td>0.149703</td>\n",
       "      <td>0.014394</td>\n",
       "      <td>0.233883</td>\n",
       "      <td>0.154913</td>\n",
       "      <td>0.221242</td>\n",
       "      <td>Full time employed</td>\n",
       "      <td>ZMB</td>\n",
       "    </tr>\n",
       "    <tr>\n",
       "      <th>154</th>\n",
       "      <td>0.246282</td>\n",
       "      <td>0.121963</td>\n",
       "      <td>0.195072</td>\n",
       "      <td>0.081335</td>\n",
       "      <td>0.431260</td>\n",
       "      <td>0.322745</td>\n",
       "      <td>0.293608</td>\n",
       "      <td>0.376478</td>\n",
       "      <td>0.023724</td>\n",
       "      <td>0.260355</td>\n",
       "      <td>...</td>\n",
       "      <td>0.122346</td>\n",
       "      <td>0.276401</td>\n",
       "      <td>0.535339</td>\n",
       "      <td>0.266964</td>\n",
       "      <td>0.431060</td>\n",
       "      <td>0.266117</td>\n",
       "      <td>0.011753</td>\n",
       "      <td>0.278758</td>\n",
       "      <td>Expl_Distress_2</td>\n",
       "      <td>ZWE</td>\n",
       "    </tr>\n",
       "  </tbody>\n",
       "</table>\n",
       "<p>155 rows × 22 columns</p>\n",
       "</div>"
      ],
      "text/plain": [
       "      Lon_avg  Compliance  Corona_concerns_2   Dem_edu  \\\n",
       "0    0.046282    0.023374           0.028142  0.031760   \n",
       "1    0.120385    0.149741           0.195072  0.164669   \n",
       "2    0.002849    0.073021           0.035087  0.021839   \n",
       "3    0.046282    0.075096           0.069634  0.183370   \n",
       "4    0.020385    0.047762           0.001275  0.051655   \n",
       "..        ...         ...                ...       ...   \n",
       "150  0.020385    0.055991           0.090905  0.008419   \n",
       "151  0.055512    0.009875           0.006610  0.005844   \n",
       "152  0.010274    0.033965           0.039992  0.054597   \n",
       "153  0.046282    0.038629           0.138261  0.081335   \n",
       "154  0.246282    0.121963           0.195072  0.081335   \n",
       "\n",
       "     Life carries on with minor changes  Corona_concerns_1  Expl_Distress_1  \\\n",
       "0                              0.002688           0.010245         0.079323   \n",
       "1                              0.431260           0.322745         0.039725   \n",
       "2                              0.283026           0.002652         0.158688   \n",
       "3                              0.215799           0.079216         0.020117   \n",
       "4                              0.212576           0.012242         0.030593   \n",
       "..                                  ...                ...              ...   \n",
       "150                            0.381240           0.124828         0.022775   \n",
       "151                            0.115875           0.021463         0.043608   \n",
       "152                            0.215799           0.121319         0.131398   \n",
       "153                            0.068740           0.093922         0.289725   \n",
       "154                            0.431260           0.322745         0.293608   \n",
       "\n",
       "     Isolated  Corona_concerns_5  Expl_Distress_21  ...  Expl_Distress_14  \\\n",
       "0    0.162192           0.032824          0.043217  ...          0.015203   \n",
       "1    0.376478           0.059610          0.343688  ...          0.122346   \n",
       "2    0.337808           0.071515          0.017423  ...          0.114409   \n",
       "3    0.082361           0.084120          0.004351  ...          0.103145   \n",
       "4    0.212563           0.019157          0.013618  ...          0.129195   \n",
       "..        ...                ...               ...  ...               ...   \n",
       "150  0.436022           0.107057          0.114521  ...          0.164012   \n",
       "151  0.176478           0.051929          0.074261  ...          0.017217   \n",
       "152  0.249190           0.065613          0.016829  ...          0.088477   \n",
       "153  0.123522           0.142943          0.010355  ...          0.039012   \n",
       "154  0.376478           0.023724          0.260355  ...          0.122346   \n",
       "\n",
       "     Expl_Distress_23  Expl_Distress_2  Expl_Distress_17  Expl_Distress_8  \\\n",
       "0            0.048004         0.119423          0.049702         0.193940   \n",
       "1            0.140266         0.035339          0.600297         0.485606   \n",
       "2            0.009314         0.107518          0.108234         0.211797   \n",
       "3            0.194188         0.072504          0.051278         0.019920   \n",
       "4            0.075487         0.010225          0.032123         0.047499   \n",
       "..                ...              ...               ...              ...   \n",
       "150          0.047234         0.277161          0.066369         0.048106   \n",
       "151          0.026401         0.087738          0.030472         0.022786   \n",
       "152          0.053584         0.094786          0.066429         0.039528   \n",
       "153          0.306933         0.047994          0.149703         0.014394   \n",
       "154          0.276401         0.535339          0.266964         0.431060   \n",
       "\n",
       "     Dem_male  Expl_Distress_5  Dem_female  \\\n",
       "0    0.198169         0.184675    0.221242   \n",
       "1    0.733883         0.071580    0.721242   \n",
       "2    0.019597         0.162850    0.006956   \n",
       "3    0.380942         0.139204    0.368301   \n",
       "4    0.019542         0.065872    0.004785   \n",
       "..        ...              ...         ...   \n",
       "150  0.016117         0.404913    0.028758   \n",
       "151  0.049267         0.003631    0.036627   \n",
       "152  0.014780         0.069352    0.016726   \n",
       "153  0.233883         0.154913    0.221242   \n",
       "154  0.266117         0.011753    0.278758   \n",
       "\n",
       "                            imp_feature  alpha3  \n",
       "0                            Dem_female     AFG  \n",
       "1                              Dem_male     AGO  \n",
       "2                              Isolated     ALB  \n",
       "3                              Dem_male     AND  \n",
       "4    Life carries on with minor changes     ARE  \n",
       "..                                  ...     ...  \n",
       "150                            Isolated     VEN  \n",
       "151                            Isolated     VNM  \n",
       "152                            Isolated     ZAF  \n",
       "153                  Full time employed     ZMB  \n",
       "154                     Expl_Distress_2     ZWE  \n",
       "\n",
       "[155 rows x 22 columns]"
      ]
     },
     "execution_count": 17,
     "metadata": {},
     "output_type": "execute_result"
    }
   ],
   "source": [
    "df_sub['alpha3'] = arr_alpha3\n",
    "df_sub"
   ]
  },
  {
   "cell_type": "code",
   "execution_count": 18,
   "id": "f8ef7ddf",
   "metadata": {},
   "outputs": [
    {
     "data": {
      "text/html": [
       "<div>\n",
       "<style scoped>\n",
       "    .dataframe tbody tr th:only-of-type {\n",
       "        vertical-align: middle;\n",
       "    }\n",
       "\n",
       "    .dataframe tbody tr th {\n",
       "        vertical-align: top;\n",
       "    }\n",
       "\n",
       "    .dataframe thead th {\n",
       "        text-align: right;\n",
       "    }\n",
       "</style>\n",
       "<table border=\"1\" class=\"dataframe\">\n",
       "  <thead>\n",
       "    <tr style=\"text-align: right;\">\n",
       "      <th></th>\n",
       "      <th>Lon_avg</th>\n",
       "      <th>Compliance</th>\n",
       "      <th>Corona_concerns_2</th>\n",
       "      <th>Dem_edu</th>\n",
       "      <th>Life carries on with minor changes</th>\n",
       "      <th>Corona_concerns_1</th>\n",
       "      <th>Expl_Distress_1</th>\n",
       "      <th>Isolated</th>\n",
       "      <th>Corona_concerns_5</th>\n",
       "      <th>Expl_Distress_21</th>\n",
       "      <th>...</th>\n",
       "      <th>Expl_Distress_23</th>\n",
       "      <th>Expl_Distress_2</th>\n",
       "      <th>Expl_Distress_17</th>\n",
       "      <th>Expl_Distress_8</th>\n",
       "      <th>Dem_male</th>\n",
       "      <th>Expl_Distress_5</th>\n",
       "      <th>Dem_female</th>\n",
       "      <th>imp_feature</th>\n",
       "      <th>alpha3</th>\n",
       "      <th>Country</th>\n",
       "    </tr>\n",
       "  </thead>\n",
       "  <tbody>\n",
       "    <tr>\n",
       "      <th>0</th>\n",
       "      <td>0.046282</td>\n",
       "      <td>0.023374</td>\n",
       "      <td>0.028142</td>\n",
       "      <td>0.031760</td>\n",
       "      <td>0.002688</td>\n",
       "      <td>0.010245</td>\n",
       "      <td>0.079323</td>\n",
       "      <td>0.162192</td>\n",
       "      <td>0.032824</td>\n",
       "      <td>0.043217</td>\n",
       "      <td>...</td>\n",
       "      <td>0.048004</td>\n",
       "      <td>0.119423</td>\n",
       "      <td>0.049702</td>\n",
       "      <td>0.193940</td>\n",
       "      <td>0.198169</td>\n",
       "      <td>0.184675</td>\n",
       "      <td>0.221242</td>\n",
       "      <td>Dem_female</td>\n",
       "      <td>AFG</td>\n",
       "      <td>Afghanistan</td>\n",
       "    </tr>\n",
       "    <tr>\n",
       "      <th>1</th>\n",
       "      <td>0.120385</td>\n",
       "      <td>0.149741</td>\n",
       "      <td>0.195072</td>\n",
       "      <td>0.164669</td>\n",
       "      <td>0.431260</td>\n",
       "      <td>0.322745</td>\n",
       "      <td>0.039725</td>\n",
       "      <td>0.376478</td>\n",
       "      <td>0.059610</td>\n",
       "      <td>0.343688</td>\n",
       "      <td>...</td>\n",
       "      <td>0.140266</td>\n",
       "      <td>0.035339</td>\n",
       "      <td>0.600297</td>\n",
       "      <td>0.485606</td>\n",
       "      <td>0.733883</td>\n",
       "      <td>0.071580</td>\n",
       "      <td>0.721242</td>\n",
       "      <td>Dem_male</td>\n",
       "      <td>AGO</td>\n",
       "      <td>Angola</td>\n",
       "    </tr>\n",
       "    <tr>\n",
       "      <th>2</th>\n",
       "      <td>0.002849</td>\n",
       "      <td>0.073021</td>\n",
       "      <td>0.035087</td>\n",
       "      <td>0.021839</td>\n",
       "      <td>0.283026</td>\n",
       "      <td>0.002652</td>\n",
       "      <td>0.158688</td>\n",
       "      <td>0.337808</td>\n",
       "      <td>0.071515</td>\n",
       "      <td>0.017423</td>\n",
       "      <td>...</td>\n",
       "      <td>0.009314</td>\n",
       "      <td>0.107518</td>\n",
       "      <td>0.108234</td>\n",
       "      <td>0.211797</td>\n",
       "      <td>0.019597</td>\n",
       "      <td>0.162850</td>\n",
       "      <td>0.006956</td>\n",
       "      <td>Isolated</td>\n",
       "      <td>ALB</td>\n",
       "      <td>Albania</td>\n",
       "    </tr>\n",
       "    <tr>\n",
       "      <th>3</th>\n",
       "      <td>0.046282</td>\n",
       "      <td>0.075096</td>\n",
       "      <td>0.069634</td>\n",
       "      <td>0.183370</td>\n",
       "      <td>0.215799</td>\n",
       "      <td>0.079216</td>\n",
       "      <td>0.020117</td>\n",
       "      <td>0.082361</td>\n",
       "      <td>0.084120</td>\n",
       "      <td>0.004351</td>\n",
       "      <td>...</td>\n",
       "      <td>0.194188</td>\n",
       "      <td>0.072504</td>\n",
       "      <td>0.051278</td>\n",
       "      <td>0.019920</td>\n",
       "      <td>0.380942</td>\n",
       "      <td>0.139204</td>\n",
       "      <td>0.368301</td>\n",
       "      <td>Dem_male</td>\n",
       "      <td>AND</td>\n",
       "      <td>Andorra</td>\n",
       "    </tr>\n",
       "    <tr>\n",
       "      <th>4</th>\n",
       "      <td>0.020385</td>\n",
       "      <td>0.047762</td>\n",
       "      <td>0.001275</td>\n",
       "      <td>0.051655</td>\n",
       "      <td>0.212576</td>\n",
       "      <td>0.012242</td>\n",
       "      <td>0.030593</td>\n",
       "      <td>0.212563</td>\n",
       "      <td>0.019157</td>\n",
       "      <td>0.013618</td>\n",
       "      <td>...</td>\n",
       "      <td>0.075487</td>\n",
       "      <td>0.010225</td>\n",
       "      <td>0.032123</td>\n",
       "      <td>0.047499</td>\n",
       "      <td>0.019542</td>\n",
       "      <td>0.065872</td>\n",
       "      <td>0.004785</td>\n",
       "      <td>Life carries on with minor changes</td>\n",
       "      <td>ARE</td>\n",
       "      <td>United Arab Emirates</td>\n",
       "    </tr>\n",
       "    <tr>\n",
       "      <th>...</th>\n",
       "      <td>...</td>\n",
       "      <td>...</td>\n",
       "      <td>...</td>\n",
       "      <td>...</td>\n",
       "      <td>...</td>\n",
       "      <td>...</td>\n",
       "      <td>...</td>\n",
       "      <td>...</td>\n",
       "      <td>...</td>\n",
       "      <td>...</td>\n",
       "      <td>...</td>\n",
       "      <td>...</td>\n",
       "      <td>...</td>\n",
       "      <td>...</td>\n",
       "      <td>...</td>\n",
       "      <td>...</td>\n",
       "      <td>...</td>\n",
       "      <td>...</td>\n",
       "      <td>...</td>\n",
       "      <td>...</td>\n",
       "      <td>...</td>\n",
       "    </tr>\n",
       "    <tr>\n",
       "      <th>150</th>\n",
       "      <td>0.020385</td>\n",
       "      <td>0.055991</td>\n",
       "      <td>0.090905</td>\n",
       "      <td>0.008419</td>\n",
       "      <td>0.381240</td>\n",
       "      <td>0.124828</td>\n",
       "      <td>0.022775</td>\n",
       "      <td>0.436022</td>\n",
       "      <td>0.107057</td>\n",
       "      <td>0.114521</td>\n",
       "      <td>...</td>\n",
       "      <td>0.047234</td>\n",
       "      <td>0.277161</td>\n",
       "      <td>0.066369</td>\n",
       "      <td>0.048106</td>\n",
       "      <td>0.016117</td>\n",
       "      <td>0.404913</td>\n",
       "      <td>0.028758</td>\n",
       "      <td>Isolated</td>\n",
       "      <td>VEN</td>\n",
       "      <td>Venezuela</td>\n",
       "    </tr>\n",
       "    <tr>\n",
       "      <th>151</th>\n",
       "      <td>0.055512</td>\n",
       "      <td>0.009875</td>\n",
       "      <td>0.006610</td>\n",
       "      <td>0.005844</td>\n",
       "      <td>0.115875</td>\n",
       "      <td>0.021463</td>\n",
       "      <td>0.043608</td>\n",
       "      <td>0.176478</td>\n",
       "      <td>0.051929</td>\n",
       "      <td>0.074261</td>\n",
       "      <td>...</td>\n",
       "      <td>0.026401</td>\n",
       "      <td>0.087738</td>\n",
       "      <td>0.030472</td>\n",
       "      <td>0.022786</td>\n",
       "      <td>0.049267</td>\n",
       "      <td>0.003631</td>\n",
       "      <td>0.036627</td>\n",
       "      <td>Isolated</td>\n",
       "      <td>VNM</td>\n",
       "      <td>Vietnam</td>\n",
       "    </tr>\n",
       "    <tr>\n",
       "      <th>152</th>\n",
       "      <td>0.010274</td>\n",
       "      <td>0.033965</td>\n",
       "      <td>0.039992</td>\n",
       "      <td>0.054597</td>\n",
       "      <td>0.215799</td>\n",
       "      <td>0.121319</td>\n",
       "      <td>0.131398</td>\n",
       "      <td>0.249190</td>\n",
       "      <td>0.065613</td>\n",
       "      <td>0.016829</td>\n",
       "      <td>...</td>\n",
       "      <td>0.053584</td>\n",
       "      <td>0.094786</td>\n",
       "      <td>0.066429</td>\n",
       "      <td>0.039528</td>\n",
       "      <td>0.014780</td>\n",
       "      <td>0.069352</td>\n",
       "      <td>0.016726</td>\n",
       "      <td>Isolated</td>\n",
       "      <td>ZAF</td>\n",
       "      <td>South Africa</td>\n",
       "    </tr>\n",
       "    <tr>\n",
       "      <th>153</th>\n",
       "      <td>0.046282</td>\n",
       "      <td>0.038629</td>\n",
       "      <td>0.138261</td>\n",
       "      <td>0.081335</td>\n",
       "      <td>0.068740</td>\n",
       "      <td>0.093922</td>\n",
       "      <td>0.289725</td>\n",
       "      <td>0.123522</td>\n",
       "      <td>0.142943</td>\n",
       "      <td>0.010355</td>\n",
       "      <td>...</td>\n",
       "      <td>0.306933</td>\n",
       "      <td>0.047994</td>\n",
       "      <td>0.149703</td>\n",
       "      <td>0.014394</td>\n",
       "      <td>0.233883</td>\n",
       "      <td>0.154913</td>\n",
       "      <td>0.221242</td>\n",
       "      <td>Full time employed</td>\n",
       "      <td>ZMB</td>\n",
       "      <td>Zambia</td>\n",
       "    </tr>\n",
       "    <tr>\n",
       "      <th>154</th>\n",
       "      <td>0.246282</td>\n",
       "      <td>0.121963</td>\n",
       "      <td>0.195072</td>\n",
       "      <td>0.081335</td>\n",
       "      <td>0.431260</td>\n",
       "      <td>0.322745</td>\n",
       "      <td>0.293608</td>\n",
       "      <td>0.376478</td>\n",
       "      <td>0.023724</td>\n",
       "      <td>0.260355</td>\n",
       "      <td>...</td>\n",
       "      <td>0.276401</td>\n",
       "      <td>0.535339</td>\n",
       "      <td>0.266964</td>\n",
       "      <td>0.431060</td>\n",
       "      <td>0.266117</td>\n",
       "      <td>0.011753</td>\n",
       "      <td>0.278758</td>\n",
       "      <td>Expl_Distress_2</td>\n",
       "      <td>ZWE</td>\n",
       "      <td>Zimbabwe</td>\n",
       "    </tr>\n",
       "  </tbody>\n",
       "</table>\n",
       "<p>155 rows × 23 columns</p>\n",
       "</div>"
      ],
      "text/plain": [
       "      Lon_avg  Compliance  Corona_concerns_2   Dem_edu  \\\n",
       "0    0.046282    0.023374           0.028142  0.031760   \n",
       "1    0.120385    0.149741           0.195072  0.164669   \n",
       "2    0.002849    0.073021           0.035087  0.021839   \n",
       "3    0.046282    0.075096           0.069634  0.183370   \n",
       "4    0.020385    0.047762           0.001275  0.051655   \n",
       "..        ...         ...                ...       ...   \n",
       "150  0.020385    0.055991           0.090905  0.008419   \n",
       "151  0.055512    0.009875           0.006610  0.005844   \n",
       "152  0.010274    0.033965           0.039992  0.054597   \n",
       "153  0.046282    0.038629           0.138261  0.081335   \n",
       "154  0.246282    0.121963           0.195072  0.081335   \n",
       "\n",
       "     Life carries on with minor changes  Corona_concerns_1  Expl_Distress_1  \\\n",
       "0                              0.002688           0.010245         0.079323   \n",
       "1                              0.431260           0.322745         0.039725   \n",
       "2                              0.283026           0.002652         0.158688   \n",
       "3                              0.215799           0.079216         0.020117   \n",
       "4                              0.212576           0.012242         0.030593   \n",
       "..                                  ...                ...              ...   \n",
       "150                            0.381240           0.124828         0.022775   \n",
       "151                            0.115875           0.021463         0.043608   \n",
       "152                            0.215799           0.121319         0.131398   \n",
       "153                            0.068740           0.093922         0.289725   \n",
       "154                            0.431260           0.322745         0.293608   \n",
       "\n",
       "     Isolated  Corona_concerns_5  Expl_Distress_21  ...  Expl_Distress_23  \\\n",
       "0    0.162192           0.032824          0.043217  ...          0.048004   \n",
       "1    0.376478           0.059610          0.343688  ...          0.140266   \n",
       "2    0.337808           0.071515          0.017423  ...          0.009314   \n",
       "3    0.082361           0.084120          0.004351  ...          0.194188   \n",
       "4    0.212563           0.019157          0.013618  ...          0.075487   \n",
       "..        ...                ...               ...  ...               ...   \n",
       "150  0.436022           0.107057          0.114521  ...          0.047234   \n",
       "151  0.176478           0.051929          0.074261  ...          0.026401   \n",
       "152  0.249190           0.065613          0.016829  ...          0.053584   \n",
       "153  0.123522           0.142943          0.010355  ...          0.306933   \n",
       "154  0.376478           0.023724          0.260355  ...          0.276401   \n",
       "\n",
       "     Expl_Distress_2  Expl_Distress_17  Expl_Distress_8  Dem_male  \\\n",
       "0           0.119423          0.049702         0.193940  0.198169   \n",
       "1           0.035339          0.600297         0.485606  0.733883   \n",
       "2           0.107518          0.108234         0.211797  0.019597   \n",
       "3           0.072504          0.051278         0.019920  0.380942   \n",
       "4           0.010225          0.032123         0.047499  0.019542   \n",
       "..               ...               ...              ...       ...   \n",
       "150         0.277161          0.066369         0.048106  0.016117   \n",
       "151         0.087738          0.030472         0.022786  0.049267   \n",
       "152         0.094786          0.066429         0.039528  0.014780   \n",
       "153         0.047994          0.149703         0.014394  0.233883   \n",
       "154         0.535339          0.266964         0.431060  0.266117   \n",
       "\n",
       "     Expl_Distress_5  Dem_female                         imp_feature  alpha3  \\\n",
       "0           0.184675    0.221242                          Dem_female     AFG   \n",
       "1           0.071580    0.721242                            Dem_male     AGO   \n",
       "2           0.162850    0.006956                            Isolated     ALB   \n",
       "3           0.139204    0.368301                            Dem_male     AND   \n",
       "4           0.065872    0.004785  Life carries on with minor changes     ARE   \n",
       "..               ...         ...                                 ...     ...   \n",
       "150         0.404913    0.028758                            Isolated     VEN   \n",
       "151         0.003631    0.036627                            Isolated     VNM   \n",
       "152         0.069352    0.016726                            Isolated     ZAF   \n",
       "153         0.154913    0.221242                  Full time employed     ZMB   \n",
       "154         0.011753    0.278758                     Expl_Distress_2     ZWE   \n",
       "\n",
       "                  Country  \n",
       "0             Afghanistan  \n",
       "1                  Angola  \n",
       "2                 Albania  \n",
       "3                 Andorra  \n",
       "4    United Arab Emirates  \n",
       "..                    ...  \n",
       "150             Venezuela  \n",
       "151               Vietnam  \n",
       "152          South Africa  \n",
       "153                Zambia  \n",
       "154              Zimbabwe  \n",
       "\n",
       "[155 rows x 23 columns]"
      ]
     },
     "execution_count": 18,
     "metadata": {},
     "output_type": "execute_result"
    }
   ],
   "source": [
    "df_sub['Country'] = df_sub.alpha3.apply(lambda x: coco.convert(names=x, to='name_short', not_found=None))\n",
    "df_sub"
   ]
  },
  {
   "cell_type": "code",
   "execution_count": 29,
   "id": "daac2fc0",
   "metadata": {},
   "outputs": [
    {
     "data": {
      "text/html": [
       "<div>\n",
       "<style scoped>\n",
       "    .dataframe tbody tr th:only-of-type {\n",
       "        vertical-align: middle;\n",
       "    }\n",
       "\n",
       "    .dataframe tbody tr th {\n",
       "        vertical-align: top;\n",
       "    }\n",
       "\n",
       "    .dataframe thead th {\n",
       "        text-align: right;\n",
       "    }\n",
       "</style>\n",
       "<table border=\"1\" class=\"dataframe\">\n",
       "  <thead>\n",
       "    <tr style=\"text-align: right;\">\n",
       "      <th></th>\n",
       "      <th>Lon_avg</th>\n",
       "      <th>Compliance</th>\n",
       "      <th>Corona_concerns_2</th>\n",
       "      <th>Dem_edu</th>\n",
       "      <th>Life carries on with minor changes</th>\n",
       "      <th>Corona_concerns_1</th>\n",
       "      <th>Expl_Distress_1</th>\n",
       "      <th>Isolated</th>\n",
       "      <th>Corona_concerns_5</th>\n",
       "      <th>Expl_Distress_21</th>\n",
       "      <th>...</th>\n",
       "      <th>Expl_Distress_23</th>\n",
       "      <th>Expl_Distress_2</th>\n",
       "      <th>Expl_Distress_17</th>\n",
       "      <th>Expl_Distress_8</th>\n",
       "      <th>Dem_male</th>\n",
       "      <th>Expl_Distress_5</th>\n",
       "      <th>Dem_female</th>\n",
       "      <th>imp_feature</th>\n",
       "      <th>alpha3</th>\n",
       "      <th>Country</th>\n",
       "    </tr>\n",
       "  </thead>\n",
       "  <tbody>\n",
       "    <tr>\n",
       "      <th>8</th>\n",
       "      <td>0.039498</td>\n",
       "      <td>0.003904</td>\n",
       "      <td>0.012350</td>\n",
       "      <td>0.055724</td>\n",
       "      <td>0.052685</td>\n",
       "      <td>0.026491</td>\n",
       "      <td>0.032844</td>\n",
       "      <td>0.075357</td>\n",
       "      <td>0.066919</td>\n",
       "      <td>0.052719</td>\n",
       "      <td>...</td>\n",
       "      <td>0.008003</td>\n",
       "      <td>0.007816</td>\n",
       "      <td>0.023845</td>\n",
       "      <td>0.016687</td>\n",
       "      <td>0.029879</td>\n",
       "      <td>0.039852</td>\n",
       "      <td>0.031051</td>\n",
       "      <td>Isolated</td>\n",
       "      <td>AUS</td>\n",
       "      <td>Australia</td>\n",
       "    </tr>\n",
       "    <tr>\n",
       "      <th>21</th>\n",
       "      <td>0.036999</td>\n",
       "      <td>0.001778</td>\n",
       "      <td>0.079755</td>\n",
       "      <td>0.034017</td>\n",
       "      <td>0.294292</td>\n",
       "      <td>0.088255</td>\n",
       "      <td>0.081375</td>\n",
       "      <td>0.342765</td>\n",
       "      <td>0.061403</td>\n",
       "      <td>0.103152</td>\n",
       "      <td>...</td>\n",
       "      <td>0.104126</td>\n",
       "      <td>0.113101</td>\n",
       "      <td>0.062092</td>\n",
       "      <td>0.155690</td>\n",
       "      <td>0.010597</td>\n",
       "      <td>0.099883</td>\n",
       "      <td>0.016928</td>\n",
       "      <td>Isolated</td>\n",
       "      <td>BRA</td>\n",
       "      <td>Brazil</td>\n",
       "    </tr>\n",
       "    <tr>\n",
       "      <th>23</th>\n",
       "      <td>0.031673</td>\n",
       "      <td>0.016898</td>\n",
       "      <td>0.044324</td>\n",
       "      <td>0.042503</td>\n",
       "      <td>0.176555</td>\n",
       "      <td>0.049469</td>\n",
       "      <td>0.002340</td>\n",
       "      <td>0.216865</td>\n",
       "      <td>0.040848</td>\n",
       "      <td>0.003273</td>\n",
       "      <td>...</td>\n",
       "      <td>0.033757</td>\n",
       "      <td>0.000599</td>\n",
       "      <td>0.030109</td>\n",
       "      <td>0.014756</td>\n",
       "      <td>0.047920</td>\n",
       "      <td>0.082796</td>\n",
       "      <td>0.062776</td>\n",
       "      <td>Isolated</td>\n",
       "      <td>CAN</td>\n",
       "      <td>Canada</td>\n",
       "    </tr>\n",
       "    <tr>\n",
       "      <th>26</th>\n",
       "      <td>0.045549</td>\n",
       "      <td>0.051755</td>\n",
       "      <td>0.050349</td>\n",
       "      <td>0.063020</td>\n",
       "      <td>0.178513</td>\n",
       "      <td>0.011389</td>\n",
       "      <td>0.013388</td>\n",
       "      <td>0.233621</td>\n",
       "      <td>0.020061</td>\n",
       "      <td>0.069878</td>\n",
       "      <td>...</td>\n",
       "      <td>0.009314</td>\n",
       "      <td>0.048160</td>\n",
       "      <td>0.017880</td>\n",
       "      <td>0.013478</td>\n",
       "      <td>0.129487</td>\n",
       "      <td>0.061507</td>\n",
       "      <td>0.160803</td>\n",
       "      <td>Isolated</td>\n",
       "      <td>CHN</td>\n",
       "      <td>China</td>\n",
       "    </tr>\n",
       "    <tr>\n",
       "      <th>122</th>\n",
       "      <td>0.027013</td>\n",
       "      <td>0.025211</td>\n",
       "      <td>0.001809</td>\n",
       "      <td>0.053070</td>\n",
       "      <td>0.276342</td>\n",
       "      <td>0.003056</td>\n",
       "      <td>0.070411</td>\n",
       "      <td>0.331124</td>\n",
       "      <td>0.046452</td>\n",
       "      <td>0.033992</td>\n",
       "      <td>...</td>\n",
       "      <td>0.027863</td>\n",
       "      <td>0.069924</td>\n",
       "      <td>0.026408</td>\n",
       "      <td>0.041649</td>\n",
       "      <td>0.037976</td>\n",
       "      <td>0.000917</td>\n",
       "      <td>0.025336</td>\n",
       "      <td>Isolated</td>\n",
       "      <td>RUS</td>\n",
       "      <td>Russia</td>\n",
       "    </tr>\n",
       "    <tr>\n",
       "      <th>148</th>\n",
       "      <td>0.024197</td>\n",
       "      <td>0.003218</td>\n",
       "      <td>0.045475</td>\n",
       "      <td>0.074270</td>\n",
       "      <td>0.197190</td>\n",
       "      <td>0.074665</td>\n",
       "      <td>0.024837</td>\n",
       "      <td>0.239454</td>\n",
       "      <td>0.064406</td>\n",
       "      <td>0.004072</td>\n",
       "      <td>...</td>\n",
       "      <td>0.055301</td>\n",
       "      <td>0.007003</td>\n",
       "      <td>0.044773</td>\n",
       "      <td>0.017304</td>\n",
       "      <td>0.050754</td>\n",
       "      <td>0.098394</td>\n",
       "      <td>0.042342</td>\n",
       "      <td>Isolated</td>\n",
       "      <td>USA</td>\n",
       "      <td>United States</td>\n",
       "    </tr>\n",
       "  </tbody>\n",
       "</table>\n",
       "<p>6 rows × 23 columns</p>\n",
       "</div>"
      ],
      "text/plain": [
       "      Lon_avg  Compliance  Corona_concerns_2   Dem_edu  \\\n",
       "8    0.039498    0.003904           0.012350  0.055724   \n",
       "21   0.036999    0.001778           0.079755  0.034017   \n",
       "23   0.031673    0.016898           0.044324  0.042503   \n",
       "26   0.045549    0.051755           0.050349  0.063020   \n",
       "122  0.027013    0.025211           0.001809  0.053070   \n",
       "148  0.024197    0.003218           0.045475  0.074270   \n",
       "\n",
       "     Life carries on with minor changes  Corona_concerns_1  Expl_Distress_1  \\\n",
       "8                              0.052685           0.026491         0.032844   \n",
       "21                             0.294292           0.088255         0.081375   \n",
       "23                             0.176555           0.049469         0.002340   \n",
       "26                             0.178513           0.011389         0.013388   \n",
       "122                            0.276342           0.003056         0.070411   \n",
       "148                            0.197190           0.074665         0.024837   \n",
       "\n",
       "     Isolated  Corona_concerns_5  Expl_Distress_21  ...  Expl_Distress_23  \\\n",
       "8    0.075357           0.066919          0.052719  ...          0.008003   \n",
       "21   0.342765           0.061403          0.103152  ...          0.104126   \n",
       "23   0.216865           0.040848          0.003273  ...          0.033757   \n",
       "26   0.233621           0.020061          0.069878  ...          0.009314   \n",
       "122  0.331124           0.046452          0.033992  ...          0.027863   \n",
       "148  0.239454           0.064406          0.004072  ...          0.055301   \n",
       "\n",
       "     Expl_Distress_2  Expl_Distress_17  Expl_Distress_8  Dem_male  \\\n",
       "8           0.007816          0.023845         0.016687  0.029879   \n",
       "21          0.113101          0.062092         0.155690  0.010597   \n",
       "23          0.000599          0.030109         0.014756  0.047920   \n",
       "26          0.048160          0.017880         0.013478  0.129487   \n",
       "122         0.069924          0.026408         0.041649  0.037976   \n",
       "148         0.007003          0.044773         0.017304  0.050754   \n",
       "\n",
       "     Expl_Distress_5  Dem_female  imp_feature  alpha3        Country  \n",
       "8           0.039852    0.031051     Isolated     AUS      Australia  \n",
       "21          0.099883    0.016928     Isolated     BRA         Brazil  \n",
       "23          0.082796    0.062776     Isolated     CAN         Canada  \n",
       "26          0.061507    0.160803     Isolated     CHN          China  \n",
       "122         0.000917    0.025336     Isolated     RUS         Russia  \n",
       "148         0.098394    0.042342     Isolated     USA  United States  \n",
       "\n",
       "[6 rows x 23 columns]"
      ]
     },
     "execution_count": 29,
     "metadata": {},
     "output_type": "execute_result"
    }
   ],
   "source": [
    "example_countries = ['United States', 'China', 'Russia', 'Australia', 'Canada', 'Brazil']\n",
    "imp_features_example_countries = df_sub.loc[df_sub['Country'].isin(example_countries)]\n",
    "imp_features_example_countries"
   ]
  },
  {
   "cell_type": "code",
   "execution_count": 20,
   "id": "8d52a69d",
   "metadata": {},
   "outputs": [],
   "source": [
    "def rgb_to_hex(lst_rgb):\n",
    "    result = []\n",
    "    for rgb in lst_rgb:\n",
    "        result.append(matplotlib.colors.to_hex(rgb))\n",
    "    return result"
   ]
  },
  {
   "cell_type": "code",
   "execution_count": 21,
   "id": "ee40818d",
   "metadata": {},
   "outputs": [
    {
     "data": {
      "text/plain": [
       "['#00ff00',\n",
       " '#ff00ff',\n",
       " '#0080ff',\n",
       " '#ff8000',\n",
       " '#80bf80',\n",
       " '#682892',\n",
       " '#267f0a',\n",
       " '#20fdf9',\n",
       " '#f20543',\n",
       " '#ed81de',\n",
       " '#ffff00',\n",
       " '#0000ff',\n",
       " '#00ff80',\n",
       " '#008080',\n",
       " '#8d460b',\n",
       " '#8cdc03',\n",
       " '#fbc473']"
      ]
     },
     "execution_count": 21,
     "metadata": {},
     "output_type": "execute_result"
    }
   ],
   "source": [
    "colors = distinctipy.get_colors(df_sub['imp_feature'].nunique() +1)\n",
    "colors_hex = rgb_to_hex(colors)\n",
    "colors_hex"
   ]
  },
  {
   "cell_type": "code",
   "execution_count": 30,
   "id": "7d19dbcf",
   "metadata": {},
   "outputs": [
    {
     "data": {
      "application/vnd.plotly.v1+json": {
       "config": {
        "plotlyServerURL": "https://plot.ly"
       },
       "data": [
        {
         "colorscale": [
          [
           0,
           "#00ff00"
          ],
          [
           1,
           "#00ff00"
          ]
         ],
         "geo": "geo",
         "hovertemplate": "<b>%{hovertext}</b><br><br>imp_feature=Dem_female<br>Country=%{location}<extra></extra>",
         "hovertext": [
          "Dem_female",
          "Dem_female",
          "Dem_female",
          "Dem_female",
          "Dem_female",
          "Dem_female",
          "Dem_female",
          "Dem_female"
         ],
         "locationmode": "country names",
         "locations": [
          "Afghanistan",
          "France",
          "Iceland",
          "Liechtenstein",
          "North Macedonia",
          "Singapore",
          "Trinidad and Tobago",
          "Uganda"
         ],
         "name": "Dem_female",
         "showlegend": true,
         "showscale": false,
         "type": "choropleth",
         "z": [
          1,
          1,
          1,
          1,
          1,
          1,
          1,
          1
         ]
        },
        {
         "colorscale": [
          [
           0,
           "#ff00ff"
          ],
          [
           1,
           "#ff00ff"
          ]
         ],
         "geo": "geo",
         "hovertemplate": "<b>%{hovertext}</b><br><br>imp_feature=Dem_male<br>Country=%{location}<extra></extra>",
         "hovertext": [
          "Dem_male",
          "Dem_male",
          "Dem_male",
          "Dem_male",
          "Dem_male",
          "Dem_male",
          "Dem_male",
          "Dem_male",
          "Dem_male",
          "Dem_male",
          "Dem_male",
          "Dem_male",
          "Dem_male",
          "Dem_male",
          "Dem_male",
          "Dem_male",
          "Dem_male",
          "Dem_male",
          "Dem_male",
          "Dem_male",
          "Dem_male",
          "Dem_male",
          "Dem_male",
          "Dem_male",
          "Dem_male",
          "Dem_male",
          "Dem_male",
          "Dem_male",
          "Dem_male",
          "Dem_male",
          "Dem_male",
          "Dem_male"
         ],
         "locationmode": "country names",
         "locations": [
          "Angola",
          "Andorra",
          "Belgium",
          "Benin",
          "Bangladesh",
          "Bolivia",
          "Comoros",
          "Cyprus",
          "Algeria",
          "Ethiopia",
          "Finland",
          "Micronesia, Fed. Sts.",
          "Gabon",
          "Georgia",
          "Jamaica",
          "Kazakhstan",
          "Kyrgyz Republic",
          "Cambodia",
          "Libya",
          "Morocco",
          "Monaco",
          "Myanmar",
          "Nigeria",
          "Nepal",
          "Nauru",
          "Rwanda",
          "Saudi Arabia",
          "Senegal",
          "Solomon Islands",
          "Somalia",
          "Turkmenistan",
          "Tanzania"
         ],
         "name": "Dem_male",
         "showlegend": true,
         "showscale": false,
         "type": "choropleth",
         "z": [
          1,
          1,
          1,
          1,
          1,
          1,
          1,
          1,
          1,
          1,
          1,
          1,
          1,
          1,
          1,
          1,
          1,
          1,
          1,
          1,
          1,
          1,
          1,
          1,
          1,
          1,
          1,
          1,
          1,
          1,
          1,
          1
         ]
        },
        {
         "colorscale": [
          [
           0,
           "#0080ff"
          ],
          [
           1,
           "#0080ff"
          ]
         ],
         "geo": "geo",
         "hovertemplate": "<b>%{hovertext}</b><br><br>imp_feature=Isolated<br>Country=%{location}<extra></extra>",
         "hovertext": [
          "Isolated",
          "Isolated",
          "Isolated",
          "Isolated",
          "Isolated",
          "Isolated",
          "Isolated",
          "Isolated",
          "Isolated",
          "Isolated",
          "Isolated",
          "Isolated",
          "Isolated",
          "Isolated",
          "Isolated",
          "Isolated",
          "Isolated",
          "Isolated",
          "Isolated",
          "Isolated",
          "Isolated",
          "Isolated",
          "Isolated",
          "Isolated",
          "Isolated",
          "Isolated",
          "Isolated",
          "Isolated",
          "Isolated",
          "Isolated",
          "Isolated",
          "Isolated",
          "Isolated",
          "Isolated",
          "Isolated",
          "Isolated",
          "Isolated",
          "Isolated",
          "Isolated",
          "Isolated",
          "Isolated",
          "Isolated",
          "Isolated",
          "Isolated",
          "Isolated",
          "Isolated"
         ],
         "locationmode": "country names",
         "locations": [
          "Albania",
          "Argentina",
          "Australia",
          "Austria",
          "Azerbaijan",
          "Brazil",
          "Canada",
          "China",
          "Colombia",
          "Costa Rica",
          "Ecuador",
          "Eritrea",
          "Spain",
          "United Kingdom",
          "Ghana",
          "Guinea-Bissau",
          "Greece",
          "Guatemala",
          "Ireland",
          "Iran",
          "Israel",
          "Jordan",
          "Japan",
          "South Korea",
          "Sri Lanka",
          "Moldova",
          "Maldives",
          "Mexico",
          "Mozambique",
          "Namibia",
          "New Zealand",
          "Peru",
          "Philippines",
          "Poland",
          "Portugal",
          "Paraguay",
          "Qatar",
          "Russia",
          "Seychelles",
          "Tunisia",
          "Türkiye",
          "Taiwan",
          "United States",
          "Venezuela",
          "Vietnam",
          "South Africa"
         ],
         "name": "Isolated",
         "showlegend": true,
         "showscale": false,
         "type": "choropleth",
         "z": [
          1,
          1,
          1,
          1,
          1,
          1,
          1,
          1,
          1,
          1,
          1,
          1,
          1,
          1,
          1,
          1,
          1,
          1,
          1,
          1,
          1,
          1,
          1,
          1,
          1,
          1,
          1,
          1,
          1,
          1,
          1,
          1,
          1,
          1,
          1,
          1,
          1,
          1,
          1,
          1,
          1,
          1,
          1,
          1,
          1,
          1
         ]
        },
        {
         "colorscale": [
          [
           0,
           "#ff8000"
          ],
          [
           1,
           "#ff8000"
          ]
         ],
         "geo": "geo",
         "hovertemplate": "<b>%{hovertext}</b><br><br>imp_feature=Life carries on with minor changes<br>Country=%{location}<extra></extra>",
         "hovertext": [
          "Life carries on with minor changes",
          "Life carries on with minor changes",
          "Life carries on with minor changes",
          "Life carries on with minor changes",
          "Life carries on with minor changes",
          "Life carries on with minor changes",
          "Life carries on with minor changes",
          "Life carries on with minor changes",
          "Life carries on with minor changes",
          "Life carries on with minor changes",
          "Life carries on with minor changes"
         ],
         "locationmode": "country names",
         "locations": [
          "United Arab Emirates",
          "Armenia",
          "Antigua and Barbuda",
          "Chile",
          "Cameroon",
          "Czech Republic",
          "Lebanon",
          "Lithuania",
          "El Salvador",
          "Sweden",
          "Uruguay"
         ],
         "name": "Life carries on with minor changes",
         "showlegend": true,
         "showscale": false,
         "type": "choropleth",
         "z": [
          1,
          1,
          1,
          1,
          1,
          1,
          1,
          1,
          1,
          1,
          1
         ]
        },
        {
         "colorscale": [
          [
           0,
           "#80bf80"
          ],
          [
           1,
           "#80bf80"
          ]
         ],
         "geo": "geo",
         "hovertemplate": "<b>%{hovertext}</b><br><br>imp_feature=Expl_Distress_17<br>Country=%{location}<extra></extra>",
         "hovertext": [
          "Expl_Distress_17",
          "Expl_Distress_17",
          "Expl_Distress_17"
         ],
         "locationmode": "country names",
         "locations": [
          "Burkina Faso",
          "Bahrain",
          "Kuwait"
         ],
         "name": "Expl_Distress_17",
         "showlegend": true,
         "showscale": false,
         "type": "choropleth",
         "z": [
          1,
          1,
          1
         ]
        },
        {
         "colorscale": [
          [
           0,
           "#682892"
          ],
          [
           1,
           "#682892"
          ]
         ],
         "geo": "geo",
         "hovertemplate": "<b>%{hovertext}</b><br><br>imp_feature=Full time employed<br>Country=%{location}<extra></extra>",
         "hovertext": [
          "Full time employed",
          "Full time employed",
          "Full time employed",
          "Full time employed",
          "Full time employed",
          "Full time employed",
          "Full time employed",
          "Full time employed",
          "Full time employed",
          "Full time employed",
          "Full time employed",
          "Full time employed",
          "Full time employed",
          "Full time employed",
          "Full time employed",
          "Full time employed",
          "Full time employed",
          "Full time employed",
          "Full time employed",
          "Full time employed",
          "Full time employed",
          "Full time employed",
          "Full time employed",
          "Full time employed",
          "Full time employed",
          "Full time employed",
          "Full time employed",
          "Full time employed",
          "Full time employed",
          "Full time employed",
          "Full time employed",
          "Full time employed"
         ],
         "locationmode": "country names",
         "locations": [
          "Bulgaria",
          "Belize",
          "Brunei Darussalam",
          "Switzerland",
          "Djibouti",
          "Dominican Republic",
          "Egypt",
          "Estonia",
          "Grenada",
          "Guyana",
          "Honduras",
          "Haiti",
          "Indonesia",
          "India",
          "Italy",
          "Kenya",
          "Kiribati",
          "Latvia",
          "Mali",
          "Malta",
          "Montenegro",
          "Mauritius",
          "Niger",
          "Norway",
          "Pakistan",
          "North Korea",
          "Romania",
          "San Marino",
          "Suriname",
          "Slovakia",
          "Thailand",
          "Zambia"
         ],
         "name": "Full time employed",
         "showlegend": true,
         "showscale": false,
         "type": "choropleth",
         "z": [
          1,
          1,
          1,
          1,
          1,
          1,
          1,
          1,
          1,
          1,
          1,
          1,
          1,
          1,
          1,
          1,
          1,
          1,
          1,
          1,
          1,
          1,
          1,
          1,
          1,
          1,
          1,
          1,
          1,
          1,
          1,
          1
         ]
        },
        {
         "colorscale": [
          [
           0,
           "#267f0a"
          ],
          [
           1,
           "#267f0a"
          ]
         ],
         "geo": "geo",
         "hovertemplate": "<b>%{hovertext}</b><br><br>imp_feature=Expl_Distress_1<br>Country=%{location}<extra></extra>",
         "hovertext": [
          "Expl_Distress_1",
          "Expl_Distress_1",
          "Expl_Distress_1"
         ],
         "locationmode": "country names",
         "locations": [
          "Bosnia and Herzegovina",
          "Luxembourg",
          "Ukraine"
         ],
         "name": "Expl_Distress_1",
         "showlegend": true,
         "showscale": false,
         "type": "choropleth",
         "z": [
          1,
          1,
          1
         ]
        },
        {
         "colorscale": [
          [
           0,
           "#20fdf9"
          ],
          [
           1,
           "#20fdf9"
          ]
         ],
         "geo": "geo",
         "hovertemplate": "<b>%{hovertext}</b><br><br>imp_feature=Expl_Distress_8<br>Country=%{location}<extra></extra>",
         "hovertext": [
          "Expl_Distress_8",
          "Expl_Distress_8",
          "Expl_Distress_8"
         ],
         "locationmode": "country names",
         "locations": [
          "Belarus",
          "Madagascar",
          "Slovenia"
         ],
         "name": "Expl_Distress_8",
         "showlegend": true,
         "showscale": false,
         "type": "choropleth",
         "z": [
          1,
          1,
          1
         ]
        },
        {
         "colorscale": [
          [
           0,
           "#f20543"
          ],
          [
           1,
           "#f20543"
          ]
         ],
         "geo": "geo",
         "hovertemplate": "<b>%{hovertext}</b><br><br>imp_feature=Expl_Distress_19<br>Country=%{location}<extra></extra>",
         "hovertext": [
          "Expl_Distress_19"
         ],
         "locationmode": "country names",
         "locations": [
          "DR Congo"
         ],
         "name": "Expl_Distress_19",
         "showlegend": true,
         "showscale": false,
         "type": "choropleth",
         "z": [
          1
         ]
        },
        {
         "colorscale": [
          [
           0,
           "#ed81de"
          ],
          [
           1,
           "#ed81de"
          ]
         ],
         "geo": "geo",
         "hovertemplate": "<b>%{hovertext}</b><br><br>imp_feature=Corona_concerns_1<br>Country=%{location}<extra></extra>",
         "hovertext": [
          "Corona_concerns_1",
          "Corona_concerns_1",
          "Corona_concerns_1",
          "Corona_concerns_1"
         ],
         "locationmode": "country names",
         "locations": [
          "Germany",
          "Malaysia",
          "Oman",
          "Serbia"
         ],
         "name": "Corona_concerns_1",
         "showlegend": true,
         "showscale": false,
         "type": "choropleth",
         "z": [
          1,
          1,
          1,
          1
         ]
        },
        {
         "colorscale": [
          [
           0,
           "#ffff00"
          ],
          [
           1,
           "#ffff00"
          ]
         ],
         "geo": "geo",
         "hovertemplate": "<b>%{hovertext}</b><br><br>imp_feature=Expl_Distress_21<br>Country=%{location}<extra></extra>",
         "hovertext": [
          "Expl_Distress_21",
          "Expl_Distress_21",
          "Expl_Distress_21"
         ],
         "locationmode": "country names",
         "locations": [
          "Denmark",
          "Hungary",
          "Netherlands"
         ],
         "name": "Expl_Distress_21",
         "showlegend": true,
         "showscale": false,
         "type": "choropleth",
         "z": [
          1,
          1,
          1
         ]
        },
        {
         "colorscale": [
          [
           0,
           "#0000ff"
          ],
          [
           1,
           "#0000ff"
          ]
         ],
         "geo": "geo",
         "hovertemplate": "<b>%{hovertext}</b><br><br>imp_feature=Expl_Distress_14<br>Country=%{location}<extra></extra>",
         "hovertext": [
          "Expl_Distress_14"
         ],
         "locationmode": "country names",
         "locations": [
          "Fiji"
         ],
         "name": "Expl_Distress_14",
         "showlegend": true,
         "showscale": false,
         "type": "choropleth",
         "z": [
          1
         ]
        },
        {
         "colorscale": [
          [
           0,
           "#00ff80"
          ],
          [
           1,
           "#00ff80"
          ]
         ],
         "geo": "geo",
         "hovertemplate": "<b>%{hovertext}</b><br><br>imp_feature=Dem_edu<br>Country=%{location}<extra></extra>",
         "hovertext": [
          "Dem_edu"
         ],
         "locationmode": "country names",
         "locations": [
          "Gambia"
         ],
         "name": "Dem_edu",
         "showlegend": true,
         "showscale": false,
         "type": "choropleth",
         "z": [
          1
         ]
        },
        {
         "colorscale": [
          [
           0,
           "#008080"
          ],
          [
           1,
           "#008080"
          ]
         ],
         "geo": "geo",
         "hovertemplate": "<b>%{hovertext}</b><br><br>imp_feature=Corona_concerns_5<br>Country=%{location}<extra></extra>",
         "hovertext": [
          "Corona_concerns_5"
         ],
         "locationmode": "country names",
         "locations": [
          "Croatia"
         ],
         "name": "Corona_concerns_5",
         "showlegend": true,
         "showscale": false,
         "type": "choropleth",
         "z": [
          1
         ]
        },
        {
         "colorscale": [
          [
           0,
           "#8d460b"
          ],
          [
           1,
           "#8d460b"
          ]
         ],
         "geo": "geo",
         "hovertemplate": "<b>%{hovertext}</b><br><br>imp_feature=Expl_Distress_5<br>Country=%{location}<extra></extra>",
         "hovertext": [
          "Expl_Distress_5",
          "Expl_Distress_5",
          "Expl_Distress_5"
         ],
         "locationmode": "country names",
         "locations": [
          "Lesotho",
          "Nicaragua",
          "Panama"
         ],
         "name": "Expl_Distress_5",
         "showlegend": true,
         "showscale": false,
         "type": "choropleth",
         "z": [
          1,
          1,
          1
         ]
        },
        {
         "colorscale": [
          [
           0,
           "#8cdc03"
          ],
          [
           1,
           "#8cdc03"
          ]
         ],
         "geo": "geo",
         "hovertemplate": "<b>%{hovertext}</b><br><br>imp_feature=Expl_Distress_2<br>Country=%{location}<extra></extra>",
         "hovertext": [
          "Expl_Distress_2",
          "Expl_Distress_2",
          "Expl_Distress_2"
         ],
         "locationmode": "country names",
         "locations": [
          "Sudan",
          "Uzbekistan",
          "Zimbabwe"
         ],
         "name": "Expl_Distress_2",
         "showlegend": true,
         "showscale": false,
         "type": "choropleth",
         "z": [
          1,
          1,
          1
         ]
        },
        {
         "locationmode": "country names",
         "locations": [
          "Australia",
          "Brazil",
          "Canada",
          "China",
          "Russia",
          "United States"
         ],
         "mode": "text",
         "name": "",
         "text": [
          "Isolated",
          "Isolated",
          "Isolated",
          "Isolated",
          "Isolated",
          "Isolated"
         ],
         "textfont": {
          "color": "Black"
         },
         "type": "scattergeo"
        }
       ],
       "layout": {
        "geo": {
         "center": {},
         "domain": {
          "x": [
           0,
           1
          ],
          "y": [
           0,
           1
          ]
         }
        },
        "legend": {
         "title": {
          "text": "imp_feature"
         },
         "tracegroupgap": 0
        },
        "margin": {
         "b": 0,
         "l": 0,
         "r": 0,
         "t": 0
        },
        "template": {
         "data": {
          "bar": [
           {
            "error_x": {
             "color": "#2a3f5f"
            },
            "error_y": {
             "color": "#2a3f5f"
            },
            "marker": {
             "line": {
              "color": "#E5ECF6",
              "width": 0.5
             },
             "pattern": {
              "fillmode": "overlay",
              "size": 10,
              "solidity": 0.2
             }
            },
            "type": "bar"
           }
          ],
          "barpolar": [
           {
            "marker": {
             "line": {
              "color": "#E5ECF6",
              "width": 0.5
             },
             "pattern": {
              "fillmode": "overlay",
              "size": 10,
              "solidity": 0.2
             }
            },
            "type": "barpolar"
           }
          ],
          "carpet": [
           {
            "aaxis": {
             "endlinecolor": "#2a3f5f",
             "gridcolor": "white",
             "linecolor": "white",
             "minorgridcolor": "white",
             "startlinecolor": "#2a3f5f"
            },
            "baxis": {
             "endlinecolor": "#2a3f5f",
             "gridcolor": "white",
             "linecolor": "white",
             "minorgridcolor": "white",
             "startlinecolor": "#2a3f5f"
            },
            "type": "carpet"
           }
          ],
          "choropleth": [
           {
            "colorbar": {
             "outlinewidth": 0,
             "ticks": ""
            },
            "type": "choropleth"
           }
          ],
          "contour": [
           {
            "colorbar": {
             "outlinewidth": 0,
             "ticks": ""
            },
            "colorscale": [
             [
              0,
              "#0d0887"
             ],
             [
              0.1111111111111111,
              "#46039f"
             ],
             [
              0.2222222222222222,
              "#7201a8"
             ],
             [
              0.3333333333333333,
              "#9c179e"
             ],
             [
              0.4444444444444444,
              "#bd3786"
             ],
             [
              0.5555555555555556,
              "#d8576b"
             ],
             [
              0.6666666666666666,
              "#ed7953"
             ],
             [
              0.7777777777777778,
              "#fb9f3a"
             ],
             [
              0.8888888888888888,
              "#fdca26"
             ],
             [
              1,
              "#f0f921"
             ]
            ],
            "type": "contour"
           }
          ],
          "contourcarpet": [
           {
            "colorbar": {
             "outlinewidth": 0,
             "ticks": ""
            },
            "type": "contourcarpet"
           }
          ],
          "heatmap": [
           {
            "colorbar": {
             "outlinewidth": 0,
             "ticks": ""
            },
            "colorscale": [
             [
              0,
              "#0d0887"
             ],
             [
              0.1111111111111111,
              "#46039f"
             ],
             [
              0.2222222222222222,
              "#7201a8"
             ],
             [
              0.3333333333333333,
              "#9c179e"
             ],
             [
              0.4444444444444444,
              "#bd3786"
             ],
             [
              0.5555555555555556,
              "#d8576b"
             ],
             [
              0.6666666666666666,
              "#ed7953"
             ],
             [
              0.7777777777777778,
              "#fb9f3a"
             ],
             [
              0.8888888888888888,
              "#fdca26"
             ],
             [
              1,
              "#f0f921"
             ]
            ],
            "type": "heatmap"
           }
          ],
          "heatmapgl": [
           {
            "colorbar": {
             "outlinewidth": 0,
             "ticks": ""
            },
            "colorscale": [
             [
              0,
              "#0d0887"
             ],
             [
              0.1111111111111111,
              "#46039f"
             ],
             [
              0.2222222222222222,
              "#7201a8"
             ],
             [
              0.3333333333333333,
              "#9c179e"
             ],
             [
              0.4444444444444444,
              "#bd3786"
             ],
             [
              0.5555555555555556,
              "#d8576b"
             ],
             [
              0.6666666666666666,
              "#ed7953"
             ],
             [
              0.7777777777777778,
              "#fb9f3a"
             ],
             [
              0.8888888888888888,
              "#fdca26"
             ],
             [
              1,
              "#f0f921"
             ]
            ],
            "type": "heatmapgl"
           }
          ],
          "histogram": [
           {
            "marker": {
             "pattern": {
              "fillmode": "overlay",
              "size": 10,
              "solidity": 0.2
             }
            },
            "type": "histogram"
           }
          ],
          "histogram2d": [
           {
            "colorbar": {
             "outlinewidth": 0,
             "ticks": ""
            },
            "colorscale": [
             [
              0,
              "#0d0887"
             ],
             [
              0.1111111111111111,
              "#46039f"
             ],
             [
              0.2222222222222222,
              "#7201a8"
             ],
             [
              0.3333333333333333,
              "#9c179e"
             ],
             [
              0.4444444444444444,
              "#bd3786"
             ],
             [
              0.5555555555555556,
              "#d8576b"
             ],
             [
              0.6666666666666666,
              "#ed7953"
             ],
             [
              0.7777777777777778,
              "#fb9f3a"
             ],
             [
              0.8888888888888888,
              "#fdca26"
             ],
             [
              1,
              "#f0f921"
             ]
            ],
            "type": "histogram2d"
           }
          ],
          "histogram2dcontour": [
           {
            "colorbar": {
             "outlinewidth": 0,
             "ticks": ""
            },
            "colorscale": [
             [
              0,
              "#0d0887"
             ],
             [
              0.1111111111111111,
              "#46039f"
             ],
             [
              0.2222222222222222,
              "#7201a8"
             ],
             [
              0.3333333333333333,
              "#9c179e"
             ],
             [
              0.4444444444444444,
              "#bd3786"
             ],
             [
              0.5555555555555556,
              "#d8576b"
             ],
             [
              0.6666666666666666,
              "#ed7953"
             ],
             [
              0.7777777777777778,
              "#fb9f3a"
             ],
             [
              0.8888888888888888,
              "#fdca26"
             ],
             [
              1,
              "#f0f921"
             ]
            ],
            "type": "histogram2dcontour"
           }
          ],
          "mesh3d": [
           {
            "colorbar": {
             "outlinewidth": 0,
             "ticks": ""
            },
            "type": "mesh3d"
           }
          ],
          "parcoords": [
           {
            "line": {
             "colorbar": {
              "outlinewidth": 0,
              "ticks": ""
             }
            },
            "type": "parcoords"
           }
          ],
          "pie": [
           {
            "automargin": true,
            "type": "pie"
           }
          ],
          "scatter": [
           {
            "marker": {
             "colorbar": {
              "outlinewidth": 0,
              "ticks": ""
             }
            },
            "type": "scatter"
           }
          ],
          "scatter3d": [
           {
            "line": {
             "colorbar": {
              "outlinewidth": 0,
              "ticks": ""
             }
            },
            "marker": {
             "colorbar": {
              "outlinewidth": 0,
              "ticks": ""
             }
            },
            "type": "scatter3d"
           }
          ],
          "scattercarpet": [
           {
            "marker": {
             "colorbar": {
              "outlinewidth": 0,
              "ticks": ""
             }
            },
            "type": "scattercarpet"
           }
          ],
          "scattergeo": [
           {
            "marker": {
             "colorbar": {
              "outlinewidth": 0,
              "ticks": ""
             }
            },
            "type": "scattergeo"
           }
          ],
          "scattergl": [
           {
            "marker": {
             "colorbar": {
              "outlinewidth": 0,
              "ticks": ""
             }
            },
            "type": "scattergl"
           }
          ],
          "scattermapbox": [
           {
            "marker": {
             "colorbar": {
              "outlinewidth": 0,
              "ticks": ""
             }
            },
            "type": "scattermapbox"
           }
          ],
          "scatterpolar": [
           {
            "marker": {
             "colorbar": {
              "outlinewidth": 0,
              "ticks": ""
             }
            },
            "type": "scatterpolar"
           }
          ],
          "scatterpolargl": [
           {
            "marker": {
             "colorbar": {
              "outlinewidth": 0,
              "ticks": ""
             }
            },
            "type": "scatterpolargl"
           }
          ],
          "scatterternary": [
           {
            "marker": {
             "colorbar": {
              "outlinewidth": 0,
              "ticks": ""
             }
            },
            "type": "scatterternary"
           }
          ],
          "surface": [
           {
            "colorbar": {
             "outlinewidth": 0,
             "ticks": ""
            },
            "colorscale": [
             [
              0,
              "#0d0887"
             ],
             [
              0.1111111111111111,
              "#46039f"
             ],
             [
              0.2222222222222222,
              "#7201a8"
             ],
             [
              0.3333333333333333,
              "#9c179e"
             ],
             [
              0.4444444444444444,
              "#bd3786"
             ],
             [
              0.5555555555555556,
              "#d8576b"
             ],
             [
              0.6666666666666666,
              "#ed7953"
             ],
             [
              0.7777777777777778,
              "#fb9f3a"
             ],
             [
              0.8888888888888888,
              "#fdca26"
             ],
             [
              1,
              "#f0f921"
             ]
            ],
            "type": "surface"
           }
          ],
          "table": [
           {
            "cells": {
             "fill": {
              "color": "#EBF0F8"
             },
             "line": {
              "color": "white"
             }
            },
            "header": {
             "fill": {
              "color": "#C8D4E3"
             },
             "line": {
              "color": "white"
             }
            },
            "type": "table"
           }
          ]
         },
         "layout": {
          "annotationdefaults": {
           "arrowcolor": "#2a3f5f",
           "arrowhead": 0,
           "arrowwidth": 1
          },
          "autotypenumbers": "strict",
          "coloraxis": {
           "colorbar": {
            "outlinewidth": 0,
            "ticks": ""
           }
          },
          "colorscale": {
           "diverging": [
            [
             0,
             "#8e0152"
            ],
            [
             0.1,
             "#c51b7d"
            ],
            [
             0.2,
             "#de77ae"
            ],
            [
             0.3,
             "#f1b6da"
            ],
            [
             0.4,
             "#fde0ef"
            ],
            [
             0.5,
             "#f7f7f7"
            ],
            [
             0.6,
             "#e6f5d0"
            ],
            [
             0.7,
             "#b8e186"
            ],
            [
             0.8,
             "#7fbc41"
            ],
            [
             0.9,
             "#4d9221"
            ],
            [
             1,
             "#276419"
            ]
           ],
           "sequential": [
            [
             0,
             "#0d0887"
            ],
            [
             0.1111111111111111,
             "#46039f"
            ],
            [
             0.2222222222222222,
             "#7201a8"
            ],
            [
             0.3333333333333333,
             "#9c179e"
            ],
            [
             0.4444444444444444,
             "#bd3786"
            ],
            [
             0.5555555555555556,
             "#d8576b"
            ],
            [
             0.6666666666666666,
             "#ed7953"
            ],
            [
             0.7777777777777778,
             "#fb9f3a"
            ],
            [
             0.8888888888888888,
             "#fdca26"
            ],
            [
             1,
             "#f0f921"
            ]
           ],
           "sequentialminus": [
            [
             0,
             "#0d0887"
            ],
            [
             0.1111111111111111,
             "#46039f"
            ],
            [
             0.2222222222222222,
             "#7201a8"
            ],
            [
             0.3333333333333333,
             "#9c179e"
            ],
            [
             0.4444444444444444,
             "#bd3786"
            ],
            [
             0.5555555555555556,
             "#d8576b"
            ],
            [
             0.6666666666666666,
             "#ed7953"
            ],
            [
             0.7777777777777778,
             "#fb9f3a"
            ],
            [
             0.8888888888888888,
             "#fdca26"
            ],
            [
             1,
             "#f0f921"
            ]
           ]
          },
          "colorway": [
           "#636efa",
           "#EF553B",
           "#00cc96",
           "#ab63fa",
           "#FFA15A",
           "#19d3f3",
           "#FF6692",
           "#B6E880",
           "#FF97FF",
           "#FECB52"
          ],
          "font": {
           "color": "#2a3f5f"
          },
          "geo": {
           "bgcolor": "white",
           "lakecolor": "white",
           "landcolor": "#E5ECF6",
           "showlakes": true,
           "showland": true,
           "subunitcolor": "white"
          },
          "hoverlabel": {
           "align": "left"
          },
          "hovermode": "closest",
          "mapbox": {
           "style": "light"
          },
          "paper_bgcolor": "white",
          "plot_bgcolor": "#E5ECF6",
          "polar": {
           "angularaxis": {
            "gridcolor": "white",
            "linecolor": "white",
            "ticks": ""
           },
           "bgcolor": "#E5ECF6",
           "radialaxis": {
            "gridcolor": "white",
            "linecolor": "white",
            "ticks": ""
           }
          },
          "scene": {
           "xaxis": {
            "backgroundcolor": "#E5ECF6",
            "gridcolor": "white",
            "gridwidth": 2,
            "linecolor": "white",
            "showbackground": true,
            "ticks": "",
            "zerolinecolor": "white"
           },
           "yaxis": {
            "backgroundcolor": "#E5ECF6",
            "gridcolor": "white",
            "gridwidth": 2,
            "linecolor": "white",
            "showbackground": true,
            "ticks": "",
            "zerolinecolor": "white"
           },
           "zaxis": {
            "backgroundcolor": "#E5ECF6",
            "gridcolor": "white",
            "gridwidth": 2,
            "linecolor": "white",
            "showbackground": true,
            "ticks": "",
            "zerolinecolor": "white"
           }
          },
          "shapedefaults": {
           "line": {
            "color": "#2a3f5f"
           }
          },
          "ternary": {
           "aaxis": {
            "gridcolor": "white",
            "linecolor": "white",
            "ticks": ""
           },
           "baxis": {
            "gridcolor": "white",
            "linecolor": "white",
            "ticks": ""
           },
           "bgcolor": "#E5ECF6",
           "caxis": {
            "gridcolor": "white",
            "linecolor": "white",
            "ticks": ""
           }
          },
          "title": {
           "x": 0.05
          },
          "xaxis": {
           "automargin": true,
           "gridcolor": "white",
           "linecolor": "white",
           "ticks": "",
           "title": {
            "standoff": 15
           },
           "zerolinecolor": "white",
           "zerolinewidth": 2
          },
          "yaxis": {
           "automargin": true,
           "gridcolor": "white",
           "linecolor": "white",
           "ticks": "",
           "title": {
            "standoff": 15
           },
           "zerolinecolor": "white",
           "zerolinewidth": 2
          }
         }
        }
       }
      },
      "text/html": [
       "<div>                            <div id=\"fe45f354-55f6-4dd8-a396-7acbf8f9bb16\" class=\"plotly-graph-div\" style=\"height:525px; width:100%;\"></div>            <script type=\"text/javascript\">                require([\"plotly\"], function(Plotly) {                    window.PLOTLYENV=window.PLOTLYENV || {};                                    if (document.getElementById(\"fe45f354-55f6-4dd8-a396-7acbf8f9bb16\")) {                    Plotly.newPlot(                        \"fe45f354-55f6-4dd8-a396-7acbf8f9bb16\",                        [{\"colorscale\":[[0.0,\"#00ff00\"],[1.0,\"#00ff00\"]],\"geo\":\"geo\",\"hovertemplate\":\"<b>%{hovertext}</b><br><br>imp_feature=Dem_female<br>Country=%{location}<extra></extra>\",\"hovertext\":[\"Dem_female\",\"Dem_female\",\"Dem_female\",\"Dem_female\",\"Dem_female\",\"Dem_female\",\"Dem_female\",\"Dem_female\"],\"locationmode\":\"country names\",\"locations\":[\"Afghanistan\",\"France\",\"Iceland\",\"Liechtenstein\",\"North Macedonia\",\"Singapore\",\"Trinidad and Tobago\",\"Uganda\"],\"name\":\"Dem_female\",\"showlegend\":true,\"showscale\":false,\"z\":[1,1,1,1,1,1,1,1],\"type\":\"choropleth\"},{\"colorscale\":[[0.0,\"#ff00ff\"],[1.0,\"#ff00ff\"]],\"geo\":\"geo\",\"hovertemplate\":\"<b>%{hovertext}</b><br><br>imp_feature=Dem_male<br>Country=%{location}<extra></extra>\",\"hovertext\":[\"Dem_male\",\"Dem_male\",\"Dem_male\",\"Dem_male\",\"Dem_male\",\"Dem_male\",\"Dem_male\",\"Dem_male\",\"Dem_male\",\"Dem_male\",\"Dem_male\",\"Dem_male\",\"Dem_male\",\"Dem_male\",\"Dem_male\",\"Dem_male\",\"Dem_male\",\"Dem_male\",\"Dem_male\",\"Dem_male\",\"Dem_male\",\"Dem_male\",\"Dem_male\",\"Dem_male\",\"Dem_male\",\"Dem_male\",\"Dem_male\",\"Dem_male\",\"Dem_male\",\"Dem_male\",\"Dem_male\",\"Dem_male\"],\"locationmode\":\"country names\",\"locations\":[\"Angola\",\"Andorra\",\"Belgium\",\"Benin\",\"Bangladesh\",\"Bolivia\",\"Comoros\",\"Cyprus\",\"Algeria\",\"Ethiopia\",\"Finland\",\"Micronesia, Fed. Sts.\",\"Gabon\",\"Georgia\",\"Jamaica\",\"Kazakhstan\",\"Kyrgyz Republic\",\"Cambodia\",\"Libya\",\"Morocco\",\"Monaco\",\"Myanmar\",\"Nigeria\",\"Nepal\",\"Nauru\",\"Rwanda\",\"Saudi Arabia\",\"Senegal\",\"Solomon Islands\",\"Somalia\",\"Turkmenistan\",\"Tanzania\"],\"name\":\"Dem_male\",\"showlegend\":true,\"showscale\":false,\"z\":[1,1,1,1,1,1,1,1,1,1,1,1,1,1,1,1,1,1,1,1,1,1,1,1,1,1,1,1,1,1,1,1],\"type\":\"choropleth\"},{\"colorscale\":[[0.0,\"#0080ff\"],[1.0,\"#0080ff\"]],\"geo\":\"geo\",\"hovertemplate\":\"<b>%{hovertext}</b><br><br>imp_feature=Isolated<br>Country=%{location}<extra></extra>\",\"hovertext\":[\"Isolated\",\"Isolated\",\"Isolated\",\"Isolated\",\"Isolated\",\"Isolated\",\"Isolated\",\"Isolated\",\"Isolated\",\"Isolated\",\"Isolated\",\"Isolated\",\"Isolated\",\"Isolated\",\"Isolated\",\"Isolated\",\"Isolated\",\"Isolated\",\"Isolated\",\"Isolated\",\"Isolated\",\"Isolated\",\"Isolated\",\"Isolated\",\"Isolated\",\"Isolated\",\"Isolated\",\"Isolated\",\"Isolated\",\"Isolated\",\"Isolated\",\"Isolated\",\"Isolated\",\"Isolated\",\"Isolated\",\"Isolated\",\"Isolated\",\"Isolated\",\"Isolated\",\"Isolated\",\"Isolated\",\"Isolated\",\"Isolated\",\"Isolated\",\"Isolated\",\"Isolated\"],\"locationmode\":\"country names\",\"locations\":[\"Albania\",\"Argentina\",\"Australia\",\"Austria\",\"Azerbaijan\",\"Brazil\",\"Canada\",\"China\",\"Colombia\",\"Costa Rica\",\"Ecuador\",\"Eritrea\",\"Spain\",\"United Kingdom\",\"Ghana\",\"Guinea-Bissau\",\"Greece\",\"Guatemala\",\"Ireland\",\"Iran\",\"Israel\",\"Jordan\",\"Japan\",\"South Korea\",\"Sri Lanka\",\"Moldova\",\"Maldives\",\"Mexico\",\"Mozambique\",\"Namibia\",\"New Zealand\",\"Peru\",\"Philippines\",\"Poland\",\"Portugal\",\"Paraguay\",\"Qatar\",\"Russia\",\"Seychelles\",\"Tunisia\",\"T\\u00fcrkiye\",\"Taiwan\",\"United States\",\"Venezuela\",\"Vietnam\",\"South Africa\"],\"name\":\"Isolated\",\"showlegend\":true,\"showscale\":false,\"z\":[1,1,1,1,1,1,1,1,1,1,1,1,1,1,1,1,1,1,1,1,1,1,1,1,1,1,1,1,1,1,1,1,1,1,1,1,1,1,1,1,1,1,1,1,1,1],\"type\":\"choropleth\"},{\"colorscale\":[[0.0,\"#ff8000\"],[1.0,\"#ff8000\"]],\"geo\":\"geo\",\"hovertemplate\":\"<b>%{hovertext}</b><br><br>imp_feature=Life carries on with minor changes<br>Country=%{location}<extra></extra>\",\"hovertext\":[\"Life carries on with minor changes\",\"Life carries on with minor changes\",\"Life carries on with minor changes\",\"Life carries on with minor changes\",\"Life carries on with minor changes\",\"Life carries on with minor changes\",\"Life carries on with minor changes\",\"Life carries on with minor changes\",\"Life carries on with minor changes\",\"Life carries on with minor changes\",\"Life carries on with minor changes\"],\"locationmode\":\"country names\",\"locations\":[\"United Arab Emirates\",\"Armenia\",\"Antigua and Barbuda\",\"Chile\",\"Cameroon\",\"Czech Republic\",\"Lebanon\",\"Lithuania\",\"El Salvador\",\"Sweden\",\"Uruguay\"],\"name\":\"Life carries on with minor changes\",\"showlegend\":true,\"showscale\":false,\"z\":[1,1,1,1,1,1,1,1,1,1,1],\"type\":\"choropleth\"},{\"colorscale\":[[0.0,\"#80bf80\"],[1.0,\"#80bf80\"]],\"geo\":\"geo\",\"hovertemplate\":\"<b>%{hovertext}</b><br><br>imp_feature=Expl_Distress_17<br>Country=%{location}<extra></extra>\",\"hovertext\":[\"Expl_Distress_17\",\"Expl_Distress_17\",\"Expl_Distress_17\"],\"locationmode\":\"country names\",\"locations\":[\"Burkina Faso\",\"Bahrain\",\"Kuwait\"],\"name\":\"Expl_Distress_17\",\"showlegend\":true,\"showscale\":false,\"z\":[1,1,1],\"type\":\"choropleth\"},{\"colorscale\":[[0.0,\"#682892\"],[1.0,\"#682892\"]],\"geo\":\"geo\",\"hovertemplate\":\"<b>%{hovertext}</b><br><br>imp_feature=Full time employed<br>Country=%{location}<extra></extra>\",\"hovertext\":[\"Full time employed\",\"Full time employed\",\"Full time employed\",\"Full time employed\",\"Full time employed\",\"Full time employed\",\"Full time employed\",\"Full time employed\",\"Full time employed\",\"Full time employed\",\"Full time employed\",\"Full time employed\",\"Full time employed\",\"Full time employed\",\"Full time employed\",\"Full time employed\",\"Full time employed\",\"Full time employed\",\"Full time employed\",\"Full time employed\",\"Full time employed\",\"Full time employed\",\"Full time employed\",\"Full time employed\",\"Full time employed\",\"Full time employed\",\"Full time employed\",\"Full time employed\",\"Full time employed\",\"Full time employed\",\"Full time employed\",\"Full time employed\"],\"locationmode\":\"country names\",\"locations\":[\"Bulgaria\",\"Belize\",\"Brunei Darussalam\",\"Switzerland\",\"Djibouti\",\"Dominican Republic\",\"Egypt\",\"Estonia\",\"Grenada\",\"Guyana\",\"Honduras\",\"Haiti\",\"Indonesia\",\"India\",\"Italy\",\"Kenya\",\"Kiribati\",\"Latvia\",\"Mali\",\"Malta\",\"Montenegro\",\"Mauritius\",\"Niger\",\"Norway\",\"Pakistan\",\"North Korea\",\"Romania\",\"San Marino\",\"Suriname\",\"Slovakia\",\"Thailand\",\"Zambia\"],\"name\":\"Full time employed\",\"showlegend\":true,\"showscale\":false,\"z\":[1,1,1,1,1,1,1,1,1,1,1,1,1,1,1,1,1,1,1,1,1,1,1,1,1,1,1,1,1,1,1,1],\"type\":\"choropleth\"},{\"colorscale\":[[0.0,\"#267f0a\"],[1.0,\"#267f0a\"]],\"geo\":\"geo\",\"hovertemplate\":\"<b>%{hovertext}</b><br><br>imp_feature=Expl_Distress_1<br>Country=%{location}<extra></extra>\",\"hovertext\":[\"Expl_Distress_1\",\"Expl_Distress_1\",\"Expl_Distress_1\"],\"locationmode\":\"country names\",\"locations\":[\"Bosnia and Herzegovina\",\"Luxembourg\",\"Ukraine\"],\"name\":\"Expl_Distress_1\",\"showlegend\":true,\"showscale\":false,\"z\":[1,1,1],\"type\":\"choropleth\"},{\"colorscale\":[[0.0,\"#20fdf9\"],[1.0,\"#20fdf9\"]],\"geo\":\"geo\",\"hovertemplate\":\"<b>%{hovertext}</b><br><br>imp_feature=Expl_Distress_8<br>Country=%{location}<extra></extra>\",\"hovertext\":[\"Expl_Distress_8\",\"Expl_Distress_8\",\"Expl_Distress_8\"],\"locationmode\":\"country names\",\"locations\":[\"Belarus\",\"Madagascar\",\"Slovenia\"],\"name\":\"Expl_Distress_8\",\"showlegend\":true,\"showscale\":false,\"z\":[1,1,1],\"type\":\"choropleth\"},{\"colorscale\":[[0.0,\"#f20543\"],[1.0,\"#f20543\"]],\"geo\":\"geo\",\"hovertemplate\":\"<b>%{hovertext}</b><br><br>imp_feature=Expl_Distress_19<br>Country=%{location}<extra></extra>\",\"hovertext\":[\"Expl_Distress_19\"],\"locationmode\":\"country names\",\"locations\":[\"DR Congo\"],\"name\":\"Expl_Distress_19\",\"showlegend\":true,\"showscale\":false,\"z\":[1],\"type\":\"choropleth\"},{\"colorscale\":[[0.0,\"#ed81de\"],[1.0,\"#ed81de\"]],\"geo\":\"geo\",\"hovertemplate\":\"<b>%{hovertext}</b><br><br>imp_feature=Corona_concerns_1<br>Country=%{location}<extra></extra>\",\"hovertext\":[\"Corona_concerns_1\",\"Corona_concerns_1\",\"Corona_concerns_1\",\"Corona_concerns_1\"],\"locationmode\":\"country names\",\"locations\":[\"Germany\",\"Malaysia\",\"Oman\",\"Serbia\"],\"name\":\"Corona_concerns_1\",\"showlegend\":true,\"showscale\":false,\"z\":[1,1,1,1],\"type\":\"choropleth\"},{\"colorscale\":[[0.0,\"#ffff00\"],[1.0,\"#ffff00\"]],\"geo\":\"geo\",\"hovertemplate\":\"<b>%{hovertext}</b><br><br>imp_feature=Expl_Distress_21<br>Country=%{location}<extra></extra>\",\"hovertext\":[\"Expl_Distress_21\",\"Expl_Distress_21\",\"Expl_Distress_21\"],\"locationmode\":\"country names\",\"locations\":[\"Denmark\",\"Hungary\",\"Netherlands\"],\"name\":\"Expl_Distress_21\",\"showlegend\":true,\"showscale\":false,\"z\":[1,1,1],\"type\":\"choropleth\"},{\"colorscale\":[[0.0,\"#0000ff\"],[1.0,\"#0000ff\"]],\"geo\":\"geo\",\"hovertemplate\":\"<b>%{hovertext}</b><br><br>imp_feature=Expl_Distress_14<br>Country=%{location}<extra></extra>\",\"hovertext\":[\"Expl_Distress_14\"],\"locationmode\":\"country names\",\"locations\":[\"Fiji\"],\"name\":\"Expl_Distress_14\",\"showlegend\":true,\"showscale\":false,\"z\":[1],\"type\":\"choropleth\"},{\"colorscale\":[[0.0,\"#00ff80\"],[1.0,\"#00ff80\"]],\"geo\":\"geo\",\"hovertemplate\":\"<b>%{hovertext}</b><br><br>imp_feature=Dem_edu<br>Country=%{location}<extra></extra>\",\"hovertext\":[\"Dem_edu\"],\"locationmode\":\"country names\",\"locations\":[\"Gambia\"],\"name\":\"Dem_edu\",\"showlegend\":true,\"showscale\":false,\"z\":[1],\"type\":\"choropleth\"},{\"colorscale\":[[0.0,\"#008080\"],[1.0,\"#008080\"]],\"geo\":\"geo\",\"hovertemplate\":\"<b>%{hovertext}</b><br><br>imp_feature=Corona_concerns_5<br>Country=%{location}<extra></extra>\",\"hovertext\":[\"Corona_concerns_5\"],\"locationmode\":\"country names\",\"locations\":[\"Croatia\"],\"name\":\"Corona_concerns_5\",\"showlegend\":true,\"showscale\":false,\"z\":[1],\"type\":\"choropleth\"},{\"colorscale\":[[0.0,\"#8d460b\"],[1.0,\"#8d460b\"]],\"geo\":\"geo\",\"hovertemplate\":\"<b>%{hovertext}</b><br><br>imp_feature=Expl_Distress_5<br>Country=%{location}<extra></extra>\",\"hovertext\":[\"Expl_Distress_5\",\"Expl_Distress_5\",\"Expl_Distress_5\"],\"locationmode\":\"country names\",\"locations\":[\"Lesotho\",\"Nicaragua\",\"Panama\"],\"name\":\"Expl_Distress_5\",\"showlegend\":true,\"showscale\":false,\"z\":[1,1,1],\"type\":\"choropleth\"},{\"colorscale\":[[0.0,\"#8cdc03\"],[1.0,\"#8cdc03\"]],\"geo\":\"geo\",\"hovertemplate\":\"<b>%{hovertext}</b><br><br>imp_feature=Expl_Distress_2<br>Country=%{location}<extra></extra>\",\"hovertext\":[\"Expl_Distress_2\",\"Expl_Distress_2\",\"Expl_Distress_2\"],\"locationmode\":\"country names\",\"locations\":[\"Sudan\",\"Uzbekistan\",\"Zimbabwe\"],\"name\":\"Expl_Distress_2\",\"showlegend\":true,\"showscale\":false,\"z\":[1,1,1],\"type\":\"choropleth\"},{\"locationmode\":\"country names\",\"locations\":[\"Australia\",\"Brazil\",\"Canada\",\"China\",\"Russia\",\"United States\"],\"mode\":\"text\",\"name\":\"\",\"text\":[\"Isolated\",\"Isolated\",\"Isolated\",\"Isolated\",\"Isolated\",\"Isolated\"],\"textfont\":{\"color\":\"Black\"},\"type\":\"scattergeo\"}],                        {\"template\":{\"data\":{\"bar\":[{\"error_x\":{\"color\":\"#2a3f5f\"},\"error_y\":{\"color\":\"#2a3f5f\"},\"marker\":{\"line\":{\"color\":\"#E5ECF6\",\"width\":0.5},\"pattern\":{\"fillmode\":\"overlay\",\"size\":10,\"solidity\":0.2}},\"type\":\"bar\"}],\"barpolar\":[{\"marker\":{\"line\":{\"color\":\"#E5ECF6\",\"width\":0.5},\"pattern\":{\"fillmode\":\"overlay\",\"size\":10,\"solidity\":0.2}},\"type\":\"barpolar\"}],\"carpet\":[{\"aaxis\":{\"endlinecolor\":\"#2a3f5f\",\"gridcolor\":\"white\",\"linecolor\":\"white\",\"minorgridcolor\":\"white\",\"startlinecolor\":\"#2a3f5f\"},\"baxis\":{\"endlinecolor\":\"#2a3f5f\",\"gridcolor\":\"white\",\"linecolor\":\"white\",\"minorgridcolor\":\"white\",\"startlinecolor\":\"#2a3f5f\"},\"type\":\"carpet\"}],\"choropleth\":[{\"colorbar\":{\"outlinewidth\":0,\"ticks\":\"\"},\"type\":\"choropleth\"}],\"contour\":[{\"colorbar\":{\"outlinewidth\":0,\"ticks\":\"\"},\"colorscale\":[[0.0,\"#0d0887\"],[0.1111111111111111,\"#46039f\"],[0.2222222222222222,\"#7201a8\"],[0.3333333333333333,\"#9c179e\"],[0.4444444444444444,\"#bd3786\"],[0.5555555555555556,\"#d8576b\"],[0.6666666666666666,\"#ed7953\"],[0.7777777777777778,\"#fb9f3a\"],[0.8888888888888888,\"#fdca26\"],[1.0,\"#f0f921\"]],\"type\":\"contour\"}],\"contourcarpet\":[{\"colorbar\":{\"outlinewidth\":0,\"ticks\":\"\"},\"type\":\"contourcarpet\"}],\"heatmap\":[{\"colorbar\":{\"outlinewidth\":0,\"ticks\":\"\"},\"colorscale\":[[0.0,\"#0d0887\"],[0.1111111111111111,\"#46039f\"],[0.2222222222222222,\"#7201a8\"],[0.3333333333333333,\"#9c179e\"],[0.4444444444444444,\"#bd3786\"],[0.5555555555555556,\"#d8576b\"],[0.6666666666666666,\"#ed7953\"],[0.7777777777777778,\"#fb9f3a\"],[0.8888888888888888,\"#fdca26\"],[1.0,\"#f0f921\"]],\"type\":\"heatmap\"}],\"heatmapgl\":[{\"colorbar\":{\"outlinewidth\":0,\"ticks\":\"\"},\"colorscale\":[[0.0,\"#0d0887\"],[0.1111111111111111,\"#46039f\"],[0.2222222222222222,\"#7201a8\"],[0.3333333333333333,\"#9c179e\"],[0.4444444444444444,\"#bd3786\"],[0.5555555555555556,\"#d8576b\"],[0.6666666666666666,\"#ed7953\"],[0.7777777777777778,\"#fb9f3a\"],[0.8888888888888888,\"#fdca26\"],[1.0,\"#f0f921\"]],\"type\":\"heatmapgl\"}],\"histogram\":[{\"marker\":{\"pattern\":{\"fillmode\":\"overlay\",\"size\":10,\"solidity\":0.2}},\"type\":\"histogram\"}],\"histogram2d\":[{\"colorbar\":{\"outlinewidth\":0,\"ticks\":\"\"},\"colorscale\":[[0.0,\"#0d0887\"],[0.1111111111111111,\"#46039f\"],[0.2222222222222222,\"#7201a8\"],[0.3333333333333333,\"#9c179e\"],[0.4444444444444444,\"#bd3786\"],[0.5555555555555556,\"#d8576b\"],[0.6666666666666666,\"#ed7953\"],[0.7777777777777778,\"#fb9f3a\"],[0.8888888888888888,\"#fdca26\"],[1.0,\"#f0f921\"]],\"type\":\"histogram2d\"}],\"histogram2dcontour\":[{\"colorbar\":{\"outlinewidth\":0,\"ticks\":\"\"},\"colorscale\":[[0.0,\"#0d0887\"],[0.1111111111111111,\"#46039f\"],[0.2222222222222222,\"#7201a8\"],[0.3333333333333333,\"#9c179e\"],[0.4444444444444444,\"#bd3786\"],[0.5555555555555556,\"#d8576b\"],[0.6666666666666666,\"#ed7953\"],[0.7777777777777778,\"#fb9f3a\"],[0.8888888888888888,\"#fdca26\"],[1.0,\"#f0f921\"]],\"type\":\"histogram2dcontour\"}],\"mesh3d\":[{\"colorbar\":{\"outlinewidth\":0,\"ticks\":\"\"},\"type\":\"mesh3d\"}],\"parcoords\":[{\"line\":{\"colorbar\":{\"outlinewidth\":0,\"ticks\":\"\"}},\"type\":\"parcoords\"}],\"pie\":[{\"automargin\":true,\"type\":\"pie\"}],\"scatter\":[{\"marker\":{\"colorbar\":{\"outlinewidth\":0,\"ticks\":\"\"}},\"type\":\"scatter\"}],\"scatter3d\":[{\"line\":{\"colorbar\":{\"outlinewidth\":0,\"ticks\":\"\"}},\"marker\":{\"colorbar\":{\"outlinewidth\":0,\"ticks\":\"\"}},\"type\":\"scatter3d\"}],\"scattercarpet\":[{\"marker\":{\"colorbar\":{\"outlinewidth\":0,\"ticks\":\"\"}},\"type\":\"scattercarpet\"}],\"scattergeo\":[{\"marker\":{\"colorbar\":{\"outlinewidth\":0,\"ticks\":\"\"}},\"type\":\"scattergeo\"}],\"scattergl\":[{\"marker\":{\"colorbar\":{\"outlinewidth\":0,\"ticks\":\"\"}},\"type\":\"scattergl\"}],\"scattermapbox\":[{\"marker\":{\"colorbar\":{\"outlinewidth\":0,\"ticks\":\"\"}},\"type\":\"scattermapbox\"}],\"scatterpolar\":[{\"marker\":{\"colorbar\":{\"outlinewidth\":0,\"ticks\":\"\"}},\"type\":\"scatterpolar\"}],\"scatterpolargl\":[{\"marker\":{\"colorbar\":{\"outlinewidth\":0,\"ticks\":\"\"}},\"type\":\"scatterpolargl\"}],\"scatterternary\":[{\"marker\":{\"colorbar\":{\"outlinewidth\":0,\"ticks\":\"\"}},\"type\":\"scatterternary\"}],\"surface\":[{\"colorbar\":{\"outlinewidth\":0,\"ticks\":\"\"},\"colorscale\":[[0.0,\"#0d0887\"],[0.1111111111111111,\"#46039f\"],[0.2222222222222222,\"#7201a8\"],[0.3333333333333333,\"#9c179e\"],[0.4444444444444444,\"#bd3786\"],[0.5555555555555556,\"#d8576b\"],[0.6666666666666666,\"#ed7953\"],[0.7777777777777778,\"#fb9f3a\"],[0.8888888888888888,\"#fdca26\"],[1.0,\"#f0f921\"]],\"type\":\"surface\"}],\"table\":[{\"cells\":{\"fill\":{\"color\":\"#EBF0F8\"},\"line\":{\"color\":\"white\"}},\"header\":{\"fill\":{\"color\":\"#C8D4E3\"},\"line\":{\"color\":\"white\"}},\"type\":\"table\"}]},\"layout\":{\"annotationdefaults\":{\"arrowcolor\":\"#2a3f5f\",\"arrowhead\":0,\"arrowwidth\":1},\"autotypenumbers\":\"strict\",\"coloraxis\":{\"colorbar\":{\"outlinewidth\":0,\"ticks\":\"\"}},\"colorscale\":{\"diverging\":[[0,\"#8e0152\"],[0.1,\"#c51b7d\"],[0.2,\"#de77ae\"],[0.3,\"#f1b6da\"],[0.4,\"#fde0ef\"],[0.5,\"#f7f7f7\"],[0.6,\"#e6f5d0\"],[0.7,\"#b8e186\"],[0.8,\"#7fbc41\"],[0.9,\"#4d9221\"],[1,\"#276419\"]],\"sequential\":[[0.0,\"#0d0887\"],[0.1111111111111111,\"#46039f\"],[0.2222222222222222,\"#7201a8\"],[0.3333333333333333,\"#9c179e\"],[0.4444444444444444,\"#bd3786\"],[0.5555555555555556,\"#d8576b\"],[0.6666666666666666,\"#ed7953\"],[0.7777777777777778,\"#fb9f3a\"],[0.8888888888888888,\"#fdca26\"],[1.0,\"#f0f921\"]],\"sequentialminus\":[[0.0,\"#0d0887\"],[0.1111111111111111,\"#46039f\"],[0.2222222222222222,\"#7201a8\"],[0.3333333333333333,\"#9c179e\"],[0.4444444444444444,\"#bd3786\"],[0.5555555555555556,\"#d8576b\"],[0.6666666666666666,\"#ed7953\"],[0.7777777777777778,\"#fb9f3a\"],[0.8888888888888888,\"#fdca26\"],[1.0,\"#f0f921\"]]},\"colorway\":[\"#636efa\",\"#EF553B\",\"#00cc96\",\"#ab63fa\",\"#FFA15A\",\"#19d3f3\",\"#FF6692\",\"#B6E880\",\"#FF97FF\",\"#FECB52\"],\"font\":{\"color\":\"#2a3f5f\"},\"geo\":{\"bgcolor\":\"white\",\"lakecolor\":\"white\",\"landcolor\":\"#E5ECF6\",\"showlakes\":true,\"showland\":true,\"subunitcolor\":\"white\"},\"hoverlabel\":{\"align\":\"left\"},\"hovermode\":\"closest\",\"mapbox\":{\"style\":\"light\"},\"paper_bgcolor\":\"white\",\"plot_bgcolor\":\"#E5ECF6\",\"polar\":{\"angularaxis\":{\"gridcolor\":\"white\",\"linecolor\":\"white\",\"ticks\":\"\"},\"bgcolor\":\"#E5ECF6\",\"radialaxis\":{\"gridcolor\":\"white\",\"linecolor\":\"white\",\"ticks\":\"\"}},\"scene\":{\"xaxis\":{\"backgroundcolor\":\"#E5ECF6\",\"gridcolor\":\"white\",\"gridwidth\":2,\"linecolor\":\"white\",\"showbackground\":true,\"ticks\":\"\",\"zerolinecolor\":\"white\"},\"yaxis\":{\"backgroundcolor\":\"#E5ECF6\",\"gridcolor\":\"white\",\"gridwidth\":2,\"linecolor\":\"white\",\"showbackground\":true,\"ticks\":\"\",\"zerolinecolor\":\"white\"},\"zaxis\":{\"backgroundcolor\":\"#E5ECF6\",\"gridcolor\":\"white\",\"gridwidth\":2,\"linecolor\":\"white\",\"showbackground\":true,\"ticks\":\"\",\"zerolinecolor\":\"white\"}},\"shapedefaults\":{\"line\":{\"color\":\"#2a3f5f\"}},\"ternary\":{\"aaxis\":{\"gridcolor\":\"white\",\"linecolor\":\"white\",\"ticks\":\"\"},\"baxis\":{\"gridcolor\":\"white\",\"linecolor\":\"white\",\"ticks\":\"\"},\"bgcolor\":\"#E5ECF6\",\"caxis\":{\"gridcolor\":\"white\",\"linecolor\":\"white\",\"ticks\":\"\"}},\"title\":{\"x\":0.05},\"xaxis\":{\"automargin\":true,\"gridcolor\":\"white\",\"linecolor\":\"white\",\"ticks\":\"\",\"title\":{\"standoff\":15},\"zerolinecolor\":\"white\",\"zerolinewidth\":2},\"yaxis\":{\"automargin\":true,\"gridcolor\":\"white\",\"linecolor\":\"white\",\"ticks\":\"\",\"title\":{\"standoff\":15},\"zerolinecolor\":\"white\",\"zerolinewidth\":2}}},\"geo\":{\"domain\":{\"x\":[0.0,1.0],\"y\":[0.0,1.0]},\"center\":{}},\"legend\":{\"title\":{\"text\":\"imp_feature\"},\"tracegroupgap\":0},\"margin\":{\"t\":0,\"r\":0,\"l\":0,\"b\":0}},                        {\"responsive\": true}                    ).then(function(){\n",
       "                            \n",
       "var gd = document.getElementById('fe45f354-55f6-4dd8-a396-7acbf8f9bb16');\n",
       "var x = new MutationObserver(function (mutations, observer) {{\n",
       "        var display = window.getComputedStyle(gd).display;\n",
       "        if (!display || display === 'none') {{\n",
       "            console.log([gd, 'removed!']);\n",
       "            Plotly.purge(gd);\n",
       "            observer.disconnect();\n",
       "        }}\n",
       "}});\n",
       "\n",
       "// Listen for the removal of the full notebook cells\n",
       "var notebookContainer = gd.closest('#notebook-container');\n",
       "if (notebookContainer) {{\n",
       "    x.observe(notebookContainer, {childList: true});\n",
       "}}\n",
       "\n",
       "// Listen for the clearing of the current output cell\n",
       "var outputEl = gd.closest('.output');\n",
       "if (outputEl) {{\n",
       "    x.observe(outputEl, {childList: true});\n",
       "}}\n",
       "\n",
       "                        })                };                });            </script>        </div>"
      ]
     },
     "metadata": {},
     "output_type": "display_data"
    }
   ],
   "source": [
    "#plot the heatmap\n",
    "fig = px.choropleth(df_sub, locations='Country', locationmode='country names', hover_name='imp_feature', \n",
    "                    color='imp_feature', color_discrete_sequence = colors_hex)\n",
    "fig.update_layout(margin={\"r\":0,\"t\":0,\"l\":0,\"b\":0})\n",
    "fig.add_trace(go.Scattergeo(\n",
    "    mode='text',\n",
    "    text=imp_features_example_countries['imp_feature'],\n",
    "    textfont={'color': 'Black'},\n",
    "    name='',\n",
    "    locationmode='country names',\n",
    "    locations=imp_features_example_countries['Country']\n",
    "))\n",
    "fig.show()"
   ]
  }
 ],
 "metadata": {
  "kernelspec": {
   "display_name": "Python 3 (ipykernel)",
   "language": "python",
   "name": "python3"
  },
  "language_info": {
   "codemirror_mode": {
    "name": "ipython",
    "version": 3
   },
   "file_extension": ".py",
   "mimetype": "text/x-python",
   "name": "python",
   "nbconvert_exporter": "python",
   "pygments_lexer": "ipython3",
   "version": "3.9.12"
  }
 },
 "nbformat": 4,
 "nbformat_minor": 5
}
